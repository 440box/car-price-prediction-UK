{
  "cells": [
    {
      "cell_type": "markdown",
      "source": [
        "# Predict the price for the Pre-Owned UK Cars"
      ],
      "metadata": {
        "id": "24cd0ee7"
      },
      "id": "24cd0ee7"
    },
    {
      "cell_type": "markdown",
      "source": [
        "The data contains 9 csv files. Each file has the information (price,year,mileage etc) about each car brand, including Audi, BMW, Ford, Hyundai, Mercedes, Skoda, Toyota, Vauxhall and Volkswagen. "
      ],
      "metadata": {
        "id": "6982a422"
      },
      "id": "6982a422"
    },
    {
      "cell_type": "code",
      "source": [
        "import numpy as np\n",
        "import pandas as pd\n",
        "from sklearn.feature_extraction.text import CountVectorizer\n",
        "import matplotlib.pyplot as plt\n",
        "import seaborn as sns\n",
        "%matplotlib inline"
      ],
      "outputs": [],
      "execution_count": 1,
      "metadata": {
        "_uuid": "8f2839f25d086af736a60e9eeb907d3b93b6e0e5",
        "_cell_guid": "b1076dfc-b9ad-4769-8c92-a6c4dae69d19",
        "trusted": true,
        "noteable": {},
        "ExecuteTime": {
          "start_time": "2023-05-28T16:24:27.214832+00:00",
          "end_time": "2023-05-28T16:24:29.328145+00:00"
        },
        "id": "62803aa1"
      },
      "id": "62803aa1"
    },
    {
      "cell_type": "markdown",
      "source": [
        "## Reading the Data"
      ],
      "metadata": {
        "id": "7c1f31b2"
      },
      "id": "7c1f31b2"
    },
    {
      "cell_type": "code",
      "source": [
        "!pip install wget\n",
        "import wget\n",
        "\n",
        "# URL of the website folder containing CSV files\n",
        "website_url = \"https://raw.githubusercontent.com/440box/car-price-prediction-UK/main/\"\n",
        "\n",
        "# List of CSV files to download\n",
        "csv_files = [\n",
        "    \"audi.csv\",\n",
        "    \"bmw.csv\",\n",
        "    \"ford.csv\",\n",
        "    \"hyundi.csv\",\n",
        "    \"merc.csv\",\n",
        "    \"skoda.csv\",\n",
        "    \"toyota.csv\",\n",
        "    \"vauxhall.csv\",\n",
        "    \"vw.csv\"\n",
        "]\n",
        "\n",
        "# Loop through each CSV file and download it using wget\n",
        "for file in csv_files:\n",
        "    download_url = website_url + file\n",
        "    wget.download(download_url)\n",
        "    audi = pd.read_csv('/content/audi.csv')\n",
        "bmw = pd.read_csv('/content/bmw.csv')\n",
        "ford = pd.read_csv('/content/ford.csv')\n",
        "hyundai = pd.read_csv('/content/hyundi.csv')\n",
        "merc = pd.read_csv('/content/merc.csv')\n",
        "skoda = pd.read_csv('/content/skoda.csv')\n",
        "toyota = pd.read_csv('/content/toyota.csv')\n",
        "vauxhall = pd.read_csv('/content/vauxhall.csv')\n",
        "vw = pd.read_csv('/content/vw.csv')"
      ],
      "outputs": [
        {
          "output_type": "stream",
          "name": "stdout",
          "text": [
            "Looking in indexes: https://pypi.org/simple, https://us-python.pkg.dev/colab-wheels/public/simple/\n",
            "Collecting wget\n",
            "  Downloading wget-3.2.zip (10 kB)\n",
            "  Preparing metadata (setup.py) ... \u001b[?25l\u001b[?25hdone\n",
            "Building wheels for collected packages: wget\n",
            "  Building wheel for wget (setup.py) ... \u001b[?25l\u001b[?25hdone\n",
            "  Created wheel for wget: filename=wget-3.2-py3-none-any.whl size=9657 sha256=f21eb0045d1af14bab99b8adb496a6e206724e70d5d651fca1c8b14b5094f7b4\n",
            "  Stored in directory: /root/.cache/pip/wheels/8b/f1/7f/5c94f0a7a505ca1c81cd1d9208ae2064675d97582078e6c769\n",
            "Successfully built wget\n",
            "Installing collected packages: wget\n",
            "Successfully installed wget-3.2\n"
          ]
        }
      ],
      "execution_count": 2,
      "metadata": {
        "_uuid": "d629ff2d2480ee46fbb7e2d37f6b5fab8052498a",
        "_cell_guid": "79c7e3d0-c299-4dcb-8224-4455121ee9b0",
        "trusted": true,
        "noteable": {},
        "ExecuteTime": {
          "start_time": "2023-05-28T16:24:40.737612+00:00",
          "end_time": "2023-05-28T16:24:41.107164+00:00"
        },
        "id": "2238a48f",
        "outputId": "c326ba5d-06cd-4051-c8a5-5b881d60853b",
        "colab": {
          "base_uri": "https://localhost:8080/"
        }
      },
      "id": "2238a48f"
    },
    {
      "cell_type": "markdown",
      "source": [
        "## Checking the number of columns in each dataset"
      ],
      "metadata": {
        "id": "08495db4"
      },
      "id": "08495db4"
    },
    {
      "cell_type": "code",
      "source": [
        "print(\"Columns in the Audi dataframe:\") \n",
        "print(list(audi.columns))\n",
        "print(\"-\" * 50)\n",
        "print(\"Columns in the BMW dataframe:\")\n",
        "print(list(bmw.columns))\n",
        "print(\"-\" * 50)\n",
        "print(\"Columns in the Ford dataframe:\")\n",
        "print(list(ford.columns))\n",
        "print(\"-\" * 50)\n",
        "print(\"Columns in the Hyundai dataframe:\")\n",
        "print(list(hyundai.columns))\n",
        "print(\"-\" * 50)\n",
        "print(\"Columns in the Mercedes dataframe:\")\n",
        "print(list(merc.columns))\n",
        "print(\"-\" * 50)\n",
        "print(\"Columns in the Skoda dataframe:\")\n",
        "print(list(skoda.columns))\n",
        "print(\"-\" * 50)\n",
        "print(\"Columns in the Toyota dataframe:\")\n",
        "print(list(toyota.columns))\n",
        "print(\"-\" * 50)\n",
        "print(\"Columns in the Vauxhall dataframe:\")\n",
        "print(list(vauxhall.columns))\n",
        "print(\"-\" * 50)\n",
        "print(\"Columns in the VW dataframe:\")\n",
        "print(list(vw.columns))"
      ],
      "outputs": [
        {
          "output_type": "stream",
          "name": "stdout",
          "text": [
            "Columns in the Audi dataframe:\n",
            "['model', 'year', 'price', 'transmission', 'mileage', 'fuelType', 'tax', 'mpg', 'engineSize']\n",
            "--------------------------------------------------\n",
            "Columns in the BMW dataframe:\n",
            "['model', 'year', 'price', 'transmission', 'mileage', 'fuelType', 'tax', 'mpg', 'engineSize']\n",
            "--------------------------------------------------\n",
            "Columns in the Ford dataframe:\n",
            "['model', 'year', 'price', 'transmission', 'mileage', 'fuelType', 'tax', 'mpg', 'engineSize']\n",
            "--------------------------------------------------\n",
            "Columns in the Hyundai dataframe:\n",
            "['model', 'year', 'price', 'transmission', 'mileage', 'fuelType', 'tax(£)', 'mpg', 'engineSize']\n",
            "--------------------------------------------------\n",
            "Columns in the Mercedes dataframe:\n",
            "['model', 'year', 'price', 'transmission', 'mileage', 'fuelType', 'tax', 'mpg', 'engineSize']\n",
            "--------------------------------------------------\n",
            "Columns in the Skoda dataframe:\n",
            "['model', 'year', 'price', 'transmission', 'mileage', 'fuelType', 'tax', 'mpg', 'engineSize']\n",
            "--------------------------------------------------\n",
            "Columns in the Toyota dataframe:\n",
            "['model', 'year', 'price', 'transmission', 'mileage', 'fuelType', 'tax', 'mpg', 'engineSize']\n",
            "--------------------------------------------------\n",
            "Columns in the Vauxhall dataframe:\n",
            "['model', 'year', 'price', 'transmission', 'mileage', 'fuelType', 'tax', 'mpg', 'engineSize']\n",
            "--------------------------------------------------\n",
            "Columns in the VW dataframe:\n",
            "['model', 'year', 'price', 'transmission', 'mileage', 'fuelType', 'tax', 'mpg', 'engineSize']\n"
          ]
        }
      ],
      "execution_count": 3,
      "metadata": {
        "trusted": true,
        "noteable": {},
        "ExecuteTime": {
          "start_time": "2023-05-28T16:24:53.835193+00:00",
          "end_time": "2023-05-28T16:24:53.998916+00:00"
        },
        "colab": {
          "base_uri": "https://localhost:8080/"
        },
        "id": "b3d2d62d",
        "outputId": "a38dd4ce-300d-4bb1-9901-89606b7d1696"
      },
      "id": "b3d2d62d"
    },
    {
      "cell_type": "markdown",
      "source": [
        "1. It is observed that in hyundai dataset, the tax column is having a special character (pound)."
      ],
      "metadata": {
        "id": "1e129600"
      },
      "id": "1e129600"
    },
    {
      "cell_type": "code",
      "source": [
        "hyundai.rename({'tax(£)': 'tax'},axis=1,inplace=True)"
      ],
      "outputs": [],
      "execution_count": 4,
      "metadata": {
        "trusted": true,
        "noteable": {},
        "ExecuteTime": {
          "start_time": "2023-05-28T16:25:17.082214+00:00",
          "end_time": "2023-05-28T16:25:17.239474+00:00"
        },
        "id": "5a2f9677"
      },
      "id": "5a2f9677"
    },
    {
      "cell_type": "markdown",
      "source": [
        "## Adding a column make to identify the manufacturer for combining the datasets"
      ],
      "metadata": {
        "id": "92883b68"
      },
      "id": "92883b68"
    },
    {
      "cell_type": "code",
      "source": [
        "audi['make'] = 'Audi'\n",
        "bmw['make'] = 'BMW'\n",
        "ford['make'] = 'Ford'\n",
        "hyundai['make'] = 'Hyundai'\n",
        "merc['make'] = 'Mercedes'\n",
        "skoda['make'] = 'Skoda'\n",
        "toyota['make'] = 'Toyota'\n",
        "vauxhall['make'] = 'Vauxhall'\n",
        "vw['make'] = 'Volkswagen'"
      ],
      "outputs": [],
      "execution_count": 5,
      "metadata": {
        "trusted": true,
        "noteable": {},
        "ExecuteTime": {
          "start_time": "2023-05-28T16:25:29.212397+00:00",
          "end_time": "2023-05-28T16:25:29.374790+00:00"
        },
        "id": "adb5270c"
      },
      "id": "adb5270c"
    },
    {
      "cell_type": "code",
      "source": [
        "df = pd.concat([audi, bmw, ford, hyundai, merc, skoda, toyota, vauxhall, vw], axis=0, ignore_index=True)"
      ],
      "outputs": [],
      "execution_count": 6,
      "metadata": {
        "trusted": true,
        "noteable": {},
        "ExecuteTime": {
          "start_time": "2023-05-28T16:25:38.136165+00:00",
          "end_time": "2023-05-28T16:25:38.306727+00:00"
        },
        "id": "719b05b2"
      },
      "id": "719b05b2"
    },
    {
      "cell_type": "code",
      "source": [
        "df.info()"
      ],
      "outputs": [
        {
          "output_type": "stream",
          "name": "stdout",
          "text": [
            "<class 'pandas.core.frame.DataFrame'>\n",
            "RangeIndex: 99187 entries, 0 to 99186\n",
            "Data columns (total 10 columns):\n",
            " #   Column        Non-Null Count  Dtype  \n",
            "---  ------        --------------  -----  \n",
            " 0   model         99187 non-null  object \n",
            " 1   year          99187 non-null  int64  \n",
            " 2   price         99187 non-null  int64  \n",
            " 3   transmission  99187 non-null  object \n",
            " 4   mileage       99187 non-null  int64  \n",
            " 5   fuelType      99187 non-null  object \n",
            " 6   tax           99187 non-null  int64  \n",
            " 7   mpg           99187 non-null  float64\n",
            " 8   engineSize    99187 non-null  float64\n",
            " 9   make          99187 non-null  object \n",
            "dtypes: float64(2), int64(4), object(4)\n",
            "memory usage: 7.6+ MB\n"
          ]
        }
      ],
      "execution_count": 7,
      "metadata": {
        "trusted": true,
        "noteable": {},
        "ExecuteTime": {
          "start_time": "2023-05-28T16:25:48.215737+00:00",
          "end_time": "2023-05-28T16:25:48.448130+00:00"
        },
        "colab": {
          "base_uri": "https://localhost:8080/"
        },
        "id": "47b58a7d",
        "outputId": "abbebbde-4eeb-4d46-d83e-5ce7348a8467"
      },
      "id": "47b58a7d"
    },
    {
      "cell_type": "code",
      "source": [
        "df.head()"
      ],
      "outputs": [
        {
          "output_type": "execute_result",
          "data": {
            "text/plain": [
              "  model  year  price transmission  mileage fuelType  tax   mpg  engineSize  \\\n",
              "0    A1  2017  12500       Manual    15735   Petrol  150  55.4         1.4   \n",
              "1    A6  2016  16500    Automatic    36203   Diesel   20  64.2         2.0   \n",
              "2    A1  2016  11000       Manual    29946   Petrol   30  55.4         1.4   \n",
              "3    A4  2017  16800    Automatic    25952   Diesel  145  67.3         2.0   \n",
              "4    A3  2019  17300       Manual     1998   Petrol  145  49.6         1.0   \n",
              "\n",
              "   make  \n",
              "0  Audi  \n",
              "1  Audi  \n",
              "2  Audi  \n",
              "3  Audi  \n",
              "4  Audi  "
            ],
            "text/html": [
              "\n",
              "  <div id=\"df-9b770ab1-d185-40fb-9727-b3978d34f2a9\">\n",
              "    <div class=\"colab-df-container\">\n",
              "      <div>\n",
              "<style scoped>\n",
              "    .dataframe tbody tr th:only-of-type {\n",
              "        vertical-align: middle;\n",
              "    }\n",
              "\n",
              "    .dataframe tbody tr th {\n",
              "        vertical-align: top;\n",
              "    }\n",
              "\n",
              "    .dataframe thead th {\n",
              "        text-align: right;\n",
              "    }\n",
              "</style>\n",
              "<table border=\"1\" class=\"dataframe\">\n",
              "  <thead>\n",
              "    <tr style=\"text-align: right;\">\n",
              "      <th></th>\n",
              "      <th>model</th>\n",
              "      <th>year</th>\n",
              "      <th>price</th>\n",
              "      <th>transmission</th>\n",
              "      <th>mileage</th>\n",
              "      <th>fuelType</th>\n",
              "      <th>tax</th>\n",
              "      <th>mpg</th>\n",
              "      <th>engineSize</th>\n",
              "      <th>make</th>\n",
              "    </tr>\n",
              "  </thead>\n",
              "  <tbody>\n",
              "    <tr>\n",
              "      <th>0</th>\n",
              "      <td>A1</td>\n",
              "      <td>2017</td>\n",
              "      <td>12500</td>\n",
              "      <td>Manual</td>\n",
              "      <td>15735</td>\n",
              "      <td>Petrol</td>\n",
              "      <td>150</td>\n",
              "      <td>55.4</td>\n",
              "      <td>1.4</td>\n",
              "      <td>Audi</td>\n",
              "    </tr>\n",
              "    <tr>\n",
              "      <th>1</th>\n",
              "      <td>A6</td>\n",
              "      <td>2016</td>\n",
              "      <td>16500</td>\n",
              "      <td>Automatic</td>\n",
              "      <td>36203</td>\n",
              "      <td>Diesel</td>\n",
              "      <td>20</td>\n",
              "      <td>64.2</td>\n",
              "      <td>2.0</td>\n",
              "      <td>Audi</td>\n",
              "    </tr>\n",
              "    <tr>\n",
              "      <th>2</th>\n",
              "      <td>A1</td>\n",
              "      <td>2016</td>\n",
              "      <td>11000</td>\n",
              "      <td>Manual</td>\n",
              "      <td>29946</td>\n",
              "      <td>Petrol</td>\n",
              "      <td>30</td>\n",
              "      <td>55.4</td>\n",
              "      <td>1.4</td>\n",
              "      <td>Audi</td>\n",
              "    </tr>\n",
              "    <tr>\n",
              "      <th>3</th>\n",
              "      <td>A4</td>\n",
              "      <td>2017</td>\n",
              "      <td>16800</td>\n",
              "      <td>Automatic</td>\n",
              "      <td>25952</td>\n",
              "      <td>Diesel</td>\n",
              "      <td>145</td>\n",
              "      <td>67.3</td>\n",
              "      <td>2.0</td>\n",
              "      <td>Audi</td>\n",
              "    </tr>\n",
              "    <tr>\n",
              "      <th>4</th>\n",
              "      <td>A3</td>\n",
              "      <td>2019</td>\n",
              "      <td>17300</td>\n",
              "      <td>Manual</td>\n",
              "      <td>1998</td>\n",
              "      <td>Petrol</td>\n",
              "      <td>145</td>\n",
              "      <td>49.6</td>\n",
              "      <td>1.0</td>\n",
              "      <td>Audi</td>\n",
              "    </tr>\n",
              "  </tbody>\n",
              "</table>\n",
              "</div>\n",
              "      <button class=\"colab-df-convert\" onclick=\"convertToInteractive('df-9b770ab1-d185-40fb-9727-b3978d34f2a9')\"\n",
              "              title=\"Convert this dataframe to an interactive table.\"\n",
              "              style=\"display:none;\">\n",
              "        \n",
              "  <svg xmlns=\"http://www.w3.org/2000/svg\" height=\"24px\"viewBox=\"0 0 24 24\"\n",
              "       width=\"24px\">\n",
              "    <path d=\"M0 0h24v24H0V0z\" fill=\"none\"/>\n",
              "    <path d=\"M18.56 5.44l.94 2.06.94-2.06 2.06-.94-2.06-.94-.94-2.06-.94 2.06-2.06.94zm-11 1L8.5 8.5l.94-2.06 2.06-.94-2.06-.94L8.5 2.5l-.94 2.06-2.06.94zm10 10l.94 2.06.94-2.06 2.06-.94-2.06-.94-.94-2.06-.94 2.06-2.06.94z\"/><path d=\"M17.41 7.96l-1.37-1.37c-.4-.4-.92-.59-1.43-.59-.52 0-1.04.2-1.43.59L10.3 9.45l-7.72 7.72c-.78.78-.78 2.05 0 2.83L4 21.41c.39.39.9.59 1.41.59.51 0 1.02-.2 1.41-.59l7.78-7.78 2.81-2.81c.8-.78.8-2.07 0-2.86zM5.41 20L4 18.59l7.72-7.72 1.47 1.35L5.41 20z\"/>\n",
              "  </svg>\n",
              "      </button>\n",
              "      \n",
              "  <style>\n",
              "    .colab-df-container {\n",
              "      display:flex;\n",
              "      flex-wrap:wrap;\n",
              "      gap: 12px;\n",
              "    }\n",
              "\n",
              "    .colab-df-convert {\n",
              "      background-color: #E8F0FE;\n",
              "      border: none;\n",
              "      border-radius: 50%;\n",
              "      cursor: pointer;\n",
              "      display: none;\n",
              "      fill: #1967D2;\n",
              "      height: 32px;\n",
              "      padding: 0 0 0 0;\n",
              "      width: 32px;\n",
              "    }\n",
              "\n",
              "    .colab-df-convert:hover {\n",
              "      background-color: #E2EBFA;\n",
              "      box-shadow: 0px 1px 2px rgba(60, 64, 67, 0.3), 0px 1px 3px 1px rgba(60, 64, 67, 0.15);\n",
              "      fill: #174EA6;\n",
              "    }\n",
              "\n",
              "    [theme=dark] .colab-df-convert {\n",
              "      background-color: #3B4455;\n",
              "      fill: #D2E3FC;\n",
              "    }\n",
              "\n",
              "    [theme=dark] .colab-df-convert:hover {\n",
              "      background-color: #434B5C;\n",
              "      box-shadow: 0px 1px 3px 1px rgba(0, 0, 0, 0.15);\n",
              "      filter: drop-shadow(0px 1px 2px rgba(0, 0, 0, 0.3));\n",
              "      fill: #FFFFFF;\n",
              "    }\n",
              "  </style>\n",
              "\n",
              "      <script>\n",
              "        const buttonEl =\n",
              "          document.querySelector('#df-9b770ab1-d185-40fb-9727-b3978d34f2a9 button.colab-df-convert');\n",
              "        buttonEl.style.display =\n",
              "          google.colab.kernel.accessAllowed ? 'block' : 'none';\n",
              "\n",
              "        async function convertToInteractive(key) {\n",
              "          const element = document.querySelector('#df-9b770ab1-d185-40fb-9727-b3978d34f2a9');\n",
              "          const dataTable =\n",
              "            await google.colab.kernel.invokeFunction('convertToInteractive',\n",
              "                                                     [key], {});\n",
              "          if (!dataTable) return;\n",
              "\n",
              "          const docLinkHtml = 'Like what you see? Visit the ' +\n",
              "            '<a target=\"_blank\" href=https://colab.research.google.com/notebooks/data_table.ipynb>data table notebook</a>'\n",
              "            + ' to learn more about interactive tables.';\n",
              "          element.innerHTML = '';\n",
              "          dataTable['output_type'] = 'display_data';\n",
              "          await google.colab.output.renderOutput(dataTable, element);\n",
              "          const docLink = document.createElement('div');\n",
              "          docLink.innerHTML = docLinkHtml;\n",
              "          element.appendChild(docLink);\n",
              "        }\n",
              "      </script>\n",
              "    </div>\n",
              "  </div>\n",
              "  "
            ]
          },
          "metadata": {},
          "execution_count": 8
        }
      ],
      "execution_count": 8,
      "metadata": {
        "trusted": true,
        "noteable": {},
        "ExecuteTime": {
          "start_time": "2023-05-28T16:26:10.688601+00:00",
          "end_time": "2023-05-28T16:26:10.917363+00:00"
        },
        "datalink": {
          "c9c2d032-d589-4d14-a0d1-f9bc5f08db3a": {
            "dataframe_info": {
              "default_index_used": true,
              "orig_size_bytes": 528,
              "orig_num_rows": 5,
              "orig_num_cols": 10,
              "truncated_string_columns": [],
              "truncated_size_bytes": 528,
              "truncated_num_rows": 5,
              "truncated_num_cols": 10
            },
            "dx_settings": {
              "LOG_LEVEL": 30,
              "DEV_MODE": false,
              "DISPLAY_MAX_ROWS": 50000,
              "DISPLAY_MAX_COLUMNS": 100,
              "HTML_TABLE_SCHEMA": false,
              "MAX_RENDER_SIZE_BYTES": 104857600,
              "MAX_STRING_LENGTH": 250,
              "SAMPLING_FACTOR": 0.1,
              "DISPLAY_MODE": "simple",
              "SAMPLING_METHOD": "random",
              "COLUMN_SAMPLING_METHOD": "outer",
              "ROW_SAMPLING_METHOD": "random",
              "RANDOM_STATE": 12648430,
              "RESET_INDEX_VALUES": false,
              "FLATTEN_INDEX_VALUES": false,
              "FLATTEN_COLUMN_VALUES": true,
              "STRINGIFY_INDEX_VALUES": false,
              "STRINGIFY_COLUMN_VALUES": true,
              "ENABLE_DATALINK": true,
              "ENABLE_ASSIGNMENT": true,
              "NUM_PAST_SAMPLES_TRACKED": 3,
              "DB_LOCATION": ":memory:",
              "GENERATE_DEX_METADATA": false,
              "ALLOW_NOTEABLE_ATTRS": true
            },
            "display_id": "c9c2d032-d589-4d14-a0d1-f9bc5f08db3a",
            "applied_filters": [],
            "sample_history": [],
            "sampling_time": "2023-05-28T16:26:10.757944",
            "variable_name": "unk_dataframe_0f3bd57f2e11475889951fb68dbbf164",
            "user_variable_name": null
          }
        },
        "colab": {
          "base_uri": "https://localhost:8080/",
          "height": 206
        },
        "id": "8eacec4a",
        "outputId": "956bf04a-49a5-48c8-f87a-e28d0602d56a"
      },
      "id": "8eacec4a"
    },
    {
      "cell_type": "code",
      "source": [
        "df.isnull().sum()"
      ],
      "outputs": [
        {
          "output_type": "execute_result",
          "data": {
            "text/plain": [
              "model           0\n",
              "year            0\n",
              "price           0\n",
              "transmission    0\n",
              "mileage         0\n",
              "fuelType        0\n",
              "tax             0\n",
              "mpg             0\n",
              "engineSize      0\n",
              "make            0\n",
              "dtype: int64"
            ]
          },
          "metadata": {},
          "execution_count": 9
        }
      ],
      "execution_count": 9,
      "metadata": {
        "trusted": true,
        "noteable": {},
        "ExecuteTime": {
          "start_time": "2023-05-28T16:27:10.338391+00:00",
          "end_time": "2023-05-28T16:27:10.586360+00:00"
        },
        "datalink": {
          "4372eb29-2a7c-4456-8452-3cf3d00df74c": {
            "dataframe_info": {
              "default_index_used": false,
              "orig_size_bytes": 160,
              "orig_num_rows": 10,
              "orig_num_cols": 1,
              "truncated_string_columns": [],
              "truncated_size_bytes": 160,
              "truncated_num_rows": 10,
              "truncated_num_cols": 1
            },
            "dx_settings": {
              "LOG_LEVEL": 30,
              "DEV_MODE": false,
              "DISPLAY_MAX_ROWS": 50000,
              "DISPLAY_MAX_COLUMNS": 100,
              "HTML_TABLE_SCHEMA": false,
              "MAX_RENDER_SIZE_BYTES": 104857600,
              "MAX_STRING_LENGTH": 250,
              "SAMPLING_FACTOR": 0.1,
              "DISPLAY_MODE": "simple",
              "SAMPLING_METHOD": "random",
              "COLUMN_SAMPLING_METHOD": "outer",
              "ROW_SAMPLING_METHOD": "random",
              "RANDOM_STATE": 12648430,
              "RESET_INDEX_VALUES": false,
              "FLATTEN_INDEX_VALUES": false,
              "FLATTEN_COLUMN_VALUES": true,
              "STRINGIFY_INDEX_VALUES": false,
              "STRINGIFY_COLUMN_VALUES": true,
              "ENABLE_DATALINK": true,
              "ENABLE_ASSIGNMENT": true,
              "NUM_PAST_SAMPLES_TRACKED": 3,
              "DB_LOCATION": ":memory:",
              "GENERATE_DEX_METADATA": false,
              "ALLOW_NOTEABLE_ATTRS": true
            },
            "display_id": "4372eb29-2a7c-4456-8452-3cf3d00df74c",
            "applied_filters": [],
            "sample_history": [],
            "sampling_time": "2023-05-28T16:27:10.429548",
            "variable_name": "unk_dataframe_a61efb6020934b1eb35f92dc1fa50633",
            "user_variable_name": null
          }
        },
        "colab": {
          "base_uri": "https://localhost:8080/"
        },
        "id": "de21e7f1",
        "outputId": "f8425c45-64fe-4719-d30b-9629f9237fc7"
      },
      "id": "de21e7f1"
    },
    {
      "cell_type": "markdown",
      "source": [
        "### There are no missing values in the dataset"
      ],
      "metadata": {
        "id": "e0101b79"
      },
      "id": "e0101b79"
    },
    {
      "cell_type": "code",
      "source": [
        "df.nunique()"
      ],
      "outputs": [
        {
          "output_type": "execute_result",
          "data": {
            "text/plain": [
              "model             195\n",
              "year               27\n",
              "price           13236\n",
              "transmission        4\n",
              "mileage         42214\n",
              "fuelType            5\n",
              "tax                48\n",
              "mpg               208\n",
              "engineSize         40\n",
              "make                9\n",
              "dtype: int64"
            ]
          },
          "metadata": {},
          "execution_count": 10
        }
      ],
      "execution_count": 10,
      "metadata": {
        "trusted": true,
        "noteable": {},
        "ExecuteTime": {
          "start_time": "2023-05-28T16:27:37.406720+00:00",
          "end_time": "2023-05-28T16:27:37.630819+00:00"
        },
        "datalink": {
          "b844b03c-46cf-47bd-997a-4f4ae99ac409": {
            "dataframe_info": {
              "default_index_used": false,
              "orig_size_bytes": 460,
              "orig_num_rows": 10,
              "orig_num_cols": 1,
              "truncated_string_columns": [],
              "truncated_size_bytes": 460,
              "truncated_num_rows": 10,
              "truncated_num_cols": 1
            },
            "dx_settings": {
              "LOG_LEVEL": 30,
              "DEV_MODE": false,
              "DISPLAY_MAX_ROWS": 50000,
              "DISPLAY_MAX_COLUMNS": 100,
              "HTML_TABLE_SCHEMA": false,
              "MAX_RENDER_SIZE_BYTES": 104857600,
              "MAX_STRING_LENGTH": 250,
              "SAMPLING_FACTOR": 0.1,
              "DISPLAY_MODE": "simple",
              "SAMPLING_METHOD": "random",
              "COLUMN_SAMPLING_METHOD": "outer",
              "ROW_SAMPLING_METHOD": "random",
              "RANDOM_STATE": 12648430,
              "RESET_INDEX_VALUES": false,
              "FLATTEN_INDEX_VALUES": false,
              "FLATTEN_COLUMN_VALUES": true,
              "STRINGIFY_INDEX_VALUES": false,
              "STRINGIFY_COLUMN_VALUES": true,
              "ENABLE_DATALINK": true,
              "ENABLE_ASSIGNMENT": true,
              "NUM_PAST_SAMPLES_TRACKED": 3,
              "DB_LOCATION": ":memory:",
              "GENERATE_DEX_METADATA": false,
              "ALLOW_NOTEABLE_ATTRS": true
            },
            "display_id": "b844b03c-46cf-47bd-997a-4f4ae99ac409",
            "applied_filters": [],
            "sample_history": [],
            "sampling_time": "2023-05-28T16:27:37.474542",
            "variable_name": "unk_dataframe_43f0494c8ff14d938c468d7156e1736e",
            "user_variable_name": null
          }
        },
        "colab": {
          "base_uri": "https://localhost:8080/"
        },
        "id": "c458fc2c",
        "outputId": "110f47f6-64df-4b8c-f813-ff3b50d50946"
      },
      "id": "c458fc2c"
    },
    {
      "cell_type": "markdown",
      "source": [
        "### By observing the unique values we can understand that the columns \"Model\", \"fuelType\" and \"transmission\" and \"make\" are categorical columns"
      ],
      "metadata": {
        "id": "bd72aa97"
      },
      "id": "bd72aa97"
    },
    {
      "cell_type": "markdown",
      "source": [
        "# Exploratory Data Analysis"
      ],
      "metadata": {
        "id": "6c8ad1f0"
      },
      "id": "6c8ad1f0"
    },
    {
      "cell_type": "code",
      "source": [
        "df.describe()"
      ],
      "outputs": [
        {
          "output_type": "execute_result",
          "data": {
            "text/plain": [
              "               year          price        mileage           tax           mpg  \\\n",
              "count  99187.000000   99187.000000   99187.000000  99187.000000  99187.000000   \n",
              "mean    2017.087723   16805.347656   23058.914213    120.299838     55.166825   \n",
              "std        2.123934    9866.773417   21148.523721     63.150926     16.138522   \n",
              "min     1970.000000     450.000000       1.000000      0.000000      0.300000   \n",
              "25%     2016.000000    9999.000000    7425.000000    125.000000     47.100000   \n",
              "50%     2017.000000   14495.000000   17460.000000    145.000000     54.300000   \n",
              "75%     2019.000000   20870.000000   32339.000000    145.000000     62.800000   \n",
              "max     2060.000000  159999.000000  323000.000000    580.000000    470.800000   \n",
              "\n",
              "         engineSize  \n",
              "count  99187.000000  \n",
              "mean       1.663280  \n",
              "std        0.557646  \n",
              "min        0.000000  \n",
              "25%        1.200000  \n",
              "50%        1.600000  \n",
              "75%        2.000000  \n",
              "max        6.600000  "
            ],
            "text/html": [
              "\n",
              "  <div id=\"df-545d125c-de31-48ac-8590-a35d78fb4576\">\n",
              "    <div class=\"colab-df-container\">\n",
              "      <div>\n",
              "<style scoped>\n",
              "    .dataframe tbody tr th:only-of-type {\n",
              "        vertical-align: middle;\n",
              "    }\n",
              "\n",
              "    .dataframe tbody tr th {\n",
              "        vertical-align: top;\n",
              "    }\n",
              "\n",
              "    .dataframe thead th {\n",
              "        text-align: right;\n",
              "    }\n",
              "</style>\n",
              "<table border=\"1\" class=\"dataframe\">\n",
              "  <thead>\n",
              "    <tr style=\"text-align: right;\">\n",
              "      <th></th>\n",
              "      <th>year</th>\n",
              "      <th>price</th>\n",
              "      <th>mileage</th>\n",
              "      <th>tax</th>\n",
              "      <th>mpg</th>\n",
              "      <th>engineSize</th>\n",
              "    </tr>\n",
              "  </thead>\n",
              "  <tbody>\n",
              "    <tr>\n",
              "      <th>count</th>\n",
              "      <td>99187.000000</td>\n",
              "      <td>99187.000000</td>\n",
              "      <td>99187.000000</td>\n",
              "      <td>99187.000000</td>\n",
              "      <td>99187.000000</td>\n",
              "      <td>99187.000000</td>\n",
              "    </tr>\n",
              "    <tr>\n",
              "      <th>mean</th>\n",
              "      <td>2017.087723</td>\n",
              "      <td>16805.347656</td>\n",
              "      <td>23058.914213</td>\n",
              "      <td>120.299838</td>\n",
              "      <td>55.166825</td>\n",
              "      <td>1.663280</td>\n",
              "    </tr>\n",
              "    <tr>\n",
              "      <th>std</th>\n",
              "      <td>2.123934</td>\n",
              "      <td>9866.773417</td>\n",
              "      <td>21148.523721</td>\n",
              "      <td>63.150926</td>\n",
              "      <td>16.138522</td>\n",
              "      <td>0.557646</td>\n",
              "    </tr>\n",
              "    <tr>\n",
              "      <th>min</th>\n",
              "      <td>1970.000000</td>\n",
              "      <td>450.000000</td>\n",
              "      <td>1.000000</td>\n",
              "      <td>0.000000</td>\n",
              "      <td>0.300000</td>\n",
              "      <td>0.000000</td>\n",
              "    </tr>\n",
              "    <tr>\n",
              "      <th>25%</th>\n",
              "      <td>2016.000000</td>\n",
              "      <td>9999.000000</td>\n",
              "      <td>7425.000000</td>\n",
              "      <td>125.000000</td>\n",
              "      <td>47.100000</td>\n",
              "      <td>1.200000</td>\n",
              "    </tr>\n",
              "    <tr>\n",
              "      <th>50%</th>\n",
              "      <td>2017.000000</td>\n",
              "      <td>14495.000000</td>\n",
              "      <td>17460.000000</td>\n",
              "      <td>145.000000</td>\n",
              "      <td>54.300000</td>\n",
              "      <td>1.600000</td>\n",
              "    </tr>\n",
              "    <tr>\n",
              "      <th>75%</th>\n",
              "      <td>2019.000000</td>\n",
              "      <td>20870.000000</td>\n",
              "      <td>32339.000000</td>\n",
              "      <td>145.000000</td>\n",
              "      <td>62.800000</td>\n",
              "      <td>2.000000</td>\n",
              "    </tr>\n",
              "    <tr>\n",
              "      <th>max</th>\n",
              "      <td>2060.000000</td>\n",
              "      <td>159999.000000</td>\n",
              "      <td>323000.000000</td>\n",
              "      <td>580.000000</td>\n",
              "      <td>470.800000</td>\n",
              "      <td>6.600000</td>\n",
              "    </tr>\n",
              "  </tbody>\n",
              "</table>\n",
              "</div>\n",
              "      <button class=\"colab-df-convert\" onclick=\"convertToInteractive('df-545d125c-de31-48ac-8590-a35d78fb4576')\"\n",
              "              title=\"Convert this dataframe to an interactive table.\"\n",
              "              style=\"display:none;\">\n",
              "        \n",
              "  <svg xmlns=\"http://www.w3.org/2000/svg\" height=\"24px\"viewBox=\"0 0 24 24\"\n",
              "       width=\"24px\">\n",
              "    <path d=\"M0 0h24v24H0V0z\" fill=\"none\"/>\n",
              "    <path d=\"M18.56 5.44l.94 2.06.94-2.06 2.06-.94-2.06-.94-.94-2.06-.94 2.06-2.06.94zm-11 1L8.5 8.5l.94-2.06 2.06-.94-2.06-.94L8.5 2.5l-.94 2.06-2.06.94zm10 10l.94 2.06.94-2.06 2.06-.94-2.06-.94-.94-2.06-.94 2.06-2.06.94z\"/><path d=\"M17.41 7.96l-1.37-1.37c-.4-.4-.92-.59-1.43-.59-.52 0-1.04.2-1.43.59L10.3 9.45l-7.72 7.72c-.78.78-.78 2.05 0 2.83L4 21.41c.39.39.9.59 1.41.59.51 0 1.02-.2 1.41-.59l7.78-7.78 2.81-2.81c.8-.78.8-2.07 0-2.86zM5.41 20L4 18.59l7.72-7.72 1.47 1.35L5.41 20z\"/>\n",
              "  </svg>\n",
              "      </button>\n",
              "      \n",
              "  <style>\n",
              "    .colab-df-container {\n",
              "      display:flex;\n",
              "      flex-wrap:wrap;\n",
              "      gap: 12px;\n",
              "    }\n",
              "\n",
              "    .colab-df-convert {\n",
              "      background-color: #E8F0FE;\n",
              "      border: none;\n",
              "      border-radius: 50%;\n",
              "      cursor: pointer;\n",
              "      display: none;\n",
              "      fill: #1967D2;\n",
              "      height: 32px;\n",
              "      padding: 0 0 0 0;\n",
              "      width: 32px;\n",
              "    }\n",
              "\n",
              "    .colab-df-convert:hover {\n",
              "      background-color: #E2EBFA;\n",
              "      box-shadow: 0px 1px 2px rgba(60, 64, 67, 0.3), 0px 1px 3px 1px rgba(60, 64, 67, 0.15);\n",
              "      fill: #174EA6;\n",
              "    }\n",
              "\n",
              "    [theme=dark] .colab-df-convert {\n",
              "      background-color: #3B4455;\n",
              "      fill: #D2E3FC;\n",
              "    }\n",
              "\n",
              "    [theme=dark] .colab-df-convert:hover {\n",
              "      background-color: #434B5C;\n",
              "      box-shadow: 0px 1px 3px 1px rgba(0, 0, 0, 0.15);\n",
              "      filter: drop-shadow(0px 1px 2px rgba(0, 0, 0, 0.3));\n",
              "      fill: #FFFFFF;\n",
              "    }\n",
              "  </style>\n",
              "\n",
              "      <script>\n",
              "        const buttonEl =\n",
              "          document.querySelector('#df-545d125c-de31-48ac-8590-a35d78fb4576 button.colab-df-convert');\n",
              "        buttonEl.style.display =\n",
              "          google.colab.kernel.accessAllowed ? 'block' : 'none';\n",
              "\n",
              "        async function convertToInteractive(key) {\n",
              "          const element = document.querySelector('#df-545d125c-de31-48ac-8590-a35d78fb4576');\n",
              "          const dataTable =\n",
              "            await google.colab.kernel.invokeFunction('convertToInteractive',\n",
              "                                                     [key], {});\n",
              "          if (!dataTable) return;\n",
              "\n",
              "          const docLinkHtml = 'Like what you see? Visit the ' +\n",
              "            '<a target=\"_blank\" href=https://colab.research.google.com/notebooks/data_table.ipynb>data table notebook</a>'\n",
              "            + ' to learn more about interactive tables.';\n",
              "          element.innerHTML = '';\n",
              "          dataTable['output_type'] = 'display_data';\n",
              "          await google.colab.output.renderOutput(dataTable, element);\n",
              "          const docLink = document.createElement('div');\n",
              "          docLink.innerHTML = docLinkHtml;\n",
              "          element.appendChild(docLink);\n",
              "        }\n",
              "      </script>\n",
              "    </div>\n",
              "  </div>\n",
              "  "
            ]
          },
          "metadata": {},
          "execution_count": 11
        }
      ],
      "execution_count": 11,
      "metadata": {
        "trusted": true,
        "noteable": {},
        "ExecuteTime": {
          "start_time": "2023-05-28T16:28:10.613941+00:00",
          "end_time": "2023-05-28T16:28:10.860155+00:00"
        },
        "datalink": {
          "6308fab4-00f6-44aa-b7d7-7a8e22706f7d": {
            "dataframe_info": {
              "default_index_used": false,
              "orig_size_bytes": 448,
              "orig_num_rows": 8,
              "orig_num_cols": 6,
              "truncated_string_columns": [],
              "truncated_size_bytes": 448,
              "truncated_num_rows": 8,
              "truncated_num_cols": 6
            },
            "dx_settings": {
              "LOG_LEVEL": 30,
              "DEV_MODE": false,
              "DISPLAY_MAX_ROWS": 50000,
              "DISPLAY_MAX_COLUMNS": 100,
              "HTML_TABLE_SCHEMA": false,
              "MAX_RENDER_SIZE_BYTES": 104857600,
              "MAX_STRING_LENGTH": 250,
              "SAMPLING_FACTOR": 0.1,
              "DISPLAY_MODE": "simple",
              "SAMPLING_METHOD": "random",
              "COLUMN_SAMPLING_METHOD": "outer",
              "ROW_SAMPLING_METHOD": "random",
              "RANDOM_STATE": 12648430,
              "RESET_INDEX_VALUES": false,
              "FLATTEN_INDEX_VALUES": false,
              "FLATTEN_COLUMN_VALUES": true,
              "STRINGIFY_INDEX_VALUES": false,
              "STRINGIFY_COLUMN_VALUES": true,
              "ENABLE_DATALINK": true,
              "ENABLE_ASSIGNMENT": true,
              "NUM_PAST_SAMPLES_TRACKED": 3,
              "DB_LOCATION": ":memory:",
              "GENERATE_DEX_METADATA": false,
              "ALLOW_NOTEABLE_ATTRS": true
            },
            "display_id": "6308fab4-00f6-44aa-b7d7-7a8e22706f7d",
            "applied_filters": [],
            "sample_history": [],
            "sampling_time": "2023-05-28T16:28:10.697468",
            "variable_name": "unk_dataframe_87e850130399405b8222610242047612",
            "user_variable_name": null
          }
        },
        "colab": {
          "base_uri": "https://localhost:8080/",
          "height": 300
        },
        "id": "8b5ea6e4",
        "outputId": "3d51900e-7962-477e-c4cc-007b5b7e05a0"
      },
      "id": "8b5ea6e4"
    },
    {
      "cell_type": "markdown",
      "source": [
        "### Year"
      ],
      "metadata": {
        "id": "67e6441b"
      },
      "id": "67e6441b"
    },
    {
      "cell_type": "markdown",
      "source": [
        "From the info we got from the dataset, it is observed that there is atleast 1 car with the year as 2060"
      ],
      "metadata": {
        "id": "51907d4f"
      },
      "id": "51907d4f"
    },
    {
      "cell_type": "code",
      "source": [
        "df[df['year'] == 2060]"
      ],
      "outputs": [
        {
          "output_type": "execute_result",
          "data": {
            "text/plain": [
              "         model  year  price transmission  mileage fuelType  tax   mpg  \\\n",
              "39175   Fiesta  2060   6495    Automatic    54807   Petrol  205  42.8   \n",
              "\n",
              "       engineSize  make  \n",
              "39175         1.4  Ford  "
            ],
            "text/html": [
              "\n",
              "  <div id=\"df-b30ca48e-046d-4969-9388-5955de9e2105\">\n",
              "    <div class=\"colab-df-container\">\n",
              "      <div>\n",
              "<style scoped>\n",
              "    .dataframe tbody tr th:only-of-type {\n",
              "        vertical-align: middle;\n",
              "    }\n",
              "\n",
              "    .dataframe tbody tr th {\n",
              "        vertical-align: top;\n",
              "    }\n",
              "\n",
              "    .dataframe thead th {\n",
              "        text-align: right;\n",
              "    }\n",
              "</style>\n",
              "<table border=\"1\" class=\"dataframe\">\n",
              "  <thead>\n",
              "    <tr style=\"text-align: right;\">\n",
              "      <th></th>\n",
              "      <th>model</th>\n",
              "      <th>year</th>\n",
              "      <th>price</th>\n",
              "      <th>transmission</th>\n",
              "      <th>mileage</th>\n",
              "      <th>fuelType</th>\n",
              "      <th>tax</th>\n",
              "      <th>mpg</th>\n",
              "      <th>engineSize</th>\n",
              "      <th>make</th>\n",
              "    </tr>\n",
              "  </thead>\n",
              "  <tbody>\n",
              "    <tr>\n",
              "      <th>39175</th>\n",
              "      <td>Fiesta</td>\n",
              "      <td>2060</td>\n",
              "      <td>6495</td>\n",
              "      <td>Automatic</td>\n",
              "      <td>54807</td>\n",
              "      <td>Petrol</td>\n",
              "      <td>205</td>\n",
              "      <td>42.8</td>\n",
              "      <td>1.4</td>\n",
              "      <td>Ford</td>\n",
              "    </tr>\n",
              "  </tbody>\n",
              "</table>\n",
              "</div>\n",
              "      <button class=\"colab-df-convert\" onclick=\"convertToInteractive('df-b30ca48e-046d-4969-9388-5955de9e2105')\"\n",
              "              title=\"Convert this dataframe to an interactive table.\"\n",
              "              style=\"display:none;\">\n",
              "        \n",
              "  <svg xmlns=\"http://www.w3.org/2000/svg\" height=\"24px\"viewBox=\"0 0 24 24\"\n",
              "       width=\"24px\">\n",
              "    <path d=\"M0 0h24v24H0V0z\" fill=\"none\"/>\n",
              "    <path d=\"M18.56 5.44l.94 2.06.94-2.06 2.06-.94-2.06-.94-.94-2.06-.94 2.06-2.06.94zm-11 1L8.5 8.5l.94-2.06 2.06-.94-2.06-.94L8.5 2.5l-.94 2.06-2.06.94zm10 10l.94 2.06.94-2.06 2.06-.94-2.06-.94-.94-2.06-.94 2.06-2.06.94z\"/><path d=\"M17.41 7.96l-1.37-1.37c-.4-.4-.92-.59-1.43-.59-.52 0-1.04.2-1.43.59L10.3 9.45l-7.72 7.72c-.78.78-.78 2.05 0 2.83L4 21.41c.39.39.9.59 1.41.59.51 0 1.02-.2 1.41-.59l7.78-7.78 2.81-2.81c.8-.78.8-2.07 0-2.86zM5.41 20L4 18.59l7.72-7.72 1.47 1.35L5.41 20z\"/>\n",
              "  </svg>\n",
              "      </button>\n",
              "      \n",
              "  <style>\n",
              "    .colab-df-container {\n",
              "      display:flex;\n",
              "      flex-wrap:wrap;\n",
              "      gap: 12px;\n",
              "    }\n",
              "\n",
              "    .colab-df-convert {\n",
              "      background-color: #E8F0FE;\n",
              "      border: none;\n",
              "      border-radius: 50%;\n",
              "      cursor: pointer;\n",
              "      display: none;\n",
              "      fill: #1967D2;\n",
              "      height: 32px;\n",
              "      padding: 0 0 0 0;\n",
              "      width: 32px;\n",
              "    }\n",
              "\n",
              "    .colab-df-convert:hover {\n",
              "      background-color: #E2EBFA;\n",
              "      box-shadow: 0px 1px 2px rgba(60, 64, 67, 0.3), 0px 1px 3px 1px rgba(60, 64, 67, 0.15);\n",
              "      fill: #174EA6;\n",
              "    }\n",
              "\n",
              "    [theme=dark] .colab-df-convert {\n",
              "      background-color: #3B4455;\n",
              "      fill: #D2E3FC;\n",
              "    }\n",
              "\n",
              "    [theme=dark] .colab-df-convert:hover {\n",
              "      background-color: #434B5C;\n",
              "      box-shadow: 0px 1px 3px 1px rgba(0, 0, 0, 0.15);\n",
              "      filter: drop-shadow(0px 1px 2px rgba(0, 0, 0, 0.3));\n",
              "      fill: #FFFFFF;\n",
              "    }\n",
              "  </style>\n",
              "\n",
              "      <script>\n",
              "        const buttonEl =\n",
              "          document.querySelector('#df-b30ca48e-046d-4969-9388-5955de9e2105 button.colab-df-convert');\n",
              "        buttonEl.style.display =\n",
              "          google.colab.kernel.accessAllowed ? 'block' : 'none';\n",
              "\n",
              "        async function convertToInteractive(key) {\n",
              "          const element = document.querySelector('#df-b30ca48e-046d-4969-9388-5955de9e2105');\n",
              "          const dataTable =\n",
              "            await google.colab.kernel.invokeFunction('convertToInteractive',\n",
              "                                                     [key], {});\n",
              "          if (!dataTable) return;\n",
              "\n",
              "          const docLinkHtml = 'Like what you see? Visit the ' +\n",
              "            '<a target=\"_blank\" href=https://colab.research.google.com/notebooks/data_table.ipynb>data table notebook</a>'\n",
              "            + ' to learn more about interactive tables.';\n",
              "          element.innerHTML = '';\n",
              "          dataTable['output_type'] = 'display_data';\n",
              "          await google.colab.output.renderOutput(dataTable, element);\n",
              "          const docLink = document.createElement('div');\n",
              "          docLink.innerHTML = docLinkHtml;\n",
              "          element.appendChild(docLink);\n",
              "        }\n",
              "      </script>\n",
              "    </div>\n",
              "  </div>\n",
              "  "
            ]
          },
          "metadata": {},
          "execution_count": 12
        }
      ],
      "execution_count": 12,
      "metadata": {
        "trusted": true,
        "noteable": {},
        "colab": {
          "base_uri": "https://localhost:8080/",
          "height": 81
        },
        "id": "d59e0e76",
        "outputId": "ccfb0a53-1404-4119-d6c1-036f6cfb8acc"
      },
      "id": "d59e0e76"
    },
    {
      "cell_type": "markdown",
      "source": [
        "It is observed that there is 1 car from the manufacturer Ford that is having year as 2060. Since we don't have any other information regarding this data, we can remove this entry"
      ],
      "metadata": {
        "id": "ceb4c1e7"
      },
      "id": "ceb4c1e7"
    },
    {
      "cell_type": "code",
      "source": [
        "df = df.drop(df[df['year'] == 2060].index)"
      ],
      "outputs": [],
      "execution_count": 13,
      "metadata": {
        "trusted": true,
        "id": "700f5293"
      },
      "id": "700f5293"
    },
    {
      "cell_type": "markdown",
      "source": [
        "Also it is observed that there are some cars with the year 1970"
      ],
      "metadata": {
        "id": "eb3b2c43"
      },
      "id": "eb3b2c43"
    },
    {
      "cell_type": "code",
      "source": [
        "df[df['year'] == 1970]"
      ],
      "outputs": [
        {
          "output_type": "execute_result",
          "data": {
            "text/plain": [
              "          model  year  price transmission  mileage fuelType  tax   mpg  \\\n",
              "56346   M Class  1970  24999    Automatic    14000   Diesel  305  39.2   \n",
              "81235    Zafira  1970  10495       Manual    37357   Petrol  200  42.2   \n",
              "\n",
              "       engineSize      make  \n",
              "56346         0.0  Mercedes  \n",
              "81235         1.4  Vauxhall  "
            ],
            "text/html": [
              "\n",
              "  <div id=\"df-4d96cc78-71e6-4d7c-abef-63d407bf320d\">\n",
              "    <div class=\"colab-df-container\">\n",
              "      <div>\n",
              "<style scoped>\n",
              "    .dataframe tbody tr th:only-of-type {\n",
              "        vertical-align: middle;\n",
              "    }\n",
              "\n",
              "    .dataframe tbody tr th {\n",
              "        vertical-align: top;\n",
              "    }\n",
              "\n",
              "    .dataframe thead th {\n",
              "        text-align: right;\n",
              "    }\n",
              "</style>\n",
              "<table border=\"1\" class=\"dataframe\">\n",
              "  <thead>\n",
              "    <tr style=\"text-align: right;\">\n",
              "      <th></th>\n",
              "      <th>model</th>\n",
              "      <th>year</th>\n",
              "      <th>price</th>\n",
              "      <th>transmission</th>\n",
              "      <th>mileage</th>\n",
              "      <th>fuelType</th>\n",
              "      <th>tax</th>\n",
              "      <th>mpg</th>\n",
              "      <th>engineSize</th>\n",
              "      <th>make</th>\n",
              "    </tr>\n",
              "  </thead>\n",
              "  <tbody>\n",
              "    <tr>\n",
              "      <th>56346</th>\n",
              "      <td>M Class</td>\n",
              "      <td>1970</td>\n",
              "      <td>24999</td>\n",
              "      <td>Automatic</td>\n",
              "      <td>14000</td>\n",
              "      <td>Diesel</td>\n",
              "      <td>305</td>\n",
              "      <td>39.2</td>\n",
              "      <td>0.0</td>\n",
              "      <td>Mercedes</td>\n",
              "    </tr>\n",
              "    <tr>\n",
              "      <th>81235</th>\n",
              "      <td>Zafira</td>\n",
              "      <td>1970</td>\n",
              "      <td>10495</td>\n",
              "      <td>Manual</td>\n",
              "      <td>37357</td>\n",
              "      <td>Petrol</td>\n",
              "      <td>200</td>\n",
              "      <td>42.2</td>\n",
              "      <td>1.4</td>\n",
              "      <td>Vauxhall</td>\n",
              "    </tr>\n",
              "  </tbody>\n",
              "</table>\n",
              "</div>\n",
              "      <button class=\"colab-df-convert\" onclick=\"convertToInteractive('df-4d96cc78-71e6-4d7c-abef-63d407bf320d')\"\n",
              "              title=\"Convert this dataframe to an interactive table.\"\n",
              "              style=\"display:none;\">\n",
              "        \n",
              "  <svg xmlns=\"http://www.w3.org/2000/svg\" height=\"24px\"viewBox=\"0 0 24 24\"\n",
              "       width=\"24px\">\n",
              "    <path d=\"M0 0h24v24H0V0z\" fill=\"none\"/>\n",
              "    <path d=\"M18.56 5.44l.94 2.06.94-2.06 2.06-.94-2.06-.94-.94-2.06-.94 2.06-2.06.94zm-11 1L8.5 8.5l.94-2.06 2.06-.94-2.06-.94L8.5 2.5l-.94 2.06-2.06.94zm10 10l.94 2.06.94-2.06 2.06-.94-2.06-.94-.94-2.06-.94 2.06-2.06.94z\"/><path d=\"M17.41 7.96l-1.37-1.37c-.4-.4-.92-.59-1.43-.59-.52 0-1.04.2-1.43.59L10.3 9.45l-7.72 7.72c-.78.78-.78 2.05 0 2.83L4 21.41c.39.39.9.59 1.41.59.51 0 1.02-.2 1.41-.59l7.78-7.78 2.81-2.81c.8-.78.8-2.07 0-2.86zM5.41 20L4 18.59l7.72-7.72 1.47 1.35L5.41 20z\"/>\n",
              "  </svg>\n",
              "      </button>\n",
              "      \n",
              "  <style>\n",
              "    .colab-df-container {\n",
              "      display:flex;\n",
              "      flex-wrap:wrap;\n",
              "      gap: 12px;\n",
              "    }\n",
              "\n",
              "    .colab-df-convert {\n",
              "      background-color: #E8F0FE;\n",
              "      border: none;\n",
              "      border-radius: 50%;\n",
              "      cursor: pointer;\n",
              "      display: none;\n",
              "      fill: #1967D2;\n",
              "      height: 32px;\n",
              "      padding: 0 0 0 0;\n",
              "      width: 32px;\n",
              "    }\n",
              "\n",
              "    .colab-df-convert:hover {\n",
              "      background-color: #E2EBFA;\n",
              "      box-shadow: 0px 1px 2px rgba(60, 64, 67, 0.3), 0px 1px 3px 1px rgba(60, 64, 67, 0.15);\n",
              "      fill: #174EA6;\n",
              "    }\n",
              "\n",
              "    [theme=dark] .colab-df-convert {\n",
              "      background-color: #3B4455;\n",
              "      fill: #D2E3FC;\n",
              "    }\n",
              "\n",
              "    [theme=dark] .colab-df-convert:hover {\n",
              "      background-color: #434B5C;\n",
              "      box-shadow: 0px 1px 3px 1px rgba(0, 0, 0, 0.15);\n",
              "      filter: drop-shadow(0px 1px 2px rgba(0, 0, 0, 0.3));\n",
              "      fill: #FFFFFF;\n",
              "    }\n",
              "  </style>\n",
              "\n",
              "      <script>\n",
              "        const buttonEl =\n",
              "          document.querySelector('#df-4d96cc78-71e6-4d7c-abef-63d407bf320d button.colab-df-convert');\n",
              "        buttonEl.style.display =\n",
              "          google.colab.kernel.accessAllowed ? 'block' : 'none';\n",
              "\n",
              "        async function convertToInteractive(key) {\n",
              "          const element = document.querySelector('#df-4d96cc78-71e6-4d7c-abef-63d407bf320d');\n",
              "          const dataTable =\n",
              "            await google.colab.kernel.invokeFunction('convertToInteractive',\n",
              "                                                     [key], {});\n",
              "          if (!dataTable) return;\n",
              "\n",
              "          const docLinkHtml = 'Like what you see? Visit the ' +\n",
              "            '<a target=\"_blank\" href=https://colab.research.google.com/notebooks/data_table.ipynb>data table notebook</a>'\n",
              "            + ' to learn more about interactive tables.';\n",
              "          element.innerHTML = '';\n",
              "          dataTable['output_type'] = 'display_data';\n",
              "          await google.colab.output.renderOutput(dataTable, element);\n",
              "          const docLink = document.createElement('div');\n",
              "          docLink.innerHTML = docLinkHtml;\n",
              "          element.appendChild(docLink);\n",
              "        }\n",
              "      </script>\n",
              "    </div>\n",
              "  </div>\n",
              "  "
            ]
          },
          "metadata": {},
          "execution_count": 14
        }
      ],
      "execution_count": 14,
      "metadata": {
        "trusted": true,
        "noteable": {},
        "ExecuteTime": {
          "start_time": "2023-05-28T16:30:19.913510+00:00",
          "end_time": "2023-05-28T16:30:20.137442+00:00"
        },
        "datalink": {
          "761697e8-61ee-4fbb-816d-cbfa1a811e96": {
            "dataframe_info": {
              "default_index_used": true,
              "orig_size_bytes": 108,
              "orig_num_rows": 0,
              "orig_num_cols": 10,
              "truncated_string_columns": [],
              "truncated_size_bytes": 108,
              "truncated_num_rows": 0,
              "truncated_num_cols": 10
            },
            "dx_settings": {
              "LOG_LEVEL": 30,
              "DEV_MODE": false,
              "DISPLAY_MAX_ROWS": 50000,
              "DISPLAY_MAX_COLUMNS": 100,
              "HTML_TABLE_SCHEMA": false,
              "MAX_RENDER_SIZE_BYTES": 104857600,
              "MAX_STRING_LENGTH": 250,
              "SAMPLING_FACTOR": 0.1,
              "DISPLAY_MODE": "simple",
              "SAMPLING_METHOD": "random",
              "COLUMN_SAMPLING_METHOD": "outer",
              "ROW_SAMPLING_METHOD": "random",
              "RANDOM_STATE": 12648430,
              "RESET_INDEX_VALUES": false,
              "FLATTEN_INDEX_VALUES": false,
              "FLATTEN_COLUMN_VALUES": true,
              "STRINGIFY_INDEX_VALUES": false,
              "STRINGIFY_COLUMN_VALUES": true,
              "ENABLE_DATALINK": true,
              "ENABLE_ASSIGNMENT": true,
              "NUM_PAST_SAMPLES_TRACKED": 3,
              "DB_LOCATION": ":memory:",
              "GENERATE_DEX_METADATA": false,
              "ALLOW_NOTEABLE_ATTRS": true
            },
            "display_id": "761697e8-61ee-4fbb-816d-cbfa1a811e96",
            "applied_filters": [],
            "sample_history": [],
            "sampling_time": "2023-05-28T16:29:20.881270",
            "variable_name": "unk_dataframe_12957efa3c5a4a5ba12fbec4d6844d39",
            "user_variable_name": null
          },
          "175ad753-4231-47dd-b5c6-679c0288c877": {
            "dataframe_info": {
              "default_index_used": true,
              "orig_size_bytes": 108,
              "orig_num_rows": 0,
              "orig_num_cols": 10,
              "truncated_string_columns": [],
              "truncated_size_bytes": 108,
              "truncated_num_rows": 0,
              "truncated_num_cols": 10
            },
            "dx_settings": {
              "LOG_LEVEL": 30,
              "DEV_MODE": false,
              "DISPLAY_MAX_ROWS": 50000,
              "DISPLAY_MAX_COLUMNS": 100,
              "HTML_TABLE_SCHEMA": false,
              "MAX_RENDER_SIZE_BYTES": 104857600,
              "MAX_STRING_LENGTH": 250,
              "SAMPLING_FACTOR": 0.1,
              "DISPLAY_MODE": "simple",
              "SAMPLING_METHOD": "random",
              "COLUMN_SAMPLING_METHOD": "outer",
              "ROW_SAMPLING_METHOD": "random",
              "RANDOM_STATE": 12648430,
              "RESET_INDEX_VALUES": false,
              "FLATTEN_INDEX_VALUES": false,
              "FLATTEN_COLUMN_VALUES": true,
              "STRINGIFY_INDEX_VALUES": false,
              "STRINGIFY_COLUMN_VALUES": true,
              "ENABLE_DATALINK": true,
              "ENABLE_ASSIGNMENT": true,
              "NUM_PAST_SAMPLES_TRACKED": 3,
              "DB_LOCATION": ":memory:",
              "GENERATE_DEX_METADATA": false,
              "ALLOW_NOTEABLE_ATTRS": true
            },
            "display_id": "175ad753-4231-47dd-b5c6-679c0288c877",
            "applied_filters": [],
            "sample_history": [],
            "sampling_time": "2023-05-28T16:30:19.979774",
            "variable_name": "unk_dataframe_3a4468746bf24b54962c62e1251bdc56",
            "user_variable_name": null
          }
        },
        "colab": {
          "base_uri": "https://localhost:8080/",
          "height": 112
        },
        "id": "56bdc316",
        "outputId": "47764182-256e-4162-bd45-4fb3cd18a99d"
      },
      "id": "56bdc316"
    },
    {
      "cell_type": "markdown",
      "source": [
        "There are only 2 cars with the year as 1970. Also in the current situation the cars with the model of 1970's are not allowed to be used these 2 cars can be removed from the data."
      ],
      "metadata": {
        "id": "eff6d64b"
      },
      "id": "eff6d64b"
    },
    {
      "cell_type": "code",
      "source": [
        "df = df.drop(df[df['year'] == 1970].index)"
      ],
      "outputs": [],
      "execution_count": 15,
      "metadata": {
        "trusted": true,
        "noteable": {},
        "ExecuteTime": {
          "start_time": "2023-05-28T16:29:38.376126+00:00",
          "end_time": "2023-05-28T16:29:38.544207+00:00"
        },
        "id": "052f87ae"
      },
      "id": "052f87ae"
    },
    {
      "cell_type": "markdown",
      "source": [
        "### Engine Size"
      ],
      "metadata": {
        "id": "f76c2955"
      },
      "id": "f76c2955"
    },
    {
      "cell_type": "code",
      "source": [
        "df[df['engineSize'] == 0]"
      ],
      "outputs": [
        {
          "output_type": "execute_result",
          "data": {
            "text/plain": [
              "         model  year  price transmission  mileage fuelType  tax    mpg  \\\n",
              "7505        Q5  2019  44790    Automatic     5886   Petrol  135  117.7   \n",
              "7506        Q3  2019  32788    Automatic     1500   Diesel  145   47.1   \n",
              "7516        Q3  2020  29944       Manual     1500   Petrol  145   40.9   \n",
              "7517        Q3  2020  33333    Automatic     1500   Diesel  145   47.1   \n",
              "7518        Q3  2020  29944    Automatic     1500   Petrol  145   32.5   \n",
              "...        ...   ...    ...          ...      ...      ...  ...    ...   \n",
              "95678   Tiguan  2016  15300       Manual    38398   Diesel  145   53.3   \n",
              "95685   Tiguan  2018  24000    Automatic    22200   Diesel  145   47.9   \n",
              "96851       Up  2017   8500       Manual    20324   Petrol   20   64.2   \n",
              "96909       Up  2017   8000       Manual    24444   Petrol   20   60.1   \n",
              "97342   Beetle  2017  13800       Manual    17859   Petrol  125   53.3   \n",
              "\n",
              "       engineSize        make  \n",
              "7505          0.0        Audi  \n",
              "7506          0.0        Audi  \n",
              "7516          0.0        Audi  \n",
              "7517          0.0        Audi  \n",
              "7518          0.0        Audi  \n",
              "...           ...         ...  \n",
              "95678         0.0  Volkswagen  \n",
              "95685         0.0  Volkswagen  \n",
              "96851         0.0  Volkswagen  \n",
              "96909         0.0  Volkswagen  \n",
              "97342         0.0  Volkswagen  \n",
              "\n",
              "[272 rows x 10 columns]"
            ],
            "text/html": [
              "\n",
              "  <div id=\"df-2748bf71-0b92-4e92-98a7-20466297d66d\">\n",
              "    <div class=\"colab-df-container\">\n",
              "      <div>\n",
              "<style scoped>\n",
              "    .dataframe tbody tr th:only-of-type {\n",
              "        vertical-align: middle;\n",
              "    }\n",
              "\n",
              "    .dataframe tbody tr th {\n",
              "        vertical-align: top;\n",
              "    }\n",
              "\n",
              "    .dataframe thead th {\n",
              "        text-align: right;\n",
              "    }\n",
              "</style>\n",
              "<table border=\"1\" class=\"dataframe\">\n",
              "  <thead>\n",
              "    <tr style=\"text-align: right;\">\n",
              "      <th></th>\n",
              "      <th>model</th>\n",
              "      <th>year</th>\n",
              "      <th>price</th>\n",
              "      <th>transmission</th>\n",
              "      <th>mileage</th>\n",
              "      <th>fuelType</th>\n",
              "      <th>tax</th>\n",
              "      <th>mpg</th>\n",
              "      <th>engineSize</th>\n",
              "      <th>make</th>\n",
              "    </tr>\n",
              "  </thead>\n",
              "  <tbody>\n",
              "    <tr>\n",
              "      <th>7505</th>\n",
              "      <td>Q5</td>\n",
              "      <td>2019</td>\n",
              "      <td>44790</td>\n",
              "      <td>Automatic</td>\n",
              "      <td>5886</td>\n",
              "      <td>Petrol</td>\n",
              "      <td>135</td>\n",
              "      <td>117.7</td>\n",
              "      <td>0.0</td>\n",
              "      <td>Audi</td>\n",
              "    </tr>\n",
              "    <tr>\n",
              "      <th>7506</th>\n",
              "      <td>Q3</td>\n",
              "      <td>2019</td>\n",
              "      <td>32788</td>\n",
              "      <td>Automatic</td>\n",
              "      <td>1500</td>\n",
              "      <td>Diesel</td>\n",
              "      <td>145</td>\n",
              "      <td>47.1</td>\n",
              "      <td>0.0</td>\n",
              "      <td>Audi</td>\n",
              "    </tr>\n",
              "    <tr>\n",
              "      <th>7516</th>\n",
              "      <td>Q3</td>\n",
              "      <td>2020</td>\n",
              "      <td>29944</td>\n",
              "      <td>Manual</td>\n",
              "      <td>1500</td>\n",
              "      <td>Petrol</td>\n",
              "      <td>145</td>\n",
              "      <td>40.9</td>\n",
              "      <td>0.0</td>\n",
              "      <td>Audi</td>\n",
              "    </tr>\n",
              "    <tr>\n",
              "      <th>7517</th>\n",
              "      <td>Q3</td>\n",
              "      <td>2020</td>\n",
              "      <td>33333</td>\n",
              "      <td>Automatic</td>\n",
              "      <td>1500</td>\n",
              "      <td>Diesel</td>\n",
              "      <td>145</td>\n",
              "      <td>47.1</td>\n",
              "      <td>0.0</td>\n",
              "      <td>Audi</td>\n",
              "    </tr>\n",
              "    <tr>\n",
              "      <th>7518</th>\n",
              "      <td>Q3</td>\n",
              "      <td>2020</td>\n",
              "      <td>29944</td>\n",
              "      <td>Automatic</td>\n",
              "      <td>1500</td>\n",
              "      <td>Petrol</td>\n",
              "      <td>145</td>\n",
              "      <td>32.5</td>\n",
              "      <td>0.0</td>\n",
              "      <td>Audi</td>\n",
              "    </tr>\n",
              "    <tr>\n",
              "      <th>...</th>\n",
              "      <td>...</td>\n",
              "      <td>...</td>\n",
              "      <td>...</td>\n",
              "      <td>...</td>\n",
              "      <td>...</td>\n",
              "      <td>...</td>\n",
              "      <td>...</td>\n",
              "      <td>...</td>\n",
              "      <td>...</td>\n",
              "      <td>...</td>\n",
              "    </tr>\n",
              "    <tr>\n",
              "      <th>95678</th>\n",
              "      <td>Tiguan</td>\n",
              "      <td>2016</td>\n",
              "      <td>15300</td>\n",
              "      <td>Manual</td>\n",
              "      <td>38398</td>\n",
              "      <td>Diesel</td>\n",
              "      <td>145</td>\n",
              "      <td>53.3</td>\n",
              "      <td>0.0</td>\n",
              "      <td>Volkswagen</td>\n",
              "    </tr>\n",
              "    <tr>\n",
              "      <th>95685</th>\n",
              "      <td>Tiguan</td>\n",
              "      <td>2018</td>\n",
              "      <td>24000</td>\n",
              "      <td>Automatic</td>\n",
              "      <td>22200</td>\n",
              "      <td>Diesel</td>\n",
              "      <td>145</td>\n",
              "      <td>47.9</td>\n",
              "      <td>0.0</td>\n",
              "      <td>Volkswagen</td>\n",
              "    </tr>\n",
              "    <tr>\n",
              "      <th>96851</th>\n",
              "      <td>Up</td>\n",
              "      <td>2017</td>\n",
              "      <td>8500</td>\n",
              "      <td>Manual</td>\n",
              "      <td>20324</td>\n",
              "      <td>Petrol</td>\n",
              "      <td>20</td>\n",
              "      <td>64.2</td>\n",
              "      <td>0.0</td>\n",
              "      <td>Volkswagen</td>\n",
              "    </tr>\n",
              "    <tr>\n",
              "      <th>96909</th>\n",
              "      <td>Up</td>\n",
              "      <td>2017</td>\n",
              "      <td>8000</td>\n",
              "      <td>Manual</td>\n",
              "      <td>24444</td>\n",
              "      <td>Petrol</td>\n",
              "      <td>20</td>\n",
              "      <td>60.1</td>\n",
              "      <td>0.0</td>\n",
              "      <td>Volkswagen</td>\n",
              "    </tr>\n",
              "    <tr>\n",
              "      <th>97342</th>\n",
              "      <td>Beetle</td>\n",
              "      <td>2017</td>\n",
              "      <td>13800</td>\n",
              "      <td>Manual</td>\n",
              "      <td>17859</td>\n",
              "      <td>Petrol</td>\n",
              "      <td>125</td>\n",
              "      <td>53.3</td>\n",
              "      <td>0.0</td>\n",
              "      <td>Volkswagen</td>\n",
              "    </tr>\n",
              "  </tbody>\n",
              "</table>\n",
              "<p>272 rows × 10 columns</p>\n",
              "</div>\n",
              "      <button class=\"colab-df-convert\" onclick=\"convertToInteractive('df-2748bf71-0b92-4e92-98a7-20466297d66d')\"\n",
              "              title=\"Convert this dataframe to an interactive table.\"\n",
              "              style=\"display:none;\">\n",
              "        \n",
              "  <svg xmlns=\"http://www.w3.org/2000/svg\" height=\"24px\"viewBox=\"0 0 24 24\"\n",
              "       width=\"24px\">\n",
              "    <path d=\"M0 0h24v24H0V0z\" fill=\"none\"/>\n",
              "    <path d=\"M18.56 5.44l.94 2.06.94-2.06 2.06-.94-2.06-.94-.94-2.06-.94 2.06-2.06.94zm-11 1L8.5 8.5l.94-2.06 2.06-.94-2.06-.94L8.5 2.5l-.94 2.06-2.06.94zm10 10l.94 2.06.94-2.06 2.06-.94-2.06-.94-.94-2.06-.94 2.06-2.06.94z\"/><path d=\"M17.41 7.96l-1.37-1.37c-.4-.4-.92-.59-1.43-.59-.52 0-1.04.2-1.43.59L10.3 9.45l-7.72 7.72c-.78.78-.78 2.05 0 2.83L4 21.41c.39.39.9.59 1.41.59.51 0 1.02-.2 1.41-.59l7.78-7.78 2.81-2.81c.8-.78.8-2.07 0-2.86zM5.41 20L4 18.59l7.72-7.72 1.47 1.35L5.41 20z\"/>\n",
              "  </svg>\n",
              "      </button>\n",
              "      \n",
              "  <style>\n",
              "    .colab-df-container {\n",
              "      display:flex;\n",
              "      flex-wrap:wrap;\n",
              "      gap: 12px;\n",
              "    }\n",
              "\n",
              "    .colab-df-convert {\n",
              "      background-color: #E8F0FE;\n",
              "      border: none;\n",
              "      border-radius: 50%;\n",
              "      cursor: pointer;\n",
              "      display: none;\n",
              "      fill: #1967D2;\n",
              "      height: 32px;\n",
              "      padding: 0 0 0 0;\n",
              "      width: 32px;\n",
              "    }\n",
              "\n",
              "    .colab-df-convert:hover {\n",
              "      background-color: #E2EBFA;\n",
              "      box-shadow: 0px 1px 2px rgba(60, 64, 67, 0.3), 0px 1px 3px 1px rgba(60, 64, 67, 0.15);\n",
              "      fill: #174EA6;\n",
              "    }\n",
              "\n",
              "    [theme=dark] .colab-df-convert {\n",
              "      background-color: #3B4455;\n",
              "      fill: #D2E3FC;\n",
              "    }\n",
              "\n",
              "    [theme=dark] .colab-df-convert:hover {\n",
              "      background-color: #434B5C;\n",
              "      box-shadow: 0px 1px 3px 1px rgba(0, 0, 0, 0.15);\n",
              "      filter: drop-shadow(0px 1px 2px rgba(0, 0, 0, 0.3));\n",
              "      fill: #FFFFFF;\n",
              "    }\n",
              "  </style>\n",
              "\n",
              "      <script>\n",
              "        const buttonEl =\n",
              "          document.querySelector('#df-2748bf71-0b92-4e92-98a7-20466297d66d button.colab-df-convert');\n",
              "        buttonEl.style.display =\n",
              "          google.colab.kernel.accessAllowed ? 'block' : 'none';\n",
              "\n",
              "        async function convertToInteractive(key) {\n",
              "          const element = document.querySelector('#df-2748bf71-0b92-4e92-98a7-20466297d66d');\n",
              "          const dataTable =\n",
              "            await google.colab.kernel.invokeFunction('convertToInteractive',\n",
              "                                                     [key], {});\n",
              "          if (!dataTable) return;\n",
              "\n",
              "          const docLinkHtml = 'Like what you see? Visit the ' +\n",
              "            '<a target=\"_blank\" href=https://colab.research.google.com/notebooks/data_table.ipynb>data table notebook</a>'\n",
              "            + ' to learn more about interactive tables.';\n",
              "          element.innerHTML = '';\n",
              "          dataTable['output_type'] = 'display_data';\n",
              "          await google.colab.output.renderOutput(dataTable, element);\n",
              "          const docLink = document.createElement('div');\n",
              "          docLink.innerHTML = docLinkHtml;\n",
              "          element.appendChild(docLink);\n",
              "        }\n",
              "      </script>\n",
              "    </div>\n",
              "  </div>\n",
              "  "
            ]
          },
          "metadata": {},
          "execution_count": 16
        }
      ],
      "execution_count": 16,
      "metadata": {
        "trusted": true,
        "noteable": {},
        "colab": {
          "base_uri": "https://localhost:8080/",
          "height": 424
        },
        "id": "789db2f2",
        "outputId": "5e55ff27-ee60-4b74-f855-f6141f794263"
      },
      "id": "789db2f2"
    },
    {
      "cell_type": "markdown",
      "source": [
        "There are 272 rows with engine size as 0. So this needs to be handled in the feature engineering part"
      ],
      "metadata": {
        "id": "3c33ed7c"
      },
      "id": "3c33ed7c"
    },
    {
      "cell_type": "markdown",
      "source": [
        "### Mileage"
      ],
      "metadata": {
        "id": "f3b64a1f"
      },
      "id": "f3b64a1f"
    },
    {
      "cell_type": "markdown",
      "source": [
        "There are some cars with mileage as 1"
      ],
      "metadata": {
        "id": "70885d46"
      },
      "id": "70885d46"
    },
    {
      "cell_type": "code",
      "source": [
        "df[df['mileage'] == 1]"
      ],
      "outputs": [
        {
          "output_type": "execute_result",
          "data": {
            "text/plain": [
              "              model  year  price transmission  mileage fuelType  tax   mpg  \\\n",
              "5492             Q7  2019  69000    Automatic        1   Diesel  145  30.1   \n",
              "12818            X2  2020  24490    Semi-Auto        1   Diesel  145  52.3   \n",
              "28379        Fiesta  2017  10995       Manual        1   Petrol  145  65.7   \n",
              "28582        Fiesta  2017  10995       Manual        1   Petrol  145  65.7   \n",
              "32578      EcoSport  2019  17900    Semi-Auto        1   Petrol  145  45.6   \n",
              "32622         Focus  2019  17880       Manual        1   Diesel  145  74.3   \n",
              "38355        Mondeo  2008   1299       Manual        1   Diesel  200  47.9   \n",
              "38642          Edge  2019  33495    Automatic        1   Diesel  145  37.2   \n",
              "42083          Kona  2020  21320       Manual        1   Petrol  145  44.1   \n",
              "42107      Santa Fe  2019  40365    Semi-Auto        1   Diesel  145  39.2   \n",
              "42108           I20  2020  14400       Manual        1   Petrol  145  46.3   \n",
              "42109           I30  2019  27800       Manual        1   Petrol  145  34.0   \n",
              "50400       C Class  2019  29995    Semi-Auto        1   Diesel  145  57.7   \n",
              "50401       C Class  2019  30995    Semi-Auto        1   Diesel  145  46.3   \n",
              "50402       C Class  2019  26995    Semi-Auto        1   Diesel  145  54.3   \n",
              "50403       E Class  2019  37995    Semi-Auto        1   Diesel  145  48.7   \n",
              "72669         Corsa  2019  11995       Manual        1   Petrol  145  43.5   \n",
              "73096         Corsa  2020  20000       Manual        1   Petrol  150  52.3   \n",
              "74240         Astra  2019  14595       Manual        1   Petrol  145  47.9   \n",
              "74913         Astra  2017  10990    Semi-Auto        1   Petrol  125  51.4   \n",
              "75611         Astra  2019  16495    Automatic        1   Petrol  145  51.4   \n",
              "75874         Astra  2019  14000       Manual        1   Diesel  145  72.4   \n",
              "78239       Mokka X  2019  14995       Manual        1   Petrol  145  39.2   \n",
              "78795       Mokka X  2019  22850       Manual        1   Petrol  145  39.2   \n",
              "78829       Mokka X  2019  14490       Manual        1   Petrol  145  39.2   \n",
              "80224   Crossland X  2020  13777       Manual        1   Petrol  145  47.1   \n",
              "80510   Crossland X  2019  20995       Manual        1   Diesel  145  61.4   \n",
              "80511   Crossland X  2019  19995       Manual        1   Petrol  145  47.1   \n",
              "82470   Grandland X  2019  24995       Manual        1   Petrol  145  44.1   \n",
              "83947    Combo Life  2019  14634       Manual        1   Diesel  145  53.3   \n",
              "83949    Combo Life  2019  20499    Automatic        1   Diesel  145  50.4   \n",
              "83953    Combo Life  2019  18448       Manual        1   Petrol  145  42.2   \n",
              "85239          Golf  2019  17898       Manual        1   Diesel  145  57.7   \n",
              "89276          Golf  2008   1299       Manual        1   Diesel  145  53.3   \n",
              "89467          Golf  2019  17000       Manual        1   Petrol  145  48.7   \n",
              "92150          Polo  2020  16990       Manual        1   Petrol  150  50.4   \n",
              "93897          Polo  2016   8690       Manual        1   Petrol   20  60.1   \n",
              "94005          Polo  2019  18495    Automatic        1   Petrol  145  46.3   \n",
              "94008          Polo  2019  15799       Manual        1   Petrol  145  52.3   \n",
              "94371        Tiguan  2019  27998    Semi-Auto        1   Diesel  145  45.6   \n",
              "97008            Up  2019   9889       Manual        1   Petrol  145  54.3   \n",
              "97353        Beetle  2001    899    Automatic        1   Petrol  325  29.7   \n",
              "99017         Jetta  2014   7985       Manual        1   Diesel   20  67.3   \n",
              "\n",
              "       engineSize        make  \n",
              "5492          4.0        Audi  \n",
              "12818         2.0         BMW  \n",
              "28379         1.0        Ford  \n",
              "28582         1.0        Ford  \n",
              "32578         1.0        Ford  \n",
              "32622         1.5        Ford  \n",
              "38355         2.0        Ford  \n",
              "38642         2.0        Ford  \n",
              "42083         1.0     Hyundai  \n",
              "42107         2.2     Hyundai  \n",
              "42108         1.2     Hyundai  \n",
              "42109         2.0     Hyundai  \n",
              "50400         2.0    Mercedes  \n",
              "50401         2.0    Mercedes  \n",
              "50402         1.6    Mercedes  \n",
              "50403         3.0    Mercedes  \n",
              "72669         1.4    Vauxhall  \n",
              "73096         1.2    Vauxhall  \n",
              "74240         1.4    Vauxhall  \n",
              "74913         1.4    Vauxhall  \n",
              "75611         1.4    Vauxhall  \n",
              "75874         1.6    Vauxhall  \n",
              "78239         1.4    Vauxhall  \n",
              "78795         1.4    Vauxhall  \n",
              "78829         1.4    Vauxhall  \n",
              "80224         1.2    Vauxhall  \n",
              "80510         1.5    Vauxhall  \n",
              "80511         1.2    Vauxhall  \n",
              "82470         1.2    Vauxhall  \n",
              "83947         1.5    Vauxhall  \n",
              "83949         1.5    Vauxhall  \n",
              "83953         1.2    Vauxhall  \n",
              "85239         1.6  Volkswagen  \n",
              "89276         1.9  Volkswagen  \n",
              "89467         1.0  Volkswagen  \n",
              "92150         1.0  Volkswagen  \n",
              "93897         1.2  Volkswagen  \n",
              "94005         1.0  Volkswagen  \n",
              "94008         1.0  Volkswagen  \n",
              "94371         2.0  Volkswagen  \n",
              "97008         1.0  Volkswagen  \n",
              "97353         2.0  Volkswagen  \n",
              "99017         1.6  Volkswagen  "
            ],
            "text/html": [
              "\n",
              "  <div id=\"df-8d43c2c8-9db7-4ae7-bd8f-515269564d17\">\n",
              "    <div class=\"colab-df-container\">\n",
              "      <div>\n",
              "<style scoped>\n",
              "    .dataframe tbody tr th:only-of-type {\n",
              "        vertical-align: middle;\n",
              "    }\n",
              "\n",
              "    .dataframe tbody tr th {\n",
              "        vertical-align: top;\n",
              "    }\n",
              "\n",
              "    .dataframe thead th {\n",
              "        text-align: right;\n",
              "    }\n",
              "</style>\n",
              "<table border=\"1\" class=\"dataframe\">\n",
              "  <thead>\n",
              "    <tr style=\"text-align: right;\">\n",
              "      <th></th>\n",
              "      <th>model</th>\n",
              "      <th>year</th>\n",
              "      <th>price</th>\n",
              "      <th>transmission</th>\n",
              "      <th>mileage</th>\n",
              "      <th>fuelType</th>\n",
              "      <th>tax</th>\n",
              "      <th>mpg</th>\n",
              "      <th>engineSize</th>\n",
              "      <th>make</th>\n",
              "    </tr>\n",
              "  </thead>\n",
              "  <tbody>\n",
              "    <tr>\n",
              "      <th>5492</th>\n",
              "      <td>Q7</td>\n",
              "      <td>2019</td>\n",
              "      <td>69000</td>\n",
              "      <td>Automatic</td>\n",
              "      <td>1</td>\n",
              "      <td>Diesel</td>\n",
              "      <td>145</td>\n",
              "      <td>30.1</td>\n",
              "      <td>4.0</td>\n",
              "      <td>Audi</td>\n",
              "    </tr>\n",
              "    <tr>\n",
              "      <th>12818</th>\n",
              "      <td>X2</td>\n",
              "      <td>2020</td>\n",
              "      <td>24490</td>\n",
              "      <td>Semi-Auto</td>\n",
              "      <td>1</td>\n",
              "      <td>Diesel</td>\n",
              "      <td>145</td>\n",
              "      <td>52.3</td>\n",
              "      <td>2.0</td>\n",
              "      <td>BMW</td>\n",
              "    </tr>\n",
              "    <tr>\n",
              "      <th>28379</th>\n",
              "      <td>Fiesta</td>\n",
              "      <td>2017</td>\n",
              "      <td>10995</td>\n",
              "      <td>Manual</td>\n",
              "      <td>1</td>\n",
              "      <td>Petrol</td>\n",
              "      <td>145</td>\n",
              "      <td>65.7</td>\n",
              "      <td>1.0</td>\n",
              "      <td>Ford</td>\n",
              "    </tr>\n",
              "    <tr>\n",
              "      <th>28582</th>\n",
              "      <td>Fiesta</td>\n",
              "      <td>2017</td>\n",
              "      <td>10995</td>\n",
              "      <td>Manual</td>\n",
              "      <td>1</td>\n",
              "      <td>Petrol</td>\n",
              "      <td>145</td>\n",
              "      <td>65.7</td>\n",
              "      <td>1.0</td>\n",
              "      <td>Ford</td>\n",
              "    </tr>\n",
              "    <tr>\n",
              "      <th>32578</th>\n",
              "      <td>EcoSport</td>\n",
              "      <td>2019</td>\n",
              "      <td>17900</td>\n",
              "      <td>Semi-Auto</td>\n",
              "      <td>1</td>\n",
              "      <td>Petrol</td>\n",
              "      <td>145</td>\n",
              "      <td>45.6</td>\n",
              "      <td>1.0</td>\n",
              "      <td>Ford</td>\n",
              "    </tr>\n",
              "    <tr>\n",
              "      <th>32622</th>\n",
              "      <td>Focus</td>\n",
              "      <td>2019</td>\n",
              "      <td>17880</td>\n",
              "      <td>Manual</td>\n",
              "      <td>1</td>\n",
              "      <td>Diesel</td>\n",
              "      <td>145</td>\n",
              "      <td>74.3</td>\n",
              "      <td>1.5</td>\n",
              "      <td>Ford</td>\n",
              "    </tr>\n",
              "    <tr>\n",
              "      <th>38355</th>\n",
              "      <td>Mondeo</td>\n",
              "      <td>2008</td>\n",
              "      <td>1299</td>\n",
              "      <td>Manual</td>\n",
              "      <td>1</td>\n",
              "      <td>Diesel</td>\n",
              "      <td>200</td>\n",
              "      <td>47.9</td>\n",
              "      <td>2.0</td>\n",
              "      <td>Ford</td>\n",
              "    </tr>\n",
              "    <tr>\n",
              "      <th>38642</th>\n",
              "      <td>Edge</td>\n",
              "      <td>2019</td>\n",
              "      <td>33495</td>\n",
              "      <td>Automatic</td>\n",
              "      <td>1</td>\n",
              "      <td>Diesel</td>\n",
              "      <td>145</td>\n",
              "      <td>37.2</td>\n",
              "      <td>2.0</td>\n",
              "      <td>Ford</td>\n",
              "    </tr>\n",
              "    <tr>\n",
              "      <th>42083</th>\n",
              "      <td>Kona</td>\n",
              "      <td>2020</td>\n",
              "      <td>21320</td>\n",
              "      <td>Manual</td>\n",
              "      <td>1</td>\n",
              "      <td>Petrol</td>\n",
              "      <td>145</td>\n",
              "      <td>44.1</td>\n",
              "      <td>1.0</td>\n",
              "      <td>Hyundai</td>\n",
              "    </tr>\n",
              "    <tr>\n",
              "      <th>42107</th>\n",
              "      <td>Santa Fe</td>\n",
              "      <td>2019</td>\n",
              "      <td>40365</td>\n",
              "      <td>Semi-Auto</td>\n",
              "      <td>1</td>\n",
              "      <td>Diesel</td>\n",
              "      <td>145</td>\n",
              "      <td>39.2</td>\n",
              "      <td>2.2</td>\n",
              "      <td>Hyundai</td>\n",
              "    </tr>\n",
              "    <tr>\n",
              "      <th>42108</th>\n",
              "      <td>I20</td>\n",
              "      <td>2020</td>\n",
              "      <td>14400</td>\n",
              "      <td>Manual</td>\n",
              "      <td>1</td>\n",
              "      <td>Petrol</td>\n",
              "      <td>145</td>\n",
              "      <td>46.3</td>\n",
              "      <td>1.2</td>\n",
              "      <td>Hyundai</td>\n",
              "    </tr>\n",
              "    <tr>\n",
              "      <th>42109</th>\n",
              "      <td>I30</td>\n",
              "      <td>2019</td>\n",
              "      <td>27800</td>\n",
              "      <td>Manual</td>\n",
              "      <td>1</td>\n",
              "      <td>Petrol</td>\n",
              "      <td>145</td>\n",
              "      <td>34.0</td>\n",
              "      <td>2.0</td>\n",
              "      <td>Hyundai</td>\n",
              "    </tr>\n",
              "    <tr>\n",
              "      <th>50400</th>\n",
              "      <td>C Class</td>\n",
              "      <td>2019</td>\n",
              "      <td>29995</td>\n",
              "      <td>Semi-Auto</td>\n",
              "      <td>1</td>\n",
              "      <td>Diesel</td>\n",
              "      <td>145</td>\n",
              "      <td>57.7</td>\n",
              "      <td>2.0</td>\n",
              "      <td>Mercedes</td>\n",
              "    </tr>\n",
              "    <tr>\n",
              "      <th>50401</th>\n",
              "      <td>C Class</td>\n",
              "      <td>2019</td>\n",
              "      <td>30995</td>\n",
              "      <td>Semi-Auto</td>\n",
              "      <td>1</td>\n",
              "      <td>Diesel</td>\n",
              "      <td>145</td>\n",
              "      <td>46.3</td>\n",
              "      <td>2.0</td>\n",
              "      <td>Mercedes</td>\n",
              "    </tr>\n",
              "    <tr>\n",
              "      <th>50402</th>\n",
              "      <td>C Class</td>\n",
              "      <td>2019</td>\n",
              "      <td>26995</td>\n",
              "      <td>Semi-Auto</td>\n",
              "      <td>1</td>\n",
              "      <td>Diesel</td>\n",
              "      <td>145</td>\n",
              "      <td>54.3</td>\n",
              "      <td>1.6</td>\n",
              "      <td>Mercedes</td>\n",
              "    </tr>\n",
              "    <tr>\n",
              "      <th>50403</th>\n",
              "      <td>E Class</td>\n",
              "      <td>2019</td>\n",
              "      <td>37995</td>\n",
              "      <td>Semi-Auto</td>\n",
              "      <td>1</td>\n",
              "      <td>Diesel</td>\n",
              "      <td>145</td>\n",
              "      <td>48.7</td>\n",
              "      <td>3.0</td>\n",
              "      <td>Mercedes</td>\n",
              "    </tr>\n",
              "    <tr>\n",
              "      <th>72669</th>\n",
              "      <td>Corsa</td>\n",
              "      <td>2019</td>\n",
              "      <td>11995</td>\n",
              "      <td>Manual</td>\n",
              "      <td>1</td>\n",
              "      <td>Petrol</td>\n",
              "      <td>145</td>\n",
              "      <td>43.5</td>\n",
              "      <td>1.4</td>\n",
              "      <td>Vauxhall</td>\n",
              "    </tr>\n",
              "    <tr>\n",
              "      <th>73096</th>\n",
              "      <td>Corsa</td>\n",
              "      <td>2020</td>\n",
              "      <td>20000</td>\n",
              "      <td>Manual</td>\n",
              "      <td>1</td>\n",
              "      <td>Petrol</td>\n",
              "      <td>150</td>\n",
              "      <td>52.3</td>\n",
              "      <td>1.2</td>\n",
              "      <td>Vauxhall</td>\n",
              "    </tr>\n",
              "    <tr>\n",
              "      <th>74240</th>\n",
              "      <td>Astra</td>\n",
              "      <td>2019</td>\n",
              "      <td>14595</td>\n",
              "      <td>Manual</td>\n",
              "      <td>1</td>\n",
              "      <td>Petrol</td>\n",
              "      <td>145</td>\n",
              "      <td>47.9</td>\n",
              "      <td>1.4</td>\n",
              "      <td>Vauxhall</td>\n",
              "    </tr>\n",
              "    <tr>\n",
              "      <th>74913</th>\n",
              "      <td>Astra</td>\n",
              "      <td>2017</td>\n",
              "      <td>10990</td>\n",
              "      <td>Semi-Auto</td>\n",
              "      <td>1</td>\n",
              "      <td>Petrol</td>\n",
              "      <td>125</td>\n",
              "      <td>51.4</td>\n",
              "      <td>1.4</td>\n",
              "      <td>Vauxhall</td>\n",
              "    </tr>\n",
              "    <tr>\n",
              "      <th>75611</th>\n",
              "      <td>Astra</td>\n",
              "      <td>2019</td>\n",
              "      <td>16495</td>\n",
              "      <td>Automatic</td>\n",
              "      <td>1</td>\n",
              "      <td>Petrol</td>\n",
              "      <td>145</td>\n",
              "      <td>51.4</td>\n",
              "      <td>1.4</td>\n",
              "      <td>Vauxhall</td>\n",
              "    </tr>\n",
              "    <tr>\n",
              "      <th>75874</th>\n",
              "      <td>Astra</td>\n",
              "      <td>2019</td>\n",
              "      <td>14000</td>\n",
              "      <td>Manual</td>\n",
              "      <td>1</td>\n",
              "      <td>Diesel</td>\n",
              "      <td>145</td>\n",
              "      <td>72.4</td>\n",
              "      <td>1.6</td>\n",
              "      <td>Vauxhall</td>\n",
              "    </tr>\n",
              "    <tr>\n",
              "      <th>78239</th>\n",
              "      <td>Mokka X</td>\n",
              "      <td>2019</td>\n",
              "      <td>14995</td>\n",
              "      <td>Manual</td>\n",
              "      <td>1</td>\n",
              "      <td>Petrol</td>\n",
              "      <td>145</td>\n",
              "      <td>39.2</td>\n",
              "      <td>1.4</td>\n",
              "      <td>Vauxhall</td>\n",
              "    </tr>\n",
              "    <tr>\n",
              "      <th>78795</th>\n",
              "      <td>Mokka X</td>\n",
              "      <td>2019</td>\n",
              "      <td>22850</td>\n",
              "      <td>Manual</td>\n",
              "      <td>1</td>\n",
              "      <td>Petrol</td>\n",
              "      <td>145</td>\n",
              "      <td>39.2</td>\n",
              "      <td>1.4</td>\n",
              "      <td>Vauxhall</td>\n",
              "    </tr>\n",
              "    <tr>\n",
              "      <th>78829</th>\n",
              "      <td>Mokka X</td>\n",
              "      <td>2019</td>\n",
              "      <td>14490</td>\n",
              "      <td>Manual</td>\n",
              "      <td>1</td>\n",
              "      <td>Petrol</td>\n",
              "      <td>145</td>\n",
              "      <td>39.2</td>\n",
              "      <td>1.4</td>\n",
              "      <td>Vauxhall</td>\n",
              "    </tr>\n",
              "    <tr>\n",
              "      <th>80224</th>\n",
              "      <td>Crossland X</td>\n",
              "      <td>2020</td>\n",
              "      <td>13777</td>\n",
              "      <td>Manual</td>\n",
              "      <td>1</td>\n",
              "      <td>Petrol</td>\n",
              "      <td>145</td>\n",
              "      <td>47.1</td>\n",
              "      <td>1.2</td>\n",
              "      <td>Vauxhall</td>\n",
              "    </tr>\n",
              "    <tr>\n",
              "      <th>80510</th>\n",
              "      <td>Crossland X</td>\n",
              "      <td>2019</td>\n",
              "      <td>20995</td>\n",
              "      <td>Manual</td>\n",
              "      <td>1</td>\n",
              "      <td>Diesel</td>\n",
              "      <td>145</td>\n",
              "      <td>61.4</td>\n",
              "      <td>1.5</td>\n",
              "      <td>Vauxhall</td>\n",
              "    </tr>\n",
              "    <tr>\n",
              "      <th>80511</th>\n",
              "      <td>Crossland X</td>\n",
              "      <td>2019</td>\n",
              "      <td>19995</td>\n",
              "      <td>Manual</td>\n",
              "      <td>1</td>\n",
              "      <td>Petrol</td>\n",
              "      <td>145</td>\n",
              "      <td>47.1</td>\n",
              "      <td>1.2</td>\n",
              "      <td>Vauxhall</td>\n",
              "    </tr>\n",
              "    <tr>\n",
              "      <th>82470</th>\n",
              "      <td>Grandland X</td>\n",
              "      <td>2019</td>\n",
              "      <td>24995</td>\n",
              "      <td>Manual</td>\n",
              "      <td>1</td>\n",
              "      <td>Petrol</td>\n",
              "      <td>145</td>\n",
              "      <td>44.1</td>\n",
              "      <td>1.2</td>\n",
              "      <td>Vauxhall</td>\n",
              "    </tr>\n",
              "    <tr>\n",
              "      <th>83947</th>\n",
              "      <td>Combo Life</td>\n",
              "      <td>2019</td>\n",
              "      <td>14634</td>\n",
              "      <td>Manual</td>\n",
              "      <td>1</td>\n",
              "      <td>Diesel</td>\n",
              "      <td>145</td>\n",
              "      <td>53.3</td>\n",
              "      <td>1.5</td>\n",
              "      <td>Vauxhall</td>\n",
              "    </tr>\n",
              "    <tr>\n",
              "      <th>83949</th>\n",
              "      <td>Combo Life</td>\n",
              "      <td>2019</td>\n",
              "      <td>20499</td>\n",
              "      <td>Automatic</td>\n",
              "      <td>1</td>\n",
              "      <td>Diesel</td>\n",
              "      <td>145</td>\n",
              "      <td>50.4</td>\n",
              "      <td>1.5</td>\n",
              "      <td>Vauxhall</td>\n",
              "    </tr>\n",
              "    <tr>\n",
              "      <th>83953</th>\n",
              "      <td>Combo Life</td>\n",
              "      <td>2019</td>\n",
              "      <td>18448</td>\n",
              "      <td>Manual</td>\n",
              "      <td>1</td>\n",
              "      <td>Petrol</td>\n",
              "      <td>145</td>\n",
              "      <td>42.2</td>\n",
              "      <td>1.2</td>\n",
              "      <td>Vauxhall</td>\n",
              "    </tr>\n",
              "    <tr>\n",
              "      <th>85239</th>\n",
              "      <td>Golf</td>\n",
              "      <td>2019</td>\n",
              "      <td>17898</td>\n",
              "      <td>Manual</td>\n",
              "      <td>1</td>\n",
              "      <td>Diesel</td>\n",
              "      <td>145</td>\n",
              "      <td>57.7</td>\n",
              "      <td>1.6</td>\n",
              "      <td>Volkswagen</td>\n",
              "    </tr>\n",
              "    <tr>\n",
              "      <th>89276</th>\n",
              "      <td>Golf</td>\n",
              "      <td>2008</td>\n",
              "      <td>1299</td>\n",
              "      <td>Manual</td>\n",
              "      <td>1</td>\n",
              "      <td>Diesel</td>\n",
              "      <td>145</td>\n",
              "      <td>53.3</td>\n",
              "      <td>1.9</td>\n",
              "      <td>Volkswagen</td>\n",
              "    </tr>\n",
              "    <tr>\n",
              "      <th>89467</th>\n",
              "      <td>Golf</td>\n",
              "      <td>2019</td>\n",
              "      <td>17000</td>\n",
              "      <td>Manual</td>\n",
              "      <td>1</td>\n",
              "      <td>Petrol</td>\n",
              "      <td>145</td>\n",
              "      <td>48.7</td>\n",
              "      <td>1.0</td>\n",
              "      <td>Volkswagen</td>\n",
              "    </tr>\n",
              "    <tr>\n",
              "      <th>92150</th>\n",
              "      <td>Polo</td>\n",
              "      <td>2020</td>\n",
              "      <td>16990</td>\n",
              "      <td>Manual</td>\n",
              "      <td>1</td>\n",
              "      <td>Petrol</td>\n",
              "      <td>150</td>\n",
              "      <td>50.4</td>\n",
              "      <td>1.0</td>\n",
              "      <td>Volkswagen</td>\n",
              "    </tr>\n",
              "    <tr>\n",
              "      <th>93897</th>\n",
              "      <td>Polo</td>\n",
              "      <td>2016</td>\n",
              "      <td>8690</td>\n",
              "      <td>Manual</td>\n",
              "      <td>1</td>\n",
              "      <td>Petrol</td>\n",
              "      <td>20</td>\n",
              "      <td>60.1</td>\n",
              "      <td>1.2</td>\n",
              "      <td>Volkswagen</td>\n",
              "    </tr>\n",
              "    <tr>\n",
              "      <th>94005</th>\n",
              "      <td>Polo</td>\n",
              "      <td>2019</td>\n",
              "      <td>18495</td>\n",
              "      <td>Automatic</td>\n",
              "      <td>1</td>\n",
              "      <td>Petrol</td>\n",
              "      <td>145</td>\n",
              "      <td>46.3</td>\n",
              "      <td>1.0</td>\n",
              "      <td>Volkswagen</td>\n",
              "    </tr>\n",
              "    <tr>\n",
              "      <th>94008</th>\n",
              "      <td>Polo</td>\n",
              "      <td>2019</td>\n",
              "      <td>15799</td>\n",
              "      <td>Manual</td>\n",
              "      <td>1</td>\n",
              "      <td>Petrol</td>\n",
              "      <td>145</td>\n",
              "      <td>52.3</td>\n",
              "      <td>1.0</td>\n",
              "      <td>Volkswagen</td>\n",
              "    </tr>\n",
              "    <tr>\n",
              "      <th>94371</th>\n",
              "      <td>Tiguan</td>\n",
              "      <td>2019</td>\n",
              "      <td>27998</td>\n",
              "      <td>Semi-Auto</td>\n",
              "      <td>1</td>\n",
              "      <td>Diesel</td>\n",
              "      <td>145</td>\n",
              "      <td>45.6</td>\n",
              "      <td>2.0</td>\n",
              "      <td>Volkswagen</td>\n",
              "    </tr>\n",
              "    <tr>\n",
              "      <th>97008</th>\n",
              "      <td>Up</td>\n",
              "      <td>2019</td>\n",
              "      <td>9889</td>\n",
              "      <td>Manual</td>\n",
              "      <td>1</td>\n",
              "      <td>Petrol</td>\n",
              "      <td>145</td>\n",
              "      <td>54.3</td>\n",
              "      <td>1.0</td>\n",
              "      <td>Volkswagen</td>\n",
              "    </tr>\n",
              "    <tr>\n",
              "      <th>97353</th>\n",
              "      <td>Beetle</td>\n",
              "      <td>2001</td>\n",
              "      <td>899</td>\n",
              "      <td>Automatic</td>\n",
              "      <td>1</td>\n",
              "      <td>Petrol</td>\n",
              "      <td>325</td>\n",
              "      <td>29.7</td>\n",
              "      <td>2.0</td>\n",
              "      <td>Volkswagen</td>\n",
              "    </tr>\n",
              "    <tr>\n",
              "      <th>99017</th>\n",
              "      <td>Jetta</td>\n",
              "      <td>2014</td>\n",
              "      <td>7985</td>\n",
              "      <td>Manual</td>\n",
              "      <td>1</td>\n",
              "      <td>Diesel</td>\n",
              "      <td>20</td>\n",
              "      <td>67.3</td>\n",
              "      <td>1.6</td>\n",
              "      <td>Volkswagen</td>\n",
              "    </tr>\n",
              "  </tbody>\n",
              "</table>\n",
              "</div>\n",
              "      <button class=\"colab-df-convert\" onclick=\"convertToInteractive('df-8d43c2c8-9db7-4ae7-bd8f-515269564d17')\"\n",
              "              title=\"Convert this dataframe to an interactive table.\"\n",
              "              style=\"display:none;\">\n",
              "        \n",
              "  <svg xmlns=\"http://www.w3.org/2000/svg\" height=\"24px\"viewBox=\"0 0 24 24\"\n",
              "       width=\"24px\">\n",
              "    <path d=\"M0 0h24v24H0V0z\" fill=\"none\"/>\n",
              "    <path d=\"M18.56 5.44l.94 2.06.94-2.06 2.06-.94-2.06-.94-.94-2.06-.94 2.06-2.06.94zm-11 1L8.5 8.5l.94-2.06 2.06-.94-2.06-.94L8.5 2.5l-.94 2.06-2.06.94zm10 10l.94 2.06.94-2.06 2.06-.94-2.06-.94-.94-2.06-.94 2.06-2.06.94z\"/><path d=\"M17.41 7.96l-1.37-1.37c-.4-.4-.92-.59-1.43-.59-.52 0-1.04.2-1.43.59L10.3 9.45l-7.72 7.72c-.78.78-.78 2.05 0 2.83L4 21.41c.39.39.9.59 1.41.59.51 0 1.02-.2 1.41-.59l7.78-7.78 2.81-2.81c.8-.78.8-2.07 0-2.86zM5.41 20L4 18.59l7.72-7.72 1.47 1.35L5.41 20z\"/>\n",
              "  </svg>\n",
              "      </button>\n",
              "      \n",
              "  <style>\n",
              "    .colab-df-container {\n",
              "      display:flex;\n",
              "      flex-wrap:wrap;\n",
              "      gap: 12px;\n",
              "    }\n",
              "\n",
              "    .colab-df-convert {\n",
              "      background-color: #E8F0FE;\n",
              "      border: none;\n",
              "      border-radius: 50%;\n",
              "      cursor: pointer;\n",
              "      display: none;\n",
              "      fill: #1967D2;\n",
              "      height: 32px;\n",
              "      padding: 0 0 0 0;\n",
              "      width: 32px;\n",
              "    }\n",
              "\n",
              "    .colab-df-convert:hover {\n",
              "      background-color: #E2EBFA;\n",
              "      box-shadow: 0px 1px 2px rgba(60, 64, 67, 0.3), 0px 1px 3px 1px rgba(60, 64, 67, 0.15);\n",
              "      fill: #174EA6;\n",
              "    }\n",
              "\n",
              "    [theme=dark] .colab-df-convert {\n",
              "      background-color: #3B4455;\n",
              "      fill: #D2E3FC;\n",
              "    }\n",
              "\n",
              "    [theme=dark] .colab-df-convert:hover {\n",
              "      background-color: #434B5C;\n",
              "      box-shadow: 0px 1px 3px 1px rgba(0, 0, 0, 0.15);\n",
              "      filter: drop-shadow(0px 1px 2px rgba(0, 0, 0, 0.3));\n",
              "      fill: #FFFFFF;\n",
              "    }\n",
              "  </style>\n",
              "\n",
              "      <script>\n",
              "        const buttonEl =\n",
              "          document.querySelector('#df-8d43c2c8-9db7-4ae7-bd8f-515269564d17 button.colab-df-convert');\n",
              "        buttonEl.style.display =\n",
              "          google.colab.kernel.accessAllowed ? 'block' : 'none';\n",
              "\n",
              "        async function convertToInteractive(key) {\n",
              "          const element = document.querySelector('#df-8d43c2c8-9db7-4ae7-bd8f-515269564d17');\n",
              "          const dataTable =\n",
              "            await google.colab.kernel.invokeFunction('convertToInteractive',\n",
              "                                                     [key], {});\n",
              "          if (!dataTable) return;\n",
              "\n",
              "          const docLinkHtml = 'Like what you see? Visit the ' +\n",
              "            '<a target=\"_blank\" href=https://colab.research.google.com/notebooks/data_table.ipynb>data table notebook</a>'\n",
              "            + ' to learn more about interactive tables.';\n",
              "          element.innerHTML = '';\n",
              "          dataTable['output_type'] = 'display_data';\n",
              "          await google.colab.output.renderOutput(dataTable, element);\n",
              "          const docLink = document.createElement('div');\n",
              "          docLink.innerHTML = docLinkHtml;\n",
              "          element.appendChild(docLink);\n",
              "        }\n",
              "      </script>\n",
              "    </div>\n",
              "  </div>\n",
              "  "
            ]
          },
          "metadata": {},
          "execution_count": 17
        }
      ],
      "execution_count": 17,
      "metadata": {
        "trusted": true,
        "noteable": {},
        "id": "3e3acd42",
        "outputId": "e8a28063-f550-4e88-fa61-4ae42d020387",
        "colab": {
          "base_uri": "https://localhost:8080/",
          "height": 1000
        }
      },
      "id": "3e3acd42"
    },
    {
      "cell_type": "markdown",
      "source": [
        "Some vehicles are from the year 2020. So it makes sense. But There are some vehicles that have the year less than 2020 but with mileage as 1"
      ],
      "metadata": {
        "id": "0de14922"
      },
      "id": "0de14922"
    },
    {
      "cell_type": "code",
      "source": [
        "len(df[(df['mileage'] ==1) & (df['year'] != 2020)])"
      ],
      "outputs": [
        {
          "output_type": "execute_result",
          "data": {
            "text/plain": [
              "37"
            ]
          },
          "metadata": {},
          "execution_count": 18
        }
      ],
      "execution_count": 18,
      "metadata": {
        "trusted": true,
        "noteable": {},
        "colab": {
          "base_uri": "https://localhost:8080/"
        },
        "id": "53da8293",
        "outputId": "196dfa00-387a-4f68-a824-600cb16f20e8"
      },
      "id": "53da8293"
    },
    {
      "cell_type": "markdown",
      "source": [
        "Since there are only 37 cars with mileage as 1, these data points can be removed."
      ],
      "metadata": {
        "id": "9d01223e"
      },
      "id": "9d01223e"
    },
    {
      "cell_type": "code",
      "source": [
        "df = df.drop(df[(df['mileage']==1) & (df['year']<= 2019)].index)"
      ],
      "outputs": [],
      "execution_count": 19,
      "metadata": {
        "trusted": true,
        "id": "2f7daa2e"
      },
      "id": "2f7daa2e"
    },
    {
      "cell_type": "markdown",
      "source": [
        "### Tax"
      ],
      "metadata": {
        "id": "44e322e8"
      },
      "id": "44e322e8"
    },
    {
      "cell_type": "code",
      "source": [
        "df[df['tax'] == 0]"
      ],
      "outputs": [
        {
          "output_type": "execute_result",
          "data": {
            "text/plain": [
              "          model  year  price transmission  mileage fuelType  tax   mpg  \\\n",
              "30           A1  2015   9500    Automatic    54754   Diesel    0  76.3   \n",
              "50           A4  2016  12750       Manual    52561   Diesel    0  74.3   \n",
              "58           A3  2016  10200       Manual    66369   Diesel    0  83.1   \n",
              "60           A1  2013   7000       Manual    76269   Diesel    0  74.3   \n",
              "69           A1  2016  10800       Manual    18181   Petrol    0  67.3   \n",
              "...         ...   ...    ...          ...      ...      ...  ...   ...   \n",
              "98724   Golf SV  2016  10550       Manual    16739   Diesel    0  72.4   \n",
              "98726   Golf SV  2015   8950       Manual    45000   Diesel    0  72.4   \n",
              "98731   Golf SV  2015   9695       Manual    21151   Diesel    0  72.4   \n",
              "98751   Golf SV  2014   8650       Manual    32535   Diesel    0  72.4   \n",
              "98752   Golf SV  2017   7995       Manual    71600   Diesel    0  72.4   \n",
              "\n",
              "       engineSize        make  \n",
              "30            1.6        Audi  \n",
              "50            2.0        Audi  \n",
              "58            1.6        Audi  \n",
              "60            1.6        Audi  \n",
              "69            1.0        Audi  \n",
              "...           ...         ...  \n",
              "98724         1.6  Volkswagen  \n",
              "98726         1.6  Volkswagen  \n",
              "98731         1.6  Volkswagen  \n",
              "98751         1.6  Volkswagen  \n",
              "98752         1.6  Volkswagen  \n",
              "\n",
              "[6294 rows x 10 columns]"
            ],
            "text/html": [
              "\n",
              "  <div id=\"df-8cefafda-39e2-4291-b666-272f8ed56b12\">\n",
              "    <div class=\"colab-df-container\">\n",
              "      <div>\n",
              "<style scoped>\n",
              "    .dataframe tbody tr th:only-of-type {\n",
              "        vertical-align: middle;\n",
              "    }\n",
              "\n",
              "    .dataframe tbody tr th {\n",
              "        vertical-align: top;\n",
              "    }\n",
              "\n",
              "    .dataframe thead th {\n",
              "        text-align: right;\n",
              "    }\n",
              "</style>\n",
              "<table border=\"1\" class=\"dataframe\">\n",
              "  <thead>\n",
              "    <tr style=\"text-align: right;\">\n",
              "      <th></th>\n",
              "      <th>model</th>\n",
              "      <th>year</th>\n",
              "      <th>price</th>\n",
              "      <th>transmission</th>\n",
              "      <th>mileage</th>\n",
              "      <th>fuelType</th>\n",
              "      <th>tax</th>\n",
              "      <th>mpg</th>\n",
              "      <th>engineSize</th>\n",
              "      <th>make</th>\n",
              "    </tr>\n",
              "  </thead>\n",
              "  <tbody>\n",
              "    <tr>\n",
              "      <th>30</th>\n",
              "      <td>A1</td>\n",
              "      <td>2015</td>\n",
              "      <td>9500</td>\n",
              "      <td>Automatic</td>\n",
              "      <td>54754</td>\n",
              "      <td>Diesel</td>\n",
              "      <td>0</td>\n",
              "      <td>76.3</td>\n",
              "      <td>1.6</td>\n",
              "      <td>Audi</td>\n",
              "    </tr>\n",
              "    <tr>\n",
              "      <th>50</th>\n",
              "      <td>A4</td>\n",
              "      <td>2016</td>\n",
              "      <td>12750</td>\n",
              "      <td>Manual</td>\n",
              "      <td>52561</td>\n",
              "      <td>Diesel</td>\n",
              "      <td>0</td>\n",
              "      <td>74.3</td>\n",
              "      <td>2.0</td>\n",
              "      <td>Audi</td>\n",
              "    </tr>\n",
              "    <tr>\n",
              "      <th>58</th>\n",
              "      <td>A3</td>\n",
              "      <td>2016</td>\n",
              "      <td>10200</td>\n",
              "      <td>Manual</td>\n",
              "      <td>66369</td>\n",
              "      <td>Diesel</td>\n",
              "      <td>0</td>\n",
              "      <td>83.1</td>\n",
              "      <td>1.6</td>\n",
              "      <td>Audi</td>\n",
              "    </tr>\n",
              "    <tr>\n",
              "      <th>60</th>\n",
              "      <td>A1</td>\n",
              "      <td>2013</td>\n",
              "      <td>7000</td>\n",
              "      <td>Manual</td>\n",
              "      <td>76269</td>\n",
              "      <td>Diesel</td>\n",
              "      <td>0</td>\n",
              "      <td>74.3</td>\n",
              "      <td>1.6</td>\n",
              "      <td>Audi</td>\n",
              "    </tr>\n",
              "    <tr>\n",
              "      <th>69</th>\n",
              "      <td>A1</td>\n",
              "      <td>2016</td>\n",
              "      <td>10800</td>\n",
              "      <td>Manual</td>\n",
              "      <td>18181</td>\n",
              "      <td>Petrol</td>\n",
              "      <td>0</td>\n",
              "      <td>67.3</td>\n",
              "      <td>1.0</td>\n",
              "      <td>Audi</td>\n",
              "    </tr>\n",
              "    <tr>\n",
              "      <th>...</th>\n",
              "      <td>...</td>\n",
              "      <td>...</td>\n",
              "      <td>...</td>\n",
              "      <td>...</td>\n",
              "      <td>...</td>\n",
              "      <td>...</td>\n",
              "      <td>...</td>\n",
              "      <td>...</td>\n",
              "      <td>...</td>\n",
              "      <td>...</td>\n",
              "    </tr>\n",
              "    <tr>\n",
              "      <th>98724</th>\n",
              "      <td>Golf SV</td>\n",
              "      <td>2016</td>\n",
              "      <td>10550</td>\n",
              "      <td>Manual</td>\n",
              "      <td>16739</td>\n",
              "      <td>Diesel</td>\n",
              "      <td>0</td>\n",
              "      <td>72.4</td>\n",
              "      <td>1.6</td>\n",
              "      <td>Volkswagen</td>\n",
              "    </tr>\n",
              "    <tr>\n",
              "      <th>98726</th>\n",
              "      <td>Golf SV</td>\n",
              "      <td>2015</td>\n",
              "      <td>8950</td>\n",
              "      <td>Manual</td>\n",
              "      <td>45000</td>\n",
              "      <td>Diesel</td>\n",
              "      <td>0</td>\n",
              "      <td>72.4</td>\n",
              "      <td>1.6</td>\n",
              "      <td>Volkswagen</td>\n",
              "    </tr>\n",
              "    <tr>\n",
              "      <th>98731</th>\n",
              "      <td>Golf SV</td>\n",
              "      <td>2015</td>\n",
              "      <td>9695</td>\n",
              "      <td>Manual</td>\n",
              "      <td>21151</td>\n",
              "      <td>Diesel</td>\n",
              "      <td>0</td>\n",
              "      <td>72.4</td>\n",
              "      <td>1.6</td>\n",
              "      <td>Volkswagen</td>\n",
              "    </tr>\n",
              "    <tr>\n",
              "      <th>98751</th>\n",
              "      <td>Golf SV</td>\n",
              "      <td>2014</td>\n",
              "      <td>8650</td>\n",
              "      <td>Manual</td>\n",
              "      <td>32535</td>\n",
              "      <td>Diesel</td>\n",
              "      <td>0</td>\n",
              "      <td>72.4</td>\n",
              "      <td>1.6</td>\n",
              "      <td>Volkswagen</td>\n",
              "    </tr>\n",
              "    <tr>\n",
              "      <th>98752</th>\n",
              "      <td>Golf SV</td>\n",
              "      <td>2017</td>\n",
              "      <td>7995</td>\n",
              "      <td>Manual</td>\n",
              "      <td>71600</td>\n",
              "      <td>Diesel</td>\n",
              "      <td>0</td>\n",
              "      <td>72.4</td>\n",
              "      <td>1.6</td>\n",
              "      <td>Volkswagen</td>\n",
              "    </tr>\n",
              "  </tbody>\n",
              "</table>\n",
              "<p>6294 rows × 10 columns</p>\n",
              "</div>\n",
              "      <button class=\"colab-df-convert\" onclick=\"convertToInteractive('df-8cefafda-39e2-4291-b666-272f8ed56b12')\"\n",
              "              title=\"Convert this dataframe to an interactive table.\"\n",
              "              style=\"display:none;\">\n",
              "        \n",
              "  <svg xmlns=\"http://www.w3.org/2000/svg\" height=\"24px\"viewBox=\"0 0 24 24\"\n",
              "       width=\"24px\">\n",
              "    <path d=\"M0 0h24v24H0V0z\" fill=\"none\"/>\n",
              "    <path d=\"M18.56 5.44l.94 2.06.94-2.06 2.06-.94-2.06-.94-.94-2.06-.94 2.06-2.06.94zm-11 1L8.5 8.5l.94-2.06 2.06-.94-2.06-.94L8.5 2.5l-.94 2.06-2.06.94zm10 10l.94 2.06.94-2.06 2.06-.94-2.06-.94-.94-2.06-.94 2.06-2.06.94z\"/><path d=\"M17.41 7.96l-1.37-1.37c-.4-.4-.92-.59-1.43-.59-.52 0-1.04.2-1.43.59L10.3 9.45l-7.72 7.72c-.78.78-.78 2.05 0 2.83L4 21.41c.39.39.9.59 1.41.59.51 0 1.02-.2 1.41-.59l7.78-7.78 2.81-2.81c.8-.78.8-2.07 0-2.86zM5.41 20L4 18.59l7.72-7.72 1.47 1.35L5.41 20z\"/>\n",
              "  </svg>\n",
              "      </button>\n",
              "      \n",
              "  <style>\n",
              "    .colab-df-container {\n",
              "      display:flex;\n",
              "      flex-wrap:wrap;\n",
              "      gap: 12px;\n",
              "    }\n",
              "\n",
              "    .colab-df-convert {\n",
              "      background-color: #E8F0FE;\n",
              "      border: none;\n",
              "      border-radius: 50%;\n",
              "      cursor: pointer;\n",
              "      display: none;\n",
              "      fill: #1967D2;\n",
              "      height: 32px;\n",
              "      padding: 0 0 0 0;\n",
              "      width: 32px;\n",
              "    }\n",
              "\n",
              "    .colab-df-convert:hover {\n",
              "      background-color: #E2EBFA;\n",
              "      box-shadow: 0px 1px 2px rgba(60, 64, 67, 0.3), 0px 1px 3px 1px rgba(60, 64, 67, 0.15);\n",
              "      fill: #174EA6;\n",
              "    }\n",
              "\n",
              "    [theme=dark] .colab-df-convert {\n",
              "      background-color: #3B4455;\n",
              "      fill: #D2E3FC;\n",
              "    }\n",
              "\n",
              "    [theme=dark] .colab-df-convert:hover {\n",
              "      background-color: #434B5C;\n",
              "      box-shadow: 0px 1px 3px 1px rgba(0, 0, 0, 0.15);\n",
              "      filter: drop-shadow(0px 1px 2px rgba(0, 0, 0, 0.3));\n",
              "      fill: #FFFFFF;\n",
              "    }\n",
              "  </style>\n",
              "\n",
              "      <script>\n",
              "        const buttonEl =\n",
              "          document.querySelector('#df-8cefafda-39e2-4291-b666-272f8ed56b12 button.colab-df-convert');\n",
              "        buttonEl.style.display =\n",
              "          google.colab.kernel.accessAllowed ? 'block' : 'none';\n",
              "\n",
              "        async function convertToInteractive(key) {\n",
              "          const element = document.querySelector('#df-8cefafda-39e2-4291-b666-272f8ed56b12');\n",
              "          const dataTable =\n",
              "            await google.colab.kernel.invokeFunction('convertToInteractive',\n",
              "                                                     [key], {});\n",
              "          if (!dataTable) return;\n",
              "\n",
              "          const docLinkHtml = 'Like what you see? Visit the ' +\n",
              "            '<a target=\"_blank\" href=https://colab.research.google.com/notebooks/data_table.ipynb>data table notebook</a>'\n",
              "            + ' to learn more about interactive tables.';\n",
              "          element.innerHTML = '';\n",
              "          dataTable['output_type'] = 'display_data';\n",
              "          await google.colab.output.renderOutput(dataTable, element);\n",
              "          const docLink = document.createElement('div');\n",
              "          docLink.innerHTML = docLinkHtml;\n",
              "          element.appendChild(docLink);\n",
              "        }\n",
              "      </script>\n",
              "    </div>\n",
              "  </div>\n",
              "  "
            ]
          },
          "metadata": {},
          "execution_count": 20
        }
      ],
      "execution_count": 20,
      "metadata": {
        "trusted": true,
        "noteable": {},
        "id": "e2fecdf3",
        "outputId": "a01b1d0b-54ea-4794-87f5-c2864e96249c",
        "colab": {
          "base_uri": "https://localhost:8080/",
          "height": 424
        }
      },
      "id": "e2fecdf3"
    },
    {
      "cell_type": "markdown",
      "source": [
        "There are nearly 6300 datapoints with tax as 0. So this should be handled in feature engineering"
      ],
      "metadata": {
        "id": "78bd163f"
      },
      "id": "78bd163f"
    },
    {
      "cell_type": "markdown",
      "source": [
        "### Price"
      ],
      "metadata": {
        "id": "7673c6fa"
      },
      "id": "7673c6fa"
    },
    {
      "cell_type": "code",
      "source": [
        "plt.figure(figsize=(10,8))\n",
        "sns.heatmap(df.corr(),annot=True)"
      ],
      "outputs": [
        {
          "output_type": "stream",
          "name": "stderr",
          "text": [
            "<ipython-input-21-97cdbf7f1862>:2: FutureWarning: The default value of numeric_only in DataFrame.corr is deprecated. In a future version, it will default to False. Select only valid columns or specify the value of numeric_only to silence this warning.\n",
            "  sns.heatmap(df.corr(),annot=True)\n"
          ]
        },
        {
          "output_type": "execute_result",
          "data": {
            "text/plain": [
              "<Axes: >"
            ]
          },
          "metadata": {},
          "execution_count": 21
        },
        {
          "output_type": "display_data",
          "data": {
            "text/plain": [
              "<Figure size 1000x800 with 2 Axes>"
            ],
            "image/png": "[encoded data removed]"
          },
          "metadata": {}
        }
      ],
      "execution_count": 21,
      "metadata": {
        "trusted": true,
        "noteable": {},
        "colab": {
          "base_uri": "https://localhost:8080/",
          "height": 754
        },
        "id": "709fa566",
        "outputId": "78d85272-93b5-4354-f4ec-743b4b6e6cdd"
      },
      "id": "709fa566"
    },
    {
      "cell_type": "markdown",
      "source": [
        "There is an extremely positive correlation between year and price and an extremely negative correlation between mileage and price. This makes sense, since newer cars are generally more expensive and cars with more mileage are relatively cheaper. We also notice a negative correlation between mileage and year - the newer a car is the less miles it is likely to have travelled. Furthermore, we notice a positive correlation between engine size and price, as well as engine size and tax. This follows expectation, since it is common practice for manufacturers to sell models with larger engines for a higher price in comparison to the same model with a smaller engine. As a result, due to the higher price, a larger tax payment is required, hence the positive correlation. This also explains the positive correlation between tax and price."
      ],
      "metadata": {
        "id": "f6422023"
      },
      "id": "f6422023"
    },
    {
      "cell_type": "code",
      "source": [
        "sns.scatterplot(x=df['mileage'],y=df['price'])\n",
        "plt.title('Scatter plot of Mileage against Price')"
      ],
      "outputs": [
        {
          "output_type": "execute_result",
          "data": {
            "text/plain": [
              "Text(0.5, 1.0, 'Scatter plot of Mileage against Price')"
            ]
          },
          "metadata": {},
          "execution_count": 22
        },
        {
          "output_type": "display_data",
          "data": {
            "text/plain": [
              "<Figure size 640x480 with 1 Axes>"
            ],
            "image/png": "[encoded data removed]"
          },
          "metadata": {}
        }
      ],
      "execution_count": 22,
      "metadata": {
        "trusted": true,
        "noteable": {},
        "id": "19f14c9c",
        "outputId": "ce9d1111-0231-4650-8716-48c559e69658",
        "colab": {
          "base_uri": "https://localhost:8080/",
          "height": 489
        }
      },
      "id": "19f14c9c"
    },
    {
      "cell_type": "code",
      "source": [
        "plt.figure(figsize=(10,8))\n",
        "sns.boxplot(x='make',y='price',data=df)"
      ],
      "outputs": [
        {
          "output_type": "execute_result",
          "data": {
            "text/plain": [
              "<Axes: xlabel='make', ylabel='price'>"
            ]
          },
          "metadata": {},
          "execution_count": 23
        },
        {
          "output_type": "display_data",
          "data": {
            "text/plain": [
              "<Figure size 1000x800 with 1 Axes>"
            ],
            "image/png": "[encoded data removed]"
          },
          "metadata": {}
        }
      ],
      "execution_count": 23,
      "metadata": {
        "trusted": true,
        "noteable": {},
        "id": "1795ccd2",
        "outputId": "3861478d-a2fa-481f-e2b3-841990d88e46",
        "colab": {
          "base_uri": "https://localhost:8080/",
          "height": 713
        }
      },
      "id": "1795ccd2"
    },
    {
      "cell_type": "markdown",
      "source": [
        "It is observed that the cars Audi, BMW, Mercedes, Volkswagen have higher price than average. But the cars Hyundai and Skoda points seems to be outliers. So those points can be removed"
      ],
      "metadata": {
        "id": "eaca79e7"
      },
      "id": "eaca79e7"
    },
    {
      "cell_type": "code",
      "source": [
        "for i in range(91,100,1):\n",
        "    print('The {0}th percentile of price is {1}'.format(i, np.percentile(df['price'],i)))"
      ],
      "outputs": [
        {
          "output_type": "stream",
          "name": "stdout",
          "text": [
            "The 91th percentile of price is 29541.72\n",
            "The 92th percentile of price is 30422.320000000007\n",
            "The 93th percentile of price is 31499.0\n",
            "The 94th percentile of price is 32890.0\n",
            "The 95th percentile of price is 34400.0\n",
            "The 96th percentile of price is 36500.0\n",
            "The 97th percentile of price is 39980.0\n",
            "The 98th percentile of price is 44990.08\n",
            "The 99th percentile of price is 52000.0\n"
          ]
        }
      ],
      "execution_count": 24,
      "metadata": {
        "trusted": true,
        "noteable": {},
        "id": "56b9e50e",
        "outputId": "fe465cfd-103f-4178-9d88-f19917531be6",
        "colab": {
          "base_uri": "https://localhost:8080/"
        }
      },
      "id": "56b9e50e"
    },
    {
      "cell_type": "code",
      "source": [
        "for i in np.arange(99,100,0.1):\n",
        "    print('The {0}th percentile of price is {1}'.format(round(i,1), np.percentile(df['price'],i)))"
      ],
      "outputs": [
        {
          "output_type": "stream",
          "name": "stdout",
          "text": [
            "The 99.0th percentile of price is 52000.0\n",
            "The 99.1th percentile of price is 53240.84600000009\n",
            "The 99.2th percentile of price is 54897.487999999954\n",
            "The 99.3th percentile of price is 55797.921999999424\n",
            "The 99.4th percentile of price is 56995.0\n",
            "The 99.5th percentile of price is 59144.24999999703\n",
            "The 99.6th percentile of price is 61517.87999999826\n",
            "The 99.7th percentile of price is 65000.0\n",
            "The 99.8th percentile of price is 69995.0\n",
            "The 99.9th percentile of price is 79885.25399999479\n"
          ]
        }
      ],
      "execution_count": 25,
      "metadata": {
        "trusted": true,
        "noteable": {},
        "id": "6acf478f",
        "outputId": "191645d5-bb10-4464-b651-b035d2ddd7d7",
        "colab": {
          "base_uri": "https://localhost:8080/"
        }
      },
      "id": "6acf478f"
    },
    {
      "cell_type": "code",
      "source": [
        "df[(df['make'] == 'Hyundai') & (df['price'] > 80000)]"
      ],
      "outputs": [
        {
          "output_type": "execute_result",
          "data": {
            "text/plain": [
              "      model  year  price transmission  mileage fuelType  tax   mpg  \\\n",
              "43661   I10  2017  92000    Automatic    35460   Petrol  150  47.9   \n",
              "\n",
              "       engineSize     make  \n",
              "43661         1.2  Hyundai  "
            ],
            "text/html": [
              "\n",
              "  <div id=\"df-af116a8f-0849-4f2a-b57d-edd4565d8edb\">\n",
              "    <div class=\"colab-df-container\">\n",
              "      <div>\n",
              "<style scoped>\n",
              "    .dataframe tbody tr th:only-of-type {\n",
              "        vertical-align: middle;\n",
              "    }\n",
              "\n",
              "    .dataframe tbody tr th {\n",
              "        vertical-align: top;\n",
              "    }\n",
              "\n",
              "    .dataframe thead th {\n",
              "        text-align: right;\n",
              "    }\n",
              "</style>\n",
              "<table border=\"1\" class=\"dataframe\">\n",
              "  <thead>\n",
              "    <tr style=\"text-align: right;\">\n",
              "      <th></th>\n",
              "      <th>model</th>\n",
              "      <th>year</th>\n",
              "      <th>price</th>\n",
              "      <th>transmission</th>\n",
              "      <th>mileage</th>\n",
              "      <th>fuelType</th>\n",
              "      <th>tax</th>\n",
              "      <th>mpg</th>\n",
              "      <th>engineSize</th>\n",
              "      <th>make</th>\n",
              "    </tr>\n",
              "  </thead>\n",
              "  <tbody>\n",
              "    <tr>\n",
              "      <th>43661</th>\n",
              "      <td>I10</td>\n",
              "      <td>2017</td>\n",
              "      <td>92000</td>\n",
              "      <td>Automatic</td>\n",
              "      <td>35460</td>\n",
              "      <td>Petrol</td>\n",
              "      <td>150</td>\n",
              "      <td>47.9</td>\n",
              "      <td>1.2</td>\n",
              "      <td>Hyundai</td>\n",
              "    </tr>\n",
              "  </tbody>\n",
              "</table>\n",
              "</div>\n",
              "      <button class=\"colab-df-convert\" onclick=\"convertToInteractive('df-af116a8f-0849-4f2a-b57d-edd4565d8edb')\"\n",
              "              title=\"Convert this dataframe to an interactive table.\"\n",
              "              style=\"display:none;\">\n",
              "        \n",
              "  <svg xmlns=\"http://www.w3.org/2000/svg\" height=\"24px\"viewBox=\"0 0 24 24\"\n",
              "       width=\"24px\">\n",
              "    <path d=\"M0 0h24v24H0V0z\" fill=\"none\"/>\n",
              "    <path d=\"M18.56 5.44l.94 2.06.94-2.06 2.06-.94-2.06-.94-.94-2.06-.94 2.06-2.06.94zm-11 1L8.5 8.5l.94-2.06 2.06-.94-2.06-.94L8.5 2.5l-.94 2.06-2.06.94zm10 10l.94 2.06.94-2.06 2.06-.94-2.06-.94-.94-2.06-.94 2.06-2.06.94z\"/><path d=\"M17.41 7.96l-1.37-1.37c-.4-.4-.92-.59-1.43-.59-.52 0-1.04.2-1.43.59L10.3 9.45l-7.72 7.72c-.78.78-.78 2.05 0 2.83L4 21.41c.39.39.9.59 1.41.59.51 0 1.02-.2 1.41-.59l7.78-7.78 2.81-2.81c.8-.78.8-2.07 0-2.86zM5.41 20L4 18.59l7.72-7.72 1.47 1.35L5.41 20z\"/>\n",
              "  </svg>\n",
              "      </button>\n",
              "      \n",
              "  <style>\n",
              "    .colab-df-container {\n",
              "      display:flex;\n",
              "      flex-wrap:wrap;\n",
              "      gap: 12px;\n",
              "    }\n",
              "\n",
              "    .colab-df-convert {\n",
              "      background-color: #E8F0FE;\n",
              "      border: none;\n",
              "      border-radius: 50%;\n",
              "      cursor: pointer;\n",
              "      display: none;\n",
              "      fill: #1967D2;\n",
              "      height: 32px;\n",
              "      padding: 0 0 0 0;\n",
              "      width: 32px;\n",
              "    }\n",
              "\n",
              "    .colab-df-convert:hover {\n",
              "      background-color: #E2EBFA;\n",
              "      box-shadow: 0px 1px 2px rgba(60, 64, 67, 0.3), 0px 1px 3px 1px rgba(60, 64, 67, 0.15);\n",
              "      fill: #174EA6;\n",
              "    }\n",
              "\n",
              "    [theme=dark] .colab-df-convert {\n",
              "      background-color: #3B4455;\n",
              "      fill: #D2E3FC;\n",
              "    }\n",
              "\n",
              "    [theme=dark] .colab-df-convert:hover {\n",
              "      background-color: #434B5C;\n",
              "      box-shadow: 0px 1px 3px 1px rgba(0, 0, 0, 0.15);\n",
              "      filter: drop-shadow(0px 1px 2px rgba(0, 0, 0, 0.3));\n",
              "      fill: #FFFFFF;\n",
              "    }\n",
              "  </style>\n",
              "\n",
              "      <script>\n",
              "        const buttonEl =\n",
              "          document.querySelector('#df-af116a8f-0849-4f2a-b57d-edd4565d8edb button.colab-df-convert');\n",
              "        buttonEl.style.display =\n",
              "          google.colab.kernel.accessAllowed ? 'block' : 'none';\n",
              "\n",
              "        async function convertToInteractive(key) {\n",
              "          const element = document.querySelector('#df-af116a8f-0849-4f2a-b57d-edd4565d8edb');\n",
              "          const dataTable =\n",
              "            await google.colab.kernel.invokeFunction('convertToInteractive',\n",
              "                                                     [key], {});\n",
              "          if (!dataTable) return;\n",
              "\n",
              "          const docLinkHtml = 'Like what you see? Visit the ' +\n",
              "            '<a target=\"_blank\" href=https://colab.research.google.com/notebooks/data_table.ipynb>data table notebook</a>'\n",
              "            + ' to learn more about interactive tables.';\n",
              "          element.innerHTML = '';\n",
              "          dataTable['output_type'] = 'display_data';\n",
              "          await google.colab.output.renderOutput(dataTable, element);\n",
              "          const docLink = document.createElement('div');\n",
              "          docLink.innerHTML = docLinkHtml;\n",
              "          element.appendChild(docLink);\n",
              "        }\n",
              "      </script>\n",
              "    </div>\n",
              "  </div>\n",
              "  "
            ]
          },
          "metadata": {},
          "execution_count": 26
        }
      ],
      "execution_count": 26,
      "metadata": {
        "trusted": true,
        "noteable": {},
        "ExecuteTime": {
          "start_time": "2023-05-28T16:35:33.998765+00:00",
          "end_time": "2023-05-28T16:35:34.228455+00:00"
        },
        "datalink": {
          "47040b61-9774-466c-9240-a9c72ac46bed": {
            "dataframe_info": {
              "default_index_used": true,
              "orig_size_bytes": 8176,
              "orig_num_rows": 69,
              "orig_num_cols": 10,
              "truncated_string_columns": [],
              "truncated_size_bytes": 8176,
              "truncated_num_rows": 69,
              "truncated_num_cols": 10
            },
            "dx_settings": {
              "LOG_LEVEL": 30,
              "DEV_MODE": false,
              "DISPLAY_MAX_ROWS": 50000,
              "DISPLAY_MAX_COLUMNS": 100,
              "HTML_TABLE_SCHEMA": false,
              "MAX_RENDER_SIZE_BYTES": 104857600,
              "MAX_STRING_LENGTH": 250,
              "SAMPLING_FACTOR": 0.1,
              "DISPLAY_MODE": "simple",
              "SAMPLING_METHOD": "random",
              "COLUMN_SAMPLING_METHOD": "outer",
              "ROW_SAMPLING_METHOD": "random",
              "RANDOM_STATE": 12648430,
              "RESET_INDEX_VALUES": false,
              "FLATTEN_INDEX_VALUES": false,
              "FLATTEN_COLUMN_VALUES": true,
              "STRINGIFY_INDEX_VALUES": false,
              "STRINGIFY_COLUMN_VALUES": true,
              "ENABLE_DATALINK": true,
              "ENABLE_ASSIGNMENT": true,
              "NUM_PAST_SAMPLES_TRACKED": 3,
              "DB_LOCATION": ":memory:",
              "GENERATE_DEX_METADATA": false,
              "ALLOW_NOTEABLE_ATTRS": true
            },
            "display_id": "47040b61-9774-466c-9240-a9c72ac46bed",
            "applied_filters": [],
            "sample_history": [],
            "sampling_time": "2023-05-28T16:33:54.551582",
            "variable_name": "unk_dataframe_e26647356367414b98288e947bb0566b",
            "user_variable_name": null
          },
          "39c909d6-3c51-4000-8e8c-b8905f2685b5": {
            "dataframe_info": {
              "default_index_used": true,
              "orig_size_bytes": 329648,
              "orig_num_rows": 2995,
              "orig_num_cols": 10,
              "truncated_string_columns": [],
              "truncated_size_bytes": 329648,
              "truncated_num_rows": 2995,
              "truncated_num_cols": 10
            },
            "dx_settings": {
              "LOG_LEVEL": 30,
              "DEV_MODE": false,
              "DISPLAY_MAX_ROWS": 50000,
              "DISPLAY_MAX_COLUMNS": 100,
              "HTML_TABLE_SCHEMA": false,
              "MAX_RENDER_SIZE_BYTES": 104857600,
              "MAX_STRING_LENGTH": 250,
              "SAMPLING_FACTOR": 0.1,
              "DISPLAY_MODE": "simple",
              "SAMPLING_METHOD": "random",
              "COLUMN_SAMPLING_METHOD": "outer",
              "ROW_SAMPLING_METHOD": "random",
              "RANDOM_STATE": 12648430,
              "RESET_INDEX_VALUES": false,
              "FLATTEN_INDEX_VALUES": false,
              "FLATTEN_COLUMN_VALUES": true,
              "STRINGIFY_INDEX_VALUES": false,
              "STRINGIFY_COLUMN_VALUES": true,
              "ENABLE_DATALINK": true,
              "ENABLE_ASSIGNMENT": true,
              "NUM_PAST_SAMPLES_TRACKED": 3,
              "DB_LOCATION": ":memory:",
              "GENERATE_DEX_METADATA": false,
              "ALLOW_NOTEABLE_ATTRS": true
            },
            "display_id": "39c909d6-3c51-4000-8e8c-b8905f2685b5",
            "applied_filters": [],
            "sample_history": [],
            "sampling_time": "2023-05-28T16:34:35.701234",
            "variable_name": "unk_dataframe_572c1c80733f4707adf6cc953a3a5dad",
            "user_variable_name": null
          },
          "34cfb4e7-94b7-4de2-90ba-ff96f77ca5e0": {
            "dataframe_info": {
              "default_index_used": true,
              "orig_size_bytes": 2404,
              "orig_num_rows": 21,
              "orig_num_cols": 10,
              "truncated_string_columns": [],
              "truncated_size_bytes": 2404,
              "truncated_num_rows": 21,
              "truncated_num_cols": 10
            },
            "dx_settings": {
              "LOG_LEVEL": 30,
              "DEV_MODE": false,
              "DISPLAY_MAX_ROWS": 50000,
              "DISPLAY_MAX_COLUMNS": 100,
              "HTML_TABLE_SCHEMA": false,
              "MAX_RENDER_SIZE_BYTES": 104857600,
              "MAX_STRING_LENGTH": 250,
              "SAMPLING_FACTOR": 0.1,
              "DISPLAY_MODE": "simple",
              "SAMPLING_METHOD": "random",
              "COLUMN_SAMPLING_METHOD": "outer",
              "ROW_SAMPLING_METHOD": "random",
              "RANDOM_STATE": 12648430,
              "RESET_INDEX_VALUES": false,
              "FLATTEN_INDEX_VALUES": false,
              "FLATTEN_COLUMN_VALUES": true,
              "STRINGIFY_INDEX_VALUES": false,
              "STRINGIFY_COLUMN_VALUES": true,
              "ENABLE_DATALINK": true,
              "ENABLE_ASSIGNMENT": true,
              "NUM_PAST_SAMPLES_TRACKED": 3,
              "DB_LOCATION": ":memory:",
              "GENERATE_DEX_METADATA": false,
              "ALLOW_NOTEABLE_ATTRS": true
            },
            "display_id": "34cfb4e7-94b7-4de2-90ba-ff96f77ca5e0",
            "applied_filters": [],
            "sample_history": [],
            "sampling_time": "2023-05-28T16:35:34.069339",
            "variable_name": "unk_dataframe_51a1f29de48140d19a8d6ad366d37474",
            "user_variable_name": null
          }
        },
        "dx": {
          "views": [],
          "fieldMetadata": {},
          "simpleTable": true,
          "updated": 1685291787606
        },
        "colab": {
          "base_uri": "https://localhost:8080/",
          "height": 81
        },
        "id": "de298a3d",
        "outputId": "bc307f11-337e-4330-cb64-d6ea6e96ca32"
      },
      "id": "de298a3d"
    },
    {
      "cell_type": "code",
      "source": [
        "df = df.drop(df[(df['make'] == 'Hyundai') & (df['price'] > 80000)].index)"
      ],
      "outputs": [],
      "execution_count": 27,
      "metadata": {
        "trusted": true,
        "id": "b361d8a6"
      },
      "id": "b361d8a6"
    },
    {
      "cell_type": "code",
      "source": [
        "df[(df['make'] == 'Skoda') & (df['price']> 80000)]"
      ],
      "outputs": [
        {
          "output_type": "execute_result",
          "data": {
            "text/plain": [
              "        model  year  price transmission  mileage fuelType  tax   mpg  \\\n",
              "62386   Karoq  2019  91874    Automatic     3764   Petrol  145  40.9   \n",
              "\n",
              "       engineSize   make  \n",
              "62386         1.5  Skoda  "
            ],
            "text/html": [
              "\n",
              "  <div id=\"df-21573a5b-26c2-436e-95d2-d42e73a368cf\">\n",
              "    <div class=\"colab-df-container\">\n",
              "      <div>\n",
              "<style scoped>\n",
              "    .dataframe tbody tr th:only-of-type {\n",
              "        vertical-align: middle;\n",
              "    }\n",
              "\n",
              "    .dataframe tbody tr th {\n",
              "        vertical-align: top;\n",
              "    }\n",
              "\n",
              "    .dataframe thead th {\n",
              "        text-align: right;\n",
              "    }\n",
              "</style>\n",
              "<table border=\"1\" class=\"dataframe\">\n",
              "  <thead>\n",
              "    <tr style=\"text-align: right;\">\n",
              "      <th></th>\n",
              "      <th>model</th>\n",
              "      <th>year</th>\n",
              "      <th>price</th>\n",
              "      <th>transmission</th>\n",
              "      <th>mileage</th>\n",
              "      <th>fuelType</th>\n",
              "      <th>tax</th>\n",
              "      <th>mpg</th>\n",
              "      <th>engineSize</th>\n",
              "      <th>make</th>\n",
              "    </tr>\n",
              "  </thead>\n",
              "  <tbody>\n",
              "    <tr>\n",
              "      <th>62386</th>\n",
              "      <td>Karoq</td>\n",
              "      <td>2019</td>\n",
              "      <td>91874</td>\n",
              "      <td>Automatic</td>\n",
              "      <td>3764</td>\n",
              "      <td>Petrol</td>\n",
              "      <td>145</td>\n",
              "      <td>40.9</td>\n",
              "      <td>1.5</td>\n",
              "      <td>Skoda</td>\n",
              "    </tr>\n",
              "  </tbody>\n",
              "</table>\n",
              "</div>\n",
              "      <button class=\"colab-df-convert\" onclick=\"convertToInteractive('df-21573a5b-26c2-436e-95d2-d42e73a368cf')\"\n",
              "              title=\"Convert this dataframe to an interactive table.\"\n",
              "              style=\"display:none;\">\n",
              "        \n",
              "  <svg xmlns=\"http://www.w3.org/2000/svg\" height=\"24px\"viewBox=\"0 0 24 24\"\n",
              "       width=\"24px\">\n",
              "    <path d=\"M0 0h24v24H0V0z\" fill=\"none\"/>\n",
              "    <path d=\"M18.56 5.44l.94 2.06.94-2.06 2.06-.94-2.06-.94-.94-2.06-.94 2.06-2.06.94zm-11 1L8.5 8.5l.94-2.06 2.06-.94-2.06-.94L8.5 2.5l-.94 2.06-2.06.94zm10 10l.94 2.06.94-2.06 2.06-.94-2.06-.94-.94-2.06-.94 2.06-2.06.94z\"/><path d=\"M17.41 7.96l-1.37-1.37c-.4-.4-.92-.59-1.43-.59-.52 0-1.04.2-1.43.59L10.3 9.45l-7.72 7.72c-.78.78-.78 2.05 0 2.83L4 21.41c.39.39.9.59 1.41.59.51 0 1.02-.2 1.41-.59l7.78-7.78 2.81-2.81c.8-.78.8-2.07 0-2.86zM5.41 20L4 18.59l7.72-7.72 1.47 1.35L5.41 20z\"/>\n",
              "  </svg>\n",
              "      </button>\n",
              "      \n",
              "  <style>\n",
              "    .colab-df-container {\n",
              "      display:flex;\n",
              "      flex-wrap:wrap;\n",
              "      gap: 12px;\n",
              "    }\n",
              "\n",
              "    .colab-df-convert {\n",
              "      background-color: #E8F0FE;\n",
              "      border: none;\n",
              "      border-radius: 50%;\n",
              "      cursor: pointer;\n",
              "      display: none;\n",
              "      fill: #1967D2;\n",
              "      height: 32px;\n",
              "      padding: 0 0 0 0;\n",
              "      width: 32px;\n",
              "    }\n",
              "\n",
              "    .colab-df-convert:hover {\n",
              "      background-color: #E2EBFA;\n",
              "      box-shadow: 0px 1px 2px rgba(60, 64, 67, 0.3), 0px 1px 3px 1px rgba(60, 64, 67, 0.15);\n",
              "      fill: #174EA6;\n",
              "    }\n",
              "\n",
              "    [theme=dark] .colab-df-convert {\n",
              "      background-color: #3B4455;\n",
              "      fill: #D2E3FC;\n",
              "    }\n",
              "\n",
              "    [theme=dark] .colab-df-convert:hover {\n",
              "      background-color: #434B5C;\n",
              "      box-shadow: 0px 1px 3px 1px rgba(0, 0, 0, 0.15);\n",
              "      filter: drop-shadow(0px 1px 2px rgba(0, 0, 0, 0.3));\n",
              "      fill: #FFFFFF;\n",
              "    }\n",
              "  </style>\n",
              "\n",
              "      <script>\n",
              "        const buttonEl =\n",
              "          document.querySelector('#df-21573a5b-26c2-436e-95d2-d42e73a368cf button.colab-df-convert');\n",
              "        buttonEl.style.display =\n",
              "          google.colab.kernel.accessAllowed ? 'block' : 'none';\n",
              "\n",
              "        async function convertToInteractive(key) {\n",
              "          const element = document.querySelector('#df-21573a5b-26c2-436e-95d2-d42e73a368cf');\n",
              "          const dataTable =\n",
              "            await google.colab.kernel.invokeFunction('convertToInteractive',\n",
              "                                                     [key], {});\n",
              "          if (!dataTable) return;\n",
              "\n",
              "          const docLinkHtml = 'Like what you see? Visit the ' +\n",
              "            '<a target=\"_blank\" href=https://colab.research.google.com/notebooks/data_table.ipynb>data table notebook</a>'\n",
              "            + ' to learn more about interactive tables.';\n",
              "          element.innerHTML = '';\n",
              "          dataTable['output_type'] = 'display_data';\n",
              "          await google.colab.output.renderOutput(dataTable, element);\n",
              "          const docLink = document.createElement('div');\n",
              "          docLink.innerHTML = docLinkHtml;\n",
              "          element.appendChild(docLink);\n",
              "        }\n",
              "      </script>\n",
              "    </div>\n",
              "  </div>\n",
              "  "
            ]
          },
          "metadata": {},
          "execution_count": 28
        }
      ],
      "execution_count": 28,
      "metadata": {
        "trusted": true,
        "noteable": {},
        "id": "5e31e7d5",
        "outputId": "2549e6e8-8877-4580-aa18-74a0a169989d",
        "colab": {
          "base_uri": "https://localhost:8080/",
          "height": 81
        }
      },
      "id": "5e31e7d5"
    },
    {
      "cell_type": "code",
      "source": [
        "df = df.drop(df[(df['make'] == 'Skoda') & (df['price'] > 80000)].index)"
      ],
      "outputs": [],
      "execution_count": 29,
      "metadata": {
        "trusted": true,
        "id": "8e0d58d4"
      },
      "id": "8e0d58d4"
    },
    {
      "cell_type": "markdown",
      "source": [
        "### Fuel Type"
      ],
      "metadata": {
        "id": "056d4362"
      },
      "id": "056d4362"
    },
    {
      "cell_type": "code",
      "source": [
        "sns.boxplot(x=df['fuelType'],y=df['price'])"
      ],
      "outputs": [
        {
          "output_type": "execute_result",
          "data": {
            "text/plain": [
              "<Axes: xlabel='fuelType', ylabel='price'>"
            ]
          },
          "metadata": {},
          "execution_count": 30
        },
        {
          "output_type": "display_data",
          "data": {
            "text/plain": [
              "<Figure size 640x480 with 1 Axes>"
            ],
            "image/png": "[encoded data removed]"
          },
          "metadata": {}
        }
      ],
      "execution_count": 30,
      "metadata": {
        "trusted": true,
        "noteable": {},
        "id": "ad7fceee",
        "outputId": "d214bc29-6910-43fa-9057-cc1cb795dcae",
        "colab": {
          "base_uri": "https://localhost:8080/",
          "height": 466
        }
      },
      "id": "ad7fceee"
    },
    {
      "cell_type": "markdown",
      "source": [
        "It is observed that the petrol vehicles are cheaper than the other fuel type vehicles"
      ],
      "metadata": {
        "id": "611bf0be"
      },
      "id": "611bf0be"
    },
    {
      "cell_type": "markdown",
      "source": [
        "### Transmission"
      ],
      "metadata": {
        "id": "7d3c8177"
      },
      "id": "7d3c8177"
    },
    {
      "cell_type": "code",
      "source": [
        "sns.boxplot(x=df['transmission'],y=df['price'])"
      ],
      "outputs": [
        {
          "output_type": "execute_result",
          "data": {
            "text/plain": [
              "<Axes: xlabel='transmission', ylabel='price'>"
            ]
          },
          "metadata": {},
          "execution_count": 31
        },
        {
          "output_type": "display_data",
          "data": {
            "text/plain": [
              "<Figure size 640x480 with 1 Axes>"
            ],
            "image/png": "[encoded data removed]"
          },
          "metadata": {}
        }
      ],
      "execution_count": 31,
      "metadata": {
        "trusted": true,
        "noteable": {},
        "id": "f10d4928",
        "outputId": "809bd152-094f-4d37-9592-4c0ab6ed7c66",
        "colab": {
          "base_uri": "https://localhost:8080/",
          "height": 466
        }
      },
      "id": "f10d4928"
    },
    {
      "cell_type": "markdown",
      "source": [
        "It is evident that the Automatic and Semi-Automatic cars are higher price than the manual transmission. This feature has clear significant influence on the price of the vehicles"
      ],
      "metadata": {
        "id": "c4aa06c8"
      },
      "id": "c4aa06c8"
    },
    {
      "cell_type": "markdown",
      "source": [
        "### Price"
      ],
      "metadata": {
        "id": "0479fe59"
      },
      "id": "0479fe59"
    },
    {
      "cell_type": "code",
      "source": [
        "sns.displot(df['price'])"
      ],
      "outputs": [
        {
          "output_type": "execute_result",
          "data": {
            "text/plain": [
              "<seaborn.axisgrid.FacetGrid at 0x7f689deaa3e0>"
            ]
          },
          "metadata": {},
          "execution_count": 32
        },
        {
          "output_type": "display_data",
          "data": {
            "text/plain": [
              "<Figure size 500x500 with 1 Axes>"
            ],
            "image/png": "[encoded data removed]"
          },
          "metadata": {}
        }
      ],
      "execution_count": 32,
      "metadata": {
        "trusted": true,
        "noteable": {},
        "id": "51cbafb1",
        "outputId": "22fb7815-fd84-461b-e7e8-d243e5e895a2",
        "colab": {
          "base_uri": "https://localhost:8080/",
          "height": 523
        }
      },
      "id": "51cbafb1"
    },
    {
      "cell_type": "markdown",
      "source": [
        "### Year"
      ],
      "metadata": {
        "id": "ec287227"
      },
      "id": "ec287227"
    },
    {
      "cell_type": "code",
      "source": [
        "sns.displot(df['year'])"
      ],
      "outputs": [
        {
          "output_type": "execute_result",
          "data": {
            "text/plain": [
              "<seaborn.axisgrid.FacetGrid at 0x7f6863cdc2e0>"
            ]
          },
          "metadata": {},
          "execution_count": 33
        },
        {
          "output_type": "display_data",
          "data": {
            "text/plain": [
              "<Figure size 500x500 with 1 Axes>"
            ],
            "image/png": "[encoded data removed]"
          },
          "metadata": {}
        }
      ],
      "execution_count": 33,
      "metadata": {
        "trusted": true,
        "noteable": {},
        "id": "efab9e66",
        "outputId": "800cbafd-ae61-49d5-f974-46d757351416",
        "colab": {
          "base_uri": "https://localhost:8080/",
          "height": 523
        }
      },
      "id": "efab9e66"
    },
    {
      "cell_type": "markdown",
      "source": [
        "### Mileage"
      ],
      "metadata": {
        "id": "7332771a"
      },
      "id": "7332771a"
    },
    {
      "cell_type": "code",
      "source": [
        "sns.displot(df['mileage'])"
      ],
      "outputs": [
        {
          "output_type": "execute_result",
          "data": {
            "text/plain": [
              "<seaborn.axisgrid.FacetGrid at 0x7f6863563b20>"
            ]
          },
          "metadata": {},
          "execution_count": 34
        },
        {
          "output_type": "display_data",
          "data": {
            "text/plain": [
              "<Figure size 500x500 with 1 Axes>"
            ],
            "image/png": "[encoded data removed]"
          },
          "metadata": {}
        }
      ],
      "execution_count": 34,
      "metadata": {
        "trusted": true,
        "noteable": {},
        "id": "789ed5c1",
        "outputId": "75445389-c106-42f9-809f-704b31f29242",
        "colab": {
          "base_uri": "https://localhost:8080/",
          "height": 524
        }
      },
      "id": "789ed5c1"
    },
    {
      "cell_type": "markdown",
      "source": [
        "### Tax"
      ],
      "metadata": {
        "id": "eab89044"
      },
      "id": "eab89044"
    },
    {
      "cell_type": "code",
      "source": [
        "sns.displot(df['tax'])"
      ],
      "outputs": [
        {
          "output_type": "execute_result",
          "data": {
            "text/plain": [
              "<seaborn.axisgrid.FacetGrid at 0x7f68638d6bc0>"
            ]
          },
          "metadata": {},
          "execution_count": 35
        },
        {
          "output_type": "display_data",
          "data": {
            "text/plain": [
              "<Figure size 500x500 with 1 Axes>"
            ],
            "image/png": "[encoded data removed]"
          },
          "metadata": {}
        }
      ],
      "execution_count": 35,
      "metadata": {
        "trusted": true,
        "noteable": {},
        "id": "1b0ea4f5",
        "outputId": "fe756812-d671-416b-f49b-0ff3b4443a1a",
        "colab": {
          "base_uri": "https://localhost:8080/",
          "height": 523
        }
      },
      "id": "1b0ea4f5"
    },
    {
      "cell_type": "markdown",
      "source": [
        "### MPG"
      ],
      "metadata": {
        "id": "17410392"
      },
      "id": "17410392"
    },
    {
      "cell_type": "code",
      "source": [
        "sns.displot(df['mpg'])"
      ],
      "outputs": [
        {
          "output_type": "execute_result",
          "data": {
            "text/plain": [
              "<seaborn.axisgrid.FacetGrid at 0x7f6863723010>"
            ]
          },
          "metadata": {},
          "execution_count": 36
        },
        {
          "output_type": "display_data",
          "data": {
            "text/plain": [
              "<Figure size 500x500 with 1 Axes>"
            ],
            "image/png": "[encoded data removed]"
          },
          "metadata": {}
        }
      ],
      "execution_count": 36,
      "metadata": {
        "trusted": true,
        "noteable": {},
        "id": "83b7f094",
        "outputId": "f23d930d-5a11-4764-c965-e643e883ec86",
        "colab": {
          "base_uri": "https://localhost:8080/",
          "height": 523
        }
      },
      "id": "83b7f094"
    },
    {
      "cell_type": "markdown",
      "source": [
        "### Engine Size"
      ],
      "metadata": {
        "id": "1e14ef1b"
      },
      "id": "1e14ef1b"
    },
    {
      "cell_type": "code",
      "source": [
        "sns.displot(df['engineSize'])"
      ],
      "outputs": [
        {
          "output_type": "execute_result",
          "data": {
            "text/plain": [
              "<seaborn.axisgrid.FacetGrid at 0x7f68636bb3d0>"
            ]
          },
          "metadata": {},
          "execution_count": 37
        },
        {
          "output_type": "display_data",
          "data": {
            "text/plain": [
              "<Figure size 500x500 with 1 Axes>"
            ],
            "image/png": "[encoded data removed]"
          },
          "metadata": {}
        }
      ],
      "execution_count": 37,
      "metadata": {
        "trusted": true,
        "noteable": {},
        "id": "2d673197",
        "outputId": "d8898b7d-07f4-4718-9619-77fa4afe8e32",
        "colab": {
          "base_uri": "https://localhost:8080/",
          "height": 523
        }
      },
      "id": "2d673197"
    },
    {
      "cell_type": "markdown",
      "source": [
        "It is observed that mileage and price are having right skewed distribution"
      ],
      "metadata": {
        "id": "26a2b42f"
      },
      "id": "26a2b42f"
    },
    {
      "cell_type": "markdown",
      "source": [
        "# Feature Engineering"
      ],
      "metadata": {
        "id": "15497a50"
      },
      "id": "15497a50"
    },
    {
      "cell_type": "code",
      "source": [
        "from sklearn.model_selection import train_test_split"
      ],
      "outputs": [],
      "execution_count": 38,
      "metadata": {
        "trusted": true,
        "id": "771a9947"
      },
      "id": "771a9947"
    },
    {
      "cell_type": "code",
      "source": [
        "df.head()"
      ],
      "outputs": [
        {
          "output_type": "execute_result",
          "data": {
            "text/plain": [
              "  model  year  price transmission  mileage fuelType  tax   mpg  engineSize  \\\n",
              "0    A1  2017  12500       Manual    15735   Petrol  150  55.4         1.4   \n",
              "1    A6  2016  16500    Automatic    36203   Diesel   20  64.2         2.0   \n",
              "2    A1  2016  11000       Manual    29946   Petrol   30  55.4         1.4   \n",
              "3    A4  2017  16800    Automatic    25952   Diesel  145  67.3         2.0   \n",
              "4    A3  2019  17300       Manual     1998   Petrol  145  49.6         1.0   \n",
              "\n",
              "   make  \n",
              "0  Audi  \n",
              "1  Audi  \n",
              "2  Audi  \n",
              "3  Audi  \n",
              "4  Audi  "
            ],
            "text/html": [
              "\n",
              "  <div id=\"df-e5e9c224-1f59-488e-8791-d460c4cb134b\">\n",
              "    <div class=\"colab-df-container\">\n",
              "      <div>\n",
              "<style scoped>\n",
              "    .dataframe tbody tr th:only-of-type {\n",
              "        vertical-align: middle;\n",
              "    }\n",
              "\n",
              "    .dataframe tbody tr th {\n",
              "        vertical-align: top;\n",
              "    }\n",
              "\n",
              "    .dataframe thead th {\n",
              "        text-align: right;\n",
              "    }\n",
              "</style>\n",
              "<table border=\"1\" class=\"dataframe\">\n",
              "  <thead>\n",
              "    <tr style=\"text-align: right;\">\n",
              "      <th></th>\n",
              "      <th>model</th>\n",
              "      <th>year</th>\n",
              "      <th>price</th>\n",
              "      <th>transmission</th>\n",
              "      <th>mileage</th>\n",
              "      <th>fuelType</th>\n",
              "      <th>tax</th>\n",
              "      <th>mpg</th>\n",
              "      <th>engineSize</th>\n",
              "      <th>make</th>\n",
              "    </tr>\n",
              "  </thead>\n",
              "  <tbody>\n",
              "    <tr>\n",
              "      <th>0</th>\n",
              "      <td>A1</td>\n",
              "      <td>2017</td>\n",
              "      <td>12500</td>\n",
              "      <td>Manual</td>\n",
              "      <td>15735</td>\n",
              "      <td>Petrol</td>\n",
              "      <td>150</td>\n",
              "      <td>55.4</td>\n",
              "      <td>1.4</td>\n",
              "      <td>Audi</td>\n",
              "    </tr>\n",
              "    <tr>\n",
              "      <th>1</th>\n",
              "      <td>A6</td>\n",
              "      <td>2016</td>\n",
              "      <td>16500</td>\n",
              "      <td>Automatic</td>\n",
              "      <td>36203</td>\n",
              "      <td>Diesel</td>\n",
              "      <td>20</td>\n",
              "      <td>64.2</td>\n",
              "      <td>2.0</td>\n",
              "      <td>Audi</td>\n",
              "    </tr>\n",
              "    <tr>\n",
              "      <th>2</th>\n",
              "      <td>A1</td>\n",
              "      <td>2016</td>\n",
              "      <td>11000</td>\n",
              "      <td>Manual</td>\n",
              "      <td>29946</td>\n",
              "      <td>Petrol</td>\n",
              "      <td>30</td>\n",
              "      <td>55.4</td>\n",
              "      <td>1.4</td>\n",
              "      <td>Audi</td>\n",
              "    </tr>\n",
              "    <tr>\n",
              "      <th>3</th>\n",
              "      <td>A4</td>\n",
              "      <td>2017</td>\n",
              "      <td>16800</td>\n",
              "      <td>Automatic</td>\n",
              "      <td>25952</td>\n",
              "      <td>Diesel</td>\n",
              "      <td>145</td>\n",
              "      <td>67.3</td>\n",
              "      <td>2.0</td>\n",
              "      <td>Audi</td>\n",
              "    </tr>\n",
              "    <tr>\n",
              "      <th>4</th>\n",
              "      <td>A3</td>\n",
              "      <td>2019</td>\n",
              "      <td>17300</td>\n",
              "      <td>Manual</td>\n",
              "      <td>1998</td>\n",
              "      <td>Petrol</td>\n",
              "      <td>145</td>\n",
              "      <td>49.6</td>\n",
              "      <td>1.0</td>\n",
              "      <td>Audi</td>\n",
              "    </tr>\n",
              "  </tbody>\n",
              "</table>\n",
              "</div>\n",
              "      <button class=\"colab-df-convert\" onclick=\"convertToInteractive('df-e5e9c224-1f59-488e-8791-d460c4cb134b')\"\n",
              "              title=\"Convert this dataframe to an interactive table.\"\n",
              "              style=\"display:none;\">\n",
              "        \n",
              "  <svg xmlns=\"http://www.w3.org/2000/svg\" height=\"24px\"viewBox=\"0 0 24 24\"\n",
              "       width=\"24px\">\n",
              "    <path d=\"M0 0h24v24H0V0z\" fill=\"none\"/>\n",
              "    <path d=\"M18.56 5.44l.94 2.06.94-2.06 2.06-.94-2.06-.94-.94-2.06-.94 2.06-2.06.94zm-11 1L8.5 8.5l.94-2.06 2.06-.94-2.06-.94L8.5 2.5l-.94 2.06-2.06.94zm10 10l.94 2.06.94-2.06 2.06-.94-2.06-.94-.94-2.06-.94 2.06-2.06.94z\"/><path d=\"M17.41 7.96l-1.37-1.37c-.4-.4-.92-.59-1.43-.59-.52 0-1.04.2-1.43.59L10.3 9.45l-7.72 7.72c-.78.78-.78 2.05 0 2.83L4 21.41c.39.39.9.59 1.41.59.51 0 1.02-.2 1.41-.59l7.78-7.78 2.81-2.81c.8-.78.8-2.07 0-2.86zM5.41 20L4 18.59l7.72-7.72 1.47 1.35L5.41 20z\"/>\n",
              "  </svg>\n",
              "      </button>\n",
              "      \n",
              "  <style>\n",
              "    .colab-df-container {\n",
              "      display:flex;\n",
              "      flex-wrap:wrap;\n",
              "      gap: 12px;\n",
              "    }\n",
              "\n",
              "    .colab-df-convert {\n",
              "      background-color: #E8F0FE;\n",
              "      border: none;\n",
              "      border-radius: 50%;\n",
              "      cursor: pointer;\n",
              "      display: none;\n",
              "      fill: #1967D2;\n",
              "      height: 32px;\n",
              "      padding: 0 0 0 0;\n",
              "      width: 32px;\n",
              "    }\n",
              "\n",
              "    .colab-df-convert:hover {\n",
              "      background-color: #E2EBFA;\n",
              "      box-shadow: 0px 1px 2px rgba(60, 64, 67, 0.3), 0px 1px 3px 1px rgba(60, 64, 67, 0.15);\n",
              "      fill: #174EA6;\n",
              "    }\n",
              "\n",
              "    [theme=dark] .colab-df-convert {\n",
              "      background-color: #3B4455;\n",
              "      fill: #D2E3FC;\n",
              "    }\n",
              "\n",
              "    [theme=dark] .colab-df-convert:hover {\n",
              "      background-color: #434B5C;\n",
              "      box-shadow: 0px 1px 3px 1px rgba(0, 0, 0, 0.15);\n",
              "      filter: drop-shadow(0px 1px 2px rgba(0, 0, 0, 0.3));\n",
              "      fill: #FFFFFF;\n",
              "    }\n",
              "  </style>\n",
              "\n",
              "      <script>\n",
              "        const buttonEl =\n",
              "          document.querySelector('#df-e5e9c224-1f59-488e-8791-d460c4cb134b button.colab-df-convert');\n",
              "        buttonEl.style.display =\n",
              "          google.colab.kernel.accessAllowed ? 'block' : 'none';\n",
              "\n",
              "        async function convertToInteractive(key) {\n",
              "          const element = document.querySelector('#df-e5e9c224-1f59-488e-8791-d460c4cb134b');\n",
              "          const dataTable =\n",
              "            await google.colab.kernel.invokeFunction('convertToInteractive',\n",
              "                                                     [key], {});\n",
              "          if (!dataTable) return;\n",
              "\n",
              "          const docLinkHtml = 'Like what you see? Visit the ' +\n",
              "            '<a target=\"_blank\" href=https://colab.research.google.com/notebooks/data_table.ipynb>data table notebook</a>'\n",
              "            + ' to learn more about interactive tables.';\n",
              "          element.innerHTML = '';\n",
              "          dataTable['output_type'] = 'display_data';\n",
              "          await google.colab.output.renderOutput(dataTable, element);\n",
              "          const docLink = document.createElement('div');\n",
              "          docLink.innerHTML = docLinkHtml;\n",
              "          element.appendChild(docLink);\n",
              "        }\n",
              "      </script>\n",
              "    </div>\n",
              "  </div>\n",
              "  "
            ]
          },
          "metadata": {},
          "execution_count": 39
        }
      ],
      "execution_count": 39,
      "metadata": {
        "trusted": true,
        "noteable": {},
        "id": "86d2b2e4",
        "outputId": "c5fb589a-cede-4b76-dc37-7875dbb15df2",
        "colab": {
          "base_uri": "https://localhost:8080/",
          "height": 206
        }
      },
      "id": "86d2b2e4"
    },
    {
      "cell_type": "code",
      "source": [
        "X = df.drop(['price'], axis = 1)\n",
        "y = df['price']"
      ],
      "outputs": [],
      "execution_count": 40,
      "metadata": {
        "trusted": true,
        "id": "5fada2dd"
      },
      "id": "5fada2dd"
    },
    {
      "cell_type": "code",
      "source": [
        "X_transmission = pd.get_dummies(X['transmission'], drop_first=True)\n",
        "X_transmission.rename(columns={'Other':'Other Transmission'}, inplace=True)\n",
        "X_fuelType = pd.get_dummies(X['fuelType'], drop_first=True)\n",
        "X_fuelType.rename(columns={'Other':'Other FuelType'}, inplace=True)\n",
        "X_make = pd.get_dummies(X['make'], drop_first=True)\n",
        "X_model = pd.get_dummies(X['model'], drop_first=True)\n",
        "X = pd.concat([X,X_transmission,X_fuelType,X_make, X_model],axis=1)\n",
        "X.drop(['transmission', 'fuelType', 'make', 'model'], axis = 1, inplace=True)"
      ],
      "outputs": [],
      "execution_count": 41,
      "metadata": {
        "trusted": true,
        "id": "69062693"
      },
      "id": "69062693"
    },
    {
      "cell_type": "code",
      "source": [
        "X_train_, X_test_, y_train_, y_test_ = train_test_split(X, y, test_size=0.33, random_state=42)"
      ],
      "outputs": [],
      "execution_count": 42,
      "metadata": {
        "trusted": true,
        "id": "5aa7172d"
      },
      "id": "5aa7172d"
    },
    {
      "cell_type": "code",
      "source": [
        "X_train = X_train_.copy(deep=True)\n",
        "X_test = X_test_.copy(deep=True)\n",
        "y_train = y_train_.copy(deep=True)\n",
        "y_test = y_test_.copy(deep=True)"
      ],
      "outputs": [],
      "execution_count": 43,
      "metadata": {
        "trusted": true,
        "id": "487d8503"
      },
      "id": "487d8503"
    },
    {
      "cell_type": "markdown",
      "source": [
        "Engine Size"
      ],
      "metadata": {
        "id": "a1fcf19f"
      },
      "id": "a1fcf19f"
    },
    {
      "cell_type": "code",
      "source": [
        "engineSize_median = X_train['engineSize'].median()\n",
        "print('The median of Engine Size is : {0}'.format(engineSize_median))\n",
        "engineSize_median = 1.6"
      ],
      "outputs": [
        {
          "output_type": "stream",
          "name": "stdout",
          "text": [
            "The median of Engine Size is : 1.6\n"
          ]
        }
      ],
      "execution_count": 44,
      "metadata": {
        "trusted": true,
        "noteable": {},
        "id": "80ce0b72",
        "outputId": "98a5df49-373c-4095-a29e-54a7dca6e45e",
        "colab": {
          "base_uri": "https://localhost:8080/"
        }
      },
      "id": "80ce0b72"
    },
    {
      "cell_type": "code",
      "source": [
        "X_train['engineSize'] = X_train['engineSize'].replace(to_replace=0,value=engineSize_median)\n",
        "X_test['engineSize'] = X_test['engineSize'].replace(to_replace=0,value=engineSize_median)"
      ],
      "outputs": [],
      "execution_count": 45,
      "metadata": {
        "trusted": true,
        "id": "a1954070"
      },
      "id": "a1954070"
    },
    {
      "cell_type": "markdown",
      "source": [
        "Tax"
      ],
      "metadata": {
        "id": "fee73b7b"
      },
      "id": "fee73b7b"
    },
    {
      "cell_type": "code",
      "source": [
        "tax_mean = X_train['tax'].mean()\n",
        "print('The mean of tax is {0}'.format(tax_mean))\n",
        "tax_mean = 120.41"
      ],
      "outputs": [
        {
          "output_type": "stream",
          "name": "stdout",
          "text": [
            "The mean of tax is 120.41895614734972\n"
          ]
        }
      ],
      "execution_count": 46,
      "metadata": {
        "trusted": true,
        "noteable": {},
        "id": "c6247acc",
        "outputId": "c5702a5b-5b28-46f1-eb4c-d66cdf1a0c1a",
        "colab": {
          "base_uri": "https://localhost:8080/"
        }
      },
      "id": "c6247acc"
    },
    {
      "cell_type": "code",
      "source": [
        "X_train['tax'] = X_train['tax'].replace(to_replace=0,value=tax_mean)\n",
        "X_test['tax'] = X_test['tax'].replace(to_replace=0,value=tax_mean)"
      ],
      "outputs": [],
      "execution_count": 47,
      "metadata": {
        "trusted": true,
        "id": "790f396b"
      },
      "id": "790f396b"
    },
    {
      "cell_type": "markdown",
      "source": [
        "Mileage"
      ],
      "metadata": {
        "id": "d0690490"
      },
      "id": "d0690490"
    },
    {
      "cell_type": "code",
      "source": [
        "from scipy import stats"
      ],
      "outputs": [],
      "execution_count": 48,
      "metadata": {
        "trusted": true,
        "id": "abdd7787"
      },
      "id": "abdd7787"
    },
    {
      "cell_type": "code",
      "source": [
        "mileage,mileage_lambda = stats.boxcox(X_train['mileage'])"
      ],
      "outputs": [],
      "execution_count": 49,
      "metadata": {
        "trusted": true,
        "id": "32463461"
      },
      "id": "32463461"
    },
    {
      "cell_type": "code",
      "source": [
        "print('The lambda for boxcox transform of mileage is {0}'.format(mileage_lambda))\n",
        "mileage_lambda=0.36762127618713064"
      ],
      "outputs": [
        {
          "output_type": "stream",
          "name": "stdout",
          "text": [
            "The lambda for boxcox transform of mileage is 0.36762127618713064\n"
          ]
        }
      ],
      "execution_count": 50,
      "metadata": {
        "trusted": true,
        "noteable": {},
        "id": "dce6b36d",
        "outputId": "993683c9-ea26-4182-b545-9f8547f2772e",
        "colab": {
          "base_uri": "https://localhost:8080/"
        }
      },
      "id": "dce6b36d"
    },
    {
      "cell_type": "code",
      "source": [
        "sns.displot(mileage)"
      ],
      "outputs": [
        {
          "output_type": "execute_result",
          "data": {
            "text/plain": [
              "<seaborn.axisgrid.FacetGrid at 0x7f68626d2f80>"
            ]
          },
          "metadata": {},
          "execution_count": 51
        },
        {
          "output_type": "display_data",
          "data": {
            "text/plain": [
              "<Figure size 500x500 with 1 Axes>"
            ],
            "image/png": "[encoded data removed]"
          },
          "metadata": {}
        }
      ],
      "execution_count": 51,
      "metadata": {
        "trusted": true,
        "noteable": {},
        "id": "92b3650d",
        "outputId": "ca11f5ba-ce97-479b-a76b-d74a6a795dc6",
        "colab": {
          "base_uri": "https://localhost:8080/",
          "height": 523
        }
      },
      "id": "92b3650d"
    },
    {
      "cell_type": "code",
      "source": [
        "test_mileage = stats.boxcox(X_test['mileage'],mileage_lambda)"
      ],
      "outputs": [],
      "execution_count": 52,
      "metadata": {
        "trusted": true,
        "id": "b3efdd52"
      },
      "id": "b3efdd52"
    },
    {
      "cell_type": "code",
      "source": [
        "X_train['mileage_transformed'] = mileage\n",
        "X_test['mileage_transformed'] = test_mileage"
      ],
      "outputs": [],
      "execution_count": 53,
      "metadata": {
        "trusted": true,
        "id": "f01c7bf7"
      },
      "id": "f01c7bf7"
    },
    {
      "cell_type": "code",
      "source": [
        "X_train.head()"
      ],
      "outputs": [
        {
          "output_type": "execute_result",
          "data": {
            "text/plain": [
              "       year  mileage    tax   mpg  engineSize  Manual  Other Transmission  \\\n",
              "76366  2013    56536  125.0  51.4         1.4       1                   0   \n",
              "45038  2017    14951  145.0  68.9         2.1       0                   0   \n",
              "80035  2019    10748  145.0  47.1         1.2       1                   0   \n",
              "6234   2018    10767  145.0  42.8         2.0       0                   0   \n",
              "314    2013    49000  325.0  29.7         2.0       1                   0   \n",
              "\n",
              "       Semi-Auto  Electric  Hybrid  ...   Z4   Zafira   Zafira Tourer   i3  \\\n",
              "76366          0         0       0  ...    0        0               0    0   \n",
              "45038          1         0       0  ...    0        0               0    0   \n",
              "80035          0         0       0  ...    0        0               0    0   \n",
              "6234           1         0       0  ...    0        0               0    0   \n",
              "314            0         0       0  ...    0        0               0    0   \n",
              "\n",
              "        i8  180  200  220  230  mileage_transformed  \n",
              "76366    0    0    0    0    0           149.213879  \n",
              "45038    0    0    0    0    0            90.454286  \n",
              "80035    0    0    0    0    0            79.807783  \n",
              "6234     0    0    0    0    0            79.861385  \n",
              "314      0    0    0    0    0           141.430003  \n",
              "\n",
              "[5 rows x 215 columns]"
            ],
            "text/html": [
              "\n",
              "  <div id=\"df-618f033b-66b0-4440-8a9e-6df39e987ecf\">\n",
              "    <div class=\"colab-df-container\">\n",
              "      <div>\n",
              "<style scoped>\n",
              "    .dataframe tbody tr th:only-of-type {\n",
              "        vertical-align: middle;\n",
              "    }\n",
              "\n",
              "    .dataframe tbody tr th {\n",
              "        vertical-align: top;\n",
              "    }\n",
              "\n",
              "    .dataframe thead th {\n",
              "        text-align: right;\n",
              "    }\n",
              "</style>\n",
              "<table border=\"1\" class=\"dataframe\">\n",
              "  <thead>\n",
              "    <tr style=\"text-align: right;\">\n",
              "      <th></th>\n",
              "      <th>year</th>\n",
              "      <th>mileage</th>\n",
              "      <th>tax</th>\n",
              "      <th>mpg</th>\n",
              "      <th>engineSize</th>\n",
              "      <th>Manual</th>\n",
              "      <th>Other Transmission</th>\n",
              "      <th>Semi-Auto</th>\n",
              "      <th>Electric</th>\n",
              "      <th>Hybrid</th>\n",
              "      <th>...</th>\n",
              "      <th>Z4</th>\n",
              "      <th>Zafira</th>\n",
              "      <th>Zafira Tourer</th>\n",
              "      <th>i3</th>\n",
              "      <th>i8</th>\n",
              "      <th>180</th>\n",
              "      <th>200</th>\n",
              "      <th>220</th>\n",
              "      <th>230</th>\n",
              "      <th>mileage_transformed</th>\n",
              "    </tr>\n",
              "  </thead>\n",
              "  <tbody>\n",
              "    <tr>\n",
              "      <th>76366</th>\n",
              "      <td>2013</td>\n",
              "      <td>56536</td>\n",
              "      <td>125.0</td>\n",
              "      <td>51.4</td>\n",
              "      <td>1.4</td>\n",
              "      <td>1</td>\n",
              "      <td>0</td>\n",
              "      <td>0</td>\n",
              "      <td>0</td>\n",
              "      <td>0</td>\n",
              "      <td>...</td>\n",
              "      <td>0</td>\n",
              "      <td>0</td>\n",
              "      <td>0</td>\n",
              "      <td>0</td>\n",
              "      <td>0</td>\n",
              "      <td>0</td>\n",
              "      <td>0</td>\n",
              "      <td>0</td>\n",
              "      <td>0</td>\n",
              "      <td>149.213879</td>\n",
              "    </tr>\n",
              "    <tr>\n",
              "      <th>45038</th>\n",
              "      <td>2017</td>\n",
              "      <td>14951</td>\n",
              "      <td>145.0</td>\n",
              "      <td>68.9</td>\n",
              "      <td>2.1</td>\n",
              "      <td>0</td>\n",
              "      <td>0</td>\n",
              "      <td>1</td>\n",
              "      <td>0</td>\n",
              "      <td>0</td>\n",
              "      <td>...</td>\n",
              "      <td>0</td>\n",
              "      <td>0</td>\n",
              "      <td>0</td>\n",
              "      <td>0</td>\n",
              "      <td>0</td>\n",
              "      <td>0</td>\n",
              "      <td>0</td>\n",
              "      <td>0</td>\n",
              "      <td>0</td>\n",
              "      <td>90.454286</td>\n",
              "    </tr>\n",
              "    <tr>\n",
              "      <th>80035</th>\n",
              "      <td>2019</td>\n",
              "      <td>10748</td>\n",
              "      <td>145.0</td>\n",
              "      <td>47.1</td>\n",
              "      <td>1.2</td>\n",
              "      <td>1</td>\n",
              "      <td>0</td>\n",
              "      <td>0</td>\n",
              "      <td>0</td>\n",
              "      <td>0</td>\n",
              "      <td>...</td>\n",
              "      <td>0</td>\n",
              "      <td>0</td>\n",
              "      <td>0</td>\n",
              "      <td>0</td>\n",
              "      <td>0</td>\n",
              "      <td>0</td>\n",
              "      <td>0</td>\n",
              "      <td>0</td>\n",
              "      <td>0</td>\n",
              "      <td>79.807783</td>\n",
              "    </tr>\n",
              "    <tr>\n",
              "      <th>6234</th>\n",
              "      <td>2018</td>\n",
              "      <td>10767</td>\n",
              "      <td>145.0</td>\n",
              "      <td>42.8</td>\n",
              "      <td>2.0</td>\n",
              "      <td>0</td>\n",
              "      <td>0</td>\n",
              "      <td>1</td>\n",
              "      <td>0</td>\n",
              "      <td>0</td>\n",
              "      <td>...</td>\n",
              "      <td>0</td>\n",
              "      <td>0</td>\n",
              "      <td>0</td>\n",
              "      <td>0</td>\n",
              "      <td>0</td>\n",
              "      <td>0</td>\n",
              "      <td>0</td>\n",
              "      <td>0</td>\n",
              "      <td>0</td>\n",
              "      <td>79.861385</td>\n",
              "    </tr>\n",
              "    <tr>\n",
              "      <th>314</th>\n",
              "      <td>2013</td>\n",
              "      <td>49000</td>\n",
              "      <td>325.0</td>\n",
              "      <td>29.7</td>\n",
              "      <td>2.0</td>\n",
              "      <td>1</td>\n",
              "      <td>0</td>\n",
              "      <td>0</td>\n",
              "      <td>0</td>\n",
              "      <td>0</td>\n",
              "      <td>...</td>\n",
              "      <td>0</td>\n",
              "      <td>0</td>\n",
              "      <td>0</td>\n",
              "      <td>0</td>\n",
              "      <td>0</td>\n",
              "      <td>0</td>\n",
              "      <td>0</td>\n",
              "      <td>0</td>\n",
              "      <td>0</td>\n",
              "      <td>141.430003</td>\n",
              "    </tr>\n",
              "  </tbody>\n",
              "</table>\n",
              "<p>5 rows × 215 columns</p>\n",
              "</div>\n",
              "      <button class=\"colab-df-convert\" onclick=\"convertToInteractive('df-618f033b-66b0-4440-8a9e-6df39e987ecf')\"\n",
              "              title=\"Convert this dataframe to an interactive table.\"\n",
              "              style=\"display:none;\">\n",
              "        \n",
              "  <svg xmlns=\"http://www.w3.org/2000/svg\" height=\"24px\"viewBox=\"0 0 24 24\"\n",
              "       width=\"24px\">\n",
              "    <path d=\"M0 0h24v24H0V0z\" fill=\"none\"/>\n",
              "    <path d=\"M18.56 5.44l.94 2.06.94-2.06 2.06-.94-2.06-.94-.94-2.06-.94 2.06-2.06.94zm-11 1L8.5 8.5l.94-2.06 2.06-.94-2.06-.94L8.5 2.5l-.94 2.06-2.06.94zm10 10l.94 2.06.94-2.06 2.06-.94-2.06-.94-.94-2.06-.94 2.06-2.06.94z\"/><path d=\"M17.41 7.96l-1.37-1.37c-.4-.4-.92-.59-1.43-.59-.52 0-1.04.2-1.43.59L10.3 9.45l-7.72 7.72c-.78.78-.78 2.05 0 2.83L4 21.41c.39.39.9.59 1.41.59.51 0 1.02-.2 1.41-.59l7.78-7.78 2.81-2.81c.8-.78.8-2.07 0-2.86zM5.41 20L4 18.59l7.72-7.72 1.47 1.35L5.41 20z\"/>\n",
              "  </svg>\n",
              "      </button>\n",
              "      \n",
              "  <style>\n",
              "    .colab-df-container {\n",
              "      display:flex;\n",
              "      flex-wrap:wrap;\n",
              "      gap: 12px;\n",
              "    }\n",
              "\n",
              "    .colab-df-convert {\n",
              "      background-color: #E8F0FE;\n",
              "      border: none;\n",
              "      border-radius: 50%;\n",
              "      cursor: pointer;\n",
              "      display: none;\n",
              "      fill: #1967D2;\n",
              "      height: 32px;\n",
              "      padding: 0 0 0 0;\n",
              "      width: 32px;\n",
              "    }\n",
              "\n",
              "    .colab-df-convert:hover {\n",
              "      background-color: #E2EBFA;\n",
              "      box-shadow: 0px 1px 2px rgba(60, 64, 67, 0.3), 0px 1px 3px 1px rgba(60, 64, 67, 0.15);\n",
              "      fill: #174EA6;\n",
              "    }\n",
              "\n",
              "    [theme=dark] .colab-df-convert {\n",
              "      background-color: #3B4455;\n",
              "      fill: #D2E3FC;\n",
              "    }\n",
              "\n",
              "    [theme=dark] .colab-df-convert:hover {\n",
              "      background-color: #434B5C;\n",
              "      box-shadow: 0px 1px 3px 1px rgba(0, 0, 0, 0.15);\n",
              "      filter: drop-shadow(0px 1px 2px rgba(0, 0, 0, 0.3));\n",
              "      fill: #FFFFFF;\n",
              "    }\n",
              "  </style>\n",
              "\n",
              "      <script>\n",
              "        const buttonEl =\n",
              "          document.querySelector('#df-618f033b-66b0-4440-8a9e-6df39e987ecf button.colab-df-convert');\n",
              "        buttonEl.style.display =\n",
              "          google.colab.kernel.accessAllowed ? 'block' : 'none';\n",
              "\n",
              "        async function convertToInteractive(key) {\n",
              "          const element = document.querySelector('#df-618f033b-66b0-4440-8a9e-6df39e987ecf');\n",
              "          const dataTable =\n",
              "            await google.colab.kernel.invokeFunction('convertToInteractive',\n",
              "                                                     [key], {});\n",
              "          if (!dataTable) return;\n",
              "\n",
              "          const docLinkHtml = 'Like what you see? Visit the ' +\n",
              "            '<a target=\"_blank\" href=https://colab.research.google.com/notebooks/data_table.ipynb>data table notebook</a>'\n",
              "            + ' to learn more about interactive tables.';\n",
              "          element.innerHTML = '';\n",
              "          dataTable['output_type'] = 'display_data';\n",
              "          await google.colab.output.renderOutput(dataTable, element);\n",
              "          const docLink = document.createElement('div');\n",
              "          docLink.innerHTML = docLinkHtml;\n",
              "          element.appendChild(docLink);\n",
              "        }\n",
              "      </script>\n",
              "    </div>\n",
              "  </div>\n",
              "  "
            ]
          },
          "metadata": {},
          "execution_count": 54
        }
      ],
      "execution_count": 54,
      "metadata": {
        "trusted": true,
        "noteable": {},
        "id": "85121f51",
        "outputId": "ef8ab3f7-cfd2-4b9f-81fe-9800814a86a0",
        "colab": {
          "base_uri": "https://localhost:8080/",
          "height": 317
        }
      },
      "id": "85121f51"
    },
    {
      "cell_type": "markdown",
      "source": [
        "Price"
      ],
      "metadata": {
        "id": "4740bcc8"
      },
      "id": "4740bcc8"
    },
    {
      "cell_type": "code",
      "source": [
        "price,price_lambda = stats.boxcox(y_train)"
      ],
      "outputs": [],
      "execution_count": 55,
      "metadata": {
        "trusted": true,
        "id": "19aac122"
      },
      "id": "19aac122"
    },
    {
      "cell_type": "code",
      "source": [
        "print('The lambda for boxcox transform of price is {0}'.format(price_lambda))\n",
        "price_lambda=0.03888231697484755"
      ],
      "outputs": [
        {
          "output_type": "stream",
          "name": "stdout",
          "text": [
            "The lambda for boxcox transform of price is 0.03888234096955444\n"
          ]
        }
      ],
      "execution_count": 56,
      "metadata": {
        "trusted": true,
        "noteable": {},
        "id": "921e2d32",
        "outputId": "e2cad816-75a3-44b7-cde5-9dc60c7f7e49",
        "colab": {
          "base_uri": "https://localhost:8080/"
        }
      },
      "id": "921e2d32"
    },
    {
      "cell_type": "code",
      "source": [
        "sns.displot(price)"
      ],
      "outputs": [
        {
          "output_type": "execute_result",
          "data": {
            "text/plain": [
              "<seaborn.axisgrid.FacetGrid at 0x7f68628e97b0>"
            ]
          },
          "metadata": {},
          "execution_count": 57
        },
        {
          "output_type": "display_data",
          "data": {
            "text/plain": [
              "<Figure size 500x500 with 1 Axes>"
            ],
            "image/png": "[encoded data removed]"
          },
          "metadata": {}
        }
      ],
      "execution_count": 57,
      "metadata": {
        "trusted": true,
        "noteable": {},
        "id": "416c332c",
        "outputId": "1357c09a-772b-4584-bd0b-e5cf812aa7d1",
        "colab": {
          "base_uri": "https://localhost:8080/",
          "height": 523
        }
      },
      "id": "416c332c"
    },
    {
      "cell_type": "code",
      "source": [
        "test_price = stats.boxcox(y_test,price_lambda)"
      ],
      "outputs": [],
      "execution_count": 58,
      "metadata": {
        "trusted": true,
        "id": "6756b543"
      },
      "id": "6756b543"
    },
    {
      "cell_type": "code",
      "source": [
        "y_train_trans = price\n",
        "y_test_trans = test_price"
      ],
      "outputs": [],
      "execution_count": 59,
      "metadata": {
        "trusted": true,
        "id": "7a51f18e"
      },
      "id": "7a51f18e"
    },
    {
      "cell_type": "markdown",
      "source": [
        "# Model Creation"
      ],
      "metadata": {
        "id": "e970662a"
      },
      "id": "e970662a"
    },
    {
      "cell_type": "code",
      "source": [
        "from sklearn.model_selection import RandomizedSearchCV, GridSearchCV\n",
        "from sklearn.linear_model import LinearRegression\n",
        "from sklearn.tree import DecisionTreeRegressor\n",
        "from sklearn.ensemble import RandomForestRegressor\n",
        "from sklearn.metrics import r2_score, mean_squared_error\n",
        "import pickle"
      ],
      "outputs": [],
      "execution_count": 60,
      "metadata": {
        "trusted": true,
        "id": "114eb7df"
      },
      "id": "114eb7df"
    },
    {
      "cell_type": "code",
      "source": [
        "X_train.drop(['mileage'], axis=1, inplace=True)\n",
        "X_test.drop(['mileage'], axis=1, inplace=True)"
      ],
      "outputs": [],
      "execution_count": 61,
      "metadata": {
        "trusted": true,
        "id": "2288b337"
      },
      "id": "2288b337"
    },
    {
      "cell_type": "markdown",
      "source": [
        "### Linear Regression"
      ],
      "metadata": {
        "id": "14bc5270"
      },
      "id": "14bc5270"
    },
    {
      "cell_type": "code",
      "source": [
        "reg = LinearRegression()\n",
        "reg.fit(X_train, y_train_trans)"
      ],
      "outputs": [
        {
          "output_type": "execute_result",
          "data": {
            "text/plain": [
              "LinearRegression()"
            ],
            "text/html": [
              "<style>#sk-container-id-1 {color: black;background-color: white;}#sk-container-id-1 pre{padding: 0;}#sk-container-id-1 div.sk-toggleable {background-color: white;}#sk-container-id-1 label.sk-toggleable__label {cursor: pointer;display: block;width: 100%;margin-bottom: 0;padding: 0.3em;box-sizing: border-box;text-align: center;}#sk-container-id-1 label.sk-toggleable__label-arrow:before {content: \"▸\";float: left;margin-right: 0.25em;color: #696969;}#sk-container-id-1 label.sk-toggleable__label-arrow:hover:before {color: black;}#sk-container-id-1 div.sk-estimator:hover label.sk-toggleable__label-arrow:before {color: black;}#sk-container-id-1 div.sk-toggleable__content {max-height: 0;max-width: 0;overflow: hidden;text-align: left;background-color: #f0f8ff;}#sk-container-id-1 div.sk-toggleable__content pre {margin: 0.2em;color: black;border-radius: 0.25em;background-color: #f0f8ff;}#sk-container-id-1 input.sk-toggleable__control:checked~div.sk-toggleable__content {max-height: 200px;max-width: 100%;overflow: auto;}#sk-container-id-1 input.sk-toggleable__control:checked~label.sk-toggleable__label-arrow:before {content: \"▾\";}#sk-container-id-1 div.sk-estimator input.sk-toggleable__control:checked~label.sk-toggleable__label {background-color: #d4ebff;}#sk-container-id-1 div.sk-label input.sk-toggleable__control:checked~label.sk-toggleable__label {background-color: #d4ebff;}#sk-container-id-1 input.sk-hidden--visually {border: 0;clip: rect(1px 1px 1px 1px);clip: rect(1px, 1px, 1px, 1px);height: 1px;margin: -1px;overflow: hidden;padding: 0;position: absolute;width: 1px;}#sk-container-id-1 div.sk-estimator {font-family: monospace;background-color: #f0f8ff;border: 1px dotted black;border-radius: 0.25em;box-sizing: border-box;margin-bottom: 0.5em;}#sk-container-id-1 div.sk-estimator:hover {background-color: #d4ebff;}#sk-container-id-1 div.sk-parallel-item::after {content: \"\";width: 100%;border-bottom: 1px solid gray;flex-grow: 1;}#sk-container-id-1 div.sk-label:hover label.sk-toggleable__label {background-color: #d4ebff;}#sk-container-id-1 div.sk-serial::before {content: \"\";position: absolute;border-left: 1px solid gray;box-sizing: border-box;top: 0;bottom: 0;left: 50%;z-index: 0;}#sk-container-id-1 div.sk-serial {display: flex;flex-direction: column;align-items: center;background-color: white;padding-right: 0.2em;padding-left: 0.2em;position: relative;}#sk-container-id-1 div.sk-item {position: relative;z-index: 1;}#sk-container-id-1 div.sk-parallel {display: flex;align-items: stretch;justify-content: center;background-color: white;position: relative;}#sk-container-id-1 div.sk-item::before, #sk-container-id-1 div.sk-parallel-item::before {content: \"\";position: absolute;border-left: 1px solid gray;box-sizing: border-box;top: 0;bottom: 0;left: 50%;z-index: -1;}#sk-container-id-1 div.sk-parallel-item {display: flex;flex-direction: column;z-index: 1;position: relative;background-color: white;}#sk-container-id-1 div.sk-parallel-item:first-child::after {align-self: flex-end;width: 50%;}#sk-container-id-1 div.sk-parallel-item:last-child::after {align-self: flex-start;width: 50%;}#sk-container-id-1 div.sk-parallel-item:only-child::after {width: 0;}#sk-container-id-1 div.sk-dashed-wrapped {border: 1px dashed gray;margin: 0 0.4em 0.5em 0.4em;box-sizing: border-box;padding-bottom: 0.4em;background-color: white;}#sk-container-id-1 div.sk-label label {font-family: monospace;font-weight: bold;display: inline-block;line-height: 1.2em;}#sk-container-id-1 div.sk-label-container {text-align: center;}#sk-container-id-1 div.sk-container {/* jupyter's `normalize.less` sets `[hidden] { display: none; }` but bootstrap.min.css set `[hidden] { display: none !important; }` so we also need the `!important` here to be able to override the default hidden behavior on the sphinx rendered scikit-learn.org. See: https://github.com/scikit-learn/scikit-learn/issues/21755 */display: inline-block !important;position: relative;}#sk-container-id-1 div.sk-text-repr-fallback {display: none;}</style><div id=\"sk-container-id-1\" class=\"sk-top-container\"><div class=\"sk-text-repr-fallback\"><pre>LinearRegression()</pre><b>In a Jupyter environment, please rerun this cell to show the HTML representation or trust the notebook. <br />On GitHub, the HTML representation is unable to render, please try loading this page with nbviewer.org.</b></div><div class=\"sk-container\" hidden><div class=\"sk-item\"><div class=\"sk-estimator sk-toggleable\"><input class=\"sk-toggleable__control sk-hidden--visually\" id=\"sk-estimator-id-1\" type=\"checkbox\" checked><label for=\"sk-estimator-id-1\" class=\"sk-toggleable__label sk-toggleable__label-arrow\">LinearRegression</label><div class=\"sk-toggleable__content\"><pre>LinearRegression()</pre></div></div></div></div></div>"
            ]
          },
          "metadata": {},
          "execution_count": 62
        }
      ],
      "execution_count": 62,
      "metadata": {
        "trusted": true,
        "noteable": {},
        "id": "e288ec2c",
        "outputId": "c872f140-ad9f-465c-b033-ead448da2257",
        "colab": {
          "base_uri": "https://localhost:8080/",
          "height": 75
        }
      },
      "id": "e288ec2c"
    },
    {
      "cell_type": "code",
      "source": [
        "y_train_pred = reg.predict(X_train)\n",
        "y_pred = reg.predict(X_test)"
      ],
      "outputs": [],
      "execution_count": 63,
      "metadata": {
        "trusted": true,
        "id": "a0505818"
      },
      "id": "a0505818"
    },
    {
      "cell_type": "code",
      "source": [
        "train_r2 = r2_score(y_train_trans, y_train_pred)\n",
        "print('The train R2 value is {0}'.format(train_r2))\n",
        "\n",
        "test_r2 = r2_score(y_test_trans, y_pred)\n",
        "print('The test R2 value is {0}'.format(test_r2))"
      ],
      "outputs": [
        {
          "output_type": "stream",
          "name": "stdout",
          "text": [
            "The train R2 value is 0.9408532273247943\n",
            "The test R2 value is 0.9390978938390443\n"
          ]
        }
      ],
      "execution_count": 64,
      "metadata": {
        "trusted": true,
        "noteable": {},
        "id": "f14f0b11",
        "outputId": "38eb8937-7d2e-457e-9538-4f2fd90185f2",
        "colab": {
          "base_uri": "https://localhost:8080/"
        }
      },
      "id": "f14f0b11"
    },
    {
      "cell_type": "code",
      "source": [
        "!rm -rf /content/models\n",
        "!rm -rf /content/data\n",
        "!mkdir models\n",
        "!mkdir data"
      ],
      "outputs": [],
      "execution_count": 65,
      "metadata": {
        "trusted": true,
        "id": "4d5a94ed"
      },
      "id": "4d5a94ed"
    },
    {
      "cell_type": "code",
      "source": [
        "with open('/content/data/linear_regression.pkl', 'wb') as f:\n",
        "    pickle.dump(reg,f)\n",
        "with open('/content/data/X_train.pkl', 'wb') as f:\n",
        "    pickle.dump(X_train,f)\n",
        "with open('/content/data/X_test.pkl', 'wb') as f:\n",
        "    pickle.dump(X_test,f)\n",
        "with open('/content/data/y_train.pkl', 'wb') as f:\n",
        "    pickle.dump(y_train,f)\n",
        "with open('/content/data/y_test.pkl', 'wb') as f:\n",
        "    pickle.dump(y_test,f)\n",
        "with open('/content/data/y_train_trans.pkl', 'wb') as f:\n",
        "    pickle.dump(y_train_trans,f)\n",
        "with open('/content/data/y_test_trans.pkl', 'wb') as f:\n",
        "    pickle.dump(y_test_trans,f)"
      ],
      "outputs": [],
      "execution_count": 66,
      "metadata": {
        "trusted": true,
        "id": "4c409235"
      },
      "id": "4c409235"
    },
    {
      "cell_type": "markdown",
      "source": [
        "### Decision Tree"
      ],
      "metadata": {
        "id": "fd9f15c2"
      },
      "id": "fd9f15c2"
    },
    {
      "cell_type": "code",
      "source": [
        "reg = DecisionTreeRegressor(random_state=42)\n",
        "parameters = {\"max_depth\":np.array([1, 2, 5, 10, 50, 100]), \"min_samples_split\":np.array([2])}\n",
        "clf = GridSearchCV(reg, param_grid = parameters, cv = 5, scoring = 'r2', n_jobs=1, verbose=5)\n",
        "clf.fit(X_train, y_train_trans)\n",
        "print(clf.best_estimator_)\n",
        "best_reg = clf.best_estimator_\n",
        "best_reg.fit(X_train, y_train_trans)"
      ],
      "outputs": [
        {
          "output_type": "stream",
          "name": "stdout",
          "text": [
            "Fitting 5 folds for each of 6 candidates, totalling 30 fits\n",
            "[CV 1/5] END ..max_depth=1, min_samples_split=2;, score=0.327 total time=   0.2s\n",
            "[CV 2/5] END ..max_depth=1, min_samples_split=2;, score=0.332 total time=   0.2s\n",
            "[CV 3/5] END ..max_depth=1, min_samples_split=2;, score=0.345 total time=   0.2s\n",
            "[CV 4/5] END ..max_depth=1, min_samples_split=2;, score=0.340 total time=   0.2s\n",
            "[CV 5/5] END ..max_depth=1, min_samples_split=2;, score=0.317 total time=   0.2s\n",
            "[CV 1/5] END ..max_depth=2, min_samples_split=2;, score=0.518 total time=   0.3s\n",
            "[CV 2/5] END ..max_depth=2, min_samples_split=2;, score=0.510 total time=   0.3s\n",
            "[CV 3/5] END ..max_depth=2, min_samples_split=2;, score=0.528 total time=   0.3s\n",
            "[CV 4/5] END ..max_depth=2, min_samples_split=2;, score=0.527 total time=   0.3s\n",
            "[CV 5/5] END ..max_depth=2, min_samples_split=2;, score=0.499 total time=   0.3s\n",
            "[CV 1/5] END ..max_depth=5, min_samples_split=2;, score=0.792 total time=   0.5s\n",
            "[CV 2/5] END ..max_depth=5, min_samples_split=2;, score=0.789 total time=   0.4s\n",
            "[CV 3/5] END ..max_depth=5, min_samples_split=2;, score=0.800 total time=   0.4s\n",
            "[CV 4/5] END ..max_depth=5, min_samples_split=2;, score=0.789 total time=   0.6s\n",
            "[CV 5/5] END ..max_depth=5, min_samples_split=2;, score=0.788 total time=   0.7s\n",
            "[CV 1/5] END .max_depth=10, min_samples_split=2;, score=0.905 total time=   1.0s\n",
            "[CV 2/5] END .max_depth=10, min_samples_split=2;, score=0.904 total time=   0.8s\n",
            "[CV 3/5] END .max_depth=10, min_samples_split=2;, score=0.905 total time=   0.6s\n",
            "[CV 4/5] END .max_depth=10, min_samples_split=2;, score=0.903 total time=   0.6s\n",
            "[CV 5/5] END .max_depth=10, min_samples_split=2;, score=0.901 total time=   0.6s\n",
            "[CV 1/5] END .max_depth=50, min_samples_split=2;, score=0.935 total time=   1.0s\n",
            "[CV 2/5] END .max_depth=50, min_samples_split=2;, score=0.937 total time=   1.0s\n",
            "[CV 3/5] END .max_depth=50, min_samples_split=2;, score=0.935 total time=   1.0s\n",
            "[CV 4/5] END .max_depth=50, min_samples_split=2;, score=0.934 total time=   1.0s\n",
            "[CV 5/5] END .max_depth=50, min_samples_split=2;, score=0.937 total time=   1.0s\n",
            "[CV 1/5] END max_depth=100, min_samples_split=2;, score=0.935 total time=   1.0s\n",
            "[CV 2/5] END max_depth=100, min_samples_split=2;, score=0.938 total time=   0.9s\n",
            "[CV 3/5] END max_depth=100, min_samples_split=2;, score=0.935 total time=   0.9s\n",
            "[CV 4/5] END max_depth=100, min_samples_split=2;, score=0.934 total time=   1.3s\n",
            "[CV 5/5] END max_depth=100, min_samples_split=2;, score=0.937 total time=   1.5s\n",
            "DecisionTreeRegressor(max_depth=100, random_state=42)\n"
          ]
        },
        {
          "output_type": "execute_result",
          "data": {
            "text/plain": [
              "DecisionTreeRegressor(max_depth=100, random_state=42)"
            ],
            "text/html": [
              "<style>#sk-container-id-2 {color: black;background-color: white;}#sk-container-id-2 pre{padding: 0;}#sk-container-id-2 div.sk-toggleable {background-color: white;}#sk-container-id-2 label.sk-toggleable__label {cursor: pointer;display: block;width: 100%;margin-bottom: 0;padding: 0.3em;box-sizing: border-box;text-align: center;}#sk-container-id-2 label.sk-toggleable__label-arrow:before {content: \"▸\";float: left;margin-right: 0.25em;color: #696969;}#sk-container-id-2 label.sk-toggleable__label-arrow:hover:before {color: black;}#sk-container-id-2 div.sk-estimator:hover label.sk-toggleable__label-arrow:before {color: black;}#sk-container-id-2 div.sk-toggleable__content {max-height: 0;max-width: 0;overflow: hidden;text-align: left;background-color: #f0f8ff;}#sk-container-id-2 div.sk-toggleable__content pre {margin: 0.2em;color: black;border-radius: 0.25em;background-color: #f0f8ff;}#sk-container-id-2 input.sk-toggleable__control:checked~div.sk-toggleable__content {max-height: 200px;max-width: 100%;overflow: auto;}#sk-container-id-2 input.sk-toggleable__control:checked~label.sk-toggleable__label-arrow:before {content: \"▾\";}#sk-container-id-2 div.sk-estimator input.sk-toggleable__control:checked~label.sk-toggleable__label {background-color: #d4ebff;}#sk-container-id-2 div.sk-label input.sk-toggleable__control:checked~label.sk-toggleable__label {background-color: #d4ebff;}#sk-container-id-2 input.sk-hidden--visually {border: 0;clip: rect(1px 1px 1px 1px);clip: rect(1px, 1px, 1px, 1px);height: 1px;margin: -1px;overflow: hidden;padding: 0;position: absolute;width: 1px;}#sk-container-id-2 div.sk-estimator {font-family: monospace;background-color: #f0f8ff;border: 1px dotted black;border-radius: 0.25em;box-sizing: border-box;margin-bottom: 0.5em;}#sk-container-id-2 div.sk-estimator:hover {background-color: #d4ebff;}#sk-container-id-2 div.sk-parallel-item::after {content: \"\";width: 100%;border-bottom: 1px solid gray;flex-grow: 1;}#sk-container-id-2 div.sk-label:hover label.sk-toggleable__label {background-color: #d4ebff;}#sk-container-id-2 div.sk-serial::before {content: \"\";position: absolute;border-left: 1px solid gray;box-sizing: border-box;top: 0;bottom: 0;left: 50%;z-index: 0;}#sk-container-id-2 div.sk-serial {display: flex;flex-direction: column;align-items: center;background-color: white;padding-right: 0.2em;padding-left: 0.2em;position: relative;}#sk-container-id-2 div.sk-item {position: relative;z-index: 1;}#sk-container-id-2 div.sk-parallel {display: flex;align-items: stretch;justify-content: center;background-color: white;position: relative;}#sk-container-id-2 div.sk-item::before, #sk-container-id-2 div.sk-parallel-item::before {content: \"\";position: absolute;border-left: 1px solid gray;box-sizing: border-box;top: 0;bottom: 0;left: 50%;z-index: -1;}#sk-container-id-2 div.sk-parallel-item {display: flex;flex-direction: column;z-index: 1;position: relative;background-color: white;}#sk-container-id-2 div.sk-parallel-item:first-child::after {align-self: flex-end;width: 50%;}#sk-container-id-2 div.sk-parallel-item:last-child::after {align-self: flex-start;width: 50%;}#sk-container-id-2 div.sk-parallel-item:only-child::after {width: 0;}#sk-container-id-2 div.sk-dashed-wrapped {border: 1px dashed gray;margin: 0 0.4em 0.5em 0.4em;box-sizing: border-box;padding-bottom: 0.4em;background-color: white;}#sk-container-id-2 div.sk-label label {font-family: monospace;font-weight: bold;display: inline-block;line-height: 1.2em;}#sk-container-id-2 div.sk-label-container {text-align: center;}#sk-container-id-2 div.sk-container {/* jupyter's `normalize.less` sets `[hidden] { display: none; }` but bootstrap.min.css set `[hidden] { display: none !important; }` so we also need the `!important` here to be able to override the default hidden behavior on the sphinx rendered scikit-learn.org. See: https://github.com/scikit-learn/scikit-learn/issues/21755 */display: inline-block !important;position: relative;}#sk-container-id-2 div.sk-text-repr-fallback {display: none;}</style><div id=\"sk-container-id-2\" class=\"sk-top-container\"><div class=\"sk-text-repr-fallback\"><pre>DecisionTreeRegressor(max_depth=100, random_state=42)</pre><b>In a Jupyter environment, please rerun this cell to show the HTML representation or trust the notebook. <br />On GitHub, the HTML representation is unable to render, please try loading this page with nbviewer.org.</b></div><div class=\"sk-container\" hidden><div class=\"sk-item\"><div class=\"sk-estimator sk-toggleable\"><input class=\"sk-toggleable__control sk-hidden--visually\" id=\"sk-estimator-id-2\" type=\"checkbox\" checked><label for=\"sk-estimator-id-2\" class=\"sk-toggleable__label sk-toggleable__label-arrow\">DecisionTreeRegressor</label><div class=\"sk-toggleable__content\"><pre>DecisionTreeRegressor(max_depth=100, random_state=42)</pre></div></div></div></div></div>"
            ]
          },
          "metadata": {},
          "execution_count": 67
        }
      ],
      "execution_count": 67,
      "metadata": {
        "trusted": true,
        "noteable": {},
        "id": "c5923bf9",
        "outputId": "5b97366e-f30a-4e2d-a40a-c0b4a91151c3",
        "colab": {
          "base_uri": "https://localhost:8080/",
          "height": 630
        }
      },
      "id": "c5923bf9"
    },
    {
      "cell_type": "code",
      "source": [
        "y_train_pred = best_reg.predict(X_train)\n",
        "y_pred = best_reg.predict(X_test)\n",
        "train_r2 = r2_score(y_train_trans, y_train_pred)\n",
        "print('The train R2 value is {0}'.format(train_r2))\n",
        "\n",
        "test_r2 = r2_score(y_test_trans, y_pred)\n",
        "print('The test R2 value is {0}'.format(test_r2))"
      ],
      "outputs": [
        {
          "output_type": "stream",
          "name": "stdout",
          "text": [
            "The train R2 value is 0.9997593383806544\n",
            "The test R2 value is 0.939858076756273\n"
          ]
        }
      ],
      "execution_count": 68,
      "metadata": {
        "trusted": true,
        "noteable": {},
        "id": "670d56d6",
        "outputId": "2b397485-bcd8-4a72-bb02-4a5755b0eae1",
        "colab": {
          "base_uri": "https://localhost:8080/"
        }
      },
      "id": "670d56d6"
    },
    {
      "cell_type": "code",
      "source": [
        "with open('/content/data/decisiontree_regression.pkl', 'wb') as f:\n",
        "    pickle.dump(best_reg,f)"
      ],
      "outputs": [],
      "execution_count": 87,
      "metadata": {
        "trusted": true,
        "id": "785b4a6f"
      },
      "id": "785b4a6f"
    },
    {
      "cell_type": "markdown",
      "source": [
        "### Random Forest"
      ],
      "metadata": {
        "id": "746823a3"
      },
      "id": "746823a3"
    },
    {
      "cell_type": "code",
      "source": [
        "reg = RandomForestRegressor(random_state=42)\n",
        "parameters = {\"max_depth\": [2, 3, 5, 8, 10, 15, 20, 25, 30, 40, 50,100],\n",
        "              \"n_estimators\": [10, 20, 30, 40, 50, 80, 100, 150, 200],\n",
        "                \"max_features\": ['sqrt']\n",
        "             }\n",
        "rcv = RandomizedSearchCV(reg, param_distributions = parameters, cv = 3, scoring = 'r2', n_jobs=1, verbose=10)\n",
        "rcv.fit(X_train, y_train_trans)\n",
        "print(rcv.best_estimator_)\n",
        "best_reg = rcv.best_estimator_\n",
        "best_reg.fit(X_train, y_train_trans)"
      ],
      "outputs": [
        {
          "output_type": "stream",
          "name": "stdout",
          "text": [
            "Fitting 3 folds for each of 10 candidates, totalling 30 fits\n",
            "[CV 1/3; 1/10] START max_depth=30, max_features=sqrt, n_estimators=200..........\n",
            "[CV 1/3; 1/10] END max_depth=30, max_features=sqrt, n_estimators=200;, score=0.961 total time=  28.4s\n",
            "[CV 2/3; 1/10] START max_depth=30, max_features=sqrt, n_estimators=200..........\n",
            "[CV 2/3; 1/10] END max_depth=30, max_features=sqrt, n_estimators=200;, score=0.962 total time=  28.6s\n",
            "[CV 3/3; 1/10] START max_depth=30, max_features=sqrt, n_estimators=200..........\n",
            "[CV 3/3; 1/10] END max_depth=30, max_features=sqrt, n_estimators=200;, score=0.959 total time=  32.4s\n",
            "[CV 1/3; 2/10] START max_depth=5, max_features=sqrt, n_estimators=80............\n",
            "[CV 1/3; 2/10] END max_depth=5, max_features=sqrt, n_estimators=80;, score=0.611 total time=   1.4s\n",
            "[CV 2/3; 2/10] START max_depth=5, max_features=sqrt, n_estimators=80............\n",
            "[CV 2/3; 2/10] END max_depth=5, max_features=sqrt, n_estimators=80;, score=0.619 total time=   1.5s\n",
            "[CV 3/3; 2/10] START max_depth=5, max_features=sqrt, n_estimators=80............\n",
            "[CV 3/3; 2/10] END max_depth=5, max_features=sqrt, n_estimators=80;, score=0.611 total time=   1.4s\n",
            "[CV 1/3; 3/10] START max_depth=20, max_features=sqrt, n_estimators=20...........\n",
            "[CV 1/3; 3/10] END max_depth=20, max_features=sqrt, n_estimators=20;, score=0.931 total time=   2.0s\n",
            "[CV 2/3; 3/10] START max_depth=20, max_features=sqrt, n_estimators=20...........\n",
            "[CV 2/3; 3/10] END max_depth=20, max_features=sqrt, n_estimators=20;, score=0.933 total time=   2.6s\n",
            "[CV 3/3; 3/10] START max_depth=20, max_features=sqrt, n_estimators=20...........\n",
            "[CV 3/3; 3/10] END max_depth=20, max_features=sqrt, n_estimators=20;, score=0.931 total time=   2.3s\n",
            "[CV 1/3; 4/10] START max_depth=8, max_features=sqrt, n_estimators=200...........\n",
            "[CV 1/3; 4/10] END max_depth=8, max_features=sqrt, n_estimators=200;, score=0.749 total time=   5.5s\n",
            "[CV 2/3; 4/10] START max_depth=8, max_features=sqrt, n_estimators=200...........\n",
            "[CV 2/3; 4/10] END max_depth=8, max_features=sqrt, n_estimators=200;, score=0.746 total time=   6.4s\n",
            "[CV 3/3; 4/10] START max_depth=8, max_features=sqrt, n_estimators=200...........\n",
            "[CV 3/3; 4/10] END max_depth=8, max_features=sqrt, n_estimators=200;, score=0.743 total time=   5.5s\n",
            "[CV 1/3; 5/10] START max_depth=15, max_features=sqrt, n_estimators=150..........\n",
            "[CV 1/3; 5/10] END max_depth=15, max_features=sqrt, n_estimators=150;, score=0.894 total time=  10.0s\n",
            "[CV 2/3; 5/10] START max_depth=15, max_features=sqrt, n_estimators=150..........\n",
            "[CV 2/3; 5/10] END max_depth=15, max_features=sqrt, n_estimators=150;, score=0.896 total time=  10.1s\n",
            "[CV 3/3; 5/10] START max_depth=15, max_features=sqrt, n_estimators=150..........\n",
            "[CV 3/3; 5/10] END max_depth=15, max_features=sqrt, n_estimators=150;, score=0.888 total time=   9.2s\n",
            "[CV 1/3; 6/10] START max_depth=3, max_features=sqrt, n_estimators=100...........\n",
            "[CV 1/3; 6/10] END max_depth=3, max_features=sqrt, n_estimators=100;, score=0.464 total time=   1.9s\n",
            "[CV 2/3; 6/10] START max_depth=3, max_features=sqrt, n_estimators=100...........\n",
            "[CV 2/3; 6/10] END max_depth=3, max_features=sqrt, n_estimators=100;, score=0.463 total time=   1.4s\n",
            "[CV 3/3; 6/10] START max_depth=3, max_features=sqrt, n_estimators=100...........\n",
            "[CV 3/3; 6/10] END max_depth=3, max_features=sqrt, n_estimators=100;, score=0.454 total time=   1.2s\n",
            "[CV 1/3; 7/10] START max_depth=3, max_features=sqrt, n_estimators=200...........\n",
            "[CV 1/3; 7/10] END max_depth=3, max_features=sqrt, n_estimators=200;, score=0.475 total time=   2.2s\n",
            "[CV 2/3; 7/10] START max_depth=3, max_features=sqrt, n_estimators=200...........\n",
            "[CV 2/3; 7/10] END max_depth=3, max_features=sqrt, n_estimators=200;, score=0.463 total time=   2.2s\n",
            "[CV 3/3; 7/10] START max_depth=3, max_features=sqrt, n_estimators=200...........\n",
            "[CV 3/3; 7/10] END max_depth=3, max_features=sqrt, n_estimators=200;, score=0.455 total time=   2.1s\n",
            "[CV 1/3; 8/10] START max_depth=25, max_features=sqrt, n_estimators=30...........\n",
            "[CV 1/3; 8/10] END max_depth=25, max_features=sqrt, n_estimators=30;, score=0.953 total time=   4.4s\n",
            "[CV 2/3; 8/10] START max_depth=25, max_features=sqrt, n_estimators=30...........\n",
            "[CV 2/3; 8/10] END max_depth=25, max_features=sqrt, n_estimators=30;, score=0.954 total time=   3.5s\n",
            "[CV 3/3; 8/10] START max_depth=25, max_features=sqrt, n_estimators=30...........\n",
            "[CV 3/3; 8/10] END max_depth=25, max_features=sqrt, n_estimators=30;, score=0.949 total time=   3.3s\n",
            "[CV 1/3; 9/10] START max_depth=50, max_features=sqrt, n_estimators=150..........\n",
            "[CV 1/3; 9/10] END max_depth=50, max_features=sqrt, n_estimators=150;, score=0.963 total time=  26.2s\n",
            "[CV 2/3; 9/10] START max_depth=50, max_features=sqrt, n_estimators=150..........\n",
            "[CV 2/3; 9/10] END max_depth=50, max_features=sqrt, n_estimators=150;, score=0.964 total time=  26.3s\n",
            "[CV 3/3; 9/10] START max_depth=50, max_features=sqrt, n_estimators=150..........\n",
            "[CV 3/3; 9/10] END max_depth=50, max_features=sqrt, n_estimators=150;, score=0.961 total time=  26.1s\n",
            "[CV 1/3; 10/10] START max_depth=30, max_features=sqrt, n_estimators=80..........\n",
            "[CV 1/3; 10/10] END max_depth=30, max_features=sqrt, n_estimators=80;, score=0.960 total time=  11.6s\n",
            "[CV 2/3; 10/10] START max_depth=30, max_features=sqrt, n_estimators=80..........\n",
            "[CV 2/3; 10/10] END max_depth=30, max_features=sqrt, n_estimators=80;, score=0.961 total time=  11.5s\n",
            "[CV 3/3; 10/10] START max_depth=30, max_features=sqrt, n_estimators=80..........\n",
            "[CV 3/3; 10/10] END max_depth=30, max_features=sqrt, n_estimators=80;, score=0.958 total time=  11.5s\n",
            "RandomForestRegressor(max_depth=50, max_features='sqrt', n_estimators=150,\n",
            "                      random_state=42)\n"
          ]
        },
        {
          "output_type": "execute_result",
          "data": {
            "text/plain": [
              "RandomForestRegressor(max_depth=50, max_features='sqrt', n_estimators=150,\n",
              "                      random_state=42)"
            ],
            "text/html": [
              "<style>#sk-container-id-7 {color: black;background-color: white;}#sk-container-id-7 pre{padding: 0;}#sk-container-id-7 div.sk-toggleable {background-color: white;}#sk-container-id-7 label.sk-toggleable__label {cursor: pointer;display: block;width: 100%;margin-bottom: 0;padding: 0.3em;box-sizing: border-box;text-align: center;}#sk-container-id-7 label.sk-toggleable__label-arrow:before {content: \"▸\";float: left;margin-right: 0.25em;color: #696969;}#sk-container-id-7 label.sk-toggleable__label-arrow:hover:before {color: black;}#sk-container-id-7 div.sk-estimator:hover label.sk-toggleable__label-arrow:before {color: black;}#sk-container-id-7 div.sk-toggleable__content {max-height: 0;max-width: 0;overflow: hidden;text-align: left;background-color: #f0f8ff;}#sk-container-id-7 div.sk-toggleable__content pre {margin: 0.2em;color: black;border-radius: 0.25em;background-color: #f0f8ff;}#sk-container-id-7 input.sk-toggleable__control:checked~div.sk-toggleable__content {max-height: 200px;max-width: 100%;overflow: auto;}#sk-container-id-7 input.sk-toggleable__control:checked~label.sk-toggleable__label-arrow:before {content: \"▾\";}#sk-container-id-7 div.sk-estimator input.sk-toggleable__control:checked~label.sk-toggleable__label {background-color: #d4ebff;}#sk-container-id-7 div.sk-label input.sk-toggleable__control:checked~label.sk-toggleable__label {background-color: #d4ebff;}#sk-container-id-7 input.sk-hidden--visually {border: 0;clip: rect(1px 1px 1px 1px);clip: rect(1px, 1px, 1px, 1px);height: 1px;margin: -1px;overflow: hidden;padding: 0;position: absolute;width: 1px;}#sk-container-id-7 div.sk-estimator {font-family: monospace;background-color: #f0f8ff;border: 1px dotted black;border-radius: 0.25em;box-sizing: border-box;margin-bottom: 0.5em;}#sk-container-id-7 div.sk-estimator:hover {background-color: #d4ebff;}#sk-container-id-7 div.sk-parallel-item::after {content: \"\";width: 100%;border-bottom: 1px solid gray;flex-grow: 1;}#sk-container-id-7 div.sk-label:hover label.sk-toggleable__label {background-color: #d4ebff;}#sk-container-id-7 div.sk-serial::before {content: \"\";position: absolute;border-left: 1px solid gray;box-sizing: border-box;top: 0;bottom: 0;left: 50%;z-index: 0;}#sk-container-id-7 div.sk-serial {display: flex;flex-direction: column;align-items: center;background-color: white;padding-right: 0.2em;padding-left: 0.2em;position: relative;}#sk-container-id-7 div.sk-item {position: relative;z-index: 1;}#sk-container-id-7 div.sk-parallel {display: flex;align-items: stretch;justify-content: center;background-color: white;position: relative;}#sk-container-id-7 div.sk-item::before, #sk-container-id-7 div.sk-parallel-item::before {content: \"\";position: absolute;border-left: 1px solid gray;box-sizing: border-box;top: 0;bottom: 0;left: 50%;z-index: -1;}#sk-container-id-7 div.sk-parallel-item {display: flex;flex-direction: column;z-index: 1;position: relative;background-color: white;}#sk-container-id-7 div.sk-parallel-item:first-child::after {align-self: flex-end;width: 50%;}#sk-container-id-7 div.sk-parallel-item:last-child::after {align-self: flex-start;width: 50%;}#sk-container-id-7 div.sk-parallel-item:only-child::after {width: 0;}#sk-container-id-7 div.sk-dashed-wrapped {border: 1px dashed gray;margin: 0 0.4em 0.5em 0.4em;box-sizing: border-box;padding-bottom: 0.4em;background-color: white;}#sk-container-id-7 div.sk-label label {font-family: monospace;font-weight: bold;display: inline-block;line-height: 1.2em;}#sk-container-id-7 div.sk-label-container {text-align: center;}#sk-container-id-7 div.sk-container {/* jupyter's `normalize.less` sets `[hidden] { display: none; }` but bootstrap.min.css set `[hidden] { display: none !important; }` so we also need the `!important` here to be able to override the default hidden behavior on the sphinx rendered scikit-learn.org. See: https://github.com/scikit-learn/scikit-learn/issues/21755 */display: inline-block !important;position: relative;}#sk-container-id-7 div.sk-text-repr-fallback {display: none;}</style><div id=\"sk-container-id-7\" class=\"sk-top-container\"><div class=\"sk-text-repr-fallback\"><pre>RandomForestRegressor(max_depth=50, max_features=&#x27;sqrt&#x27;, n_estimators=150,\n",
              "                      random_state=42)</pre><b>In a Jupyter environment, please rerun this cell to show the HTML representation or trust the notebook. <br />On GitHub, the HTML representation is unable to render, please try loading this page with nbviewer.org.</b></div><div class=\"sk-container\" hidden><div class=\"sk-item\"><div class=\"sk-estimator sk-toggleable\"><input class=\"sk-toggleable__control sk-hidden--visually\" id=\"sk-estimator-id-7\" type=\"checkbox\" checked><label for=\"sk-estimator-id-7\" class=\"sk-toggleable__label sk-toggleable__label-arrow\">RandomForestRegressor</label><div class=\"sk-toggleable__content\"><pre>RandomForestRegressor(max_depth=50, max_features=&#x27;sqrt&#x27;, n_estimators=150,\n",
              "                      random_state=42)</pre></div></div></div></div></div>"
            ]
          },
          "metadata": {},
          "execution_count": 89
        }
      ],
      "execution_count": 89,
      "metadata": {
        "trusted": true,
        "noteable": {},
        "id": "f500a36c",
        "outputId": "4181ae1d-39f2-4b17-8527-4fe67ac25908",
        "colab": {
          "base_uri": "https://localhost:8080/",
          "height": 1000
        }
      },
      "id": "f500a36c"
    },
    {
      "cell_type": "code",
      "source": [
        "y_train_pred = best_reg.predict(X_train)\n",
        "y_pred = best_reg.predict(X_test)\n",
        "train_r2 = r2_score(y_train_trans, y_train_pred)\n",
        "print('The train R2 value is {0}'.format(train_r2))\n",
        "\n",
        "test_r2 = r2_score(y_test_trans, y_pred)\n",
        "print('The test R2 value is {0}'.format(test_r2))"
      ],
      "outputs": [
        {
          "output_type": "stream",
          "name": "stdout",
          "text": [
            "The train R2 value is 0.9948568995179164\n",
            "The test R2 value is 0.9647731160203123\n"
          ]
        }
      ],
      "execution_count": 90,
      "metadata": {
        "trusted": true,
        "noteable": {},
        "id": "3d0efba8",
        "outputId": "43a6b7d2-6448-49c2-a3e9-f598bddf5391",
        "colab": {
          "base_uri": "https://localhost:8080/"
        }
      },
      "id": "3d0efba8"
    },
    {
      "cell_type": "code",
      "source": [
        "with open('/content/data/randomforest_regression.pkl', 'wb') as f:\n",
        "    pickle.dump(best_reg,f)"
      ],
      "outputs": [],
      "execution_count": 91,
      "metadata": {
        "trusted": true,
        "id": "bc4deed7"
      },
      "id": "bc4deed7"
    },
    {
      "cell_type": "markdown",
      "source": [
        "## XGBoost"
      ],
      "metadata": {
        "id": "63769177"
      },
      "id": "63769177"
    },
    {
      "cell_type": "markdown",
      "source": [
        "Ping to be alive 12 hours"
      ],
      "metadata": {
        "id": "dIqC1KfOINg2"
      },
      "id": "dIqC1KfOINg2"
    },
    {
      "cell_type": "code",
      "source": [
        "#@title Simple Keep Alive (12 hours) { vertical-output: true }\n",
        "#@markdown *Press this button from the desktop environment to keep this machine alive for 12 hours.*\n",
        "\n",
        "#@markdown Basically press `Up` and `Down` every `ping` seconds.\n",
        "run = True #@param {type:\"boolean\"}\n",
        "\n",
        "user = \"user\" #@param {type:\"string\"}\n",
        "# How much time between\n",
        "ping = 5 #@param {type:\"integer\"}\n",
        "\n",
        "busy = True #@param {type:\"boolean\"}\n",
        "\n",
        "def simple_keep_alive(user=user, interaction_interval=ping):\n",
        "  !apt install xdotool xattr > /dev/null 2>&1\n",
        "  from time import sleep\n",
        "\n",
        "  from os import environ\n",
        "  environ['user'] = user\n",
        "\n",
        "  while True:\n",
        "\n",
        "    # \"Starting Up and down\"\n",
        "    try:\n",
        "      output = !runuser -l user -c \"DISPLAY=:1.0 xdotool key 'Up'\"\n",
        "      assert \"Failed creating new xdo instance\" in output[0]\n",
        "      sleep(ping)\n",
        "      !runuser -l user -c \"DISPLAY=:1.0 xdotool key 'Down'\"\n",
        "      sleep(ping)\n",
        "    except AssertionError as no_session:\n",
        "      print(\"You need to run this cell from inside the VNC Session.\")\n",
        "      break\n",
        "\n",
        "if run:\n",
        "  simple_keep_alive()"
      ],
      "metadata": {
        "id": "0VpojD3sIJYQ",
        "outputId": "1f3177f6-7d58-4dd4-85ed-4fedd2d51088",
        "colab": {
          "base_uri": "https://localhost:8080/"
        }
      },
      "id": "0VpojD3sIJYQ",
      "execution_count": 95,
      "outputs": [
        {
          "output_type": "stream",
          "name": "stdout",
          "text": [
            "You need to run this cell from inside the VNC Session.\n"
          ]
        }
      ]
    },
    {
      "cell_type": "code",
      "source": [
        "from xgboost import XGBRegressor"
      ],
      "outputs": [],
      "execution_count": 92,
      "metadata": {
        "trusted": true,
        "id": "76382265"
      },
      "id": "76382265"
    },
    {
      "cell_type": "code",
      "source": [
        "xgb = XGBRegressor(n_jobs = -1)\n",
        "parameters = {\"max_depth\":np.array([1, 5, 10, 50, 150, 200, 250]), \"n_estimators\":np.array([3, 9, 11,15, 25, 50, 70, 150, 200, 250, 300])}\n",
        "reg = GridSearchCV(xgb, parameters, cv = 3, scoring='r2', n_jobs=1, verbose = 10) \n",
        "reg.fit(X_train, y_train_trans)\n",
        "print(reg.best_estimator_)\n",
        "best_reg = reg.best_estimator_\n",
        "best_reg.fit(X_train, y_train_trans)"
      ],
      "outputs": [
        {
          "output_type": "stream",
          "name": "stdout",
          "text": [
            "Fitting 3 folds for each of 77 candidates, totalling 231 fits\n",
            "[CV 1/3; 1/77] START max_depth=1, n_estimators=3................................\n",
            "[CV 1/3; 1/77] END max_depth=1, n_estimators=3;, score=-23.899 total time=   1.1s\n",
            "[CV 2/3; 1/77] START max_depth=1, n_estimators=3................................\n",
            "[CV 2/3; 1/77] END max_depth=1, n_estimators=3;, score=-23.602 total time=   1.1s\n",
            "[CV 3/3; 1/77] START max_depth=1, n_estimators=3................................\n",
            "[CV 3/3; 1/77] END max_depth=1, n_estimators=3;, score=-23.973 total time=   1.1s\n",
            "[CV 1/3; 2/77] START max_depth=1, n_estimators=9................................\n",
            "[CV 1/3; 2/77] END .max_depth=1, n_estimators=9;, score=0.326 total time=   1.5s\n",
            "[CV 2/3; 2/77] START max_depth=1, n_estimators=9................................\n",
            "[CV 2/3; 2/77] END .max_depth=1, n_estimators=9;, score=0.334 total time=   1.5s\n",
            "[CV 3/3; 2/77] START max_depth=1, n_estimators=9................................\n",
            "[CV 3/3; 2/77] END .max_depth=1, n_estimators=9;, score=0.315 total time=   1.5s\n",
            "[CV 1/3; 3/77] START max_depth=1, n_estimators=11...............................\n",
            "[CV 1/3; 3/77] END max_depth=1, n_estimators=11;, score=0.625 total time=   3.3s\n",
            "[CV 2/3; 3/77] START max_depth=1, n_estimators=11...............................\n",
            "[CV 2/3; 3/77] END max_depth=1, n_estimators=11;, score=0.629 total time=   1.7s\n",
            "[CV 3/3; 3/77] START max_depth=1, n_estimators=11...............................\n",
            "[CV 3/3; 3/77] END max_depth=1, n_estimators=11;, score=0.618 total time=   1.7s\n",
            "[CV 1/3; 4/77] START max_depth=1, n_estimators=15...............................\n",
            "[CV 1/3; 4/77] END max_depth=1, n_estimators=15;, score=0.752 total time=   2.0s\n",
            "[CV 2/3; 4/77] START max_depth=1, n_estimators=15...............................\n",
            "[CV 2/3; 4/77] END max_depth=1, n_estimators=15;, score=0.756 total time=   2.0s\n",
            "[CV 3/3; 4/77] START max_depth=1, n_estimators=15...............................\n",
            "[CV 3/3; 4/77] END max_depth=1, n_estimators=15;, score=0.749 total time=   2.0s\n",
            "[CV 1/3; 5/77] START max_depth=1, n_estimators=25...............................\n",
            "[CV 1/3; 5/77] END max_depth=1, n_estimators=25;, score=0.822 total time=   4.4s\n",
            "[CV 2/3; 5/77] START max_depth=1, n_estimators=25...............................\n",
            "[CV 2/3; 5/77] END max_depth=1, n_estimators=25;, score=0.825 total time=   2.8s\n",
            "[CV 3/3; 5/77] START max_depth=1, n_estimators=25...............................\n",
            "[CV 3/3; 5/77] END max_depth=1, n_estimators=25;, score=0.819 total time=   2.7s\n",
            "[CV 1/3; 6/77] START max_depth=1, n_estimators=50...............................\n",
            "[CV 1/3; 6/77] END max_depth=1, n_estimators=50;, score=0.868 total time=   6.3s\n",
            "[CV 2/3; 6/77] START max_depth=1, n_estimators=50...............................\n",
            "[CV 2/3; 6/77] END max_depth=1, n_estimators=50;, score=0.870 total time=   4.7s\n",
            "[CV 3/3; 6/77] START max_depth=1, n_estimators=50...............................\n",
            "[CV 3/3; 6/77] END max_depth=1, n_estimators=50;, score=0.865 total time=   4.7s\n",
            "[CV 1/3; 7/77] START max_depth=1, n_estimators=70...............................\n",
            "[CV 1/3; 7/77] END max_depth=1, n_estimators=70;, score=0.882 total time=   7.9s\n",
            "[CV 2/3; 7/77] START max_depth=1, n_estimators=70...............................\n",
            "[CV 2/3; 7/77] END max_depth=1, n_estimators=70;, score=0.883 total time=   7.3s\n",
            "[CV 3/3; 7/77] START max_depth=1, n_estimators=70...............................\n",
            "[CV 3/3; 7/77] END max_depth=1, n_estimators=70;, score=0.879 total time=   6.7s\n",
            "[CV 1/3; 8/77] START max_depth=1, n_estimators=150..............................\n",
            "[CV 1/3; 8/77] END max_depth=1, n_estimators=150;, score=0.908 total time=  14.1s\n",
            "[CV 2/3; 8/77] START max_depth=1, n_estimators=150..............................\n",
            "[CV 2/3; 8/77] END max_depth=1, n_estimators=150;, score=0.908 total time=  14.0s\n",
            "[CV 3/3; 8/77] START max_depth=1, n_estimators=150..............................\n",
            "[CV 3/3; 8/77] END max_depth=1, n_estimators=150;, score=0.904 total time=  14.1s\n",
            "[CV 1/3; 9/77] START max_depth=1, n_estimators=200..............................\n",
            "[CV 1/3; 9/77] END max_depth=1, n_estimators=200;, score=0.915 total time=  19.5s\n",
            "[CV 2/3; 9/77] START max_depth=1, n_estimators=200..............................\n",
            "[CV 2/3; 9/77] END max_depth=1, n_estimators=200;, score=0.916 total time=  17.9s\n",
            "[CV 3/3; 9/77] START max_depth=1, n_estimators=200..............................\n",
            "[CV 3/3; 9/77] END max_depth=1, n_estimators=200;, score=0.912 total time=  19.5s\n",
            "[CV 1/3; 10/77] START max_depth=1, n_estimators=250.............................\n",
            "[CV 1/3; 10/77] END max_depth=1, n_estimators=250;, score=0.921 total time=  23.3s\n",
            "[CV 2/3; 10/77] START max_depth=1, n_estimators=250.............................\n",
            "[CV 2/3; 10/77] END max_depth=1, n_estimators=250;, score=0.921 total time=  21.7s\n",
            "[CV 3/3; 10/77] START max_depth=1, n_estimators=250.............................\n",
            "[CV 3/3; 10/77] END max_depth=1, n_estimators=250;, score=0.918 total time=  23.5s\n",
            "[CV 1/3; 11/77] START max_depth=1, n_estimators=300.............................\n",
            "[CV 1/3; 11/77] END max_depth=1, n_estimators=300;, score=0.925 total time=  27.2s\n",
            "[CV 2/3; 11/77] START max_depth=1, n_estimators=300.............................\n",
            "[CV 2/3; 11/77] END max_depth=1, n_estimators=300;, score=0.925 total time=  27.3s\n",
            "[CV 3/3; 11/77] START max_depth=1, n_estimators=300.............................\n",
            "[CV 3/3; 11/77] END max_depth=1, n_estimators=300;, score=0.922 total time=  28.8s\n",
            "[CV 1/3; 12/77] START max_depth=5, n_estimators=3...............................\n",
            "[CV 1/3; 12/77] END max_depth=5, n_estimators=3;, score=-23.592 total time=   1.8s\n",
            "[CV 2/3; 12/77] START max_depth=5, n_estimators=3...............................\n",
            "[CV 2/3; 12/77] END max_depth=5, n_estimators=3;, score=-23.311 total time=   1.8s\n",
            "[CV 3/3; 12/77] START max_depth=5, n_estimators=3...............................\n",
            "[CV 3/3; 12/77] END max_depth=5, n_estimators=3;, score=-23.671 total time=   1.8s\n",
            "[CV 1/3; 13/77] START max_depth=5, n_estimators=9...............................\n",
            "[CV 1/3; 13/77] END max_depth=5, n_estimators=9;, score=0.555 total time=   3.6s\n",
            "[CV 2/3; 13/77] START max_depth=5, n_estimators=9...............................\n",
            "[CV 2/3; 13/77] END max_depth=5, n_estimators=9;, score=0.560 total time=   5.3s\n",
            "[CV 3/3; 13/77] START max_depth=5, n_estimators=9...............................\n",
            "[CV 3/3; 13/77] END max_depth=5, n_estimators=9;, score=0.547 total time=   3.6s\n",
            "[CV 1/3; 14/77] START max_depth=5, n_estimators=11..............................\n",
            "[CV 1/3; 14/77] END max_depth=5, n_estimators=11;, score=0.821 total time=   4.2s\n",
            "[CV 2/3; 14/77] START max_depth=5, n_estimators=11..............................\n",
            "[CV 2/3; 14/77] END max_depth=5, n_estimators=11;, score=0.827 total time=   5.9s\n",
            "[CV 3/3; 14/77] START max_depth=5, n_estimators=11..............................\n",
            "[CV 3/3; 14/77] END max_depth=5, n_estimators=11;, score=0.818 total time=   4.3s\n",
            "[CV 1/3; 15/77] START max_depth=5, n_estimators=15..............................\n",
            "[CV 1/3; 15/77] END max_depth=5, n_estimators=15;, score=0.907 total time=   7.2s\n",
            "[CV 2/3; 15/77] START max_depth=5, n_estimators=15..............................\n",
            "[CV 2/3; 15/77] END max_depth=5, n_estimators=15;, score=0.912 total time=   5.5s\n",
            "[CV 3/3; 15/77] START max_depth=5, n_estimators=15..............................\n",
            "[CV 3/3; 15/77] END max_depth=5, n_estimators=15;, score=0.908 total time=   7.2s\n",
            "[CV 1/3; 16/77] START max_depth=5, n_estimators=25..............................\n",
            "[CV 1/3; 16/77] END max_depth=5, n_estimators=25;, score=0.926 total time=   8.5s\n",
            "[CV 2/3; 16/77] START max_depth=5, n_estimators=25..............................\n",
            "[CV 2/3; 16/77] END max_depth=5, n_estimators=25;, score=0.931 total time=  10.1s\n",
            "[CV 3/3; 16/77] START max_depth=5, n_estimators=25..............................\n",
            "[CV 3/3; 16/77] END max_depth=5, n_estimators=25;, score=0.926 total time=  10.2s\n",
            "[CV 1/3; 17/77] START max_depth=5, n_estimators=50..............................\n",
            "[CV 1/3; 17/77] END max_depth=5, n_estimators=50;, score=0.941 total time=  17.8s\n",
            "[CV 2/3; 17/77] START max_depth=5, n_estimators=50..............................\n",
            "[CV 2/3; 17/77] END max_depth=5, n_estimators=50;, score=0.944 total time=  19.5s\n",
            "[CV 3/3; 17/77] START max_depth=5, n_estimators=50..............................\n",
            "[CV 3/3; 17/77] END max_depth=5, n_estimators=50;, score=0.940 total time=  17.8s\n",
            "[CV 1/3; 18/77] START max_depth=5, n_estimators=70..............................\n",
            "[CV 1/3; 18/77] END max_depth=5, n_estimators=70;, score=0.948 total time=  25.5s\n",
            "[CV 2/3; 18/77] START max_depth=5, n_estimators=70..............................\n",
            "[CV 2/3; 18/77] END max_depth=5, n_estimators=70;, score=0.950 total time=  25.7s\n",
            "[CV 3/3; 18/77] START max_depth=5, n_estimators=70..............................\n",
            "[CV 3/3; 18/77] END max_depth=5, n_estimators=70;, score=0.946 total time=  25.5s\n",
            "[CV 1/3; 19/77] START max_depth=5, n_estimators=150.............................\n",
            "[CV 1/3; 19/77] END max_depth=5, n_estimators=150;, score=0.958 total time=  53.2s\n",
            "[CV 2/3; 19/77] START max_depth=5, n_estimators=150.............................\n",
            "[CV 2/3; 19/77] END max_depth=5, n_estimators=150;, score=0.960 total time=  54.8s\n",
            "[CV 3/3; 19/77] START max_depth=5, n_estimators=150.............................\n",
            "[CV 3/3; 19/77] END max_depth=5, n_estimators=150;, score=0.957 total time=  53.3s\n",
            "[CV 1/3; 20/77] START max_depth=5, n_estimators=200.............................\n",
            "[CV 1/3; 20/77] END max_depth=5, n_estimators=200;, score=0.962 total time= 1.2min\n",
            "[CV 2/3; 20/77] START max_depth=5, n_estimators=200.............................\n",
            "[CV 2/3; 20/77] END max_depth=5, n_estimators=200;, score=0.963 total time= 1.2min\n",
            "[CV 3/3; 20/77] START max_depth=5, n_estimators=200.............................\n",
            "[CV 3/3; 20/77] END max_depth=5, n_estimators=200;, score=0.960 total time= 1.2min\n",
            "[CV 1/3; 21/77] START max_depth=5, n_estimators=250.............................\n",
            "[CV 1/3; 21/77] END max_depth=5, n_estimators=250;, score=0.963 total time= 1.5min\n",
            "[CV 2/3; 21/77] START max_depth=5, n_estimators=250.............................\n",
            "[CV 2/3; 21/77] END max_depth=5, n_estimators=250;, score=0.965 total time= 1.5min\n",
            "[CV 3/3; 21/77] START max_depth=5, n_estimators=250.............................\n",
            "[CV 3/3; 21/77] END max_depth=5, n_estimators=250;, score=0.962 total time= 1.5min\n",
            "[CV 1/3; 22/77] START max_depth=5, n_estimators=300.............................\n",
            "[CV 1/3; 22/77] END max_depth=5, n_estimators=300;, score=0.965 total time= 1.8min\n",
            "[CV 2/3; 22/77] START max_depth=5, n_estimators=300.............................\n",
            "[CV 2/3; 22/77] END max_depth=5, n_estimators=300;, score=0.966 total time= 1.8min\n",
            "[CV 3/3; 22/77] START max_depth=5, n_estimators=300.............................\n",
            "[CV 3/3; 22/77] END max_depth=5, n_estimators=300;, score=0.963 total time= 1.8min\n",
            "[CV 1/3; 23/77] START max_depth=10, n_estimators=3..............................\n",
            "[CV 1/3; 23/77] END max_depth=10, n_estimators=3;, score=-23.585 total time=   2.3s\n",
            "[CV 2/3; 23/77] START max_depth=10, n_estimators=3..............................\n",
            "[CV 2/3; 23/77] END max_depth=10, n_estimators=3;, score=-23.301 total time=   3.9s\n",
            "[CV 3/3; 23/77] START max_depth=10, n_estimators=3..............................\n",
            "[CV 3/3; 23/77] END max_depth=10, n_estimators=3;, score=-23.671 total time=   2.5s\n",
            "[CV 1/3; 24/77] START max_depth=10, n_estimators=9..............................\n",
            "[CV 1/3; 24/77] END max_depth=10, n_estimators=9;, score=0.591 total time=   6.1s\n",
            "[CV 2/3; 24/77] START max_depth=10, n_estimators=9..............................\n",
            "[CV 2/3; 24/77] END max_depth=10, n_estimators=9;, score=0.592 total time=   7.8s\n",
            "[CV 3/3; 24/77] START max_depth=10, n_estimators=9..............................\n",
            "[CV 3/3; 24/77] END max_depth=10, n_estimators=9;, score=0.581 total time=   6.2s\n",
            "[CV 1/3; 25/77] START max_depth=10, n_estimators=11.............................\n",
            "[CV 1/3; 25/77] END max_depth=10, n_estimators=11;, score=0.858 total time=   9.0s\n",
            "[CV 2/3; 25/77] START max_depth=10, n_estimators=11.............................\n",
            "[CV 2/3; 25/77] END max_depth=10, n_estimators=11;, score=0.858 total time=   9.3s\n",
            "[CV 3/3; 25/77] START max_depth=10, n_estimators=11.............................\n",
            "[CV 3/3; 25/77] END max_depth=10, n_estimators=11;, score=0.852 total time=   7.5s\n",
            "[CV 1/3; 26/77] START max_depth=10, n_estimators=15.............................\n",
            "[CV 1/3; 26/77] END max_depth=10, n_estimators=15;, score=0.943 total time=  11.4s\n",
            "[CV 2/3; 26/77] START max_depth=10, n_estimators=15.............................\n",
            "[CV 2/3; 26/77] END max_depth=10, n_estimators=15;, score=0.943 total time=  11.5s\n",
            "[CV 3/3; 26/77] START max_depth=10, n_estimators=15.............................\n",
            "[CV 3/3; 26/77] END max_depth=10, n_estimators=15;, score=0.940 total time=  11.6s\n",
            "[CV 1/3; 27/77] START max_depth=10, n_estimators=25.............................\n",
            "[CV 1/3; 27/77] END max_depth=10, n_estimators=25;, score=0.954 total time=  19.3s\n",
            "[CV 2/3; 27/77] START max_depth=10, n_estimators=25.............................\n",
            "[CV 2/3; 27/77] END max_depth=10, n_estimators=25;, score=0.956 total time=  17.6s\n",
            "[CV 3/3; 27/77] START max_depth=10, n_estimators=25.............................\n",
            "[CV 3/3; 27/77] END max_depth=10, n_estimators=25;, score=0.953 total time=  17.6s\n",
            "[CV 1/3; 28/77] START max_depth=10, n_estimators=50.............................\n",
            "[CV 1/3; 28/77] END max_depth=10, n_estimators=50;, score=0.961 total time=  35.7s\n",
            "[CV 2/3; 28/77] START max_depth=10, n_estimators=50.............................\n",
            "[CV 2/3; 28/77] END max_depth=10, n_estimators=50;, score=0.962 total time=  36.0s\n",
            "[CV 3/3; 28/77] START max_depth=10, n_estimators=50.............................\n",
            "[CV 3/3; 28/77] END max_depth=10, n_estimators=50;, score=0.960 total time=  36.0s\n",
            "[CV 1/3; 29/77] START max_depth=10, n_estimators=70.............................\n",
            "[CV 1/3; 29/77] END max_depth=10, n_estimators=70;, score=0.964 total time=  49.9s\n",
            "[CV 2/3; 29/77] START max_depth=10, n_estimators=70.............................\n",
            "[CV 2/3; 29/77] END max_depth=10, n_estimators=70;, score=0.965 total time=  49.6s\n",
            "[CV 3/3; 29/77] START max_depth=10, n_estimators=70.............................\n",
            "[CV 3/3; 29/77] END max_depth=10, n_estimators=70;, score=0.963 total time=  48.2s\n",
            "[CV 1/3; 30/77] START max_depth=10, n_estimators=150............................\n",
            "[CV 1/3; 30/77] END max_depth=10, n_estimators=150;, score=0.967 total time= 1.8min\n",
            "[CV 2/3; 30/77] START max_depth=10, n_estimators=150............................\n",
            "[CV 2/3; 30/77] END max_depth=10, n_estimators=150;, score=0.968 total time= 1.7min\n",
            "[CV 3/3; 30/77] START max_depth=10, n_estimators=150............................\n",
            "[CV 3/3; 30/77] END max_depth=10, n_estimators=150;, score=0.966 total time= 1.7min\n",
            "[CV 1/3; 31/77] START max_depth=10, n_estimators=200............................\n",
            "[CV 1/3; 31/77] END max_depth=10, n_estimators=200;, score=0.967 total time= 2.3min\n",
            "[CV 2/3; 31/77] START max_depth=10, n_estimators=200............................\n",
            "[CV 2/3; 31/77] END max_depth=10, n_estimators=200;, score=0.968 total time= 2.3min\n",
            "[CV 3/3; 31/77] START max_depth=10, n_estimators=200............................\n",
            "[CV 3/3; 31/77] END max_depth=10, n_estimators=200;, score=0.966 total time= 2.3min\n",
            "[CV 1/3; 32/77] START max_depth=10, n_estimators=250............................\n",
            "[CV 1/3; 32/77] END max_depth=10, n_estimators=250;, score=0.967 total time= 2.9min\n",
            "[CV 2/3; 32/77] START max_depth=10, n_estimators=250............................\n",
            "[CV 2/3; 32/77] END max_depth=10, n_estimators=250;, score=0.968 total time= 2.9min\n",
            "[CV 3/3; 32/77] START max_depth=10, n_estimators=250............................\n",
            "[CV 3/3; 32/77] END max_depth=10, n_estimators=250;, score=0.967 total time= 2.9min\n",
            "[CV 1/3; 33/77] START max_depth=10, n_estimators=300............................\n",
            "[CV 1/3; 33/77] END max_depth=10, n_estimators=300;, score=0.967 total time= 3.5min\n",
            "[CV 2/3; 33/77] START max_depth=10, n_estimators=300............................\n",
            "[CV 2/3; 33/77] END max_depth=10, n_estimators=300;, score=0.968 total time= 3.5min\n",
            "[CV 3/3; 33/77] START max_depth=10, n_estimators=300............................\n",
            "[CV 3/3; 33/77] END max_depth=10, n_estimators=300;, score=0.967 total time= 3.5min\n",
            "[CV 1/3; 34/77] START max_depth=50, n_estimators=3..............................\n",
            "[CV 1/3; 34/77] END max_depth=50, n_estimators=3;, score=-23.584 total time=   2.5s\n",
            "[CV 2/3; 34/77] START max_depth=50, n_estimators=3..............................\n",
            "[CV 2/3; 34/77] END max_depth=50, n_estimators=3;, score=-23.301 total time=   2.4s\n",
            "[CV 3/3; 34/77] START max_depth=50, n_estimators=3..............................\n",
            "[CV 3/3; 34/77] END max_depth=50, n_estimators=3;, score=-23.671 total time=   2.4s\n",
            "[CV 1/3; 35/77] START max_depth=50, n_estimators=9..............................\n",
            "[CV 1/3; 35/77] END max_depth=50, n_estimators=9;, score=0.600 total time=  13.3s\n",
            "[CV 2/3; 35/77] START max_depth=50, n_estimators=9..............................\n",
            "[CV 2/3; 35/77] END max_depth=50, n_estimators=9;, score=0.602 total time=  13.7s\n",
            "[CV 3/3; 35/77] START max_depth=50, n_estimators=9..............................\n",
            "[CV 3/3; 35/77] END max_depth=50, n_estimators=9;, score=0.594 total time=  13.1s\n",
            "[CV 1/3; 36/77] START max_depth=50, n_estimators=11.............................\n",
            "[CV 1/3; 36/77] END max_depth=50, n_estimators=11;, score=0.871 total time=  20.2s\n",
            "[CV 2/3; 36/77] START max_depth=50, n_estimators=11.............................\n",
            "[CV 2/3; 36/77] END max_depth=50, n_estimators=11;, score=0.871 total time=  19.4s\n",
            "[CV 3/3; 36/77] START max_depth=50, n_estimators=11.............................\n",
            "[CV 3/3; 36/77] END max_depth=50, n_estimators=11;, score=0.868 total time=  19.7s\n",
            "[CV 1/3; 37/77] START max_depth=50, n_estimators=15.............................\n",
            "[CV 1/3; 37/77] END max_depth=50, n_estimators=15;, score=0.957 total time=  35.3s\n",
            "[CV 2/3; 37/77] START max_depth=50, n_estimators=15.............................\n",
            "[CV 2/3; 37/77] END max_depth=50, n_estimators=15;, score=0.957 total time=  36.5s\n",
            "[CV 3/3; 37/77] START max_depth=50, n_estimators=15.............................\n",
            "[CV 3/3; 37/77] END max_depth=50, n_estimators=15;, score=0.955 total time=  33.8s\n",
            "[CV 1/3; 38/77] START max_depth=50, n_estimators=25.............................\n",
            "[CV 1/3; 38/77] END max_depth=50, n_estimators=25;, score=0.962 total time= 1.3min\n",
            "[CV 2/3; 38/77] START max_depth=50, n_estimators=25.............................\n",
            "[CV 2/3; 38/77] END max_depth=50, n_estimators=25;, score=0.963 total time= 1.4min\n",
            "[CV 3/3; 38/77] START max_depth=50, n_estimators=25.............................\n",
            "[CV 3/3; 38/77] END max_depth=50, n_estimators=25;, score=0.961 total time= 1.3min\n",
            "[CV 1/3; 39/77] START max_depth=50, n_estimators=50.............................\n",
            "[CV 1/3; 39/77] END max_depth=50, n_estimators=50;, score=0.961 total time= 3.1min\n",
            "[CV 2/3; 39/77] START max_depth=50, n_estimators=50.............................\n",
            "[CV 2/3; 39/77] END max_depth=50, n_estimators=50;, score=0.963 total time= 3.1min\n",
            "[CV 3/3; 39/77] START max_depth=50, n_estimators=50.............................\n",
            "[CV 3/3; 39/77] END max_depth=50, n_estimators=50;, score=0.960 total time= 3.0min\n",
            "[CV 1/3; 40/77] START max_depth=50, n_estimators=70.............................\n",
            "[CV 1/3; 40/77] END max_depth=50, n_estimators=70;, score=0.961 total time= 4.0min\n",
            "[CV 2/3; 40/77] START max_depth=50, n_estimators=70.............................\n",
            "[CV 2/3; 40/77] END max_depth=50, n_estimators=70;, score=0.962 total time= 4.4min\n",
            "[CV 3/3; 40/77] START max_depth=50, n_estimators=70.............................\n",
            "[CV 3/3; 40/77] END max_depth=50, n_estimators=70;, score=0.960 total time= 4.3min\n",
            "[CV 1/3; 41/77] START max_depth=50, n_estimators=150............................\n",
            "[CV 1/3; 41/77] END max_depth=50, n_estimators=150;, score=0.961 total time= 4.1min\n",
            "[CV 2/3; 41/77] START max_depth=50, n_estimators=150............................\n",
            "[CV 2/3; 41/77] END max_depth=50, n_estimators=150;, score=0.962 total time= 4.5min\n",
            "[CV 3/3; 41/77] START max_depth=50, n_estimators=150............................\n",
            "[CV 3/3; 41/77] END max_depth=50, n_estimators=150;, score=0.960 total time= 4.4min\n",
            "[CV 1/3; 42/77] START max_depth=50, n_estimators=200............................\n",
            "[CV 1/3; 42/77] END max_depth=50, n_estimators=200;, score=0.961 total time= 4.2min\n",
            "[CV 2/3; 42/77] START max_depth=50, n_estimators=200............................\n",
            "[CV 2/3; 42/77] END max_depth=50, n_estimators=200;, score=0.962 total time= 4.6min\n",
            "[CV 3/3; 42/77] START max_depth=50, n_estimators=200............................\n",
            "[CV 3/3; 42/77] END max_depth=50, n_estimators=200;, score=0.960 total time= 4.4min\n",
            "[CV 1/3; 43/77] START max_depth=50, n_estimators=250............................\n",
            "[CV 1/3; 43/77] END max_depth=50, n_estimators=250;, score=0.961 total time= 4.2min\n",
            "[CV 2/3; 43/77] START max_depth=50, n_estimators=250............................\n",
            "[CV 2/3; 43/77] END max_depth=50, n_estimators=250;, score=0.962 total time= 4.6min\n",
            "[CV 3/3; 43/77] START max_depth=50, n_estimators=250............................\n",
            "[CV 3/3; 43/77] END max_depth=50, n_estimators=250;, score=0.960 total time= 4.5min\n",
            "[CV 1/3; 44/77] START max_depth=50, n_estimators=300............................\n",
            "[CV 1/3; 44/77] END max_depth=50, n_estimators=300;, score=0.961 total time= 4.3min\n",
            "[CV 2/3; 44/77] START max_depth=50, n_estimators=300............................\n",
            "[CV 2/3; 44/77] END max_depth=50, n_estimators=300;, score=0.962 total time= 4.7min\n",
            "[CV 3/3; 44/77] START max_depth=50, n_estimators=300............................\n",
            "[CV 3/3; 44/77] END max_depth=50, n_estimators=300;, score=0.960 total time= 4.5min\n",
            "[CV 1/3; 45/77] START max_depth=150, n_estimators=3.............................\n",
            "[CV 1/3; 45/77] END max_depth=150, n_estimators=3;, score=-23.584 total time=   2.3s\n",
            "[CV 2/3; 45/77] START max_depth=150, n_estimators=3.............................\n",
            "[CV 2/3; 45/77] END max_depth=150, n_estimators=3;, score=-23.301 total time=   2.3s\n",
            "[CV 3/3; 45/77] START max_depth=150, n_estimators=3.............................\n",
            "[CV 3/3; 45/77] END max_depth=150, n_estimators=3;, score=-23.671 total time=   3.9s\n",
            "[CV 1/3; 46/77] START max_depth=150, n_estimators=9.............................\n",
            "[CV 1/3; 46/77] END max_depth=150, n_estimators=9;, score=0.600 total time=  13.0s\n",
            "[CV 2/3; 46/77] START max_depth=150, n_estimators=9.............................\n",
            "[CV 2/3; 46/77] END max_depth=150, n_estimators=9;, score=0.602 total time=  13.4s\n",
            "[CV 3/3; 46/77] START max_depth=150, n_estimators=9.............................\n",
            "[CV 3/3; 46/77] END max_depth=150, n_estimators=9;, score=0.594 total time=  12.8s\n",
            "[CV 1/3; 47/77] START max_depth=150, n_estimators=11............................\n",
            "[CV 1/3; 47/77] END max_depth=150, n_estimators=11;, score=0.871 total time=  18.0s\n",
            "[CV 2/3; 47/77] START max_depth=150, n_estimators=11............................\n",
            "[CV 2/3; 47/77] END max_depth=150, n_estimators=11;, score=0.871 total time=  20.8s\n",
            "[CV 3/3; 47/77] START max_depth=150, n_estimators=11............................\n",
            "[CV 3/3; 47/77] END max_depth=150, n_estimators=11;, score=0.868 total time=  18.1s\n",
            "[CV 1/3; 48/77] START max_depth=150, n_estimators=15............................\n",
            "[CV 1/3; 48/77] END max_depth=150, n_estimators=15;, score=0.956 total time=  37.2s\n",
            "[CV 2/3; 48/77] START max_depth=150, n_estimators=15............................\n",
            "[CV 2/3; 48/77] END max_depth=150, n_estimators=15;, score=0.957 total time=  38.3s\n",
            "[CV 3/3; 48/77] START max_depth=150, n_estimators=15............................\n",
            "[CV 3/3; 48/77] END max_depth=150, n_estimators=15;, score=0.955 total time=  37.8s\n",
            "[CV 1/3; 49/77] START max_depth=150, n_estimators=25............................\n",
            "[CV 1/3; 49/77] END max_depth=150, n_estimators=25;, score=0.961 total time= 1.8min\n",
            "[CV 2/3; 49/77] START max_depth=150, n_estimators=25............................\n",
            "[CV 2/3; 49/77] END max_depth=150, n_estimators=25;, score=0.963 total time= 1.8min\n",
            "[CV 3/3; 49/77] START max_depth=150, n_estimators=25............................\n",
            "[CV 3/3; 49/77] END max_depth=150, n_estimators=25;, score=0.961 total time= 1.8min\n",
            "[CV 1/3; 50/77] START max_depth=150, n_estimators=50............................\n",
            "[CV 1/3; 50/77] END max_depth=150, n_estimators=50;, score=0.961 total time= 4.4min\n",
            "[CV 2/3; 50/77] START max_depth=150, n_estimators=50............................\n",
            "[CV 2/3; 50/77] END max_depth=150, n_estimators=50;, score=0.962 total time= 4.1min\n",
            "[CV 3/3; 50/77] START max_depth=150, n_estimators=50............................\n",
            "[CV 3/3; 50/77] END max_depth=150, n_estimators=50;, score=0.960 total time= 4.5min\n",
            "[CV 1/3; 51/77] START max_depth=150, n_estimators=70............................\n",
            "[CV 1/3; 51/77] END max_depth=150, n_estimators=70;, score=0.961 total time= 4.5min\n",
            "[CV 2/3; 51/77] START max_depth=150, n_estimators=70............................\n",
            "[CV 2/3; 51/77] END max_depth=150, n_estimators=70;, score=0.962 total time= 4.2min\n",
            "[CV 3/3; 51/77] START max_depth=150, n_estimators=70............................\n",
            "[CV 3/3; 51/77] END max_depth=150, n_estimators=70;, score=0.960 total time= 4.5min\n",
            "[CV 1/3; 52/77] START max_depth=150, n_estimators=150...........................\n",
            "[CV 1/3; 52/77] END max_depth=150, n_estimators=150;, score=0.961 total time= 4.5min\n",
            "[CV 2/3; 52/77] START max_depth=150, n_estimators=150...........................\n",
            "[CV 2/3; 52/77] END max_depth=150, n_estimators=150;, score=0.962 total time= 4.3min\n",
            "[CV 3/3; 52/77] START max_depth=150, n_estimators=150...........................\n",
            "[CV 3/3; 52/77] END max_depth=150, n_estimators=150;, score=0.960 total time= 4.6min\n",
            "[CV 1/3; 53/77] START max_depth=150, n_estimators=200...........................\n",
            "[CV 1/3; 53/77] END max_depth=150, n_estimators=200;, score=0.961 total time= 4.6min\n",
            "[CV 2/3; 53/77] START max_depth=150, n_estimators=200...........................\n",
            "[CV 2/3; 53/77] END max_depth=150, n_estimators=200;, score=0.962 total time= 4.3min\n",
            "[CV 3/3; 53/77] START max_depth=150, n_estimators=200...........................\n",
            "[CV 3/3; 53/77] END max_depth=150, n_estimators=200;, score=0.960 total time= 4.6min\n",
            "[CV 1/3; 54/77] START max_depth=150, n_estimators=250...........................\n",
            "[CV 1/3; 54/77] END max_depth=150, n_estimators=250;, score=0.961 total time= 4.7min\n",
            "[CV 2/3; 54/77] START max_depth=150, n_estimators=250...........................\n",
            "[CV 2/3; 54/77] END max_depth=150, n_estimators=250;, score=0.962 total time= 4.4min\n",
            "[CV 3/3; 54/77] START max_depth=150, n_estimators=250...........................\n",
            "[CV 3/3; 54/77] END max_depth=150, n_estimators=250;, score=0.960 total time= 4.7min\n",
            "[CV 1/3; 55/77] START max_depth=150, n_estimators=300...........................\n",
            "[CV 1/3; 55/77] END max_depth=150, n_estimators=300;, score=0.961 total time= 4.8min\n",
            "[CV 2/3; 55/77] START max_depth=150, n_estimators=300...........................\n",
            "[CV 2/3; 55/77] END max_depth=150, n_estimators=300;, score=0.962 total time= 4.5min\n",
            "[CV 3/3; 55/77] START max_depth=150, n_estimators=300...........................\n",
            "[CV 3/3; 55/77] END max_depth=150, n_estimators=300;, score=0.960 total time= 4.8min\n",
            "[CV 1/3; 56/77] START max_depth=200, n_estimators=3.............................\n",
            "[CV 1/3; 56/77] END max_depth=200, n_estimators=3;, score=-23.584 total time=   3.1s\n",
            "[CV 2/3; 56/77] START max_depth=200, n_estimators=3.............................\n",
            "[CV 2/3; 56/77] END max_depth=200, n_estimators=3;, score=-23.301 total time=   2.3s\n",
            "[CV 3/3; 56/77] START max_depth=200, n_estimators=3.............................\n",
            "[CV 3/3; 56/77] END max_depth=200, n_estimators=3;, score=-23.671 total time=   2.3s\n",
            "[CV 1/3; 57/77] START max_depth=200, n_estimators=9.............................\n",
            "[CV 1/3; 57/77] END max_depth=200, n_estimators=9;, score=0.600 total time=  12.9s\n",
            "[CV 2/3; 57/77] START max_depth=200, n_estimators=9.............................\n",
            "[CV 2/3; 57/77] END max_depth=200, n_estimators=9;, score=0.602 total time=  13.4s\n",
            "[CV 3/3; 57/77] START max_depth=200, n_estimators=9.............................\n",
            "[CV 3/3; 57/77] END max_depth=200, n_estimators=9;, score=0.594 total time=  12.7s\n",
            "[CV 1/3; 58/77] START max_depth=200, n_estimators=11............................\n",
            "[CV 1/3; 58/77] END max_depth=200, n_estimators=11;, score=0.871 total time=  19.8s\n",
            "[CV 2/3; 58/77] START max_depth=200, n_estimators=11............................\n",
            "[CV 2/3; 58/77] END max_depth=200, n_estimators=11;, score=0.871 total time=  19.0s\n",
            "[CV 3/3; 58/77] START max_depth=200, n_estimators=11............................\n",
            "[CV 3/3; 58/77] END max_depth=200, n_estimators=11;, score=0.868 total time=  19.8s\n",
            "[CV 1/3; 59/77] START max_depth=200, n_estimators=15............................\n",
            "[CV 1/3; 59/77] END max_depth=200, n_estimators=15;, score=0.956 total time=  37.3s\n",
            "[CV 2/3; 59/77] START max_depth=200, n_estimators=15............................\n",
            "[CV 2/3; 59/77] END max_depth=200, n_estimators=15;, score=0.957 total time=  38.3s\n",
            "[CV 3/3; 59/77] START max_depth=200, n_estimators=15............................\n",
            "[CV 3/3; 59/77] END max_depth=200, n_estimators=15;, score=0.955 total time=  37.8s\n",
            "[CV 1/3; 60/77] START max_depth=200, n_estimators=25............................\n",
            "[CV 1/3; 60/77] END max_depth=200, n_estimators=25;, score=0.961 total time= 1.8min\n",
            "[CV 2/3; 60/77] START max_depth=200, n_estimators=25............................\n",
            "[CV 2/3; 60/77] END max_depth=200, n_estimators=25;, score=0.963 total time= 1.8min\n",
            "[CV 3/3; 60/77] START max_depth=200, n_estimators=25............................\n",
            "[CV 3/3; 60/77] END max_depth=200, n_estimators=25;, score=0.961 total time= 1.8min\n",
            "[CV 1/3; 61/77] START max_depth=200, n_estimators=50............................\n",
            "[CV 1/3; 61/77] END max_depth=200, n_estimators=50;, score=0.961 total time= 4.4min\n",
            "[CV 2/3; 61/77] START max_depth=200, n_estimators=50............................\n",
            "[CV 2/3; 61/77] END max_depth=200, n_estimators=50;, score=0.962 total time= 4.1min\n",
            "[CV 3/3; 61/77] START max_depth=200, n_estimators=50............................\n",
            "[CV 3/3; 61/77] END max_depth=200, n_estimators=50;, score=0.960 total time= 4.4min\n",
            "[CV 1/3; 62/77] START max_depth=200, n_estimators=70............................\n",
            "[CV 1/3; 62/77] END max_depth=200, n_estimators=70;, score=0.961 total time= 4.5min\n",
            "[CV 2/3; 62/77] START max_depth=200, n_estimators=70............................\n",
            "[CV 2/3; 62/77] END max_depth=200, n_estimators=70;, score=0.962 total time= 4.1min\n",
            "[CV 3/3; 62/77] START max_depth=200, n_estimators=70............................\n",
            "[CV 3/3; 62/77] END max_depth=200, n_estimators=70;, score=0.960 total time= 4.5min\n",
            "[CV 1/3; 63/77] START max_depth=200, n_estimators=150...........................\n",
            "[CV 1/3; 63/77] END max_depth=200, n_estimators=150;, score=0.961 total time= 4.5min\n",
            "[CV 2/3; 63/77] START max_depth=200, n_estimators=150...........................\n",
            "[CV 2/3; 63/77] END max_depth=200, n_estimators=150;, score=0.962 total time= 4.3min\n",
            "[CV 3/3; 63/77] START max_depth=200, n_estimators=150...........................\n",
            "[CV 3/3; 63/77] END max_depth=200, n_estimators=150;, score=0.960 total time= 4.6min\n",
            "[CV 1/3; 64/77] START max_depth=200, n_estimators=200...........................\n",
            "[CV 1/3; 64/77] END max_depth=200, n_estimators=200;, score=0.961 total time= 4.6min\n",
            "[CV 2/3; 64/77] START max_depth=200, n_estimators=200...........................\n",
            "[CV 2/3; 64/77] END max_depth=200, n_estimators=200;, score=0.962 total time= 4.3min\n",
            "[CV 3/3; 64/77] START max_depth=200, n_estimators=200...........................\n",
            "[CV 3/3; 64/77] END max_depth=200, n_estimators=200;, score=0.960 total time= 4.6min\n",
            "[CV 1/3; 65/77] START max_depth=200, n_estimators=250...........................\n",
            "[CV 1/3; 65/77] END max_depth=200, n_estimators=250;, score=0.961 total time= 4.7min\n",
            "[CV 2/3; 65/77] START max_depth=200, n_estimators=250...........................\n",
            "[CV 2/3; 65/77] END max_depth=200, n_estimators=250;, score=0.962 total time= 4.4min\n",
            "[CV 3/3; 65/77] START max_depth=200, n_estimators=250...........................\n",
            "[CV 3/3; 65/77] END max_depth=200, n_estimators=250;, score=0.960 total time= 4.7min\n",
            "[CV 1/3; 66/77] START max_depth=200, n_estimators=300...........................\n"
          ]
        }
      ],
      "execution_count": null,
      "metadata": {
        "trusted": true,
        "noteable": {},
        "id": "d836f0a9",
        "outputId": "28e15f30-e47a-46eb-bdbe-02bd86e0b144",
        "colab": {
          "base_uri": "https://localhost:8080/"
        }
      },
      "id": "d836f0a9"
    },
    {
      "cell_type": "code",
      "source": [
        "y_train_pred = best_reg.predict(X_train)\n",
        "y_pred = best_reg.predict(X_test)\n",
        "train_r2 = r2_score(y_train_trans, y_train_pred)\n",
        "print('The train R2 value is {0}'.format(train_r2))\n",
        "\n",
        "test_r2 = r2_score(y_test_trans, y_pred)\n",
        "print('The test R2 value is {0}'.format(test_r2))"
      ],
      "outputs": [],
      "execution_count": null,
      "metadata": {
        "trusted": true,
        "noteable": {},
        "id": "7a2d2041"
      },
      "id": "7a2d2041"
    },
    {
      "cell_type": "code",
      "source": [
        "with open('/content/data/xgboost_regression.pkl', 'wb') as f:\n",
        "    pickle.dump(best_reg,f)"
      ],
      "outputs": [],
      "execution_count": null,
      "metadata": {
        "trusted": true,
        "id": "854ad676"
      },
      "id": "854ad676"
    },
    {
      "cell_type": "markdown",
      "source": [
        "# Results"
      ],
      "metadata": {
        "id": "8af49ae0"
      },
      "id": "8af49ae0"
    },
    {
      "cell_type": "code",
      "source": [
        "from prettytable import PrettyTable"
      ],
      "outputs": [],
      "execution_count": null,
      "metadata": {
        "trusted": true,
        "id": "6cc0c05a"
      },
      "id": "6cc0c05a"
    },
    {
      "cell_type": "code",
      "source": [
        "results = []\n",
        "\n",
        "# add the results in a list\n",
        "results.append(['Model','Train R2','Test R2'])\n",
        "results.append(['Linear Regression',0.94,0.939])\n",
        "results.append(['Decision Tree',0.987,0.949])\n",
        "results.append(['Random Forest',0.991,0.962])\n",
        "results.append(['XGBoost',0.987,0.968])"
      ],
      "outputs": [],
      "execution_count": null,
      "metadata": {
        "trusted": true,
        "id": "2be53e1e"
      },
      "id": "2be53e1e"
    },
    {
      "cell_type": "code",
      "source": [
        "table = PrettyTable()\n",
        "table.field_names = results[0]\n",
        "for i in range(len(results)):\n",
        "    if i!=0:\n",
        "        table.add_row(results[i])\n",
        "print(table)"
      ],
      "outputs": [
        {
          "output_type": "stream",
          "name": "stdout",
          "text": [
            "+-------------------+----------+---------+\n",
            "|       Model       | Train R2 | Test R2 |\n",
            "+-------------------+----------+---------+\n",
            "| Linear Regression |   0.94   |  0.939  |\n",
            "|   Decision Tree   |  0.987   |  0.949  |\n",
            "|   Random Forest   |  0.991   |  0.962  |\n",
            "|      XGBoost      |  0.987   |  0.968  |\n",
            "+-------------------+----------+---------+\n"
          ]
        }
      ],
      "execution_count": null,
      "metadata": {
        "trusted": true,
        "noteable": {},
        "id": "a25617f8",
        "outputId": "ad8427b4-57a3-461d-e757-51c5a4597217"
      },
      "id": "a25617f8"
    },
    {
      "cell_type": "markdown",
      "source": [
        "# Conclusion"
      ],
      "metadata": {
        "id": "cc65cf92"
      },
      "id": "cc65cf92"
    },
    {
      "cell_type": "markdown",
      "source": [
        "It is observed that XGBoost is giving the best R Square metric value on test data"
      ],
      "metadata": {
        "id": "34858707"
      },
      "id": "34858707"
    }
  ],
  "metadata": {
    "kernelspec": {
      "name": "python3",
      "display_name": "Python 3",
      "language": "python"
    },
    "language_info": {
      "name": "python",
      "version": "3.7.6",
      "mimetype": "text/x-python",
      "codemirror_mode": {
        "name": "ipython",
        "version": 3
      },
      "pygments_lexer": "ipython3",
      "nbconvert_exporter": "python",
      "file_extension": ".py"
    },
    "noteable": {
      "last_delta_id": "de439805-38d5-43af-8bec-8c3ab9a19123"
    },
    "selected_hardware_size": "small",
    "nteract": {
      "version": "noteable@2.9.0"
    },
    "colab": {
      "provenance": []
    }
  },
  "nbformat": 4,
  "nbformat_minor": 5
}