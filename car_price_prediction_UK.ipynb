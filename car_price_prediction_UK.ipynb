{
  "cells": [
    {
      "cell_type": "markdown",
      "source": [
        "# Predict the price for the Pre-Owned UK Cars"
      ],
      "metadata": {
        "id": "24cd0ee7"
      },
      "id": "24cd0ee7"
    },
    {
      "cell_type": "markdown",
      "source": [
        "The data contains 9 csv files. Each file has the information (price,year,mileage etc) about each car brand, including Audi, BMW, Ford, Hyundai, Mercedes, Skoda, Toyota, Vauxhall and Volkswagen. "
      ],
      "metadata": {
        "id": "6982a422"
      },
      "id": "6982a422"
    },
    {
      "cell_type": "code",
      "source": [
        "import numpy as np\n",
        "import pandas as pd\n",
        "from sklearn.feature_extraction.text import CountVectorizer\n",
        "import matplotlib.pyplot as plt\n",
        "import seaborn as sns\n",
        "%matplotlib inline"
      ],
      "outputs": [],
      "execution_count": 1,
      "metadata": {
        "_uuid": "8f2839f25d086af736a60e9eeb907d3b93b6e0e5",
        "_cell_guid": "b1076dfc-b9ad-4769-8c92-a6c4dae69d19",
        "trusted": true,
        "noteable": {},
        "ExecuteTime": {
          "start_time": "2023-05-28T16:24:27.214832+00:00",
          "end_time": "2023-05-28T16:24:29.328145+00:00"
        },
        "id": "62803aa1"
      },
      "id": "62803aa1"
    },
    {
      "cell_type": "markdown",
      "source": [
        "## Reading the Data"
      ],
      "metadata": {
        "id": "7c1f31b2"
      },
      "id": "7c1f31b2"
    },
    {
      "cell_type": "code",
      "source": [
        "!pip install wget\n",
        "import wget\n",
        "\n",
        "# URL of the website folder containing CSV files\n",
        "website_url = \"https://raw.githubusercontent.com/440box/car-price-prediction-UK/main/\"\n",
        "\n",
        "# List of CSV files to download\n",
        "csv_files = [\n",
        "    \"audi.csv\",\n",
        "    \"bmw.csv\",\n",
        "    \"ford.csv\",\n",
        "    \"hyundi.csv\",\n",
        "    \"merc.csv\",\n",
        "    \"skoda.csv\",\n",
        "    \"toyota.csv\",\n",
        "    \"vauxhall.csv\",\n",
        "    \"vw.csv\"\n",
        "]\n",
        "\n",
        "# Loop through each CSV file and download it using wget\n",
        "for file in csv_files:\n",
        "    download_url = website_url + file\n",
        "    wget.download(download_url)\n",
        "    audi = pd.read_csv('/content/audi.csv')\n",
        "bmw = pd.read_csv('/content/bmw.csv')\n",
        "ford = pd.read_csv('/content/ford.csv')\n",
        "hyundai = pd.read_csv('/content/hyundi.csv')\n",
        "merc = pd.read_csv('/content/merc.csv')\n",
        "skoda = pd.read_csv('/content/skoda.csv')\n",
        "toyota = pd.read_csv('/content/toyota.csv')\n",
        "vauxhall = pd.read_csv('/content/vauxhall.csv')\n",
        "vw = pd.read_csv('/content/vw.csv')"
      ],
      "outputs": [
        {
          "output_type": "stream",
          "name": "stdout",
          "text": [
            "Looking in indexes: https://pypi.org/simple, https://us-python.pkg.dev/colab-wheels/public/simple/\n",
            "Collecting wget\n",
            "  Downloading wget-3.2.zip (10 kB)\n",
            "  Preparing metadata (setup.py) ... \u001b[?25l\u001b[?25hdone\n",
            "Building wheels for collected packages: wget\n",
            "  Building wheel for wget (setup.py) ... \u001b[?25l\u001b[?25hdone\n",
            "  Created wheel for wget: filename=wget-3.2-py3-none-any.whl size=9657 sha256=32950b68ea84453a75e3272822c530e81d088b102de7e5e2085fff24c4a5bdfd\n",
            "  Stored in directory: /root/.cache/pip/wheels/8b/f1/7f/5c94f0a7a505ca1c81cd1d9208ae2064675d97582078e6c769\n",
            "Successfully built wget\n",
            "Installing collected packages: wget\n",
            "Successfully installed wget-3.2\n"
          ]
        }
      ],
      "execution_count": 2,
      "metadata": {
        "_uuid": "d629ff2d2480ee46fbb7e2d37f6b5fab8052498a",
        "_cell_guid": "79c7e3d0-c299-4dcb-8224-4455121ee9b0",
        "trusted": true,
        "noteable": {},
        "ExecuteTime": {
          "start_time": "2023-05-28T16:24:40.737612+00:00",
          "end_time": "2023-05-28T16:24:41.107164+00:00"
        },
        "id": "2238a48f",
        "outputId": "83465e6d-bde6-4ca7-d497-f83a267d2124",
        "colab": {
          "base_uri": "https://localhost:8080/"
        }
      },
      "id": "2238a48f"
    },
    {
      "cell_type": "markdown",
      "source": [
        "## Checking the number of columns in each dataset"
      ],
      "metadata": {
        "id": "08495db4"
      },
      "id": "08495db4"
    },
    {
      "cell_type": "code",
      "source": [
        "print(\"Columns in the Audi dataframe:\") \n",
        "print(list(audi.columns))\n",
        "print(\"-\" * 50)\n",
        "print(\"Columns in the BMW dataframe:\")\n",
        "print(list(bmw.columns))\n",
        "print(\"-\" * 50)\n",
        "print(\"Columns in the Ford dataframe:\")\n",
        "print(list(ford.columns))\n",
        "print(\"-\" * 50)\n",
        "print(\"Columns in the Hyundai dataframe:\")\n",
        "print(list(hyundai.columns))\n",
        "print(\"-\" * 50)\n",
        "print(\"Columns in the Mercedes dataframe:\")\n",
        "print(list(merc.columns))\n",
        "print(\"-\" * 50)\n",
        "print(\"Columns in the Skoda dataframe:\")\n",
        "print(list(skoda.columns))\n",
        "print(\"-\" * 50)\n",
        "print(\"Columns in the Toyota dataframe:\")\n",
        "print(list(toyota.columns))\n",
        "print(\"-\" * 50)\n",
        "print(\"Columns in the Vauxhall dataframe:\")\n",
        "print(list(vauxhall.columns))\n",
        "print(\"-\" * 50)\n",
        "print(\"Columns in the VW dataframe:\")\n",
        "print(list(vw.columns))"
      ],
      "outputs": [
        {
          "output_type": "stream",
          "name": "stdout",
          "text": [
            "Columns in the Audi dataframe:\n",
            "['model', 'year', 'price', 'transmission', 'mileage', 'fuelType', 'tax', 'mpg', 'engineSize']\n",
            "--------------------------------------------------\n",
            "Columns in the BMW dataframe:\n",
            "['model', 'year', 'price', 'transmission', 'mileage', 'fuelType', 'tax', 'mpg', 'engineSize']\n",
            "--------------------------------------------------\n",
            "Columns in the Ford dataframe:\n",
            "['model', 'year', 'price', 'transmission', 'mileage', 'fuelType', 'tax', 'mpg', 'engineSize']\n",
            "--------------------------------------------------\n",
            "Columns in the Hyundai dataframe:\n",
            "['model', 'year', 'price', 'transmission', 'mileage', 'fuelType', 'tax(£)', 'mpg', 'engineSize']\n",
            "--------------------------------------------------\n",
            "Columns in the Mercedes dataframe:\n",
            "['model', 'year', 'price', 'transmission', 'mileage', 'fuelType', 'tax', 'mpg', 'engineSize']\n",
            "--------------------------------------------------\n",
            "Columns in the Skoda dataframe:\n",
            "['model', 'year', 'price', 'transmission', 'mileage', 'fuelType', 'tax', 'mpg', 'engineSize']\n",
            "--------------------------------------------------\n",
            "Columns in the Toyota dataframe:\n",
            "['model', 'year', 'price', 'transmission', 'mileage', 'fuelType', 'tax', 'mpg', 'engineSize']\n",
            "--------------------------------------------------\n",
            "Columns in the Vauxhall dataframe:\n",
            "['model', 'year', 'price', 'transmission', 'mileage', 'fuelType', 'tax', 'mpg', 'engineSize']\n",
            "--------------------------------------------------\n",
            "Columns in the VW dataframe:\n",
            "['model', 'year', 'price', 'transmission', 'mileage', 'fuelType', 'tax', 'mpg', 'engineSize']\n"
          ]
        }
      ],
      "execution_count": 3,
      "metadata": {
        "trusted": true,
        "noteable": {},
        "ExecuteTime": {
          "start_time": "2023-05-28T16:24:53.835193+00:00",
          "end_time": "2023-05-28T16:24:53.998916+00:00"
        },
        "colab": {
          "base_uri": "https://localhost:8080/"
        },
        "id": "b3d2d62d",
        "outputId": "087c4efc-fc68-49fd-a5a6-e139b1869005"
      },
      "id": "b3d2d62d"
    },
    {
      "cell_type": "markdown",
      "source": [
        "1. It is observed that in hyundai dataset, the tax column is having a special character (pound)."
      ],
      "metadata": {
        "id": "1e129600"
      },
      "id": "1e129600"
    },
    {
      "cell_type": "code",
      "source": [
        "hyundai.rename({'tax(£)': 'tax'},axis=1,inplace=True)"
      ],
      "outputs": [],
      "execution_count": 4,
      "metadata": {
        "trusted": true,
        "noteable": {},
        "ExecuteTime": {
          "start_time": "2023-05-28T16:25:17.082214+00:00",
          "end_time": "2023-05-28T16:25:17.239474+00:00"
        },
        "id": "5a2f9677"
      },
      "id": "5a2f9677"
    },
    {
      "cell_type": "markdown",
      "source": [
        "## Adding a column make to identify the manufacturer for combining the datasets"
      ],
      "metadata": {
        "id": "92883b68"
      },
      "id": "92883b68"
    },
    {
      "cell_type": "code",
      "source": [
        "audi['make'] = 'Audi'\n",
        "bmw['make'] = 'BMW'\n",
        "ford['make'] = 'Ford'\n",
        "hyundai['make'] = 'Hyundai'\n",
        "merc['make'] = 'Mercedes'\n",
        "skoda['make'] = 'Skoda'\n",
        "toyota['make'] = 'Toyota'\n",
        "vauxhall['make'] = 'Vauxhall'\n",
        "vw['make'] = 'Volkswagen'"
      ],
      "outputs": [],
      "execution_count": 5,
      "metadata": {
        "trusted": true,
        "noteable": {},
        "ExecuteTime": {
          "start_time": "2023-05-28T16:25:29.212397+00:00",
          "end_time": "2023-05-28T16:25:29.374790+00:00"
        },
        "id": "adb5270c"
      },
      "id": "adb5270c"
    },
    {
      "cell_type": "code",
      "source": [
        "df = pd.concat([audi, bmw, ford, hyundai, merc, skoda, toyota, vauxhall, vw], axis=0, ignore_index=True)"
      ],
      "outputs": [],
      "execution_count": 6,
      "metadata": {
        "trusted": true,
        "noteable": {},
        "ExecuteTime": {
          "start_time": "2023-05-28T16:25:38.136165+00:00",
          "end_time": "2023-05-28T16:25:38.306727+00:00"
        },
        "id": "719b05b2"
      },
      "id": "719b05b2"
    },
    {
      "cell_type": "code",
      "source": [
        "df.info()"
      ],
      "outputs": [
        {
          "output_type": "stream",
          "name": "stdout",
          "text": [
            "<class 'pandas.core.frame.DataFrame'>\n",
            "RangeIndex: 99187 entries, 0 to 99186\n",
            "Data columns (total 10 columns):\n",
            " #   Column        Non-Null Count  Dtype  \n",
            "---  ------        --------------  -----  \n",
            " 0   model         99187 non-null  object \n",
            " 1   year          99187 non-null  int64  \n",
            " 2   price         99187 non-null  int64  \n",
            " 3   transmission  99187 non-null  object \n",
            " 4   mileage       99187 non-null  int64  \n",
            " 5   fuelType      99187 non-null  object \n",
            " 6   tax           99187 non-null  int64  \n",
            " 7   mpg           99187 non-null  float64\n",
            " 8   engineSize    99187 non-null  float64\n",
            " 9   make          99187 non-null  object \n",
            "dtypes: float64(2), int64(4), object(4)\n",
            "memory usage: 7.6+ MB\n"
          ]
        }
      ],
      "execution_count": 7,
      "metadata": {
        "trusted": true,
        "noteable": {},
        "ExecuteTime": {
          "start_time": "2023-05-28T16:25:48.215737+00:00",
          "end_time": "2023-05-28T16:25:48.448130+00:00"
        },
        "colab": {
          "base_uri": "https://localhost:8080/"
        },
        "id": "47b58a7d",
        "outputId": "de180027-d5e3-443a-f158-918f68ffc792"
      },
      "id": "47b58a7d"
    },
    {
      "cell_type": "code",
      "source": [
        "df.head()"
      ],
      "outputs": [
        {
          "output_type": "execute_result",
          "data": {
            "text/plain": [
              "  model  year  price transmission  mileage fuelType  tax   mpg  engineSize  \\\n",
              "0    A1  2017  12500       Manual    15735   Petrol  150  55.4         1.4   \n",
              "1    A6  2016  16500    Automatic    36203   Diesel   20  64.2         2.0   \n",
              "2    A1  2016  11000       Manual    29946   Petrol   30  55.4         1.4   \n",
              "3    A4  2017  16800    Automatic    25952   Diesel  145  67.3         2.0   \n",
              "4    A3  2019  17300       Manual     1998   Petrol  145  49.6         1.0   \n",
              "\n",
              "   make  \n",
              "0  Audi  \n",
              "1  Audi  \n",
              "2  Audi  \n",
              "3  Audi  \n",
              "4  Audi  "
            ],
            "text/html": [
              "\n",
              "  <div id=\"df-f11c7ee7-9d3f-4677-b4b9-179a559f9f41\">\n",
              "    <div class=\"colab-df-container\">\n",
              "      <div>\n",
              "<style scoped>\n",
              "    .dataframe tbody tr th:only-of-type {\n",
              "        vertical-align: middle;\n",
              "    }\n",
              "\n",
              "    .dataframe tbody tr th {\n",
              "        vertical-align: top;\n",
              "    }\n",
              "\n",
              "    .dataframe thead th {\n",
              "        text-align: right;\n",
              "    }\n",
              "</style>\n",
              "<table border=\"1\" class=\"dataframe\">\n",
              "  <thead>\n",
              "    <tr style=\"text-align: right;\">\n",
              "      <th></th>\n",
              "      <th>model</th>\n",
              "      <th>year</th>\n",
              "      <th>price</th>\n",
              "      <th>transmission</th>\n",
              "      <th>mileage</th>\n",
              "      <th>fuelType</th>\n",
              "      <th>tax</th>\n",
              "      <th>mpg</th>\n",
              "      <th>engineSize</th>\n",
              "      <th>make</th>\n",
              "    </tr>\n",
              "  </thead>\n",
              "  <tbody>\n",
              "    <tr>\n",
              "      <th>0</th>\n",
              "      <td>A1</td>\n",
              "      <td>2017</td>\n",
              "      <td>12500</td>\n",
              "      <td>Manual</td>\n",
              "      <td>15735</td>\n",
              "      <td>Petrol</td>\n",
              "      <td>150</td>\n",
              "      <td>55.4</td>\n",
              "      <td>1.4</td>\n",
              "      <td>Audi</td>\n",
              "    </tr>\n",
              "    <tr>\n",
              "      <th>1</th>\n",
              "      <td>A6</td>\n",
              "      <td>2016</td>\n",
              "      <td>16500</td>\n",
              "      <td>Automatic</td>\n",
              "      <td>36203</td>\n",
              "      <td>Diesel</td>\n",
              "      <td>20</td>\n",
              "      <td>64.2</td>\n",
              "      <td>2.0</td>\n",
              "      <td>Audi</td>\n",
              "    </tr>\n",
              "    <tr>\n",
              "      <th>2</th>\n",
              "      <td>A1</td>\n",
              "      <td>2016</td>\n",
              "      <td>11000</td>\n",
              "      <td>Manual</td>\n",
              "      <td>29946</td>\n",
              "      <td>Petrol</td>\n",
              "      <td>30</td>\n",
              "      <td>55.4</td>\n",
              "      <td>1.4</td>\n",
              "      <td>Audi</td>\n",
              "    </tr>\n",
              "    <tr>\n",
              "      <th>3</th>\n",
              "      <td>A4</td>\n",
              "      <td>2017</td>\n",
              "      <td>16800</td>\n",
              "      <td>Automatic</td>\n",
              "      <td>25952</td>\n",
              "      <td>Diesel</td>\n",
              "      <td>145</td>\n",
              "      <td>67.3</td>\n",
              "      <td>2.0</td>\n",
              "      <td>Audi</td>\n",
              "    </tr>\n",
              "    <tr>\n",
              "      <th>4</th>\n",
              "      <td>A3</td>\n",
              "      <td>2019</td>\n",
              "      <td>17300</td>\n",
              "      <td>Manual</td>\n",
              "      <td>1998</td>\n",
              "      <td>Petrol</td>\n",
              "      <td>145</td>\n",
              "      <td>49.6</td>\n",
              "      <td>1.0</td>\n",
              "      <td>Audi</td>\n",
              "    </tr>\n",
              "  </tbody>\n",
              "</table>\n",
              "</div>\n",
              "      <button class=\"colab-df-convert\" onclick=\"convertToInteractive('df-f11c7ee7-9d3f-4677-b4b9-179a559f9f41')\"\n",
              "              title=\"Convert this dataframe to an interactive table.\"\n",
              "              style=\"display:none;\">\n",
              "        \n",
              "  <svg xmlns=\"http://www.w3.org/2000/svg\" height=\"24px\"viewBox=\"0 0 24 24\"\n",
              "       width=\"24px\">\n",
              "    <path d=\"M0 0h24v24H0V0z\" fill=\"none\"/>\n",
              "    <path d=\"M18.56 5.44l.94 2.06.94-2.06 2.06-.94-2.06-.94-.94-2.06-.94 2.06-2.06.94zm-11 1L8.5 8.5l.94-2.06 2.06-.94-2.06-.94L8.5 2.5l-.94 2.06-2.06.94zm10 10l.94 2.06.94-2.06 2.06-.94-2.06-.94-.94-2.06-.94 2.06-2.06.94z\"/><path d=\"M17.41 7.96l-1.37-1.37c-.4-.4-.92-.59-1.43-.59-.52 0-1.04.2-1.43.59L10.3 9.45l-7.72 7.72c-.78.78-.78 2.05 0 2.83L4 21.41c.39.39.9.59 1.41.59.51 0 1.02-.2 1.41-.59l7.78-7.78 2.81-2.81c.8-.78.8-2.07 0-2.86zM5.41 20L4 18.59l7.72-7.72 1.47 1.35L5.41 20z\"/>\n",
              "  </svg>\n",
              "      </button>\n",
              "      \n",
              "  <style>\n",
              "    .colab-df-container {\n",
              "      display:flex;\n",
              "      flex-wrap:wrap;\n",
              "      gap: 12px;\n",
              "    }\n",
              "\n",
              "    .colab-df-convert {\n",
              "      background-color: #E8F0FE;\n",
              "      border: none;\n",
              "      border-radius: 50%;\n",
              "      cursor: pointer;\n",
              "      display: none;\n",
              "      fill: #1967D2;\n",
              "      height: 32px;\n",
              "      padding: 0 0 0 0;\n",
              "      width: 32px;\n",
              "    }\n",
              "\n",
              "    .colab-df-convert:hover {\n",
              "      background-color: #E2EBFA;\n",
              "      box-shadow: 0px 1px 2px rgba(60, 64, 67, 0.3), 0px 1px 3px 1px rgba(60, 64, 67, 0.15);\n",
              "      fill: #174EA6;\n",
              "    }\n",
              "\n",
              "    [theme=dark] .colab-df-convert {\n",
              "      background-color: #3B4455;\n",
              "      fill: #D2E3FC;\n",
              "    }\n",
              "\n",
              "    [theme=dark] .colab-df-convert:hover {\n",
              "      background-color: #434B5C;\n",
              "      box-shadow: 0px 1px 3px 1px rgba(0, 0, 0, 0.15);\n",
              "      filter: drop-shadow(0px 1px 2px rgba(0, 0, 0, 0.3));\n",
              "      fill: #FFFFFF;\n",
              "    }\n",
              "  </style>\n",
              "\n",
              "      <script>\n",
              "        const buttonEl =\n",
              "          document.querySelector('#df-f11c7ee7-9d3f-4677-b4b9-179a559f9f41 button.colab-df-convert');\n",
              "        buttonEl.style.display =\n",
              "          google.colab.kernel.accessAllowed ? 'block' : 'none';\n",
              "\n",
              "        async function convertToInteractive(key) {\n",
              "          const element = document.querySelector('#df-f11c7ee7-9d3f-4677-b4b9-179a559f9f41');\n",
              "          const dataTable =\n",
              "            await google.colab.kernel.invokeFunction('convertToInteractive',\n",
              "                                                     [key], {});\n",
              "          if (!dataTable) return;\n",
              "\n",
              "          const docLinkHtml = 'Like what you see? Visit the ' +\n",
              "            '<a target=\"_blank\" href=https://colab.research.google.com/notebooks/data_table.ipynb>data table notebook</a>'\n",
              "            + ' to learn more about interactive tables.';\n",
              "          element.innerHTML = '';\n",
              "          dataTable['output_type'] = 'display_data';\n",
              "          await google.colab.output.renderOutput(dataTable, element);\n",
              "          const docLink = document.createElement('div');\n",
              "          docLink.innerHTML = docLinkHtml;\n",
              "          element.appendChild(docLink);\n",
              "        }\n",
              "      </script>\n",
              "    </div>\n",
              "  </div>\n",
              "  "
            ]
          },
          "metadata": {},
          "execution_count": 8
        }
      ],
      "execution_count": 8,
      "metadata": {
        "trusted": true,
        "noteable": {},
        "ExecuteTime": {
          "start_time": "2023-05-28T16:26:10.688601+00:00",
          "end_time": "2023-05-28T16:26:10.917363+00:00"
        },
        "datalink": {
          "c9c2d032-d589-4d14-a0d1-f9bc5f08db3a": {
            "dataframe_info": {
              "default_index_used": true,
              "orig_size_bytes": 528,
              "orig_num_rows": 5,
              "orig_num_cols": 10,
              "truncated_string_columns": [],
              "truncated_size_bytes": 528,
              "truncated_num_rows": 5,
              "truncated_num_cols": 10
            },
            "dx_settings": {
              "LOG_LEVEL": 30,
              "DEV_MODE": false,
              "DISPLAY_MAX_ROWS": 50000,
              "DISPLAY_MAX_COLUMNS": 100,
              "HTML_TABLE_SCHEMA": false,
              "MAX_RENDER_SIZE_BYTES": 104857600,
              "MAX_STRING_LENGTH": 250,
              "SAMPLING_FACTOR": 0.1,
              "DISPLAY_MODE": "simple",
              "SAMPLING_METHOD": "random",
              "COLUMN_SAMPLING_METHOD": "outer",
              "ROW_SAMPLING_METHOD": "random",
              "RANDOM_STATE": 12648430,
              "RESET_INDEX_VALUES": false,
              "FLATTEN_INDEX_VALUES": false,
              "FLATTEN_COLUMN_VALUES": true,
              "STRINGIFY_INDEX_VALUES": false,
              "STRINGIFY_COLUMN_VALUES": true,
              "ENABLE_DATALINK": true,
              "ENABLE_ASSIGNMENT": true,
              "NUM_PAST_SAMPLES_TRACKED": 3,
              "DB_LOCATION": ":memory:",
              "GENERATE_DEX_METADATA": false,
              "ALLOW_NOTEABLE_ATTRS": true
            },
            "display_id": "c9c2d032-d589-4d14-a0d1-f9bc5f08db3a",
            "applied_filters": [],
            "sample_history": [],
            "sampling_time": "2023-05-28T16:26:10.757944",
            "variable_name": "unk_dataframe_0f3bd57f2e11475889951fb68dbbf164",
            "user_variable_name": null
          }
        },
        "colab": {
          "base_uri": "https://localhost:8080/",
          "height": 206
        },
        "id": "8eacec4a",
        "outputId": "d7d3e3dc-f792-4407-eecc-99bba9c40e4c"
      },
      "id": "8eacec4a"
    },
    {
      "cell_type": "code",
      "source": [
        "df.isnull().sum()"
      ],
      "outputs": [
        {
          "output_type": "execute_result",
          "data": {
            "text/plain": [
              "model           0\n",
              "year            0\n",
              "price           0\n",
              "transmission    0\n",
              "mileage         0\n",
              "fuelType        0\n",
              "tax             0\n",
              "mpg             0\n",
              "engineSize      0\n",
              "make            0\n",
              "dtype: int64"
            ]
          },
          "metadata": {},
          "execution_count": 9
        }
      ],
      "execution_count": 9,
      "metadata": {
        "trusted": true,
        "noteable": {},
        "ExecuteTime": {
          "start_time": "2023-05-28T16:27:10.338391+00:00",
          "end_time": "2023-05-28T16:27:10.586360+00:00"
        },
        "datalink": {
          "4372eb29-2a7c-4456-8452-3cf3d00df74c": {
            "dataframe_info": {
              "default_index_used": false,
              "orig_size_bytes": 160,
              "orig_num_rows": 10,
              "orig_num_cols": 1,
              "truncated_string_columns": [],
              "truncated_size_bytes": 160,
              "truncated_num_rows": 10,
              "truncated_num_cols": 1
            },
            "dx_settings": {
              "LOG_LEVEL": 30,
              "DEV_MODE": false,
              "DISPLAY_MAX_ROWS": 50000,
              "DISPLAY_MAX_COLUMNS": 100,
              "HTML_TABLE_SCHEMA": false,
              "MAX_RENDER_SIZE_BYTES": 104857600,
              "MAX_STRING_LENGTH": 250,
              "SAMPLING_FACTOR": 0.1,
              "DISPLAY_MODE": "simple",
              "SAMPLING_METHOD": "random",
              "COLUMN_SAMPLING_METHOD": "outer",
              "ROW_SAMPLING_METHOD": "random",
              "RANDOM_STATE": 12648430,
              "RESET_INDEX_VALUES": false,
              "FLATTEN_INDEX_VALUES": false,
              "FLATTEN_COLUMN_VALUES": true,
              "STRINGIFY_INDEX_VALUES": false,
              "STRINGIFY_COLUMN_VALUES": true,
              "ENABLE_DATALINK": true,
              "ENABLE_ASSIGNMENT": true,
              "NUM_PAST_SAMPLES_TRACKED": 3,
              "DB_LOCATION": ":memory:",
              "GENERATE_DEX_METADATA": false,
              "ALLOW_NOTEABLE_ATTRS": true
            },
            "display_id": "4372eb29-2a7c-4456-8452-3cf3d00df74c",
            "applied_filters": [],
            "sample_history": [],
            "sampling_time": "2023-05-28T16:27:10.429548",
            "variable_name": "unk_dataframe_a61efb6020934b1eb35f92dc1fa50633",
            "user_variable_name": null
          }
        },
        "colab": {
          "base_uri": "https://localhost:8080/"
        },
        "id": "de21e7f1",
        "outputId": "89c0c555-6dc8-4a59-b65a-4d2cd9958ee1"
      },
      "id": "de21e7f1"
    },
    {
      "cell_type": "markdown",
      "source": [
        "### There are no missing values in the dataset"
      ],
      "metadata": {
        "id": "e0101b79"
      },
      "id": "e0101b79"
    },
    {
      "cell_type": "code",
      "source": [
        "df.nunique()"
      ],
      "outputs": [
        {
          "output_type": "execute_result",
          "data": {
            "text/plain": [
              "model             195\n",
              "year               27\n",
              "price           13236\n",
              "transmission        4\n",
              "mileage         42214\n",
              "fuelType            5\n",
              "tax                48\n",
              "mpg               208\n",
              "engineSize         40\n",
              "make                9\n",
              "dtype: int64"
            ]
          },
          "metadata": {},
          "execution_count": 10
        }
      ],
      "execution_count": 10,
      "metadata": {
        "trusted": true,
        "noteable": {},
        "ExecuteTime": {
          "start_time": "2023-05-28T16:27:37.406720+00:00",
          "end_time": "2023-05-28T16:27:37.630819+00:00"
        },
        "datalink": {
          "b844b03c-46cf-47bd-997a-4f4ae99ac409": {
            "dataframe_info": {
              "default_index_used": false,
              "orig_size_bytes": 460,
              "orig_num_rows": 10,
              "orig_num_cols": 1,
              "truncated_string_columns": [],
              "truncated_size_bytes": 460,
              "truncated_num_rows": 10,
              "truncated_num_cols": 1
            },
            "dx_settings": {
              "LOG_LEVEL": 30,
              "DEV_MODE": false,
              "DISPLAY_MAX_ROWS": 50000,
              "DISPLAY_MAX_COLUMNS": 100,
              "HTML_TABLE_SCHEMA": false,
              "MAX_RENDER_SIZE_BYTES": 104857600,
              "MAX_STRING_LENGTH": 250,
              "SAMPLING_FACTOR": 0.1,
              "DISPLAY_MODE": "simple",
              "SAMPLING_METHOD": "random",
              "COLUMN_SAMPLING_METHOD": "outer",
              "ROW_SAMPLING_METHOD": "random",
              "RANDOM_STATE": 12648430,
              "RESET_INDEX_VALUES": false,
              "FLATTEN_INDEX_VALUES": false,
              "FLATTEN_COLUMN_VALUES": true,
              "STRINGIFY_INDEX_VALUES": false,
              "STRINGIFY_COLUMN_VALUES": true,
              "ENABLE_DATALINK": true,
              "ENABLE_ASSIGNMENT": true,
              "NUM_PAST_SAMPLES_TRACKED": 3,
              "DB_LOCATION": ":memory:",
              "GENERATE_DEX_METADATA": false,
              "ALLOW_NOTEABLE_ATTRS": true
            },
            "display_id": "b844b03c-46cf-47bd-997a-4f4ae99ac409",
            "applied_filters": [],
            "sample_history": [],
            "sampling_time": "2023-05-28T16:27:37.474542",
            "variable_name": "unk_dataframe_43f0494c8ff14d938c468d7156e1736e",
            "user_variable_name": null
          }
        },
        "colab": {
          "base_uri": "https://localhost:8080/"
        },
        "id": "c458fc2c",
        "outputId": "fc478b3c-cb98-4de7-de33-1a1c64f34ab3"
      },
      "id": "c458fc2c"
    },
    {
      "cell_type": "markdown",
      "source": [
        "### By observing the unique values we can understand that the columns \"Model\", \"fuelType\" and \"transmission\" and \"make\" are categorical columns"
      ],
      "metadata": {
        "id": "bd72aa97"
      },
      "id": "bd72aa97"
    },
    {
      "cell_type": "markdown",
      "source": [
        "# Exploratory Data Analysis"
      ],
      "metadata": {
        "id": "6c8ad1f0"
      },
      "id": "6c8ad1f0"
    },
    {
      "cell_type": "code",
      "source": [
        "df.describe()"
      ],
      "outputs": [
        {
          "output_type": "execute_result",
          "data": {
            "text/plain": [
              "               year          price        mileage           tax           mpg  \\\n",
              "count  99187.000000   99187.000000   99187.000000  99187.000000  99187.000000   \n",
              "mean    2017.087723   16805.347656   23058.914213    120.299838     55.166825   \n",
              "std        2.123934    9866.773417   21148.523721     63.150926     16.138522   \n",
              "min     1970.000000     450.000000       1.000000      0.000000      0.300000   \n",
              "25%     2016.000000    9999.000000    7425.000000    125.000000     47.100000   \n",
              "50%     2017.000000   14495.000000   17460.000000    145.000000     54.300000   \n",
              "75%     2019.000000   20870.000000   32339.000000    145.000000     62.800000   \n",
              "max     2060.000000  159999.000000  323000.000000    580.000000    470.800000   \n",
              "\n",
              "         engineSize  \n",
              "count  99187.000000  \n",
              "mean       1.663280  \n",
              "std        0.557646  \n",
              "min        0.000000  \n",
              "25%        1.200000  \n",
              "50%        1.600000  \n",
              "75%        2.000000  \n",
              "max        6.600000  "
            ],
            "text/html": [
              "\n",
              "  <div id=\"df-4b79e916-7b96-4f47-9f5c-89f7c9b90004\">\n",
              "    <div class=\"colab-df-container\">\n",
              "      <div>\n",
              "<style scoped>\n",
              "    .dataframe tbody tr th:only-of-type {\n",
              "        vertical-align: middle;\n",
              "    }\n",
              "\n",
              "    .dataframe tbody tr th {\n",
              "        vertical-align: top;\n",
              "    }\n",
              "\n",
              "    .dataframe thead th {\n",
              "        text-align: right;\n",
              "    }\n",
              "</style>\n",
              "<table border=\"1\" class=\"dataframe\">\n",
              "  <thead>\n",
              "    <tr style=\"text-align: right;\">\n",
              "      <th></th>\n",
              "      <th>year</th>\n",
              "      <th>price</th>\n",
              "      <th>mileage</th>\n",
              "      <th>tax</th>\n",
              "      <th>mpg</th>\n",
              "      <th>engineSize</th>\n",
              "    </tr>\n",
              "  </thead>\n",
              "  <tbody>\n",
              "    <tr>\n",
              "      <th>count</th>\n",
              "      <td>99187.000000</td>\n",
              "      <td>99187.000000</td>\n",
              "      <td>99187.000000</td>\n",
              "      <td>99187.000000</td>\n",
              "      <td>99187.000000</td>\n",
              "      <td>99187.000000</td>\n",
              "    </tr>\n",
              "    <tr>\n",
              "      <th>mean</th>\n",
              "      <td>2017.087723</td>\n",
              "      <td>16805.347656</td>\n",
              "      <td>23058.914213</td>\n",
              "      <td>120.299838</td>\n",
              "      <td>55.166825</td>\n",
              "      <td>1.663280</td>\n",
              "    </tr>\n",
              "    <tr>\n",
              "      <th>std</th>\n",
              "      <td>2.123934</td>\n",
              "      <td>9866.773417</td>\n",
              "      <td>21148.523721</td>\n",
              "      <td>63.150926</td>\n",
              "      <td>16.138522</td>\n",
              "      <td>0.557646</td>\n",
              "    </tr>\n",
              "    <tr>\n",
              "      <th>min</th>\n",
              "      <td>1970.000000</td>\n",
              "      <td>450.000000</td>\n",
              "      <td>1.000000</td>\n",
              "      <td>0.000000</td>\n",
              "      <td>0.300000</td>\n",
              "      <td>0.000000</td>\n",
              "    </tr>\n",
              "    <tr>\n",
              "      <th>25%</th>\n",
              "      <td>2016.000000</td>\n",
              "      <td>9999.000000</td>\n",
              "      <td>7425.000000</td>\n",
              "      <td>125.000000</td>\n",
              "      <td>47.100000</td>\n",
              "      <td>1.200000</td>\n",
              "    </tr>\n",
              "    <tr>\n",
              "      <th>50%</th>\n",
              "      <td>2017.000000</td>\n",
              "      <td>14495.000000</td>\n",
              "      <td>17460.000000</td>\n",
              "      <td>145.000000</td>\n",
              "      <td>54.300000</td>\n",
              "      <td>1.600000</td>\n",
              "    </tr>\n",
              "    <tr>\n",
              "      <th>75%</th>\n",
              "      <td>2019.000000</td>\n",
              "      <td>20870.000000</td>\n",
              "      <td>32339.000000</td>\n",
              "      <td>145.000000</td>\n",
              "      <td>62.800000</td>\n",
              "      <td>2.000000</td>\n",
              "    </tr>\n",
              "    <tr>\n",
              "      <th>max</th>\n",
              "      <td>2060.000000</td>\n",
              "      <td>159999.000000</td>\n",
              "      <td>323000.000000</td>\n",
              "      <td>580.000000</td>\n",
              "      <td>470.800000</td>\n",
              "      <td>6.600000</td>\n",
              "    </tr>\n",
              "  </tbody>\n",
              "</table>\n",
              "</div>\n",
              "      <button class=\"colab-df-convert\" onclick=\"convertToInteractive('df-4b79e916-7b96-4f47-9f5c-89f7c9b90004')\"\n",
              "              title=\"Convert this dataframe to an interactive table.\"\n",
              "              style=\"display:none;\">\n",
              "        \n",
              "  <svg xmlns=\"http://www.w3.org/2000/svg\" height=\"24px\"viewBox=\"0 0 24 24\"\n",
              "       width=\"24px\">\n",
              "    <path d=\"M0 0h24v24H0V0z\" fill=\"none\"/>\n",
              "    <path d=\"M18.56 5.44l.94 2.06.94-2.06 2.06-.94-2.06-.94-.94-2.06-.94 2.06-2.06.94zm-11 1L8.5 8.5l.94-2.06 2.06-.94-2.06-.94L8.5 2.5l-.94 2.06-2.06.94zm10 10l.94 2.06.94-2.06 2.06-.94-2.06-.94-.94-2.06-.94 2.06-2.06.94z\"/><path d=\"M17.41 7.96l-1.37-1.37c-.4-.4-.92-.59-1.43-.59-.52 0-1.04.2-1.43.59L10.3 9.45l-7.72 7.72c-.78.78-.78 2.05 0 2.83L4 21.41c.39.39.9.59 1.41.59.51 0 1.02-.2 1.41-.59l7.78-7.78 2.81-2.81c.8-.78.8-2.07 0-2.86zM5.41 20L4 18.59l7.72-7.72 1.47 1.35L5.41 20z\"/>\n",
              "  </svg>\n",
              "      </button>\n",
              "      \n",
              "  <style>\n",
              "    .colab-df-container {\n",
              "      display:flex;\n",
              "      flex-wrap:wrap;\n",
              "      gap: 12px;\n",
              "    }\n",
              "\n",
              "    .colab-df-convert {\n",
              "      background-color: #E8F0FE;\n",
              "      border: none;\n",
              "      border-radius: 50%;\n",
              "      cursor: pointer;\n",
              "      display: none;\n",
              "      fill: #1967D2;\n",
              "      height: 32px;\n",
              "      padding: 0 0 0 0;\n",
              "      width: 32px;\n",
              "    }\n",
              "\n",
              "    .colab-df-convert:hover {\n",
              "      background-color: #E2EBFA;\n",
              "      box-shadow: 0px 1px 2px rgba(60, 64, 67, 0.3), 0px 1px 3px 1px rgba(60, 64, 67, 0.15);\n",
              "      fill: #174EA6;\n",
              "    }\n",
              "\n",
              "    [theme=dark] .colab-df-convert {\n",
              "      background-color: #3B4455;\n",
              "      fill: #D2E3FC;\n",
              "    }\n",
              "\n",
              "    [theme=dark] .colab-df-convert:hover {\n",
              "      background-color: #434B5C;\n",
              "      box-shadow: 0px 1px 3px 1px rgba(0, 0, 0, 0.15);\n",
              "      filter: drop-shadow(0px 1px 2px rgba(0, 0, 0, 0.3));\n",
              "      fill: #FFFFFF;\n",
              "    }\n",
              "  </style>\n",
              "\n",
              "      <script>\n",
              "        const buttonEl =\n",
              "          document.querySelector('#df-4b79e916-7b96-4f47-9f5c-89f7c9b90004 button.colab-df-convert');\n",
              "        buttonEl.style.display =\n",
              "          google.colab.kernel.accessAllowed ? 'block' : 'none';\n",
              "\n",
              "        async function convertToInteractive(key) {\n",
              "          const element = document.querySelector('#df-4b79e916-7b96-4f47-9f5c-89f7c9b90004');\n",
              "          const dataTable =\n",
              "            await google.colab.kernel.invokeFunction('convertToInteractive',\n",
              "                                                     [key], {});\n",
              "          if (!dataTable) return;\n",
              "\n",
              "          const docLinkHtml = 'Like what you see? Visit the ' +\n",
              "            '<a target=\"_blank\" href=https://colab.research.google.com/notebooks/data_table.ipynb>data table notebook</a>'\n",
              "            + ' to learn more about interactive tables.';\n",
              "          element.innerHTML = '';\n",
              "          dataTable['output_type'] = 'display_data';\n",
              "          await google.colab.output.renderOutput(dataTable, element);\n",
              "          const docLink = document.createElement('div');\n",
              "          docLink.innerHTML = docLinkHtml;\n",
              "          element.appendChild(docLink);\n",
              "        }\n",
              "      </script>\n",
              "    </div>\n",
              "  </div>\n",
              "  "
            ]
          },
          "metadata": {},
          "execution_count": 11
        }
      ],
      "execution_count": 11,
      "metadata": {
        "trusted": true,
        "noteable": {},
        "ExecuteTime": {
          "start_time": "2023-05-28T16:28:10.613941+00:00",
          "end_time": "2023-05-28T16:28:10.860155+00:00"
        },
        "datalink": {
          "6308fab4-00f6-44aa-b7d7-7a8e22706f7d": {
            "dataframe_info": {
              "default_index_used": false,
              "orig_size_bytes": 448,
              "orig_num_rows": 8,
              "orig_num_cols": 6,
              "truncated_string_columns": [],
              "truncated_size_bytes": 448,
              "truncated_num_rows": 8,
              "truncated_num_cols": 6
            },
            "dx_settings": {
              "LOG_LEVEL": 30,
              "DEV_MODE": false,
              "DISPLAY_MAX_ROWS": 50000,
              "DISPLAY_MAX_COLUMNS": 100,
              "HTML_TABLE_SCHEMA": false,
              "MAX_RENDER_SIZE_BYTES": 104857600,
              "MAX_STRING_LENGTH": 250,
              "SAMPLING_FACTOR": 0.1,
              "DISPLAY_MODE": "simple",
              "SAMPLING_METHOD": "random",
              "COLUMN_SAMPLING_METHOD": "outer",
              "ROW_SAMPLING_METHOD": "random",
              "RANDOM_STATE": 12648430,
              "RESET_INDEX_VALUES": false,
              "FLATTEN_INDEX_VALUES": false,
              "FLATTEN_COLUMN_VALUES": true,
              "STRINGIFY_INDEX_VALUES": false,
              "STRINGIFY_COLUMN_VALUES": true,
              "ENABLE_DATALINK": true,
              "ENABLE_ASSIGNMENT": true,
              "NUM_PAST_SAMPLES_TRACKED": 3,
              "DB_LOCATION": ":memory:",
              "GENERATE_DEX_METADATA": false,
              "ALLOW_NOTEABLE_ATTRS": true
            },
            "display_id": "6308fab4-00f6-44aa-b7d7-7a8e22706f7d",
            "applied_filters": [],
            "sample_history": [],
            "sampling_time": "2023-05-28T16:28:10.697468",
            "variable_name": "unk_dataframe_87e850130399405b8222610242047612",
            "user_variable_name": null
          }
        },
        "colab": {
          "base_uri": "https://localhost:8080/",
          "height": 300
        },
        "id": "8b5ea6e4",
        "outputId": "3dccce5c-bc2d-4e8e-e0b1-50b6faf55f41"
      },
      "id": "8b5ea6e4"
    },
    {
      "cell_type": "markdown",
      "source": [
        "### Year"
      ],
      "metadata": {
        "id": "67e6441b"
      },
      "id": "67e6441b"
    },
    {
      "cell_type": "markdown",
      "source": [
        "From the info we got from the dataset, it is observed that there is atleast 1 car with the year as 2060"
      ],
      "metadata": {
        "id": "51907d4f"
      },
      "id": "51907d4f"
    },
    {
      "cell_type": "code",
      "source": [
        "df[df['year'] == 2060]"
      ],
      "outputs": [
        {
          "output_type": "execute_result",
          "data": {
            "text/plain": [
              "         model  year  price transmission  mileage fuelType  tax   mpg  \\\n",
              "39175   Fiesta  2060   6495    Automatic    54807   Petrol  205  42.8   \n",
              "\n",
              "       engineSize  make  \n",
              "39175         1.4  Ford  "
            ],
            "text/html": [
              "\n",
              "  <div id=\"df-3865daef-d05b-4660-91bc-6000d4235d7b\">\n",
              "    <div class=\"colab-df-container\">\n",
              "      <div>\n",
              "<style scoped>\n",
              "    .dataframe tbody tr th:only-of-type {\n",
              "        vertical-align: middle;\n",
              "    }\n",
              "\n",
              "    .dataframe tbody tr th {\n",
              "        vertical-align: top;\n",
              "    }\n",
              "\n",
              "    .dataframe thead th {\n",
              "        text-align: right;\n",
              "    }\n",
              "</style>\n",
              "<table border=\"1\" class=\"dataframe\">\n",
              "  <thead>\n",
              "    <tr style=\"text-align: right;\">\n",
              "      <th></th>\n",
              "      <th>model</th>\n",
              "      <th>year</th>\n",
              "      <th>price</th>\n",
              "      <th>transmission</th>\n",
              "      <th>mileage</th>\n",
              "      <th>fuelType</th>\n",
              "      <th>tax</th>\n",
              "      <th>mpg</th>\n",
              "      <th>engineSize</th>\n",
              "      <th>make</th>\n",
              "    </tr>\n",
              "  </thead>\n",
              "  <tbody>\n",
              "    <tr>\n",
              "      <th>39175</th>\n",
              "      <td>Fiesta</td>\n",
              "      <td>2060</td>\n",
              "      <td>6495</td>\n",
              "      <td>Automatic</td>\n",
              "      <td>54807</td>\n",
              "      <td>Petrol</td>\n",
              "      <td>205</td>\n",
              "      <td>42.8</td>\n",
              "      <td>1.4</td>\n",
              "      <td>Ford</td>\n",
              "    </tr>\n",
              "  </tbody>\n",
              "</table>\n",
              "</div>\n",
              "      <button class=\"colab-df-convert\" onclick=\"convertToInteractive('df-3865daef-d05b-4660-91bc-6000d4235d7b')\"\n",
              "              title=\"Convert this dataframe to an interactive table.\"\n",
              "              style=\"display:none;\">\n",
              "        \n",
              "  <svg xmlns=\"http://www.w3.org/2000/svg\" height=\"24px\"viewBox=\"0 0 24 24\"\n",
              "       width=\"24px\">\n",
              "    <path d=\"M0 0h24v24H0V0z\" fill=\"none\"/>\n",
              "    <path d=\"M18.56 5.44l.94 2.06.94-2.06 2.06-.94-2.06-.94-.94-2.06-.94 2.06-2.06.94zm-11 1L8.5 8.5l.94-2.06 2.06-.94-2.06-.94L8.5 2.5l-.94 2.06-2.06.94zm10 10l.94 2.06.94-2.06 2.06-.94-2.06-.94-.94-2.06-.94 2.06-2.06.94z\"/><path d=\"M17.41 7.96l-1.37-1.37c-.4-.4-.92-.59-1.43-.59-.52 0-1.04.2-1.43.59L10.3 9.45l-7.72 7.72c-.78.78-.78 2.05 0 2.83L4 21.41c.39.39.9.59 1.41.59.51 0 1.02-.2 1.41-.59l7.78-7.78 2.81-2.81c.8-.78.8-2.07 0-2.86zM5.41 20L4 18.59l7.72-7.72 1.47 1.35L5.41 20z\"/>\n",
              "  </svg>\n",
              "      </button>\n",
              "      \n",
              "  <style>\n",
              "    .colab-df-container {\n",
              "      display:flex;\n",
              "      flex-wrap:wrap;\n",
              "      gap: 12px;\n",
              "    }\n",
              "\n",
              "    .colab-df-convert {\n",
              "      background-color: #E8F0FE;\n",
              "      border: none;\n",
              "      border-radius: 50%;\n",
              "      cursor: pointer;\n",
              "      display: none;\n",
              "      fill: #1967D2;\n",
              "      height: 32px;\n",
              "      padding: 0 0 0 0;\n",
              "      width: 32px;\n",
              "    }\n",
              "\n",
              "    .colab-df-convert:hover {\n",
              "      background-color: #E2EBFA;\n",
              "      box-shadow: 0px 1px 2px rgba(60, 64, 67, 0.3), 0px 1px 3px 1px rgba(60, 64, 67, 0.15);\n",
              "      fill: #174EA6;\n",
              "    }\n",
              "\n",
              "    [theme=dark] .colab-df-convert {\n",
              "      background-color: #3B4455;\n",
              "      fill: #D2E3FC;\n",
              "    }\n",
              "\n",
              "    [theme=dark] .colab-df-convert:hover {\n",
              "      background-color: #434B5C;\n",
              "      box-shadow: 0px 1px 3px 1px rgba(0, 0, 0, 0.15);\n",
              "      filter: drop-shadow(0px 1px 2px rgba(0, 0, 0, 0.3));\n",
              "      fill: #FFFFFF;\n",
              "    }\n",
              "  </style>\n",
              "\n",
              "      <script>\n",
              "        const buttonEl =\n",
              "          document.querySelector('#df-3865daef-d05b-4660-91bc-6000d4235d7b button.colab-df-convert');\n",
              "        buttonEl.style.display =\n",
              "          google.colab.kernel.accessAllowed ? 'block' : 'none';\n",
              "\n",
              "        async function convertToInteractive(key) {\n",
              "          const element = document.querySelector('#df-3865daef-d05b-4660-91bc-6000d4235d7b');\n",
              "          const dataTable =\n",
              "            await google.colab.kernel.invokeFunction('convertToInteractive',\n",
              "                                                     [key], {});\n",
              "          if (!dataTable) return;\n",
              "\n",
              "          const docLinkHtml = 'Like what you see? Visit the ' +\n",
              "            '<a target=\"_blank\" href=https://colab.research.google.com/notebooks/data_table.ipynb>data table notebook</a>'\n",
              "            + ' to learn more about interactive tables.';\n",
              "          element.innerHTML = '';\n",
              "          dataTable['output_type'] = 'display_data';\n",
              "          await google.colab.output.renderOutput(dataTable, element);\n",
              "          const docLink = document.createElement('div');\n",
              "          docLink.innerHTML = docLinkHtml;\n",
              "          element.appendChild(docLink);\n",
              "        }\n",
              "      </script>\n",
              "    </div>\n",
              "  </div>\n",
              "  "
            ]
          },
          "metadata": {},
          "execution_count": 12
        }
      ],
      "execution_count": 12,
      "metadata": {
        "trusted": true,
        "noteable": {},
        "colab": {
          "base_uri": "https://localhost:8080/",
          "height": 81
        },
        "id": "d59e0e76",
        "outputId": "eb1a0ede-15a6-468b-8fb9-3444c5464c9f"
      },
      "id": "d59e0e76"
    },
    {
      "cell_type": "markdown",
      "source": [
        "It is observed that there is 1 car from the manufacturer Ford that is having year as 2060. Since we don't have any other information regarding this data, we can remove this entry"
      ],
      "metadata": {
        "id": "ceb4c1e7"
      },
      "id": "ceb4c1e7"
    },
    {
      "cell_type": "code",
      "source": [
        "df = df.drop(df[df['year'] == 2060].index)"
      ],
      "outputs": [],
      "execution_count": 13,
      "metadata": {
        "trusted": true,
        "id": "700f5293"
      },
      "id": "700f5293"
    },
    {
      "cell_type": "markdown",
      "source": [
        "Also it is observed that there are some cars with the year 1970"
      ],
      "metadata": {
        "id": "eb3b2c43"
      },
      "id": "eb3b2c43"
    },
    {
      "cell_type": "code",
      "source": [
        "df[df['year'] == 1970]"
      ],
      "outputs": [
        {
          "output_type": "execute_result",
          "data": {
            "text/plain": [
              "          model  year  price transmission  mileage fuelType  tax   mpg  \\\n",
              "56346   M Class  1970  24999    Automatic    14000   Diesel  305  39.2   \n",
              "81235    Zafira  1970  10495       Manual    37357   Petrol  200  42.2   \n",
              "\n",
              "       engineSize      make  \n",
              "56346         0.0  Mercedes  \n",
              "81235         1.4  Vauxhall  "
            ],
            "text/html": [
              "\n",
              "  <div id=\"df-fdff8775-5f38-4b72-8364-bacf58e479a1\">\n",
              "    <div class=\"colab-df-container\">\n",
              "      <div>\n",
              "<style scoped>\n",
              "    .dataframe tbody tr th:only-of-type {\n",
              "        vertical-align: middle;\n",
              "    }\n",
              "\n",
              "    .dataframe tbody tr th {\n",
              "        vertical-align: top;\n",
              "    }\n",
              "\n",
              "    .dataframe thead th {\n",
              "        text-align: right;\n",
              "    }\n",
              "</style>\n",
              "<table border=\"1\" class=\"dataframe\">\n",
              "  <thead>\n",
              "    <tr style=\"text-align: right;\">\n",
              "      <th></th>\n",
              "      <th>model</th>\n",
              "      <th>year</th>\n",
              "      <th>price</th>\n",
              "      <th>transmission</th>\n",
              "      <th>mileage</th>\n",
              "      <th>fuelType</th>\n",
              "      <th>tax</th>\n",
              "      <th>mpg</th>\n",
              "      <th>engineSize</th>\n",
              "      <th>make</th>\n",
              "    </tr>\n",
              "  </thead>\n",
              "  <tbody>\n",
              "    <tr>\n",
              "      <th>56346</th>\n",
              "      <td>M Class</td>\n",
              "      <td>1970</td>\n",
              "      <td>24999</td>\n",
              "      <td>Automatic</td>\n",
              "      <td>14000</td>\n",
              "      <td>Diesel</td>\n",
              "      <td>305</td>\n",
              "      <td>39.2</td>\n",
              "      <td>0.0</td>\n",
              "      <td>Mercedes</td>\n",
              "    </tr>\n",
              "    <tr>\n",
              "      <th>81235</th>\n",
              "      <td>Zafira</td>\n",
              "      <td>1970</td>\n",
              "      <td>10495</td>\n",
              "      <td>Manual</td>\n",
              "      <td>37357</td>\n",
              "      <td>Petrol</td>\n",
              "      <td>200</td>\n",
              "      <td>42.2</td>\n",
              "      <td>1.4</td>\n",
              "      <td>Vauxhall</td>\n",
              "    </tr>\n",
              "  </tbody>\n",
              "</table>\n",
              "</div>\n",
              "      <button class=\"colab-df-convert\" onclick=\"convertToInteractive('df-fdff8775-5f38-4b72-8364-bacf58e479a1')\"\n",
              "              title=\"Convert this dataframe to an interactive table.\"\n",
              "              style=\"display:none;\">\n",
              "        \n",
              "  <svg xmlns=\"http://www.w3.org/2000/svg\" height=\"24px\"viewBox=\"0 0 24 24\"\n",
              "       width=\"24px\">\n",
              "    <path d=\"M0 0h24v24H0V0z\" fill=\"none\"/>\n",
              "    <path d=\"M18.56 5.44l.94 2.06.94-2.06 2.06-.94-2.06-.94-.94-2.06-.94 2.06-2.06.94zm-11 1L8.5 8.5l.94-2.06 2.06-.94-2.06-.94L8.5 2.5l-.94 2.06-2.06.94zm10 10l.94 2.06.94-2.06 2.06-.94-2.06-.94-.94-2.06-.94 2.06-2.06.94z\"/><path d=\"M17.41 7.96l-1.37-1.37c-.4-.4-.92-.59-1.43-.59-.52 0-1.04.2-1.43.59L10.3 9.45l-7.72 7.72c-.78.78-.78 2.05 0 2.83L4 21.41c.39.39.9.59 1.41.59.51 0 1.02-.2 1.41-.59l7.78-7.78 2.81-2.81c.8-.78.8-2.07 0-2.86zM5.41 20L4 18.59l7.72-7.72 1.47 1.35L5.41 20z\"/>\n",
              "  </svg>\n",
              "      </button>\n",
              "      \n",
              "  <style>\n",
              "    .colab-df-container {\n",
              "      display:flex;\n",
              "      flex-wrap:wrap;\n",
              "      gap: 12px;\n",
              "    }\n",
              "\n",
              "    .colab-df-convert {\n",
              "      background-color: #E8F0FE;\n",
              "      border: none;\n",
              "      border-radius: 50%;\n",
              "      cursor: pointer;\n",
              "      display: none;\n",
              "      fill: #1967D2;\n",
              "      height: 32px;\n",
              "      padding: 0 0 0 0;\n",
              "      width: 32px;\n",
              "    }\n",
              "\n",
              "    .colab-df-convert:hover {\n",
              "      background-color: #E2EBFA;\n",
              "      box-shadow: 0px 1px 2px rgba(60, 64, 67, 0.3), 0px 1px 3px 1px rgba(60, 64, 67, 0.15);\n",
              "      fill: #174EA6;\n",
              "    }\n",
              "\n",
              "    [theme=dark] .colab-df-convert {\n",
              "      background-color: #3B4455;\n",
              "      fill: #D2E3FC;\n",
              "    }\n",
              "\n",
              "    [theme=dark] .colab-df-convert:hover {\n",
              "      background-color: #434B5C;\n",
              "      box-shadow: 0px 1px 3px 1px rgba(0, 0, 0, 0.15);\n",
              "      filter: drop-shadow(0px 1px 2px rgba(0, 0, 0, 0.3));\n",
              "      fill: #FFFFFF;\n",
              "    }\n",
              "  </style>\n",
              "\n",
              "      <script>\n",
              "        const buttonEl =\n",
              "          document.querySelector('#df-fdff8775-5f38-4b72-8364-bacf58e479a1 button.colab-df-convert');\n",
              "        buttonEl.style.display =\n",
              "          google.colab.kernel.accessAllowed ? 'block' : 'none';\n",
              "\n",
              "        async function convertToInteractive(key) {\n",
              "          const element = document.querySelector('#df-fdff8775-5f38-4b72-8364-bacf58e479a1');\n",
              "          const dataTable =\n",
              "            await google.colab.kernel.invokeFunction('convertToInteractive',\n",
              "                                                     [key], {});\n",
              "          if (!dataTable) return;\n",
              "\n",
              "          const docLinkHtml = 'Like what you see? Visit the ' +\n",
              "            '<a target=\"_blank\" href=https://colab.research.google.com/notebooks/data_table.ipynb>data table notebook</a>'\n",
              "            + ' to learn more about interactive tables.';\n",
              "          element.innerHTML = '';\n",
              "          dataTable['output_type'] = 'display_data';\n",
              "          await google.colab.output.renderOutput(dataTable, element);\n",
              "          const docLink = document.createElement('div');\n",
              "          docLink.innerHTML = docLinkHtml;\n",
              "          element.appendChild(docLink);\n",
              "        }\n",
              "      </script>\n",
              "    </div>\n",
              "  </div>\n",
              "  "
            ]
          },
          "metadata": {},
          "execution_count": 14
        }
      ],
      "execution_count": 14,
      "metadata": {
        "trusted": true,
        "noteable": {},
        "ExecuteTime": {
          "start_time": "2023-05-28T16:30:19.913510+00:00",
          "end_time": "2023-05-28T16:30:20.137442+00:00"
        },
        "datalink": {
          "761697e8-61ee-4fbb-816d-cbfa1a811e96": {
            "dataframe_info": {
              "default_index_used": true,
              "orig_size_bytes": 108,
              "orig_num_rows": 0,
              "orig_num_cols": 10,
              "truncated_string_columns": [],
              "truncated_size_bytes": 108,
              "truncated_num_rows": 0,
              "truncated_num_cols": 10
            },
            "dx_settings": {
              "LOG_LEVEL": 30,
              "DEV_MODE": false,
              "DISPLAY_MAX_ROWS": 50000,
              "DISPLAY_MAX_COLUMNS": 100,
              "HTML_TABLE_SCHEMA": false,
              "MAX_RENDER_SIZE_BYTES": 104857600,
              "MAX_STRING_LENGTH": 250,
              "SAMPLING_FACTOR": 0.1,
              "DISPLAY_MODE": "simple",
              "SAMPLING_METHOD": "random",
              "COLUMN_SAMPLING_METHOD": "outer",
              "ROW_SAMPLING_METHOD": "random",
              "RANDOM_STATE": 12648430,
              "RESET_INDEX_VALUES": false,
              "FLATTEN_INDEX_VALUES": false,
              "FLATTEN_COLUMN_VALUES": true,
              "STRINGIFY_INDEX_VALUES": false,
              "STRINGIFY_COLUMN_VALUES": true,
              "ENABLE_DATALINK": true,
              "ENABLE_ASSIGNMENT": true,
              "NUM_PAST_SAMPLES_TRACKED": 3,
              "DB_LOCATION": ":memory:",
              "GENERATE_DEX_METADATA": false,
              "ALLOW_NOTEABLE_ATTRS": true
            },
            "display_id": "761697e8-61ee-4fbb-816d-cbfa1a811e96",
            "applied_filters": [],
            "sample_history": [],
            "sampling_time": "2023-05-28T16:29:20.881270",
            "variable_name": "unk_dataframe_12957efa3c5a4a5ba12fbec4d6844d39",
            "user_variable_name": null
          },
          "175ad753-4231-47dd-b5c6-679c0288c877": {
            "dataframe_info": {
              "default_index_used": true,
              "orig_size_bytes": 108,
              "orig_num_rows": 0,
              "orig_num_cols": 10,
              "truncated_string_columns": [],
              "truncated_size_bytes": 108,
              "truncated_num_rows": 0,
              "truncated_num_cols": 10
            },
            "dx_settings": {
              "LOG_LEVEL": 30,
              "DEV_MODE": false,
              "DISPLAY_MAX_ROWS": 50000,
              "DISPLAY_MAX_COLUMNS": 100,
              "HTML_TABLE_SCHEMA": false,
              "MAX_RENDER_SIZE_BYTES": 104857600,
              "MAX_STRING_LENGTH": 250,
              "SAMPLING_FACTOR": 0.1,
              "DISPLAY_MODE": "simple",
              "SAMPLING_METHOD": "random",
              "COLUMN_SAMPLING_METHOD": "outer",
              "ROW_SAMPLING_METHOD": "random",
              "RANDOM_STATE": 12648430,
              "RESET_INDEX_VALUES": false,
              "FLATTEN_INDEX_VALUES": false,
              "FLATTEN_COLUMN_VALUES": true,
              "STRINGIFY_INDEX_VALUES": false,
              "STRINGIFY_COLUMN_VALUES": true,
              "ENABLE_DATALINK": true,
              "ENABLE_ASSIGNMENT": true,
              "NUM_PAST_SAMPLES_TRACKED": 3,
              "DB_LOCATION": ":memory:",
              "GENERATE_DEX_METADATA": false,
              "ALLOW_NOTEABLE_ATTRS": true
            },
            "display_id": "175ad753-4231-47dd-b5c6-679c0288c877",
            "applied_filters": [],
            "sample_history": [],
            "sampling_time": "2023-05-28T16:30:19.979774",
            "variable_name": "unk_dataframe_3a4468746bf24b54962c62e1251bdc56",
            "user_variable_name": null
          }
        },
        "colab": {
          "base_uri": "https://localhost:8080/",
          "height": 112
        },
        "id": "56bdc316",
        "outputId": "588770db-8140-41f7-a2ed-77da9921a412"
      },
      "id": "56bdc316"
    },
    {
      "cell_type": "markdown",
      "source": [
        "There are only 2 cars with the year as 1970. Also in the current situation the cars with the model of 1970's are not allowed to be used these 2 cars can be removed from the data."
      ],
      "metadata": {
        "id": "eff6d64b"
      },
      "id": "eff6d64b"
    },
    {
      "cell_type": "code",
      "source": [
        "df = df.drop(df[df['year'] == 1970].index)"
      ],
      "outputs": [],
      "execution_count": 15,
      "metadata": {
        "trusted": true,
        "noteable": {},
        "ExecuteTime": {
          "start_time": "2023-05-28T16:29:38.376126+00:00",
          "end_time": "2023-05-28T16:29:38.544207+00:00"
        },
        "id": "052f87ae"
      },
      "id": "052f87ae"
    },
    {
      "cell_type": "markdown",
      "source": [
        "### Engine Size"
      ],
      "metadata": {
        "id": "f76c2955"
      },
      "id": "f76c2955"
    },
    {
      "cell_type": "code",
      "source": [
        "df[df['engineSize'] == 0]"
      ],
      "outputs": [
        {
          "output_type": "execute_result",
          "data": {
            "text/plain": [
              "         model  year  price transmission  mileage fuelType  tax    mpg  \\\n",
              "7505        Q5  2019  44790    Automatic     5886   Petrol  135  117.7   \n",
              "7506        Q3  2019  32788    Automatic     1500   Diesel  145   47.1   \n",
              "7516        Q3  2020  29944       Manual     1500   Petrol  145   40.9   \n",
              "7517        Q3  2020  33333    Automatic     1500   Diesel  145   47.1   \n",
              "7518        Q3  2020  29944    Automatic     1500   Petrol  145   32.5   \n",
              "...        ...   ...    ...          ...      ...      ...  ...    ...   \n",
              "95678   Tiguan  2016  15300       Manual    38398   Diesel  145   53.3   \n",
              "95685   Tiguan  2018  24000    Automatic    22200   Diesel  145   47.9   \n",
              "96851       Up  2017   8500       Manual    20324   Petrol   20   64.2   \n",
              "96909       Up  2017   8000       Manual    24444   Petrol   20   60.1   \n",
              "97342   Beetle  2017  13800       Manual    17859   Petrol  125   53.3   \n",
              "\n",
              "       engineSize        make  \n",
              "7505          0.0        Audi  \n",
              "7506          0.0        Audi  \n",
              "7516          0.0        Audi  \n",
              "7517          0.0        Audi  \n",
              "7518          0.0        Audi  \n",
              "...           ...         ...  \n",
              "95678         0.0  Volkswagen  \n",
              "95685         0.0  Volkswagen  \n",
              "96851         0.0  Volkswagen  \n",
              "96909         0.0  Volkswagen  \n",
              "97342         0.0  Volkswagen  \n",
              "\n",
              "[272 rows x 10 columns]"
            ],
            "text/html": [
              "\n",
              "  <div id=\"df-8397a868-af2f-4b53-b9a0-070103ae3d1b\">\n",
              "    <div class=\"colab-df-container\">\n",
              "      <div>\n",
              "<style scoped>\n",
              "    .dataframe tbody tr th:only-of-type {\n",
              "        vertical-align: middle;\n",
              "    }\n",
              "\n",
              "    .dataframe tbody tr th {\n",
              "        vertical-align: top;\n",
              "    }\n",
              "\n",
              "    .dataframe thead th {\n",
              "        text-align: right;\n",
              "    }\n",
              "</style>\n",
              "<table border=\"1\" class=\"dataframe\">\n",
              "  <thead>\n",
              "    <tr style=\"text-align: right;\">\n",
              "      <th></th>\n",
              "      <th>model</th>\n",
              "      <th>year</th>\n",
              "      <th>price</th>\n",
              "      <th>transmission</th>\n",
              "      <th>mileage</th>\n",
              "      <th>fuelType</th>\n",
              "      <th>tax</th>\n",
              "      <th>mpg</th>\n",
              "      <th>engineSize</th>\n",
              "      <th>make</th>\n",
              "    </tr>\n",
              "  </thead>\n",
              "  <tbody>\n",
              "    <tr>\n",
              "      <th>7505</th>\n",
              "      <td>Q5</td>\n",
              "      <td>2019</td>\n",
              "      <td>44790</td>\n",
              "      <td>Automatic</td>\n",
              "      <td>5886</td>\n",
              "      <td>Petrol</td>\n",
              "      <td>135</td>\n",
              "      <td>117.7</td>\n",
              "      <td>0.0</td>\n",
              "      <td>Audi</td>\n",
              "    </tr>\n",
              "    <tr>\n",
              "      <th>7506</th>\n",
              "      <td>Q3</td>\n",
              "      <td>2019</td>\n",
              "      <td>32788</td>\n",
              "      <td>Automatic</td>\n",
              "      <td>1500</td>\n",
              "      <td>Diesel</td>\n",
              "      <td>145</td>\n",
              "      <td>47.1</td>\n",
              "      <td>0.0</td>\n",
              "      <td>Audi</td>\n",
              "    </tr>\n",
              "    <tr>\n",
              "      <th>7516</th>\n",
              "      <td>Q3</td>\n",
              "      <td>2020</td>\n",
              "      <td>29944</td>\n",
              "      <td>Manual</td>\n",
              "      <td>1500</td>\n",
              "      <td>Petrol</td>\n",
              "      <td>145</td>\n",
              "      <td>40.9</td>\n",
              "      <td>0.0</td>\n",
              "      <td>Audi</td>\n",
              "    </tr>\n",
              "    <tr>\n",
              "      <th>7517</th>\n",
              "      <td>Q3</td>\n",
              "      <td>2020</td>\n",
              "      <td>33333</td>\n",
              "      <td>Automatic</td>\n",
              "      <td>1500</td>\n",
              "      <td>Diesel</td>\n",
              "      <td>145</td>\n",
              "      <td>47.1</td>\n",
              "      <td>0.0</td>\n",
              "      <td>Audi</td>\n",
              "    </tr>\n",
              "    <tr>\n",
              "      <th>7518</th>\n",
              "      <td>Q3</td>\n",
              "      <td>2020</td>\n",
              "      <td>29944</td>\n",
              "      <td>Automatic</td>\n",
              "      <td>1500</td>\n",
              "      <td>Petrol</td>\n",
              "      <td>145</td>\n",
              "      <td>32.5</td>\n",
              "      <td>0.0</td>\n",
              "      <td>Audi</td>\n",
              "    </tr>\n",
              "    <tr>\n",
              "      <th>...</th>\n",
              "      <td>...</td>\n",
              "      <td>...</td>\n",
              "      <td>...</td>\n",
              "      <td>...</td>\n",
              "      <td>...</td>\n",
              "      <td>...</td>\n",
              "      <td>...</td>\n",
              "      <td>...</td>\n",
              "      <td>...</td>\n",
              "      <td>...</td>\n",
              "    </tr>\n",
              "    <tr>\n",
              "      <th>95678</th>\n",
              "      <td>Tiguan</td>\n",
              "      <td>2016</td>\n",
              "      <td>15300</td>\n",
              "      <td>Manual</td>\n",
              "      <td>38398</td>\n",
              "      <td>Diesel</td>\n",
              "      <td>145</td>\n",
              "      <td>53.3</td>\n",
              "      <td>0.0</td>\n",
              "      <td>Volkswagen</td>\n",
              "    </tr>\n",
              "    <tr>\n",
              "      <th>95685</th>\n",
              "      <td>Tiguan</td>\n",
              "      <td>2018</td>\n",
              "      <td>24000</td>\n",
              "      <td>Automatic</td>\n",
              "      <td>22200</td>\n",
              "      <td>Diesel</td>\n",
              "      <td>145</td>\n",
              "      <td>47.9</td>\n",
              "      <td>0.0</td>\n",
              "      <td>Volkswagen</td>\n",
              "    </tr>\n",
              "    <tr>\n",
              "      <th>96851</th>\n",
              "      <td>Up</td>\n",
              "      <td>2017</td>\n",
              "      <td>8500</td>\n",
              "      <td>Manual</td>\n",
              "      <td>20324</td>\n",
              "      <td>Petrol</td>\n",
              "      <td>20</td>\n",
              "      <td>64.2</td>\n",
              "      <td>0.0</td>\n",
              "      <td>Volkswagen</td>\n",
              "    </tr>\n",
              "    <tr>\n",
              "      <th>96909</th>\n",
              "      <td>Up</td>\n",
              "      <td>2017</td>\n",
              "      <td>8000</td>\n",
              "      <td>Manual</td>\n",
              "      <td>24444</td>\n",
              "      <td>Petrol</td>\n",
              "      <td>20</td>\n",
              "      <td>60.1</td>\n",
              "      <td>0.0</td>\n",
              "      <td>Volkswagen</td>\n",
              "    </tr>\n",
              "    <tr>\n",
              "      <th>97342</th>\n",
              "      <td>Beetle</td>\n",
              "      <td>2017</td>\n",
              "      <td>13800</td>\n",
              "      <td>Manual</td>\n",
              "      <td>17859</td>\n",
              "      <td>Petrol</td>\n",
              "      <td>125</td>\n",
              "      <td>53.3</td>\n",
              "      <td>0.0</td>\n",
              "      <td>Volkswagen</td>\n",
              "    </tr>\n",
              "  </tbody>\n",
              "</table>\n",
              "<p>272 rows × 10 columns</p>\n",
              "</div>\n",
              "      <button class=\"colab-df-convert\" onclick=\"convertToInteractive('df-8397a868-af2f-4b53-b9a0-070103ae3d1b')\"\n",
              "              title=\"Convert this dataframe to an interactive table.\"\n",
              "              style=\"display:none;\">\n",
              "        \n",
              "  <svg xmlns=\"http://www.w3.org/2000/svg\" height=\"24px\"viewBox=\"0 0 24 24\"\n",
              "       width=\"24px\">\n",
              "    <path d=\"M0 0h24v24H0V0z\" fill=\"none\"/>\n",
              "    <path d=\"M18.56 5.44l.94 2.06.94-2.06 2.06-.94-2.06-.94-.94-2.06-.94 2.06-2.06.94zm-11 1L8.5 8.5l.94-2.06 2.06-.94-2.06-.94L8.5 2.5l-.94 2.06-2.06.94zm10 10l.94 2.06.94-2.06 2.06-.94-2.06-.94-.94-2.06-.94 2.06-2.06.94z\"/><path d=\"M17.41 7.96l-1.37-1.37c-.4-.4-.92-.59-1.43-.59-.52 0-1.04.2-1.43.59L10.3 9.45l-7.72 7.72c-.78.78-.78 2.05 0 2.83L4 21.41c.39.39.9.59 1.41.59.51 0 1.02-.2 1.41-.59l7.78-7.78 2.81-2.81c.8-.78.8-2.07 0-2.86zM5.41 20L4 18.59l7.72-7.72 1.47 1.35L5.41 20z\"/>\n",
              "  </svg>\n",
              "      </button>\n",
              "      \n",
              "  <style>\n",
              "    .colab-df-container {\n",
              "      display:flex;\n",
              "      flex-wrap:wrap;\n",
              "      gap: 12px;\n",
              "    }\n",
              "\n",
              "    .colab-df-convert {\n",
              "      background-color: #E8F0FE;\n",
              "      border: none;\n",
              "      border-radius: 50%;\n",
              "      cursor: pointer;\n",
              "      display: none;\n",
              "      fill: #1967D2;\n",
              "      height: 32px;\n",
              "      padding: 0 0 0 0;\n",
              "      width: 32px;\n",
              "    }\n",
              "\n",
              "    .colab-df-convert:hover {\n",
              "      background-color: #E2EBFA;\n",
              "      box-shadow: 0px 1px 2px rgba(60, 64, 67, 0.3), 0px 1px 3px 1px rgba(60, 64, 67, 0.15);\n",
              "      fill: #174EA6;\n",
              "    }\n",
              "\n",
              "    [theme=dark] .colab-df-convert {\n",
              "      background-color: #3B4455;\n",
              "      fill: #D2E3FC;\n",
              "    }\n",
              "\n",
              "    [theme=dark] .colab-df-convert:hover {\n",
              "      background-color: #434B5C;\n",
              "      box-shadow: 0px 1px 3px 1px rgba(0, 0, 0, 0.15);\n",
              "      filter: drop-shadow(0px 1px 2px rgba(0, 0, 0, 0.3));\n",
              "      fill: #FFFFFF;\n",
              "    }\n",
              "  </style>\n",
              "\n",
              "      <script>\n",
              "        const buttonEl =\n",
              "          document.querySelector('#df-8397a868-af2f-4b53-b9a0-070103ae3d1b button.colab-df-convert');\n",
              "        buttonEl.style.display =\n",
              "          google.colab.kernel.accessAllowed ? 'block' : 'none';\n",
              "\n",
              "        async function convertToInteractive(key) {\n",
              "          const element = document.querySelector('#df-8397a868-af2f-4b53-b9a0-070103ae3d1b');\n",
              "          const dataTable =\n",
              "            await google.colab.kernel.invokeFunction('convertToInteractive',\n",
              "                                                     [key], {});\n",
              "          if (!dataTable) return;\n",
              "\n",
              "          const docLinkHtml = 'Like what you see? Visit the ' +\n",
              "            '<a target=\"_blank\" href=https://colab.research.google.com/notebooks/data_table.ipynb>data table notebook</a>'\n",
              "            + ' to learn more about interactive tables.';\n",
              "          element.innerHTML = '';\n",
              "          dataTable['output_type'] = 'display_data';\n",
              "          await google.colab.output.renderOutput(dataTable, element);\n",
              "          const docLink = document.createElement('div');\n",
              "          docLink.innerHTML = docLinkHtml;\n",
              "          element.appendChild(docLink);\n",
              "        }\n",
              "      </script>\n",
              "    </div>\n",
              "  </div>\n",
              "  "
            ]
          },
          "metadata": {},
          "execution_count": 16
        }
      ],
      "execution_count": 16,
      "metadata": {
        "trusted": true,
        "noteable": {},
        "colab": {
          "base_uri": "https://localhost:8080/",
          "height": 424
        },
        "id": "789db2f2",
        "outputId": "2d5dac35-e807-40c3-8fff-89090e4f257b"
      },
      "id": "789db2f2"
    },
    {
      "cell_type": "markdown",
      "source": [
        "There are 272 rows with engine size as 0. So this needs to be handled in the feature engineering part"
      ],
      "metadata": {
        "id": "3c33ed7c"
      },
      "id": "3c33ed7c"
    },
    {
      "cell_type": "markdown",
      "source": [
        "### Mileage"
      ],
      "metadata": {
        "id": "f3b64a1f"
      },
      "id": "f3b64a1f"
    },
    {
      "cell_type": "markdown",
      "source": [
        "There are some cars with mileage as 1"
      ],
      "metadata": {
        "id": "70885d46"
      },
      "id": "70885d46"
    },
    {
      "cell_type": "code",
      "source": [
        "df[df['mileage'] == 1]"
      ],
      "outputs": [
        {
          "output_type": "execute_result",
          "data": {
            "text/plain": [
              "              model  year  price transmission  mileage fuelType  tax   mpg  \\\n",
              "5492             Q7  2019  69000    Automatic        1   Diesel  145  30.1   \n",
              "12818            X2  2020  24490    Semi-Auto        1   Diesel  145  52.3   \n",
              "28379        Fiesta  2017  10995       Manual        1   Petrol  145  65.7   \n",
              "28582        Fiesta  2017  10995       Manual        1   Petrol  145  65.7   \n",
              "32578      EcoSport  2019  17900    Semi-Auto        1   Petrol  145  45.6   \n",
              "32622         Focus  2019  17880       Manual        1   Diesel  145  74.3   \n",
              "38355        Mondeo  2008   1299       Manual        1   Diesel  200  47.9   \n",
              "38642          Edge  2019  33495    Automatic        1   Diesel  145  37.2   \n",
              "42083          Kona  2020  21320       Manual        1   Petrol  145  44.1   \n",
              "42107      Santa Fe  2019  40365    Semi-Auto        1   Diesel  145  39.2   \n",
              "42108           I20  2020  14400       Manual        1   Petrol  145  46.3   \n",
              "42109           I30  2019  27800       Manual        1   Petrol  145  34.0   \n",
              "50400       C Class  2019  29995    Semi-Auto        1   Diesel  145  57.7   \n",
              "50401       C Class  2019  30995    Semi-Auto        1   Diesel  145  46.3   \n",
              "50402       C Class  2019  26995    Semi-Auto        1   Diesel  145  54.3   \n",
              "50403       E Class  2019  37995    Semi-Auto        1   Diesel  145  48.7   \n",
              "72669         Corsa  2019  11995       Manual        1   Petrol  145  43.5   \n",
              "73096         Corsa  2020  20000       Manual        1   Petrol  150  52.3   \n",
              "74240         Astra  2019  14595       Manual        1   Petrol  145  47.9   \n",
              "74913         Astra  2017  10990    Semi-Auto        1   Petrol  125  51.4   \n",
              "75611         Astra  2019  16495    Automatic        1   Petrol  145  51.4   \n",
              "75874         Astra  2019  14000       Manual        1   Diesel  145  72.4   \n",
              "78239       Mokka X  2019  14995       Manual        1   Petrol  145  39.2   \n",
              "78795       Mokka X  2019  22850       Manual        1   Petrol  145  39.2   \n",
              "78829       Mokka X  2019  14490       Manual        1   Petrol  145  39.2   \n",
              "80224   Crossland X  2020  13777       Manual        1   Petrol  145  47.1   \n",
              "80510   Crossland X  2019  20995       Manual        1   Diesel  145  61.4   \n",
              "80511   Crossland X  2019  19995       Manual        1   Petrol  145  47.1   \n",
              "82470   Grandland X  2019  24995       Manual        1   Petrol  145  44.1   \n",
              "83947    Combo Life  2019  14634       Manual        1   Diesel  145  53.3   \n",
              "83949    Combo Life  2019  20499    Automatic        1   Diesel  145  50.4   \n",
              "83953    Combo Life  2019  18448       Manual        1   Petrol  145  42.2   \n",
              "85239          Golf  2019  17898       Manual        1   Diesel  145  57.7   \n",
              "89276          Golf  2008   1299       Manual        1   Diesel  145  53.3   \n",
              "89467          Golf  2019  17000       Manual        1   Petrol  145  48.7   \n",
              "92150          Polo  2020  16990       Manual        1   Petrol  150  50.4   \n",
              "93897          Polo  2016   8690       Manual        1   Petrol   20  60.1   \n",
              "94005          Polo  2019  18495    Automatic        1   Petrol  145  46.3   \n",
              "94008          Polo  2019  15799       Manual        1   Petrol  145  52.3   \n",
              "94371        Tiguan  2019  27998    Semi-Auto        1   Diesel  145  45.6   \n",
              "97008            Up  2019   9889       Manual        1   Petrol  145  54.3   \n",
              "97353        Beetle  2001    899    Automatic        1   Petrol  325  29.7   \n",
              "99017         Jetta  2014   7985       Manual        1   Diesel   20  67.3   \n",
              "\n",
              "       engineSize        make  \n",
              "5492          4.0        Audi  \n",
              "12818         2.0         BMW  \n",
              "28379         1.0        Ford  \n",
              "28582         1.0        Ford  \n",
              "32578         1.0        Ford  \n",
              "32622         1.5        Ford  \n",
              "38355         2.0        Ford  \n",
              "38642         2.0        Ford  \n",
              "42083         1.0     Hyundai  \n",
              "42107         2.2     Hyundai  \n",
              "42108         1.2     Hyundai  \n",
              "42109         2.0     Hyundai  \n",
              "50400         2.0    Mercedes  \n",
              "50401         2.0    Mercedes  \n",
              "50402         1.6    Mercedes  \n",
              "50403         3.0    Mercedes  \n",
              "72669         1.4    Vauxhall  \n",
              "73096         1.2    Vauxhall  \n",
              "74240         1.4    Vauxhall  \n",
              "74913         1.4    Vauxhall  \n",
              "75611         1.4    Vauxhall  \n",
              "75874         1.6    Vauxhall  \n",
              "78239         1.4    Vauxhall  \n",
              "78795         1.4    Vauxhall  \n",
              "78829         1.4    Vauxhall  \n",
              "80224         1.2    Vauxhall  \n",
              "80510         1.5    Vauxhall  \n",
              "80511         1.2    Vauxhall  \n",
              "82470         1.2    Vauxhall  \n",
              "83947         1.5    Vauxhall  \n",
              "83949         1.5    Vauxhall  \n",
              "83953         1.2    Vauxhall  \n",
              "85239         1.6  Volkswagen  \n",
              "89276         1.9  Volkswagen  \n",
              "89467         1.0  Volkswagen  \n",
              "92150         1.0  Volkswagen  \n",
              "93897         1.2  Volkswagen  \n",
              "94005         1.0  Volkswagen  \n",
              "94008         1.0  Volkswagen  \n",
              "94371         2.0  Volkswagen  \n",
              "97008         1.0  Volkswagen  \n",
              "97353         2.0  Volkswagen  \n",
              "99017         1.6  Volkswagen  "
            ],
            "text/html": [
              "\n",
              "  <div id=\"df-1d8a974d-9b7d-4277-901b-ff89c3f105e2\">\n",
              "    <div class=\"colab-df-container\">\n",
              "      <div>\n",
              "<style scoped>\n",
              "    .dataframe tbody tr th:only-of-type {\n",
              "        vertical-align: middle;\n",
              "    }\n",
              "\n",
              "    .dataframe tbody tr th {\n",
              "        vertical-align: top;\n",
              "    }\n",
              "\n",
              "    .dataframe thead th {\n",
              "        text-align: right;\n",
              "    }\n",
              "</style>\n",
              "<table border=\"1\" class=\"dataframe\">\n",
              "  <thead>\n",
              "    <tr style=\"text-align: right;\">\n",
              "      <th></th>\n",
              "      <th>model</th>\n",
              "      <th>year</th>\n",
              "      <th>price</th>\n",
              "      <th>transmission</th>\n",
              "      <th>mileage</th>\n",
              "      <th>fuelType</th>\n",
              "      <th>tax</th>\n",
              "      <th>mpg</th>\n",
              "      <th>engineSize</th>\n",
              "      <th>make</th>\n",
              "    </tr>\n",
              "  </thead>\n",
              "  <tbody>\n",
              "    <tr>\n",
              "      <th>5492</th>\n",
              "      <td>Q7</td>\n",
              "      <td>2019</td>\n",
              "      <td>69000</td>\n",
              "      <td>Automatic</td>\n",
              "      <td>1</td>\n",
              "      <td>Diesel</td>\n",
              "      <td>145</td>\n",
              "      <td>30.1</td>\n",
              "      <td>4.0</td>\n",
              "      <td>Audi</td>\n",
              "    </tr>\n",
              "    <tr>\n",
              "      <th>12818</th>\n",
              "      <td>X2</td>\n",
              "      <td>2020</td>\n",
              "      <td>24490</td>\n",
              "      <td>Semi-Auto</td>\n",
              "      <td>1</td>\n",
              "      <td>Diesel</td>\n",
              "      <td>145</td>\n",
              "      <td>52.3</td>\n",
              "      <td>2.0</td>\n",
              "      <td>BMW</td>\n",
              "    </tr>\n",
              "    <tr>\n",
              "      <th>28379</th>\n",
              "      <td>Fiesta</td>\n",
              "      <td>2017</td>\n",
              "      <td>10995</td>\n",
              "      <td>Manual</td>\n",
              "      <td>1</td>\n",
              "      <td>Petrol</td>\n",
              "      <td>145</td>\n",
              "      <td>65.7</td>\n",
              "      <td>1.0</td>\n",
              "      <td>Ford</td>\n",
              "    </tr>\n",
              "    <tr>\n",
              "      <th>28582</th>\n",
              "      <td>Fiesta</td>\n",
              "      <td>2017</td>\n",
              "      <td>10995</td>\n",
              "      <td>Manual</td>\n",
              "      <td>1</td>\n",
              "      <td>Petrol</td>\n",
              "      <td>145</td>\n",
              "      <td>65.7</td>\n",
              "      <td>1.0</td>\n",
              "      <td>Ford</td>\n",
              "    </tr>\n",
              "    <tr>\n",
              "      <th>32578</th>\n",
              "      <td>EcoSport</td>\n",
              "      <td>2019</td>\n",
              "      <td>17900</td>\n",
              "      <td>Semi-Auto</td>\n",
              "      <td>1</td>\n",
              "      <td>Petrol</td>\n",
              "      <td>145</td>\n",
              "      <td>45.6</td>\n",
              "      <td>1.0</td>\n",
              "      <td>Ford</td>\n",
              "    </tr>\n",
              "    <tr>\n",
              "      <th>32622</th>\n",
              "      <td>Focus</td>\n",
              "      <td>2019</td>\n",
              "      <td>17880</td>\n",
              "      <td>Manual</td>\n",
              "      <td>1</td>\n",
              "      <td>Diesel</td>\n",
              "      <td>145</td>\n",
              "      <td>74.3</td>\n",
              "      <td>1.5</td>\n",
              "      <td>Ford</td>\n",
              "    </tr>\n",
              "    <tr>\n",
              "      <th>38355</th>\n",
              "      <td>Mondeo</td>\n",
              "      <td>2008</td>\n",
              "      <td>1299</td>\n",
              "      <td>Manual</td>\n",
              "      <td>1</td>\n",
              "      <td>Diesel</td>\n",
              "      <td>200</td>\n",
              "      <td>47.9</td>\n",
              "      <td>2.0</td>\n",
              "      <td>Ford</td>\n",
              "    </tr>\n",
              "    <tr>\n",
              "      <th>38642</th>\n",
              "      <td>Edge</td>\n",
              "      <td>2019</td>\n",
              "      <td>33495</td>\n",
              "      <td>Automatic</td>\n",
              "      <td>1</td>\n",
              "      <td>Diesel</td>\n",
              "      <td>145</td>\n",
              "      <td>37.2</td>\n",
              "      <td>2.0</td>\n",
              "      <td>Ford</td>\n",
              "    </tr>\n",
              "    <tr>\n",
              "      <th>42083</th>\n",
              "      <td>Kona</td>\n",
              "      <td>2020</td>\n",
              "      <td>21320</td>\n",
              "      <td>Manual</td>\n",
              "      <td>1</td>\n",
              "      <td>Petrol</td>\n",
              "      <td>145</td>\n",
              "      <td>44.1</td>\n",
              "      <td>1.0</td>\n",
              "      <td>Hyundai</td>\n",
              "    </tr>\n",
              "    <tr>\n",
              "      <th>42107</th>\n",
              "      <td>Santa Fe</td>\n",
              "      <td>2019</td>\n",
              "      <td>40365</td>\n",
              "      <td>Semi-Auto</td>\n",
              "      <td>1</td>\n",
              "      <td>Diesel</td>\n",
              "      <td>145</td>\n",
              "      <td>39.2</td>\n",
              "      <td>2.2</td>\n",
              "      <td>Hyundai</td>\n",
              "    </tr>\n",
              "    <tr>\n",
              "      <th>42108</th>\n",
              "      <td>I20</td>\n",
              "      <td>2020</td>\n",
              "      <td>14400</td>\n",
              "      <td>Manual</td>\n",
              "      <td>1</td>\n",
              "      <td>Petrol</td>\n",
              "      <td>145</td>\n",
              "      <td>46.3</td>\n",
              "      <td>1.2</td>\n",
              "      <td>Hyundai</td>\n",
              "    </tr>\n",
              "    <tr>\n",
              "      <th>42109</th>\n",
              "      <td>I30</td>\n",
              "      <td>2019</td>\n",
              "      <td>27800</td>\n",
              "      <td>Manual</td>\n",
              "      <td>1</td>\n",
              "      <td>Petrol</td>\n",
              "      <td>145</td>\n",
              "      <td>34.0</td>\n",
              "      <td>2.0</td>\n",
              "      <td>Hyundai</td>\n",
              "    </tr>\n",
              "    <tr>\n",
              "      <th>50400</th>\n",
              "      <td>C Class</td>\n",
              "      <td>2019</td>\n",
              "      <td>29995</td>\n",
              "      <td>Semi-Auto</td>\n",
              "      <td>1</td>\n",
              "      <td>Diesel</td>\n",
              "      <td>145</td>\n",
              "      <td>57.7</td>\n",
              "      <td>2.0</td>\n",
              "      <td>Mercedes</td>\n",
              "    </tr>\n",
              "    <tr>\n",
              "      <th>50401</th>\n",
              "      <td>C Class</td>\n",
              "      <td>2019</td>\n",
              "      <td>30995</td>\n",
              "      <td>Semi-Auto</td>\n",
              "      <td>1</td>\n",
              "      <td>Diesel</td>\n",
              "      <td>145</td>\n",
              "      <td>46.3</td>\n",
              "      <td>2.0</td>\n",
              "      <td>Mercedes</td>\n",
              "    </tr>\n",
              "    <tr>\n",
              "      <th>50402</th>\n",
              "      <td>C Class</td>\n",
              "      <td>2019</td>\n",
              "      <td>26995</td>\n",
              "      <td>Semi-Auto</td>\n",
              "      <td>1</td>\n",
              "      <td>Diesel</td>\n",
              "      <td>145</td>\n",
              "      <td>54.3</td>\n",
              "      <td>1.6</td>\n",
              "      <td>Mercedes</td>\n",
              "    </tr>\n",
              "    <tr>\n",
              "      <th>50403</th>\n",
              "      <td>E Class</td>\n",
              "      <td>2019</td>\n",
              "      <td>37995</td>\n",
              "      <td>Semi-Auto</td>\n",
              "      <td>1</td>\n",
              "      <td>Diesel</td>\n",
              "      <td>145</td>\n",
              "      <td>48.7</td>\n",
              "      <td>3.0</td>\n",
              "      <td>Mercedes</td>\n",
              "    </tr>\n",
              "    <tr>\n",
              "      <th>72669</th>\n",
              "      <td>Corsa</td>\n",
              "      <td>2019</td>\n",
              "      <td>11995</td>\n",
              "      <td>Manual</td>\n",
              "      <td>1</td>\n",
              "      <td>Petrol</td>\n",
              "      <td>145</td>\n",
              "      <td>43.5</td>\n",
              "      <td>1.4</td>\n",
              "      <td>Vauxhall</td>\n",
              "    </tr>\n",
              "    <tr>\n",
              "      <th>73096</th>\n",
              "      <td>Corsa</td>\n",
              "      <td>2020</td>\n",
              "      <td>20000</td>\n",
              "      <td>Manual</td>\n",
              "      <td>1</td>\n",
              "      <td>Petrol</td>\n",
              "      <td>150</td>\n",
              "      <td>52.3</td>\n",
              "      <td>1.2</td>\n",
              "      <td>Vauxhall</td>\n",
              "    </tr>\n",
              "    <tr>\n",
              "      <th>74240</th>\n",
              "      <td>Astra</td>\n",
              "      <td>2019</td>\n",
              "      <td>14595</td>\n",
              "      <td>Manual</td>\n",
              "      <td>1</td>\n",
              "      <td>Petrol</td>\n",
              "      <td>145</td>\n",
              "      <td>47.9</td>\n",
              "      <td>1.4</td>\n",
              "      <td>Vauxhall</td>\n",
              "    </tr>\n",
              "    <tr>\n",
              "      <th>74913</th>\n",
              "      <td>Astra</td>\n",
              "      <td>2017</td>\n",
              "      <td>10990</td>\n",
              "      <td>Semi-Auto</td>\n",
              "      <td>1</td>\n",
              "      <td>Petrol</td>\n",
              "      <td>125</td>\n",
              "      <td>51.4</td>\n",
              "      <td>1.4</td>\n",
              "      <td>Vauxhall</td>\n",
              "    </tr>\n",
              "    <tr>\n",
              "      <th>75611</th>\n",
              "      <td>Astra</td>\n",
              "      <td>2019</td>\n",
              "      <td>16495</td>\n",
              "      <td>Automatic</td>\n",
              "      <td>1</td>\n",
              "      <td>Petrol</td>\n",
              "      <td>145</td>\n",
              "      <td>51.4</td>\n",
              "      <td>1.4</td>\n",
              "      <td>Vauxhall</td>\n",
              "    </tr>\n",
              "    <tr>\n",
              "      <th>75874</th>\n",
              "      <td>Astra</td>\n",
              "      <td>2019</td>\n",
              "      <td>14000</td>\n",
              "      <td>Manual</td>\n",
              "      <td>1</td>\n",
              "      <td>Diesel</td>\n",
              "      <td>145</td>\n",
              "      <td>72.4</td>\n",
              "      <td>1.6</td>\n",
              "      <td>Vauxhall</td>\n",
              "    </tr>\n",
              "    <tr>\n",
              "      <th>78239</th>\n",
              "      <td>Mokka X</td>\n",
              "      <td>2019</td>\n",
              "      <td>14995</td>\n",
              "      <td>Manual</td>\n",
              "      <td>1</td>\n",
              "      <td>Petrol</td>\n",
              "      <td>145</td>\n",
              "      <td>39.2</td>\n",
              "      <td>1.4</td>\n",
              "      <td>Vauxhall</td>\n",
              "    </tr>\n",
              "    <tr>\n",
              "      <th>78795</th>\n",
              "      <td>Mokka X</td>\n",
              "      <td>2019</td>\n",
              "      <td>22850</td>\n",
              "      <td>Manual</td>\n",
              "      <td>1</td>\n",
              "      <td>Petrol</td>\n",
              "      <td>145</td>\n",
              "      <td>39.2</td>\n",
              "      <td>1.4</td>\n",
              "      <td>Vauxhall</td>\n",
              "    </tr>\n",
              "    <tr>\n",
              "      <th>78829</th>\n",
              "      <td>Mokka X</td>\n",
              "      <td>2019</td>\n",
              "      <td>14490</td>\n",
              "      <td>Manual</td>\n",
              "      <td>1</td>\n",
              "      <td>Petrol</td>\n",
              "      <td>145</td>\n",
              "      <td>39.2</td>\n",
              "      <td>1.4</td>\n",
              "      <td>Vauxhall</td>\n",
              "    </tr>\n",
              "    <tr>\n",
              "      <th>80224</th>\n",
              "      <td>Crossland X</td>\n",
              "      <td>2020</td>\n",
              "      <td>13777</td>\n",
              "      <td>Manual</td>\n",
              "      <td>1</td>\n",
              "      <td>Petrol</td>\n",
              "      <td>145</td>\n",
              "      <td>47.1</td>\n",
              "      <td>1.2</td>\n",
              "      <td>Vauxhall</td>\n",
              "    </tr>\n",
              "    <tr>\n",
              "      <th>80510</th>\n",
              "      <td>Crossland X</td>\n",
              "      <td>2019</td>\n",
              "      <td>20995</td>\n",
              "      <td>Manual</td>\n",
              "      <td>1</td>\n",
              "      <td>Diesel</td>\n",
              "      <td>145</td>\n",
              "      <td>61.4</td>\n",
              "      <td>1.5</td>\n",
              "      <td>Vauxhall</td>\n",
              "    </tr>\n",
              "    <tr>\n",
              "      <th>80511</th>\n",
              "      <td>Crossland X</td>\n",
              "      <td>2019</td>\n",
              "      <td>19995</td>\n",
              "      <td>Manual</td>\n",
              "      <td>1</td>\n",
              "      <td>Petrol</td>\n",
              "      <td>145</td>\n",
              "      <td>47.1</td>\n",
              "      <td>1.2</td>\n",
              "      <td>Vauxhall</td>\n",
              "    </tr>\n",
              "    <tr>\n",
              "      <th>82470</th>\n",
              "      <td>Grandland X</td>\n",
              "      <td>2019</td>\n",
              "      <td>24995</td>\n",
              "      <td>Manual</td>\n",
              "      <td>1</td>\n",
              "      <td>Petrol</td>\n",
              "      <td>145</td>\n",
              "      <td>44.1</td>\n",
              "      <td>1.2</td>\n",
              "      <td>Vauxhall</td>\n",
              "    </tr>\n",
              "    <tr>\n",
              "      <th>83947</th>\n",
              "      <td>Combo Life</td>\n",
              "      <td>2019</td>\n",
              "      <td>14634</td>\n",
              "      <td>Manual</td>\n",
              "      <td>1</td>\n",
              "      <td>Diesel</td>\n",
              "      <td>145</td>\n",
              "      <td>53.3</td>\n",
              "      <td>1.5</td>\n",
              "      <td>Vauxhall</td>\n",
              "    </tr>\n",
              "    <tr>\n",
              "      <th>83949</th>\n",
              "      <td>Combo Life</td>\n",
              "      <td>2019</td>\n",
              "      <td>20499</td>\n",
              "      <td>Automatic</td>\n",
              "      <td>1</td>\n",
              "      <td>Diesel</td>\n",
              "      <td>145</td>\n",
              "      <td>50.4</td>\n",
              "      <td>1.5</td>\n",
              "      <td>Vauxhall</td>\n",
              "    </tr>\n",
              "    <tr>\n",
              "      <th>83953</th>\n",
              "      <td>Combo Life</td>\n",
              "      <td>2019</td>\n",
              "      <td>18448</td>\n",
              "      <td>Manual</td>\n",
              "      <td>1</td>\n",
              "      <td>Petrol</td>\n",
              "      <td>145</td>\n",
              "      <td>42.2</td>\n",
              "      <td>1.2</td>\n",
              "      <td>Vauxhall</td>\n",
              "    </tr>\n",
              "    <tr>\n",
              "      <th>85239</th>\n",
              "      <td>Golf</td>\n",
              "      <td>2019</td>\n",
              "      <td>17898</td>\n",
              "      <td>Manual</td>\n",
              "      <td>1</td>\n",
              "      <td>Diesel</td>\n",
              "      <td>145</td>\n",
              "      <td>57.7</td>\n",
              "      <td>1.6</td>\n",
              "      <td>Volkswagen</td>\n",
              "    </tr>\n",
              "    <tr>\n",
              "      <th>89276</th>\n",
              "      <td>Golf</td>\n",
              "      <td>2008</td>\n",
              "      <td>1299</td>\n",
              "      <td>Manual</td>\n",
              "      <td>1</td>\n",
              "      <td>Diesel</td>\n",
              "      <td>145</td>\n",
              "      <td>53.3</td>\n",
              "      <td>1.9</td>\n",
              "      <td>Volkswagen</td>\n",
              "    </tr>\n",
              "    <tr>\n",
              "      <th>89467</th>\n",
              "      <td>Golf</td>\n",
              "      <td>2019</td>\n",
              "      <td>17000</td>\n",
              "      <td>Manual</td>\n",
              "      <td>1</td>\n",
              "      <td>Petrol</td>\n",
              "      <td>145</td>\n",
              "      <td>48.7</td>\n",
              "      <td>1.0</td>\n",
              "      <td>Volkswagen</td>\n",
              "    </tr>\n",
              "    <tr>\n",
              "      <th>92150</th>\n",
              "      <td>Polo</td>\n",
              "      <td>2020</td>\n",
              "      <td>16990</td>\n",
              "      <td>Manual</td>\n",
              "      <td>1</td>\n",
              "      <td>Petrol</td>\n",
              "      <td>150</td>\n",
              "      <td>50.4</td>\n",
              "      <td>1.0</td>\n",
              "      <td>Volkswagen</td>\n",
              "    </tr>\n",
              "    <tr>\n",
              "      <th>93897</th>\n",
              "      <td>Polo</td>\n",
              "      <td>2016</td>\n",
              "      <td>8690</td>\n",
              "      <td>Manual</td>\n",
              "      <td>1</td>\n",
              "      <td>Petrol</td>\n",
              "      <td>20</td>\n",
              "      <td>60.1</td>\n",
              "      <td>1.2</td>\n",
              "      <td>Volkswagen</td>\n",
              "    </tr>\n",
              "    <tr>\n",
              "      <th>94005</th>\n",
              "      <td>Polo</td>\n",
              "      <td>2019</td>\n",
              "      <td>18495</td>\n",
              "      <td>Automatic</td>\n",
              "      <td>1</td>\n",
              "      <td>Petrol</td>\n",
              "      <td>145</td>\n",
              "      <td>46.3</td>\n",
              "      <td>1.0</td>\n",
              "      <td>Volkswagen</td>\n",
              "    </tr>\n",
              "    <tr>\n",
              "      <th>94008</th>\n",
              "      <td>Polo</td>\n",
              "      <td>2019</td>\n",
              "      <td>15799</td>\n",
              "      <td>Manual</td>\n",
              "      <td>1</td>\n",
              "      <td>Petrol</td>\n",
              "      <td>145</td>\n",
              "      <td>52.3</td>\n",
              "      <td>1.0</td>\n",
              "      <td>Volkswagen</td>\n",
              "    </tr>\n",
              "    <tr>\n",
              "      <th>94371</th>\n",
              "      <td>Tiguan</td>\n",
              "      <td>2019</td>\n",
              "      <td>27998</td>\n",
              "      <td>Semi-Auto</td>\n",
              "      <td>1</td>\n",
              "      <td>Diesel</td>\n",
              "      <td>145</td>\n",
              "      <td>45.6</td>\n",
              "      <td>2.0</td>\n",
              "      <td>Volkswagen</td>\n",
              "    </tr>\n",
              "    <tr>\n",
              "      <th>97008</th>\n",
              "      <td>Up</td>\n",
              "      <td>2019</td>\n",
              "      <td>9889</td>\n",
              "      <td>Manual</td>\n",
              "      <td>1</td>\n",
              "      <td>Petrol</td>\n",
              "      <td>145</td>\n",
              "      <td>54.3</td>\n",
              "      <td>1.0</td>\n",
              "      <td>Volkswagen</td>\n",
              "    </tr>\n",
              "    <tr>\n",
              "      <th>97353</th>\n",
              "      <td>Beetle</td>\n",
              "      <td>2001</td>\n",
              "      <td>899</td>\n",
              "      <td>Automatic</td>\n",
              "      <td>1</td>\n",
              "      <td>Petrol</td>\n",
              "      <td>325</td>\n",
              "      <td>29.7</td>\n",
              "      <td>2.0</td>\n",
              "      <td>Volkswagen</td>\n",
              "    </tr>\n",
              "    <tr>\n",
              "      <th>99017</th>\n",
              "      <td>Jetta</td>\n",
              "      <td>2014</td>\n",
              "      <td>7985</td>\n",
              "      <td>Manual</td>\n",
              "      <td>1</td>\n",
              "      <td>Diesel</td>\n",
              "      <td>20</td>\n",
              "      <td>67.3</td>\n",
              "      <td>1.6</td>\n",
              "      <td>Volkswagen</td>\n",
              "    </tr>\n",
              "  </tbody>\n",
              "</table>\n",
              "</div>\n",
              "      <button class=\"colab-df-convert\" onclick=\"convertToInteractive('df-1d8a974d-9b7d-4277-901b-ff89c3f105e2')\"\n",
              "              title=\"Convert this dataframe to an interactive table.\"\n",
              "              style=\"display:none;\">\n",
              "        \n",
              "  <svg xmlns=\"http://www.w3.org/2000/svg\" height=\"24px\"viewBox=\"0 0 24 24\"\n",
              "       width=\"24px\">\n",
              "    <path d=\"M0 0h24v24H0V0z\" fill=\"none\"/>\n",
              "    <path d=\"M18.56 5.44l.94 2.06.94-2.06 2.06-.94-2.06-.94-.94-2.06-.94 2.06-2.06.94zm-11 1L8.5 8.5l.94-2.06 2.06-.94-2.06-.94L8.5 2.5l-.94 2.06-2.06.94zm10 10l.94 2.06.94-2.06 2.06-.94-2.06-.94-.94-2.06-.94 2.06-2.06.94z\"/><path d=\"M17.41 7.96l-1.37-1.37c-.4-.4-.92-.59-1.43-.59-.52 0-1.04.2-1.43.59L10.3 9.45l-7.72 7.72c-.78.78-.78 2.05 0 2.83L4 21.41c.39.39.9.59 1.41.59.51 0 1.02-.2 1.41-.59l7.78-7.78 2.81-2.81c.8-.78.8-2.07 0-2.86zM5.41 20L4 18.59l7.72-7.72 1.47 1.35L5.41 20z\"/>\n",
              "  </svg>\n",
              "      </button>\n",
              "      \n",
              "  <style>\n",
              "    .colab-df-container {\n",
              "      display:flex;\n",
              "      flex-wrap:wrap;\n",
              "      gap: 12px;\n",
              "    }\n",
              "\n",
              "    .colab-df-convert {\n",
              "      background-color: #E8F0FE;\n",
              "      border: none;\n",
              "      border-radius: 50%;\n",
              "      cursor: pointer;\n",
              "      display: none;\n",
              "      fill: #1967D2;\n",
              "      height: 32px;\n",
              "      padding: 0 0 0 0;\n",
              "      width: 32px;\n",
              "    }\n",
              "\n",
              "    .colab-df-convert:hover {\n",
              "      background-color: #E2EBFA;\n",
              "      box-shadow: 0px 1px 2px rgba(60, 64, 67, 0.3), 0px 1px 3px 1px rgba(60, 64, 67, 0.15);\n",
              "      fill: #174EA6;\n",
              "    }\n",
              "\n",
              "    [theme=dark] .colab-df-convert {\n",
              "      background-color: #3B4455;\n",
              "      fill: #D2E3FC;\n",
              "    }\n",
              "\n",
              "    [theme=dark] .colab-df-convert:hover {\n",
              "      background-color: #434B5C;\n",
              "      box-shadow: 0px 1px 3px 1px rgba(0, 0, 0, 0.15);\n",
              "      filter: drop-shadow(0px 1px 2px rgba(0, 0, 0, 0.3));\n",
              "      fill: #FFFFFF;\n",
              "    }\n",
              "  </style>\n",
              "\n",
              "      <script>\n",
              "        const buttonEl =\n",
              "          document.querySelector('#df-1d8a974d-9b7d-4277-901b-ff89c3f105e2 button.colab-df-convert');\n",
              "        buttonEl.style.display =\n",
              "          google.colab.kernel.accessAllowed ? 'block' : 'none';\n",
              "\n",
              "        async function convertToInteractive(key) {\n",
              "          const element = document.querySelector('#df-1d8a974d-9b7d-4277-901b-ff89c3f105e2');\n",
              "          const dataTable =\n",
              "            await google.colab.kernel.invokeFunction('convertToInteractive',\n",
              "                                                     [key], {});\n",
              "          if (!dataTable) return;\n",
              "\n",
              "          const docLinkHtml = 'Like what you see? Visit the ' +\n",
              "            '<a target=\"_blank\" href=https://colab.research.google.com/notebooks/data_table.ipynb>data table notebook</a>'\n",
              "            + ' to learn more about interactive tables.';\n",
              "          element.innerHTML = '';\n",
              "          dataTable['output_type'] = 'display_data';\n",
              "          await google.colab.output.renderOutput(dataTable, element);\n",
              "          const docLink = document.createElement('div');\n",
              "          docLink.innerHTML = docLinkHtml;\n",
              "          element.appendChild(docLink);\n",
              "        }\n",
              "      </script>\n",
              "    </div>\n",
              "  </div>\n",
              "  "
            ]
          },
          "metadata": {},
          "execution_count": 17
        }
      ],
      "execution_count": 17,
      "metadata": {
        "trusted": true,
        "noteable": {},
        "id": "3e3acd42",
        "outputId": "5a8e574a-013e-4412-c233-d8e09b9b524d",
        "colab": {
          "base_uri": "https://localhost:8080/",
          "height": 1000
        }
      },
      "id": "3e3acd42"
    },
    {
      "cell_type": "markdown",
      "source": [
        "Some vehicles are from the year 2020. So it makes sense. But There are some vehicles that have the year less than 2020 but with mileage as 1"
      ],
      "metadata": {
        "id": "0de14922"
      },
      "id": "0de14922"
    },
    {
      "cell_type": "code",
      "source": [
        "len(df[(df['mileage'] ==1) & (df['year'] != 2020)])"
      ],
      "outputs": [
        {
          "output_type": "execute_result",
          "data": {
            "text/plain": [
              "37"
            ]
          },
          "metadata": {},
          "execution_count": 18
        }
      ],
      "execution_count": 18,
      "metadata": {
        "trusted": true,
        "noteable": {},
        "colab": {
          "base_uri": "https://localhost:8080/"
        },
        "id": "53da8293",
        "outputId": "7beb9e29-67b4-4cd6-e3d7-97d431397524"
      },
      "id": "53da8293"
    },
    {
      "cell_type": "markdown",
      "source": [
        "Since there are only 37 cars with mileage as 1, these data points can be removed."
      ],
      "metadata": {
        "id": "9d01223e"
      },
      "id": "9d01223e"
    },
    {
      "cell_type": "code",
      "source": [
        "df = df.drop(df[(df['mileage']==1) & (df['year']<= 2019)].index)"
      ],
      "outputs": [],
      "execution_count": 19,
      "metadata": {
        "trusted": true,
        "id": "2f7daa2e"
      },
      "id": "2f7daa2e"
    },
    {
      "cell_type": "markdown",
      "source": [
        "### Tax"
      ],
      "metadata": {
        "id": "44e322e8"
      },
      "id": "44e322e8"
    },
    {
      "cell_type": "code",
      "source": [
        "df[df['tax'] == 0]"
      ],
      "outputs": [
        {
          "output_type": "execute_result",
          "data": {
            "text/plain": [
              "          model  year  price transmission  mileage fuelType  tax   mpg  \\\n",
              "30           A1  2015   9500    Automatic    54754   Diesel    0  76.3   \n",
              "50           A4  2016  12750       Manual    52561   Diesel    0  74.3   \n",
              "58           A3  2016  10200       Manual    66369   Diesel    0  83.1   \n",
              "60           A1  2013   7000       Manual    76269   Diesel    0  74.3   \n",
              "69           A1  2016  10800       Manual    18181   Petrol    0  67.3   \n",
              "...         ...   ...    ...          ...      ...      ...  ...   ...   \n",
              "98724   Golf SV  2016  10550       Manual    16739   Diesel    0  72.4   \n",
              "98726   Golf SV  2015   8950       Manual    45000   Diesel    0  72.4   \n",
              "98731   Golf SV  2015   9695       Manual    21151   Diesel    0  72.4   \n",
              "98751   Golf SV  2014   8650       Manual    32535   Diesel    0  72.4   \n",
              "98752   Golf SV  2017   7995       Manual    71600   Diesel    0  72.4   \n",
              "\n",
              "       engineSize        make  \n",
              "30            1.6        Audi  \n",
              "50            2.0        Audi  \n",
              "58            1.6        Audi  \n",
              "60            1.6        Audi  \n",
              "69            1.0        Audi  \n",
              "...           ...         ...  \n",
              "98724         1.6  Volkswagen  \n",
              "98726         1.6  Volkswagen  \n",
              "98731         1.6  Volkswagen  \n",
              "98751         1.6  Volkswagen  \n",
              "98752         1.6  Volkswagen  \n",
              "\n",
              "[6294 rows x 10 columns]"
            ],
            "text/html": [
              "\n",
              "  <div id=\"df-ae0eea06-66b0-4e2e-abdf-7fd87f4f699c\">\n",
              "    <div class=\"colab-df-container\">\n",
              "      <div>\n",
              "<style scoped>\n",
              "    .dataframe tbody tr th:only-of-type {\n",
              "        vertical-align: middle;\n",
              "    }\n",
              "\n",
              "    .dataframe tbody tr th {\n",
              "        vertical-align: top;\n",
              "    }\n",
              "\n",
              "    .dataframe thead th {\n",
              "        text-align: right;\n",
              "    }\n",
              "</style>\n",
              "<table border=\"1\" class=\"dataframe\">\n",
              "  <thead>\n",
              "    <tr style=\"text-align: right;\">\n",
              "      <th></th>\n",
              "      <th>model</th>\n",
              "      <th>year</th>\n",
              "      <th>price</th>\n",
              "      <th>transmission</th>\n",
              "      <th>mileage</th>\n",
              "      <th>fuelType</th>\n",
              "      <th>tax</th>\n",
              "      <th>mpg</th>\n",
              "      <th>engineSize</th>\n",
              "      <th>make</th>\n",
              "    </tr>\n",
              "  </thead>\n",
              "  <tbody>\n",
              "    <tr>\n",
              "      <th>30</th>\n",
              "      <td>A1</td>\n",
              "      <td>2015</td>\n",
              "      <td>9500</td>\n",
              "      <td>Automatic</td>\n",
              "      <td>54754</td>\n",
              "      <td>Diesel</td>\n",
              "      <td>0</td>\n",
              "      <td>76.3</td>\n",
              "      <td>1.6</td>\n",
              "      <td>Audi</td>\n",
              "    </tr>\n",
              "    <tr>\n",
              "      <th>50</th>\n",
              "      <td>A4</td>\n",
              "      <td>2016</td>\n",
              "      <td>12750</td>\n",
              "      <td>Manual</td>\n",
              "      <td>52561</td>\n",
              "      <td>Diesel</td>\n",
              "      <td>0</td>\n",
              "      <td>74.3</td>\n",
              "      <td>2.0</td>\n",
              "      <td>Audi</td>\n",
              "    </tr>\n",
              "    <tr>\n",
              "      <th>58</th>\n",
              "      <td>A3</td>\n",
              "      <td>2016</td>\n",
              "      <td>10200</td>\n",
              "      <td>Manual</td>\n",
              "      <td>66369</td>\n",
              "      <td>Diesel</td>\n",
              "      <td>0</td>\n",
              "      <td>83.1</td>\n",
              "      <td>1.6</td>\n",
              "      <td>Audi</td>\n",
              "    </tr>\n",
              "    <tr>\n",
              "      <th>60</th>\n",
              "      <td>A1</td>\n",
              "      <td>2013</td>\n",
              "      <td>7000</td>\n",
              "      <td>Manual</td>\n",
              "      <td>76269</td>\n",
              "      <td>Diesel</td>\n",
              "      <td>0</td>\n",
              "      <td>74.3</td>\n",
              "      <td>1.6</td>\n",
              "      <td>Audi</td>\n",
              "    </tr>\n",
              "    <tr>\n",
              "      <th>69</th>\n",
              "      <td>A1</td>\n",
              "      <td>2016</td>\n",
              "      <td>10800</td>\n",
              "      <td>Manual</td>\n",
              "      <td>18181</td>\n",
              "      <td>Petrol</td>\n",
              "      <td>0</td>\n",
              "      <td>67.3</td>\n",
              "      <td>1.0</td>\n",
              "      <td>Audi</td>\n",
              "    </tr>\n",
              "    <tr>\n",
              "      <th>...</th>\n",
              "      <td>...</td>\n",
              "      <td>...</td>\n",
              "      <td>...</td>\n",
              "      <td>...</td>\n",
              "      <td>...</td>\n",
              "      <td>...</td>\n",
              "      <td>...</td>\n",
              "      <td>...</td>\n",
              "      <td>...</td>\n",
              "      <td>...</td>\n",
              "    </tr>\n",
              "    <tr>\n",
              "      <th>98724</th>\n",
              "      <td>Golf SV</td>\n",
              "      <td>2016</td>\n",
              "      <td>10550</td>\n",
              "      <td>Manual</td>\n",
              "      <td>16739</td>\n",
              "      <td>Diesel</td>\n",
              "      <td>0</td>\n",
              "      <td>72.4</td>\n",
              "      <td>1.6</td>\n",
              "      <td>Volkswagen</td>\n",
              "    </tr>\n",
              "    <tr>\n",
              "      <th>98726</th>\n",
              "      <td>Golf SV</td>\n",
              "      <td>2015</td>\n",
              "      <td>8950</td>\n",
              "      <td>Manual</td>\n",
              "      <td>45000</td>\n",
              "      <td>Diesel</td>\n",
              "      <td>0</td>\n",
              "      <td>72.4</td>\n",
              "      <td>1.6</td>\n",
              "      <td>Volkswagen</td>\n",
              "    </tr>\n",
              "    <tr>\n",
              "      <th>98731</th>\n",
              "      <td>Golf SV</td>\n",
              "      <td>2015</td>\n",
              "      <td>9695</td>\n",
              "      <td>Manual</td>\n",
              "      <td>21151</td>\n",
              "      <td>Diesel</td>\n",
              "      <td>0</td>\n",
              "      <td>72.4</td>\n",
              "      <td>1.6</td>\n",
              "      <td>Volkswagen</td>\n",
              "    </tr>\n",
              "    <tr>\n",
              "      <th>98751</th>\n",
              "      <td>Golf SV</td>\n",
              "      <td>2014</td>\n",
              "      <td>8650</td>\n",
              "      <td>Manual</td>\n",
              "      <td>32535</td>\n",
              "      <td>Diesel</td>\n",
              "      <td>0</td>\n",
              "      <td>72.4</td>\n",
              "      <td>1.6</td>\n",
              "      <td>Volkswagen</td>\n",
              "    </tr>\n",
              "    <tr>\n",
              "      <th>98752</th>\n",
              "      <td>Golf SV</td>\n",
              "      <td>2017</td>\n",
              "      <td>7995</td>\n",
              "      <td>Manual</td>\n",
              "      <td>71600</td>\n",
              "      <td>Diesel</td>\n",
              "      <td>0</td>\n",
              "      <td>72.4</td>\n",
              "      <td>1.6</td>\n",
              "      <td>Volkswagen</td>\n",
              "    </tr>\n",
              "  </tbody>\n",
              "</table>\n",
              "<p>6294 rows × 10 columns</p>\n",
              "</div>\n",
              "      <button class=\"colab-df-convert\" onclick=\"convertToInteractive('df-ae0eea06-66b0-4e2e-abdf-7fd87f4f699c')\"\n",
              "              title=\"Convert this dataframe to an interactive table.\"\n",
              "              style=\"display:none;\">\n",
              "        \n",
              "  <svg xmlns=\"http://www.w3.org/2000/svg\" height=\"24px\"viewBox=\"0 0 24 24\"\n",
              "       width=\"24px\">\n",
              "    <path d=\"M0 0h24v24H0V0z\" fill=\"none\"/>\n",
              "    <path d=\"M18.56 5.44l.94 2.06.94-2.06 2.06-.94-2.06-.94-.94-2.06-.94 2.06-2.06.94zm-11 1L8.5 8.5l.94-2.06 2.06-.94-2.06-.94L8.5 2.5l-.94 2.06-2.06.94zm10 10l.94 2.06.94-2.06 2.06-.94-2.06-.94-.94-2.06-.94 2.06-2.06.94z\"/><path d=\"M17.41 7.96l-1.37-1.37c-.4-.4-.92-.59-1.43-.59-.52 0-1.04.2-1.43.59L10.3 9.45l-7.72 7.72c-.78.78-.78 2.05 0 2.83L4 21.41c.39.39.9.59 1.41.59.51 0 1.02-.2 1.41-.59l7.78-7.78 2.81-2.81c.8-.78.8-2.07 0-2.86zM5.41 20L4 18.59l7.72-7.72 1.47 1.35L5.41 20z\"/>\n",
              "  </svg>\n",
              "      </button>\n",
              "      \n",
              "  <style>\n",
              "    .colab-df-container {\n",
              "      display:flex;\n",
              "      flex-wrap:wrap;\n",
              "      gap: 12px;\n",
              "    }\n",
              "\n",
              "    .colab-df-convert {\n",
              "      background-color: #E8F0FE;\n",
              "      border: none;\n",
              "      border-radius: 50%;\n",
              "      cursor: pointer;\n",
              "      display: none;\n",
              "      fill: #1967D2;\n",
              "      height: 32px;\n",
              "      padding: 0 0 0 0;\n",
              "      width: 32px;\n",
              "    }\n",
              "\n",
              "    .colab-df-convert:hover {\n",
              "      background-color: #E2EBFA;\n",
              "      box-shadow: 0px 1px 2px rgba(60, 64, 67, 0.3), 0px 1px 3px 1px rgba(60, 64, 67, 0.15);\n",
              "      fill: #174EA6;\n",
              "    }\n",
              "\n",
              "    [theme=dark] .colab-df-convert {\n",
              "      background-color: #3B4455;\n",
              "      fill: #D2E3FC;\n",
              "    }\n",
              "\n",
              "    [theme=dark] .colab-df-convert:hover {\n",
              "      background-color: #434B5C;\n",
              "      box-shadow: 0px 1px 3px 1px rgba(0, 0, 0, 0.15);\n",
              "      filter: drop-shadow(0px 1px 2px rgba(0, 0, 0, 0.3));\n",
              "      fill: #FFFFFF;\n",
              "    }\n",
              "  </style>\n",
              "\n",
              "      <script>\n",
              "        const buttonEl =\n",
              "          document.querySelector('#df-ae0eea06-66b0-4e2e-abdf-7fd87f4f699c button.colab-df-convert');\n",
              "        buttonEl.style.display =\n",
              "          google.colab.kernel.accessAllowed ? 'block' : 'none';\n",
              "\n",
              "        async function convertToInteractive(key) {\n",
              "          const element = document.querySelector('#df-ae0eea06-66b0-4e2e-abdf-7fd87f4f699c');\n",
              "          const dataTable =\n",
              "            await google.colab.kernel.invokeFunction('convertToInteractive',\n",
              "                                                     [key], {});\n",
              "          if (!dataTable) return;\n",
              "\n",
              "          const docLinkHtml = 'Like what you see? Visit the ' +\n",
              "            '<a target=\"_blank\" href=https://colab.research.google.com/notebooks/data_table.ipynb>data table notebook</a>'\n",
              "            + ' to learn more about interactive tables.';\n",
              "          element.innerHTML = '';\n",
              "          dataTable['output_type'] = 'display_data';\n",
              "          await google.colab.output.renderOutput(dataTable, element);\n",
              "          const docLink = document.createElement('div');\n",
              "          docLink.innerHTML = docLinkHtml;\n",
              "          element.appendChild(docLink);\n",
              "        }\n",
              "      </script>\n",
              "    </div>\n",
              "  </div>\n",
              "  "
            ]
          },
          "metadata": {},
          "execution_count": 20
        }
      ],
      "execution_count": 20,
      "metadata": {
        "trusted": true,
        "noteable": {},
        "id": "e2fecdf3",
        "outputId": "43957694-5996-4bce-d517-2e8734eea764",
        "colab": {
          "base_uri": "https://localhost:8080/",
          "height": 424
        }
      },
      "id": "e2fecdf3"
    },
    {
      "cell_type": "markdown",
      "source": [
        "There are nearly 6300 datapoints with tax as 0. So this should be handled in feature engineering"
      ],
      "metadata": {
        "id": "78bd163f"
      },
      "id": "78bd163f"
    },
    {
      "cell_type": "markdown",
      "source": [
        "### Price"
      ],
      "metadata": {
        "id": "7673c6fa"
      },
      "id": "7673c6fa"
    },
    {
      "cell_type": "code",
      "source": [
        "plt.figure(figsize=(10,8))\n",
        "sns.heatmap(df.corr(),annot=True)"
      ],
      "outputs": [
        {
          "output_type": "stream",
          "name": "stderr",
          "text": [
            "<ipython-input-32-97cdbf7f1862>:2: FutureWarning: The default value of numeric_only in DataFrame.corr is deprecated. In a future version, it will default to False. Select only valid columns or specify the value of numeric_only to silence this warning.\n",
            "  sns.heatmap(df.corr(),annot=True)\n"
          ]
        },
        {
          "output_type": "execute_result",
          "data": {
            "text/plain": [
              "<Axes: >"
            ]
          },
          "metadata": {},
          "execution_count": 32
        },
        {
          "output_type": "display_data",
          "data": {
            "text/plain": [
              "<Figure size 1000x800 with 2 Axes>"
            ],
            "image/png": "[encoded data removed]"
          },
          "metadata": {}
        }
      ],
      "execution_count": null,
      "metadata": {
        "trusted": true,
        "noteable": {},
        "colab": {
          "base_uri": "https://localhost:8080/",
          "height": 754
        },
        "id": "709fa566",
        "outputId": "6f5fbf21-2344-4a87-8faa-c0dc12ceb90f"
      },
      "id": "709fa566"
    },
    {
      "cell_type": "markdown",
      "source": [
        "There is an extremely positive correlation between year and price and an extremely negative correlation between mileage and price. This makes sense, since newer cars are generally more expensive and cars with more mileage are relatively cheaper. We also notice a negative correlation between mileage and year - the newer a car is the less miles it is likely to have travelled. Furthermore, we notice a positive correlation between engine size and price, as well as engine size and tax. This follows expectation, since it is common practice for manufacturers to sell models with larger engines for a higher price in comparison to the same model with a smaller engine. As a result, due to the higher price, a larger tax payment is required, hence the positive correlation. This also explains the positive correlation between tax and price."
      ],
      "metadata": {
        "id": "f6422023"
      },
      "id": "f6422023"
    },
    {
      "cell_type": "code",
      "source": [
        "sns.scatterplot(x=df['mileage'],y=df['price'])\n",
        "plt.title('Scatter plot of Mileage against Price')"
      ],
      "outputs": [
        {
          "output_type": "execute_result",
          "execution_count": null,
          "data": {
            "text/plain": "Text(0.5, 1.0, 'Scatter plot of Mileage against Price')"
          },
          "metadata": {}
        },
        {
          "output_type": "display_data",
          "data": {
            "image/png": "[encoded data removed]"
          },
          "metadata": {}
        }
      ],
      "execution_count": null,
      "metadata": {
        "trusted": true,
        "noteable": {},
        "id": "19f14c9c",
        "outputId": "35dfbd54-6f94-4f16-cbc2-7177147651f4"
      },
      "id": "19f14c9c"
    },
    {
      "cell_type": "code",
      "source": [
        "plt.figure(figsize=(10,8))\n",
        "sns.boxplot(x='make',y='price',data=df)"
      ],
      "outputs": [
        {
          "output_type": "execute_result",
          "execution_count": null,
          "data": {
            "text/plain": "<matplotlib.axes._subplots.AxesSubplot at 0x7f102258cc10>"
          },
          "metadata": {}
        },
        {
          "output_type": "display_data",
          "data": {
            "image/png": "[encoded data removed]"
          },
          "metadata": {}
        }
      ],
      "execution_count": null,
      "metadata": {
        "trusted": true,
        "noteable": {},
        "id": "1795ccd2",
        "outputId": "84ca2140-42b8-4d09-b563-b0dda97f94c5"
      },
      "id": "1795ccd2"
    },
    {
      "cell_type": "markdown",
      "source": [
        "It is observed that the cars Audi, BMW, Mercedes, Volkswagen have higher price than average. But the cars Hyundai and Skoda points seems to be outliers. So those points can be removed"
      ],
      "metadata": {
        "id": "eaca79e7"
      },
      "id": "eaca79e7"
    },
    {
      "cell_type": "code",
      "source": [
        "for i in range(91,100,1):\n",
        "    print('The {0}th percentile of price is {1}'.format(i, np.percentile(df['price'],i)))"
      ],
      "outputs": [
        {
          "output_type": "stream",
          "name": "stdout",
          "text": [
            "The 91th percentile of price is 29541.72\n",
            "The 92th percentile of price is 30422.320000000007\n",
            "The 93th percentile of price is 31499.0\n",
            "The 94th percentile of price is 32890.0\n",
            "The 95th percentile of price is 34400.0\n",
            "The 96th percentile of price is 36500.0\n",
            "The 97th percentile of price is 39980.0\n",
            "The 98th percentile of price is 44990.08\n",
            "The 99th percentile of price is 52000.0\n"
          ]
        }
      ],
      "execution_count": null,
      "metadata": {
        "trusted": true,
        "noteable": {},
        "id": "56b9e50e",
        "outputId": "1d33aeee-e2fb-411e-a557-edddcf4e71f0"
      },
      "id": "56b9e50e"
    },
    {
      "cell_type": "code",
      "source": [
        "for i in np.arange(99,100,0.1):\n",
        "    print('The {0}th percentile of price is {1}'.format(round(i,1), np.percentile(df['price'],i)))"
      ],
      "outputs": [
        {
          "output_type": "stream",
          "name": "stdout",
          "text": [
            "The 99.0th percentile of price is 52000.0\n",
            "The 99.1th percentile of price is 53240.84600000009\n",
            "The 99.2th percentile of price is 54897.487999999954\n",
            "The 99.3th percentile of price is 55797.921999999424\n",
            "The 99.4th percentile of price is 56995.0\n",
            "The 99.5th percentile of price is 59144.24999999703\n",
            "The 99.6th percentile of price is 61517.87999999826\n",
            "The 99.7th percentile of price is 65000.0\n",
            "The 99.8th percentile of price is 69995.0\n",
            "The 99.9th percentile of price is 79885.25399999479\n"
          ]
        }
      ],
      "execution_count": null,
      "metadata": {
        "trusted": true,
        "noteable": {},
        "id": "6acf478f",
        "outputId": "bfbef83f-459c-42ce-b549-7b09c876d6f8"
      },
      "id": "6acf478f"
    },
    {
      "cell_type": "code",
      "source": [
        "df[(df['make'] == 'Toyota') & (df['price'] < 2000)]"
      ],
      "outputs": [
        {
          "output_type": "execute_result",
          "data": {
            "text/plain": [
              "          model  year  price transmission  mileage fuelType  tax   mpg  \\\n",
              "63734   Corolla  2005   1300       Manual   129000   Petrol  260  36.7   \n",
              "63919   Corolla  2003   1495       Manual    89000   Petrol  235  39.2   \n",
              "63923   Corolla  2004   1250       Manual   111000   Petrol  260  37.2   \n",
              "63949   Corolla  2001    899    Automatic    76000   Petrol  300  35.3   \n",
              "64436      RAV4  2002   1600       Manual   140000   Petrol  325  32.1   \n",
              "66107     Yaris  2002    950       Manual   104000   Petrol  200  40.4   \n",
              "66110     Yaris  1999   1995    Automatic    89000   Petrol  160  42.9   \n",
              "66280     Yaris  2008   1985    Automatic   124309   Petrol  150  48.7   \n",
              "66295     Yaris  2003    975       Manual   107000   Petrol  145  50.4   \n",
              "66490     Yaris  2006   1550       Manual   100418   Petrol  125  52.3   \n",
              "66538     Yaris  2002   1999    Automatic    71788   Petrol  165  42.2   \n",
              "66542     Yaris  2009   1995       Manual    79744   Petrol   30  56.5   \n",
              "67063     Auris  2007   1795       Manual    70546   Petrol  235  39.8   \n",
              "67064     Auris  2007   1599       Manual   107000   Petrol  235  39.8   \n",
              "69003      Aygo  2007   1991       Manual   119213   Petrol   20  61.4   \n",
              "69151      Aygo  2007   1995       Manual    75900   Petrol   20  61.4   \n",
              "69156      Aygo  2005   1295       Manual    88836   Petrol   20  61.4   \n",
              "70073   Avensis  2009   1985       Manual   148371   Diesel  150  55.4   \n",
              "70087   Avensis  2003    850       Manual   167054   Diesel  205  48.7   \n",
              "70089   Avensis  2006   1990       Manual   125000   Petrol  240  39.2   \n",
              "70091   Avensis  2007   1200    Automatic   120000   Petrol  300  36.7   \n",
              "\n",
              "       engineSize    make  \n",
              "63734         1.8  Toyota  \n",
              "63919         1.6  Toyota  \n",
              "63923         1.8  Toyota  \n",
              "63949         1.6  Toyota  \n",
              "64436         2.0  Toyota  \n",
              "66107         1.5  Toyota  \n",
              "66110         1.3  Toyota  \n",
              "66280         1.3  Toyota  \n",
              "66295         1.0  Toyota  \n",
              "66490         1.0  Toyota  \n",
              "66538         1.3  Toyota  \n",
              "66542         1.0  Toyota  \n",
              "67063         1.6  Toyota  \n",
              "67064         1.6  Toyota  \n",
              "69003         1.0  Toyota  \n",
              "69151         1.0  Toyota  \n",
              "69156         1.0  Toyota  \n",
              "70073         2.0  Toyota  \n",
              "70087         2.0  Toyota  \n",
              "70089         1.8  Toyota  \n",
              "70091         1.8  Toyota  "
            ],
            "text/html": [
              "\n",
              "  <div id=\"df-fc5748ca-ae86-421d-8d55-9d0782acea57\">\n",
              "    <div class=\"colab-df-container\">\n",
              "      <div>\n",
              "<style scoped>\n",
              "    .dataframe tbody tr th:only-of-type {\n",
              "        vertical-align: middle;\n",
              "    }\n",
              "\n",
              "    .dataframe tbody tr th {\n",
              "        vertical-align: top;\n",
              "    }\n",
              "\n",
              "    .dataframe thead th {\n",
              "        text-align: right;\n",
              "    }\n",
              "</style>\n",
              "<table border=\"1\" class=\"dataframe\">\n",
              "  <thead>\n",
              "    <tr style=\"text-align: right;\">\n",
              "      <th></th>\n",
              "      <th>model</th>\n",
              "      <th>year</th>\n",
              "      <th>price</th>\n",
              "      <th>transmission</th>\n",
              "      <th>mileage</th>\n",
              "      <th>fuelType</th>\n",
              "      <th>tax</th>\n",
              "      <th>mpg</th>\n",
              "      <th>engineSize</th>\n",
              "      <th>make</th>\n",
              "    </tr>\n",
              "  </thead>\n",
              "  <tbody>\n",
              "    <tr>\n",
              "      <th>63734</th>\n",
              "      <td>Corolla</td>\n",
              "      <td>2005</td>\n",
              "      <td>1300</td>\n",
              "      <td>Manual</td>\n",
              "      <td>129000</td>\n",
              "      <td>Petrol</td>\n",
              "      <td>260</td>\n",
              "      <td>36.7</td>\n",
              "      <td>1.8</td>\n",
              "      <td>Toyota</td>\n",
              "    </tr>\n",
              "    <tr>\n",
              "      <th>63919</th>\n",
              "      <td>Corolla</td>\n",
              "      <td>2003</td>\n",
              "      <td>1495</td>\n",
              "      <td>Manual</td>\n",
              "      <td>89000</td>\n",
              "      <td>Petrol</td>\n",
              "      <td>235</td>\n",
              "      <td>39.2</td>\n",
              "      <td>1.6</td>\n",
              "      <td>Toyota</td>\n",
              "    </tr>\n",
              "    <tr>\n",
              "      <th>63923</th>\n",
              "      <td>Corolla</td>\n",
              "      <td>2004</td>\n",
              "      <td>1250</td>\n",
              "      <td>Manual</td>\n",
              "      <td>111000</td>\n",
              "      <td>Petrol</td>\n",
              "      <td>260</td>\n",
              "      <td>37.2</td>\n",
              "      <td>1.8</td>\n",
              "      <td>Toyota</td>\n",
              "    </tr>\n",
              "    <tr>\n",
              "      <th>63949</th>\n",
              "      <td>Corolla</td>\n",
              "      <td>2001</td>\n",
              "      <td>899</td>\n",
              "      <td>Automatic</td>\n",
              "      <td>76000</td>\n",
              "      <td>Petrol</td>\n",
              "      <td>300</td>\n",
              "      <td>35.3</td>\n",
              "      <td>1.6</td>\n",
              "      <td>Toyota</td>\n",
              "    </tr>\n",
              "    <tr>\n",
              "      <th>64436</th>\n",
              "      <td>RAV4</td>\n",
              "      <td>2002</td>\n",
              "      <td>1600</td>\n",
              "      <td>Manual</td>\n",
              "      <td>140000</td>\n",
              "      <td>Petrol</td>\n",
              "      <td>325</td>\n",
              "      <td>32.1</td>\n",
              "      <td>2.0</td>\n",
              "      <td>Toyota</td>\n",
              "    </tr>\n",
              "    <tr>\n",
              "      <th>66107</th>\n",
              "      <td>Yaris</td>\n",
              "      <td>2002</td>\n",
              "      <td>950</td>\n",
              "      <td>Manual</td>\n",
              "      <td>104000</td>\n",
              "      <td>Petrol</td>\n",
              "      <td>200</td>\n",
              "      <td>40.4</td>\n",
              "      <td>1.5</td>\n",
              "      <td>Toyota</td>\n",
              "    </tr>\n",
              "    <tr>\n",
              "      <th>66110</th>\n",
              "      <td>Yaris</td>\n",
              "      <td>1999</td>\n",
              "      <td>1995</td>\n",
              "      <td>Automatic</td>\n",
              "      <td>89000</td>\n",
              "      <td>Petrol</td>\n",
              "      <td>160</td>\n",
              "      <td>42.9</td>\n",
              "      <td>1.3</td>\n",
              "      <td>Toyota</td>\n",
              "    </tr>\n",
              "    <tr>\n",
              "      <th>66280</th>\n",
              "      <td>Yaris</td>\n",
              "      <td>2008</td>\n",
              "      <td>1985</td>\n",
              "      <td>Automatic</td>\n",
              "      <td>124309</td>\n",
              "      <td>Petrol</td>\n",
              "      <td>150</td>\n",
              "      <td>48.7</td>\n",
              "      <td>1.3</td>\n",
              "      <td>Toyota</td>\n",
              "    </tr>\n",
              "    <tr>\n",
              "      <th>66295</th>\n",
              "      <td>Yaris</td>\n",
              "      <td>2003</td>\n",
              "      <td>975</td>\n",
              "      <td>Manual</td>\n",
              "      <td>107000</td>\n",
              "      <td>Petrol</td>\n",
              "      <td>145</td>\n",
              "      <td>50.4</td>\n",
              "      <td>1.0</td>\n",
              "      <td>Toyota</td>\n",
              "    </tr>\n",
              "    <tr>\n",
              "      <th>66490</th>\n",
              "      <td>Yaris</td>\n",
              "      <td>2006</td>\n",
              "      <td>1550</td>\n",
              "      <td>Manual</td>\n",
              "      <td>100418</td>\n",
              "      <td>Petrol</td>\n",
              "      <td>125</td>\n",
              "      <td>52.3</td>\n",
              "      <td>1.0</td>\n",
              "      <td>Toyota</td>\n",
              "    </tr>\n",
              "    <tr>\n",
              "      <th>66538</th>\n",
              "      <td>Yaris</td>\n",
              "      <td>2002</td>\n",
              "      <td>1999</td>\n",
              "      <td>Automatic</td>\n",
              "      <td>71788</td>\n",
              "      <td>Petrol</td>\n",
              "      <td>165</td>\n",
              "      <td>42.2</td>\n",
              "      <td>1.3</td>\n",
              "      <td>Toyota</td>\n",
              "    </tr>\n",
              "    <tr>\n",
              "      <th>66542</th>\n",
              "      <td>Yaris</td>\n",
              "      <td>2009</td>\n",
              "      <td>1995</td>\n",
              "      <td>Manual</td>\n",
              "      <td>79744</td>\n",
              "      <td>Petrol</td>\n",
              "      <td>30</td>\n",
              "      <td>56.5</td>\n",
              "      <td>1.0</td>\n",
              "      <td>Toyota</td>\n",
              "    </tr>\n",
              "    <tr>\n",
              "      <th>67063</th>\n",
              "      <td>Auris</td>\n",
              "      <td>2007</td>\n",
              "      <td>1795</td>\n",
              "      <td>Manual</td>\n",
              "      <td>70546</td>\n",
              "      <td>Petrol</td>\n",
              "      <td>235</td>\n",
              "      <td>39.8</td>\n",
              "      <td>1.6</td>\n",
              "      <td>Toyota</td>\n",
              "    </tr>\n",
              "    <tr>\n",
              "      <th>67064</th>\n",
              "      <td>Auris</td>\n",
              "      <td>2007</td>\n",
              "      <td>1599</td>\n",
              "      <td>Manual</td>\n",
              "      <td>107000</td>\n",
              "      <td>Petrol</td>\n",
              "      <td>235</td>\n",
              "      <td>39.8</td>\n",
              "      <td>1.6</td>\n",
              "      <td>Toyota</td>\n",
              "    </tr>\n",
              "    <tr>\n",
              "      <th>69003</th>\n",
              "      <td>Aygo</td>\n",
              "      <td>2007</td>\n",
              "      <td>1991</td>\n",
              "      <td>Manual</td>\n",
              "      <td>119213</td>\n",
              "      <td>Petrol</td>\n",
              "      <td>20</td>\n",
              "      <td>61.4</td>\n",
              "      <td>1.0</td>\n",
              "      <td>Toyota</td>\n",
              "    </tr>\n",
              "    <tr>\n",
              "      <th>69151</th>\n",
              "      <td>Aygo</td>\n",
              "      <td>2007</td>\n",
              "      <td>1995</td>\n",
              "      <td>Manual</td>\n",
              "      <td>75900</td>\n",
              "      <td>Petrol</td>\n",
              "      <td>20</td>\n",
              "      <td>61.4</td>\n",
              "      <td>1.0</td>\n",
              "      <td>Toyota</td>\n",
              "    </tr>\n",
              "    <tr>\n",
              "      <th>69156</th>\n",
              "      <td>Aygo</td>\n",
              "      <td>2005</td>\n",
              "      <td>1295</td>\n",
              "      <td>Manual</td>\n",
              "      <td>88836</td>\n",
              "      <td>Petrol</td>\n",
              "      <td>20</td>\n",
              "      <td>61.4</td>\n",
              "      <td>1.0</td>\n",
              "      <td>Toyota</td>\n",
              "    </tr>\n",
              "    <tr>\n",
              "      <th>70073</th>\n",
              "      <td>Avensis</td>\n",
              "      <td>2009</td>\n",
              "      <td>1985</td>\n",
              "      <td>Manual</td>\n",
              "      <td>148371</td>\n",
              "      <td>Diesel</td>\n",
              "      <td>150</td>\n",
              "      <td>55.4</td>\n",
              "      <td>2.0</td>\n",
              "      <td>Toyota</td>\n",
              "    </tr>\n",
              "    <tr>\n",
              "      <th>70087</th>\n",
              "      <td>Avensis</td>\n",
              "      <td>2003</td>\n",
              "      <td>850</td>\n",
              "      <td>Manual</td>\n",
              "      <td>167054</td>\n",
              "      <td>Diesel</td>\n",
              "      <td>205</td>\n",
              "      <td>48.7</td>\n",
              "      <td>2.0</td>\n",
              "      <td>Toyota</td>\n",
              "    </tr>\n",
              "    <tr>\n",
              "      <th>70089</th>\n",
              "      <td>Avensis</td>\n",
              "      <td>2006</td>\n",
              "      <td>1990</td>\n",
              "      <td>Manual</td>\n",
              "      <td>125000</td>\n",
              "      <td>Petrol</td>\n",
              "      <td>240</td>\n",
              "      <td>39.2</td>\n",
              "      <td>1.8</td>\n",
              "      <td>Toyota</td>\n",
              "    </tr>\n",
              "    <tr>\n",
              "      <th>70091</th>\n",
              "      <td>Avensis</td>\n",
              "      <td>2007</td>\n",
              "      <td>1200</td>\n",
              "      <td>Automatic</td>\n",
              "      <td>120000</td>\n",
              "      <td>Petrol</td>\n",
              "      <td>300</td>\n",
              "      <td>36.7</td>\n",
              "      <td>1.8</td>\n",
              "      <td>Toyota</td>\n",
              "    </tr>\n",
              "  </tbody>\n",
              "</table>\n",
              "</div>\n",
              "      <button class=\"colab-df-convert\" onclick=\"convertToInteractive('df-fc5748ca-ae86-421d-8d55-9d0782acea57')\"\n",
              "              title=\"Convert this dataframe to an interactive table.\"\n",
              "              style=\"display:none;\">\n",
              "        \n",
              "  <svg xmlns=\"http://www.w3.org/2000/svg\" height=\"24px\"viewBox=\"0 0 24 24\"\n",
              "       width=\"24px\">\n",
              "    <path d=\"M0 0h24v24H0V0z\" fill=\"none\"/>\n",
              "    <path d=\"M18.56 5.44l.94 2.06.94-2.06 2.06-.94-2.06-.94-.94-2.06-.94 2.06-2.06.94zm-11 1L8.5 8.5l.94-2.06 2.06-.94-2.06-.94L8.5 2.5l-.94 2.06-2.06.94zm10 10l.94 2.06.94-2.06 2.06-.94-2.06-.94-.94-2.06-.94 2.06-2.06.94z\"/><path d=\"M17.41 7.96l-1.37-1.37c-.4-.4-.92-.59-1.43-.59-.52 0-1.04.2-1.43.59L10.3 9.45l-7.72 7.72c-.78.78-.78 2.05 0 2.83L4 21.41c.39.39.9.59 1.41.59.51 0 1.02-.2 1.41-.59l7.78-7.78 2.81-2.81c.8-.78.8-2.07 0-2.86zM5.41 20L4 18.59l7.72-7.72 1.47 1.35L5.41 20z\"/>\n",
              "  </svg>\n",
              "      </button>\n",
              "      \n",
              "  <style>\n",
              "    .colab-df-container {\n",
              "      display:flex;\n",
              "      flex-wrap:wrap;\n",
              "      gap: 12px;\n",
              "    }\n",
              "\n",
              "    .colab-df-convert {\n",
              "      background-color: #E8F0FE;\n",
              "      border: none;\n",
              "      border-radius: 50%;\n",
              "      cursor: pointer;\n",
              "      display: none;\n",
              "      fill: #1967D2;\n",
              "      height: 32px;\n",
              "      padding: 0 0 0 0;\n",
              "      width: 32px;\n",
              "    }\n",
              "\n",
              "    .colab-df-convert:hover {\n",
              "      background-color: #E2EBFA;\n",
              "      box-shadow: 0px 1px 2px rgba(60, 64, 67, 0.3), 0px 1px 3px 1px rgba(60, 64, 67, 0.15);\n",
              "      fill: #174EA6;\n",
              "    }\n",
              "\n",
              "    [theme=dark] .colab-df-convert {\n",
              "      background-color: #3B4455;\n",
              "      fill: #D2E3FC;\n",
              "    }\n",
              "\n",
              "    [theme=dark] .colab-df-convert:hover {\n",
              "      background-color: #434B5C;\n",
              "      box-shadow: 0px 1px 3px 1px rgba(0, 0, 0, 0.15);\n",
              "      filter: drop-shadow(0px 1px 2px rgba(0, 0, 0, 0.3));\n",
              "      fill: #FFFFFF;\n",
              "    }\n",
              "  </style>\n",
              "\n",
              "      <script>\n",
              "        const buttonEl =\n",
              "          document.querySelector('#df-fc5748ca-ae86-421d-8d55-9d0782acea57 button.colab-df-convert');\n",
              "        buttonEl.style.display =\n",
              "          google.colab.kernel.accessAllowed ? 'block' : 'none';\n",
              "\n",
              "        async function convertToInteractive(key) {\n",
              "          const element = document.querySelector('#df-fc5748ca-ae86-421d-8d55-9d0782acea57');\n",
              "          const dataTable =\n",
              "            await google.colab.kernel.invokeFunction('convertToInteractive',\n",
              "                                                     [key], {});\n",
              "          if (!dataTable) return;\n",
              "\n",
              "          const docLinkHtml = 'Like what you see? Visit the ' +\n",
              "            '<a target=\"_blank\" href=https://colab.research.google.com/notebooks/data_table.ipynb>data table notebook</a>'\n",
              "            + ' to learn more about interactive tables.';\n",
              "          element.innerHTML = '';\n",
              "          dataTable['output_type'] = 'display_data';\n",
              "          await google.colab.output.renderOutput(dataTable, element);\n",
              "          const docLink = document.createElement('div');\n",
              "          docLink.innerHTML = docLinkHtml;\n",
              "          element.appendChild(docLink);\n",
              "        }\n",
              "      </script>\n",
              "    </div>\n",
              "  </div>\n",
              "  "
            ]
          },
          "metadata": {},
          "execution_count": 33
        }
      ],
      "execution_count": null,
      "metadata": {
        "trusted": true,
        "noteable": {},
        "ExecuteTime": {
          "start_time": "2023-05-28T16:35:33.998765+00:00",
          "end_time": "2023-05-28T16:35:34.228455+00:00"
        },
        "datalink": {
          "47040b61-9774-466c-9240-a9c72ac46bed": {
            "dataframe_info": {
              "default_index_used": true,
              "orig_size_bytes": 8176,
              "orig_num_rows": 69,
              "orig_num_cols": 10,
              "truncated_string_columns": [],
              "truncated_size_bytes": 8176,
              "truncated_num_rows": 69,
              "truncated_num_cols": 10
            },
            "dx_settings": {
              "LOG_LEVEL": 30,
              "DEV_MODE": false,
              "DISPLAY_MAX_ROWS": 50000,
              "DISPLAY_MAX_COLUMNS": 100,
              "HTML_TABLE_SCHEMA": false,
              "MAX_RENDER_SIZE_BYTES": 104857600,
              "MAX_STRING_LENGTH": 250,
              "SAMPLING_FACTOR": 0.1,
              "DISPLAY_MODE": "simple",
              "SAMPLING_METHOD": "random",
              "COLUMN_SAMPLING_METHOD": "outer",
              "ROW_SAMPLING_METHOD": "random",
              "RANDOM_STATE": 12648430,
              "RESET_INDEX_VALUES": false,
              "FLATTEN_INDEX_VALUES": false,
              "FLATTEN_COLUMN_VALUES": true,
              "STRINGIFY_INDEX_VALUES": false,
              "STRINGIFY_COLUMN_VALUES": true,
              "ENABLE_DATALINK": true,
              "ENABLE_ASSIGNMENT": true,
              "NUM_PAST_SAMPLES_TRACKED": 3,
              "DB_LOCATION": ":memory:",
              "GENERATE_DEX_METADATA": false,
              "ALLOW_NOTEABLE_ATTRS": true
            },
            "display_id": "47040b61-9774-466c-9240-a9c72ac46bed",
            "applied_filters": [],
            "sample_history": [],
            "sampling_time": "2023-05-28T16:33:54.551582",
            "variable_name": "unk_dataframe_e26647356367414b98288e947bb0566b",
            "user_variable_name": null
          },
          "39c909d6-3c51-4000-8e8c-b8905f2685b5": {
            "dataframe_info": {
              "default_index_used": true,
              "orig_size_bytes": 329648,
              "orig_num_rows": 2995,
              "orig_num_cols": 10,
              "truncated_string_columns": [],
              "truncated_size_bytes": 329648,
              "truncated_num_rows": 2995,
              "truncated_num_cols": 10
            },
            "dx_settings": {
              "LOG_LEVEL": 30,
              "DEV_MODE": false,
              "DISPLAY_MAX_ROWS": 50000,
              "DISPLAY_MAX_COLUMNS": 100,
              "HTML_TABLE_SCHEMA": false,
              "MAX_RENDER_SIZE_BYTES": 104857600,
              "MAX_STRING_LENGTH": 250,
              "SAMPLING_FACTOR": 0.1,
              "DISPLAY_MODE": "simple",
              "SAMPLING_METHOD": "random",
              "COLUMN_SAMPLING_METHOD": "outer",
              "ROW_SAMPLING_METHOD": "random",
              "RANDOM_STATE": 12648430,
              "RESET_INDEX_VALUES": false,
              "FLATTEN_INDEX_VALUES": false,
              "FLATTEN_COLUMN_VALUES": true,
              "STRINGIFY_INDEX_VALUES": false,
              "STRINGIFY_COLUMN_VALUES": true,
              "ENABLE_DATALINK": true,
              "ENABLE_ASSIGNMENT": true,
              "NUM_PAST_SAMPLES_TRACKED": 3,
              "DB_LOCATION": ":memory:",
              "GENERATE_DEX_METADATA": false,
              "ALLOW_NOTEABLE_ATTRS": true
            },
            "display_id": "39c909d6-3c51-4000-8e8c-b8905f2685b5",
            "applied_filters": [],
            "sample_history": [],
            "sampling_time": "2023-05-28T16:34:35.701234",
            "variable_name": "unk_dataframe_572c1c80733f4707adf6cc953a3a5dad",
            "user_variable_name": null
          },
          "34cfb4e7-94b7-4de2-90ba-ff96f77ca5e0": {
            "dataframe_info": {
              "default_index_used": true,
              "orig_size_bytes": 2404,
              "orig_num_rows": 21,
              "orig_num_cols": 10,
              "truncated_string_columns": [],
              "truncated_size_bytes": 2404,
              "truncated_num_rows": 21,
              "truncated_num_cols": 10
            },
            "dx_settings": {
              "LOG_LEVEL": 30,
              "DEV_MODE": false,
              "DISPLAY_MAX_ROWS": 50000,
              "DISPLAY_MAX_COLUMNS": 100,
              "HTML_TABLE_SCHEMA": false,
              "MAX_RENDER_SIZE_BYTES": 104857600,
              "MAX_STRING_LENGTH": 250,
              "SAMPLING_FACTOR": 0.1,
              "DISPLAY_MODE": "simple",
              "SAMPLING_METHOD": "random",
              "COLUMN_SAMPLING_METHOD": "outer",
              "ROW_SAMPLING_METHOD": "random",
              "RANDOM_STATE": 12648430,
              "RESET_INDEX_VALUES": false,
              "FLATTEN_INDEX_VALUES": false,
              "FLATTEN_COLUMN_VALUES": true,
              "STRINGIFY_INDEX_VALUES": false,
              "STRINGIFY_COLUMN_VALUES": true,
              "ENABLE_DATALINK": true,
              "ENABLE_ASSIGNMENT": true,
              "NUM_PAST_SAMPLES_TRACKED": 3,
              "DB_LOCATION": ":memory:",
              "GENERATE_DEX_METADATA": false,
              "ALLOW_NOTEABLE_ATTRS": true
            },
            "display_id": "34cfb4e7-94b7-4de2-90ba-ff96f77ca5e0",
            "applied_filters": [],
            "sample_history": [],
            "sampling_time": "2023-05-28T16:35:34.069339",
            "variable_name": "unk_dataframe_51a1f29de48140d19a8d6ad366d37474",
            "user_variable_name": null
          }
        },
        "dx": {
          "views": [],
          "fieldMetadata": {},
          "simpleTable": true,
          "updated": 1685291787606
        },
        "colab": {
          "base_uri": "https://localhost:8080/",
          "height": 708
        },
        "id": "de298a3d",
        "outputId": "b78e26c9-4764-4ea2-a005-2d74c3543460"
      },
      "id": "de298a3d"
    },
    {
      "cell_type": "code",
      "source": [
        "df = df.drop(df[(df['make'] == 'Hyundai') & (df['price'] > 80000)].index)"
      ],
      "outputs": [],
      "execution_count": null,
      "metadata": {
        "trusted": true,
        "id": "b361d8a6"
      },
      "id": "b361d8a6"
    },
    {
      "cell_type": "code",
      "source": [
        "df[(df['make'] == 'Skoda') & (df['price']> 80000)]"
      ],
      "outputs": [
        {
          "output_type": "execute_result",
          "execution_count": null,
          "data": {
            "text/html": "<div>\n<style scoped>\n    .dataframe tbody tr th:only-of-type {\n        vertical-align: middle;\n    }\n\n    .dataframe tbody tr th {\n        vertical-align: top;\n    }\n\n    .dataframe thead th {\n        text-align: right;\n    }\n</style>\n<table border=\"1\" class=\"dataframe\">\n  <thead>\n    <tr style=\"text-align: right;\">\n      <th></th>\n      <th>model</th>\n      <th>year</th>\n      <th>price</th>\n      <th>transmission</th>\n      <th>mileage</th>\n      <th>fuelType</th>\n      <th>tax</th>\n      <th>mpg</th>\n      <th>engineSize</th>\n      <th>make</th>\n    </tr>\n  </thead>\n  <tbody>\n    <tr>\n      <th>62386</th>\n      <td>Karoq</td>\n      <td>2019</td>\n      <td>91874</td>\n      <td>Automatic</td>\n      <td>3764</td>\n      <td>Petrol</td>\n      <td>145</td>\n      <td>40.9</td>\n      <td>1.5</td>\n      <td>Skoda</td>\n    </tr>\n  </tbody>\n</table>\n</div>"
          },
          "metadata": {}
        }
      ],
      "execution_count": null,
      "metadata": {
        "trusted": true,
        "noteable": {},
        "id": "5e31e7d5",
        "outputId": "890e7ed4-8aaf-40a2-d1f9-c09bda2e4352"
      },
      "id": "5e31e7d5"
    },
    {
      "cell_type": "code",
      "source": [
        "df = df.drop(df[(df['make'] == 'Skoda') & (df['price'] > 80000)].index)"
      ],
      "outputs": [],
      "execution_count": null,
      "metadata": {
        "trusted": true,
        "id": "8e0d58d4"
      },
      "id": "8e0d58d4"
    },
    {
      "cell_type": "markdown",
      "source": [
        "### Fuel Type"
      ],
      "metadata": {
        "id": "056d4362"
      },
      "id": "056d4362"
    },
    {
      "cell_type": "code",
      "source": [
        "sns.boxplot(x=df['fuelType'],y=df['price'])"
      ],
      "outputs": [
        {
          "output_type": "execute_result",
          "execution_count": null,
          "data": {
            "text/plain": "<matplotlib.axes._subplots.AxesSubplot at 0x7f1022674cd0>"
          },
          "metadata": {}
        },
        {
          "output_type": "display_data",
          "data": {
            "image/png": "[encoded data removed]"
          },
          "metadata": {}
        }
      ],
      "execution_count": null,
      "metadata": {
        "trusted": true,
        "noteable": {},
        "id": "ad7fceee",
        "outputId": "a22c5f8e-dce9-49d8-9d71-649050583eab"
      },
      "id": "ad7fceee"
    },
    {
      "cell_type": "markdown",
      "source": [
        "It is observed that the petrol vehicles are cheaper than the other fuel type vehicles"
      ],
      "metadata": {
        "id": "611bf0be"
      },
      "id": "611bf0be"
    },
    {
      "cell_type": "markdown",
      "source": [
        "### Transmission"
      ],
      "metadata": {
        "id": "7d3c8177"
      },
      "id": "7d3c8177"
    },
    {
      "cell_type": "code",
      "source": [
        "sns.boxplot(x=df['transmission'],y=df['price'])"
      ],
      "outputs": [
        {
          "output_type": "execute_result",
          "execution_count": null,
          "data": {
            "text/plain": "<matplotlib.axes._subplots.AxesSubplot at 0x7f10200cf310>"
          },
          "metadata": {}
        },
        {
          "output_type": "display_data",
          "data": {
            "image/png": "[encoded data removed]"
          },
          "metadata": {}
        }
      ],
      "execution_count": null,
      "metadata": {
        "trusted": true,
        "noteable": {},
        "id": "f10d4928",
        "outputId": "380ddfd6-ea68-4731-d78f-12348b534aa1"
      },
      "id": "f10d4928"
    },
    {
      "cell_type": "markdown",
      "source": [
        "It is evident that the Automatic and Semi-Automatic cars are higher price than the manual transmission. This feature has clear significant influence on the price of the vehicles"
      ],
      "metadata": {
        "id": "c4aa06c8"
      },
      "id": "c4aa06c8"
    },
    {
      "cell_type": "markdown",
      "source": [
        "### Price"
      ],
      "metadata": {
        "id": "0479fe59"
      },
      "id": "0479fe59"
    },
    {
      "cell_type": "code",
      "source": [
        "sns.distplot(df['price'])"
      ],
      "outputs": [
        {
          "output_type": "execute_result",
          "execution_count": null,
          "data": {
            "text/plain": "<matplotlib.axes._subplots.AxesSubplot at 0x7f101bfea3d0>"
          },
          "metadata": {}
        },
        {
          "output_type": "display_data",
          "data": {
            "image/png": "[encoded data removed]"
          },
          "metadata": {}
        }
      ],
      "execution_count": null,
      "metadata": {
        "trusted": true,
        "noteable": {},
        "id": "51cbafb1",
        "outputId": "b421e6ae-8bad-4f9a-829a-df33de175855"
      },
      "id": "51cbafb1"
    },
    {
      "cell_type": "markdown",
      "source": [
        "### Year"
      ],
      "metadata": {
        "id": "ec287227"
      },
      "id": "ec287227"
    },
    {
      "cell_type": "code",
      "source": [
        "sns.distplot(df['year'])"
      ],
      "outputs": [
        {
          "output_type": "execute_result",
          "execution_count": null,
          "data": {
            "text/plain": "<matplotlib.axes._subplots.AxesSubplot at 0x7f101bfeab10>"
          },
          "metadata": {}
        },
        {
          "output_type": "display_data",
          "data": {
            "image/png": "[encoded data removed]"
          },
          "metadata": {}
        }
      ],
      "execution_count": null,
      "metadata": {
        "trusted": true,
        "noteable": {},
        "id": "efab9e66",
        "outputId": "933504bb-bc10-491c-e8ff-44b33f00f6d7"
      },
      "id": "efab9e66"
    },
    {
      "cell_type": "markdown",
      "source": [
        "### Mileage"
      ],
      "metadata": {
        "id": "7332771a"
      },
      "id": "7332771a"
    },
    {
      "cell_type": "code",
      "source": [
        "sns.distplot(df['mileage'])"
      ],
      "outputs": [
        {
          "output_type": "execute_result",
          "execution_count": null,
          "data": {
            "text/plain": "<matplotlib.axes._subplots.AxesSubplot at 0x7f101be83590>"
          },
          "metadata": {}
        },
        {
          "output_type": "display_data",
          "data": {
            "image/png": "[encoded data removed]"
          },
          "metadata": {}
        }
      ],
      "execution_count": null,
      "metadata": {
        "trusted": true,
        "noteable": {},
        "id": "789ed5c1",
        "outputId": "af98fabc-786e-4b5d-8167-d966eb57ea9b"
      },
      "id": "789ed5c1"
    },
    {
      "cell_type": "markdown",
      "source": [
        "### Tax"
      ],
      "metadata": {
        "id": "eab89044"
      },
      "id": "eab89044"
    },
    {
      "cell_type": "code",
      "source": [
        "sns.distplot(df['tax'])"
      ],
      "outputs": [
        {
          "output_type": "execute_result",
          "execution_count": null,
          "data": {
            "text/plain": "<matplotlib.axes._subplots.AxesSubplot at 0x7f101bc85d90>"
          },
          "metadata": {}
        },
        {
          "output_type": "display_data",
          "data": {
            "image/png": "[encoded data removed]"
          },
          "metadata": {}
        }
      ],
      "execution_count": null,
      "metadata": {
        "trusted": true,
        "noteable": {},
        "id": "1b0ea4f5",
        "outputId": "ee1f66b4-f79c-40b4-a44e-b3a7853dd8fb"
      },
      "id": "1b0ea4f5"
    },
    {
      "cell_type": "markdown",
      "source": [
        "### MPG"
      ],
      "metadata": {
        "id": "17410392"
      },
      "id": "17410392"
    },
    {
      "cell_type": "code",
      "source": [
        "sns.distplot(df['mpg'])"
      ],
      "outputs": [
        {
          "output_type": "execute_result",
          "execution_count": null,
          "data": {
            "text/plain": "<matplotlib.axes._subplots.AxesSubplot at 0x7f101bc2a810>"
          },
          "metadata": {}
        },
        {
          "output_type": "display_data",
          "data": {
            "image/png": "[encoded data removed]"
          },
          "metadata": {}
        }
      ],
      "execution_count": null,
      "metadata": {
        "trusted": true,
        "noteable": {},
        "id": "83b7f094",
        "outputId": "39623c5f-16ae-4fac-c765-220726f57f1c"
      },
      "id": "83b7f094"
    },
    {
      "cell_type": "markdown",
      "source": [
        "### Engine Size"
      ],
      "metadata": {
        "id": "1e14ef1b"
      },
      "id": "1e14ef1b"
    },
    {
      "cell_type": "code",
      "source": [
        "sns.distplot(df['engineSize'])"
      ],
      "outputs": [
        {
          "output_type": "execute_result",
          "execution_count": null,
          "data": {
            "text/plain": "<matplotlib.axes._subplots.AxesSubplot at 0x7f101ba824d0>"
          },
          "metadata": {}
        },
        {
          "output_type": "display_data",
          "data": {
            "image/png": "[encoded data removed]"
          },
          "metadata": {}
        }
      ],
      "execution_count": null,
      "metadata": {
        "trusted": true,
        "noteable": {},
        "id": "2d673197",
        "outputId": "0528b73c-fd1d-4f02-bdf2-abb31d0fca46"
      },
      "id": "2d673197"
    },
    {
      "cell_type": "markdown",
      "source": [
        "It is observed that mileage and price are having right skewed distribution"
      ],
      "metadata": {
        "id": "26a2b42f"
      },
      "id": "26a2b42f"
    },
    {
      "cell_type": "markdown",
      "source": [
        "# Feature Engineering"
      ],
      "metadata": {
        "id": "15497a50"
      },
      "id": "15497a50"
    },
    {
      "cell_type": "code",
      "source": [
        "from sklearn.model_selection import train_test_split"
      ],
      "outputs": [],
      "execution_count": null,
      "metadata": {
        "trusted": true,
        "id": "771a9947"
      },
      "id": "771a9947"
    },
    {
      "cell_type": "code",
      "source": [
        "df.head()"
      ],
      "outputs": [
        {
          "output_type": "execute_result",
          "execution_count": null,
          "data": {
            "text/html": "<div>\n<style scoped>\n    .dataframe tbody tr th:only-of-type {\n        vertical-align: middle;\n    }\n\n    .dataframe tbody tr th {\n        vertical-align: top;\n    }\n\n    .dataframe thead th {\n        text-align: right;\n    }\n</style>\n<table border=\"1\" class=\"dataframe\">\n  <thead>\n    <tr style=\"text-align: right;\">\n      <th></th>\n      <th>model</th>\n      <th>year</th>\n      <th>price</th>\n      <th>transmission</th>\n      <th>mileage</th>\n      <th>fuelType</th>\n      <th>tax</th>\n      <th>mpg</th>\n      <th>engineSize</th>\n      <th>make</th>\n    </tr>\n  </thead>\n  <tbody>\n    <tr>\n      <th>0</th>\n      <td>A1</td>\n      <td>2017</td>\n      <td>12500</td>\n      <td>Manual</td>\n      <td>15735</td>\n      <td>Petrol</td>\n      <td>150</td>\n      <td>55.4</td>\n      <td>1.4</td>\n      <td>Audi</td>\n    </tr>\n    <tr>\n      <th>1</th>\n      <td>A6</td>\n      <td>2016</td>\n      <td>16500</td>\n      <td>Automatic</td>\n      <td>36203</td>\n      <td>Diesel</td>\n      <td>20</td>\n      <td>64.2</td>\n      <td>2.0</td>\n      <td>Audi</td>\n    </tr>\n    <tr>\n      <th>2</th>\n      <td>A1</td>\n      <td>2016</td>\n      <td>11000</td>\n      <td>Manual</td>\n      <td>29946</td>\n      <td>Petrol</td>\n      <td>30</td>\n      <td>55.4</td>\n      <td>1.4</td>\n      <td>Audi</td>\n    </tr>\n    <tr>\n      <th>3</th>\n      <td>A4</td>\n      <td>2017</td>\n      <td>16800</td>\n      <td>Automatic</td>\n      <td>25952</td>\n      <td>Diesel</td>\n      <td>145</td>\n      <td>67.3</td>\n      <td>2.0</td>\n      <td>Audi</td>\n    </tr>\n    <tr>\n      <th>4</th>\n      <td>A3</td>\n      <td>2019</td>\n      <td>17300</td>\n      <td>Manual</td>\n      <td>1998</td>\n      <td>Petrol</td>\n      <td>145</td>\n      <td>49.6</td>\n      <td>1.0</td>\n      <td>Audi</td>\n    </tr>\n  </tbody>\n</table>\n</div>"
          },
          "metadata": {}
        }
      ],
      "execution_count": null,
      "metadata": {
        "trusted": true,
        "noteable": {},
        "id": "86d2b2e4",
        "outputId": "c9a1e511-1200-4d62-83a6-547504b5ced6"
      },
      "id": "86d2b2e4"
    },
    {
      "cell_type": "code",
      "source": [
        "X = df.drop(['price'], axis = 1)\n",
        "y = df['price']"
      ],
      "outputs": [],
      "execution_count": null,
      "metadata": {
        "trusted": true,
        "id": "5fada2dd"
      },
      "id": "5fada2dd"
    },
    {
      "cell_type": "code",
      "source": [
        "X_transmission = pd.get_dummies(X['transmission'], drop_first=True)\n",
        "X_transmission.rename(columns={'Other':'Other Transmission'}, inplace=True)\n",
        "X_fuelType = pd.get_dummies(X['fuelType'], drop_first=True)\n",
        "X_fuelType.rename(columns={'Other':'Other FuelType'}, inplace=True)\n",
        "X_make = pd.get_dummies(X['make'], drop_first=True)\n",
        "X_model = pd.get_dummies(X['model'], drop_first=True)\n",
        "X = pd.concat([X,X_transmission,X_fuelType,X_make, X_model],axis=1)\n",
        "X.drop(['transmission', 'fuelType', 'make', 'model'], axis = 1, inplace=True)"
      ],
      "outputs": [],
      "execution_count": null,
      "metadata": {
        "trusted": true,
        "id": "69062693"
      },
      "id": "69062693"
    },
    {
      "cell_type": "code",
      "source": [
        "X_train_, X_test_, y_train_, y_test_ = train_test_split(X, y, test_size=0.33, random_state=42)"
      ],
      "outputs": [],
      "execution_count": null,
      "metadata": {
        "trusted": true,
        "id": "5aa7172d"
      },
      "id": "5aa7172d"
    },
    {
      "cell_type": "code",
      "source": [
        "X_train = X_train_.copy(deep=True)\n",
        "X_test = X_test_.copy(deep=True)\n",
        "y_train = y_train_.copy(deep=True)\n",
        "y_test = y_test_.copy(deep=True)"
      ],
      "outputs": [],
      "execution_count": null,
      "metadata": {
        "trusted": true,
        "id": "487d8503"
      },
      "id": "487d8503"
    },
    {
      "cell_type": "markdown",
      "source": [
        "Engine Size"
      ],
      "metadata": {
        "id": "a1fcf19f"
      },
      "id": "a1fcf19f"
    },
    {
      "cell_type": "code",
      "source": [
        "engineSize_median = X_train['engineSize'].median()\n",
        "print('The median of Engine Size is : {0}'.format(engineSize_median))\n",
        "engineSize_median = 1.6"
      ],
      "outputs": [
        {
          "output_type": "stream",
          "name": "stdout",
          "text": [
            "The median of Engine Size is : 1.6\n"
          ]
        }
      ],
      "execution_count": null,
      "metadata": {
        "trusted": true,
        "noteable": {},
        "id": "80ce0b72",
        "outputId": "36434550-b48f-413e-9b53-35b448a4f4c0"
      },
      "id": "80ce0b72"
    },
    {
      "cell_type": "code",
      "source": [
        "X_train['engineSize'] = X_train['engineSize'].replace(to_replace=0,value=engineSize_median)\n",
        "X_test['engineSize'] = X_test['engineSize'].replace(to_replace=0,value=engineSize_median)"
      ],
      "outputs": [],
      "execution_count": null,
      "metadata": {
        "trusted": true,
        "id": "a1954070"
      },
      "id": "a1954070"
    },
    {
      "cell_type": "markdown",
      "source": [
        "Tax"
      ],
      "metadata": {
        "id": "fee73b7b"
      },
      "id": "fee73b7b"
    },
    {
      "cell_type": "code",
      "source": [
        "tax_mean = X_train['tax'].mean()\n",
        "print('The mean of tax is {0}'.format(tax_mean))\n",
        "tax_mean = 120.41"
      ],
      "outputs": [
        {
          "output_type": "stream",
          "name": "stdout",
          "text": [
            "The mean of tax is 120.41895614734972\n"
          ]
        }
      ],
      "execution_count": null,
      "metadata": {
        "trusted": true,
        "noteable": {},
        "id": "c6247acc",
        "outputId": "16da03f9-ed34-45f4-c187-7ae7940997f5"
      },
      "id": "c6247acc"
    },
    {
      "cell_type": "code",
      "source": [
        "X_train['tax'] = X_train['tax'].replace(to_replace=0,value=tax_mean)\n",
        "X_test['tax'] = X_test['tax'].replace(to_replace=0,value=tax_mean)"
      ],
      "outputs": [],
      "execution_count": null,
      "metadata": {
        "trusted": true,
        "id": "790f396b"
      },
      "id": "790f396b"
    },
    {
      "cell_type": "markdown",
      "source": [
        "Mileage"
      ],
      "metadata": {
        "id": "d0690490"
      },
      "id": "d0690490"
    },
    {
      "cell_type": "code",
      "source": [
        "from scipy import stats"
      ],
      "outputs": [],
      "execution_count": null,
      "metadata": {
        "trusted": true,
        "id": "abdd7787"
      },
      "id": "abdd7787"
    },
    {
      "cell_type": "code",
      "source": [
        "mileage,mileage_lambda = stats.boxcox(X_train['mileage'])"
      ],
      "outputs": [],
      "execution_count": null,
      "metadata": {
        "trusted": true,
        "id": "32463461"
      },
      "id": "32463461"
    },
    {
      "cell_type": "code",
      "source": [
        "print('The lambda for boxcox transform of mileage is {0}'.format(mileage_lambda))\n",
        "mileage_lambda=0.36762127618713064"
      ],
      "outputs": [
        {
          "output_type": "stream",
          "name": "stdout",
          "text": [
            "The lambda for boxcox transform of mileage is 0.36762127618713064\n"
          ]
        }
      ],
      "execution_count": null,
      "metadata": {
        "trusted": true,
        "noteable": {},
        "id": "dce6b36d",
        "outputId": "0b8d4b8e-df90-413a-98a5-bbd86a7a643f"
      },
      "id": "dce6b36d"
    },
    {
      "cell_type": "code",
      "source": [
        "sns.distplot(mileage)"
      ],
      "outputs": [
        {
          "output_type": "execute_result",
          "execution_count": null,
          "data": {
            "text/plain": "<matplotlib.axes._subplots.AxesSubplot at 0x7f1019ab4ed0>"
          },
          "metadata": {}
        },
        {
          "output_type": "display_data",
          "data": {
            "image/png": "[encoded data removed]"
          },
          "metadata": {}
        }
      ],
      "execution_count": null,
      "metadata": {
        "trusted": true,
        "noteable": {},
        "id": "92b3650d",
        "outputId": "ab7a3308-71a6-42db-d792-cc74f2ba5c09"
      },
      "id": "92b3650d"
    },
    {
      "cell_type": "code",
      "source": [
        "test_mileage = stats.boxcox(X_test['mileage'],mileage_lambda)"
      ],
      "outputs": [],
      "execution_count": null,
      "metadata": {
        "trusted": true,
        "id": "b3efdd52"
      },
      "id": "b3efdd52"
    },
    {
      "cell_type": "code",
      "source": [
        "X_train['mileage_transformed'] = mileage\n",
        "X_test['mileage_transformed'] = test_mileage"
      ],
      "outputs": [],
      "execution_count": null,
      "metadata": {
        "trusted": true,
        "id": "f01c7bf7"
      },
      "id": "f01c7bf7"
    },
    {
      "cell_type": "code",
      "source": [
        "X_train.head()"
      ],
      "outputs": [
        {
          "output_type": "execute_result",
          "execution_count": null,
          "data": {
            "text/html": "<div>\n<style scoped>\n    .dataframe tbody tr th:only-of-type {\n        vertical-align: middle;\n    }\n\n    .dataframe tbody tr th {\n        vertical-align: top;\n    }\n\n    .dataframe thead th {\n        text-align: right;\n    }\n</style>\n<table border=\"1\" class=\"dataframe\">\n  <thead>\n    <tr style=\"text-align: right;\">\n      <th></th>\n      <th>year</th>\n      <th>mileage</th>\n      <th>tax</th>\n      <th>mpg</th>\n      <th>engineSize</th>\n      <th>Manual</th>\n      <th>Other Transmission</th>\n      <th>Semi-Auto</th>\n      <th>Electric</th>\n      <th>Hybrid</th>\n      <th>...</th>\n      <th>Z4</th>\n      <th>Zafira</th>\n      <th>Zafira Tourer</th>\n      <th>i3</th>\n      <th>i8</th>\n      <th>180</th>\n      <th>200</th>\n      <th>220</th>\n      <th>230</th>\n      <th>mileage_transformed</th>\n    </tr>\n  </thead>\n  <tbody>\n    <tr>\n      <th>76366</th>\n      <td>2013</td>\n      <td>56536</td>\n      <td>125.0</td>\n      <td>51.4</td>\n      <td>1.4</td>\n      <td>1</td>\n      <td>0</td>\n      <td>0</td>\n      <td>0</td>\n      <td>0</td>\n      <td>...</td>\n      <td>0</td>\n      <td>0</td>\n      <td>0</td>\n      <td>0</td>\n      <td>0</td>\n      <td>0</td>\n      <td>0</td>\n      <td>0</td>\n      <td>0</td>\n      <td>149.213879</td>\n    </tr>\n    <tr>\n      <th>45038</th>\n      <td>2017</td>\n      <td>14951</td>\n      <td>145.0</td>\n      <td>68.9</td>\n      <td>2.1</td>\n      <td>0</td>\n      <td>0</td>\n      <td>1</td>\n      <td>0</td>\n      <td>0</td>\n      <td>...</td>\n      <td>0</td>\n      <td>0</td>\n      <td>0</td>\n      <td>0</td>\n      <td>0</td>\n      <td>0</td>\n      <td>0</td>\n      <td>0</td>\n      <td>0</td>\n      <td>90.454286</td>\n    </tr>\n    <tr>\n      <th>80035</th>\n      <td>2019</td>\n      <td>10748</td>\n      <td>145.0</td>\n      <td>47.1</td>\n      <td>1.2</td>\n      <td>1</td>\n      <td>0</td>\n      <td>0</td>\n      <td>0</td>\n      <td>0</td>\n      <td>...</td>\n      <td>0</td>\n      <td>0</td>\n      <td>0</td>\n      <td>0</td>\n      <td>0</td>\n      <td>0</td>\n      <td>0</td>\n      <td>0</td>\n      <td>0</td>\n      <td>79.807783</td>\n    </tr>\n    <tr>\n      <th>6234</th>\n      <td>2018</td>\n      <td>10767</td>\n      <td>145.0</td>\n      <td>42.8</td>\n      <td>2.0</td>\n      <td>0</td>\n      <td>0</td>\n      <td>1</td>\n      <td>0</td>\n      <td>0</td>\n      <td>...</td>\n      <td>0</td>\n      <td>0</td>\n      <td>0</td>\n      <td>0</td>\n      <td>0</td>\n      <td>0</td>\n      <td>0</td>\n      <td>0</td>\n      <td>0</td>\n      <td>79.861385</td>\n    </tr>\n    <tr>\n      <th>314</th>\n      <td>2013</td>\n      <td>49000</td>\n      <td>325.0</td>\n      <td>29.7</td>\n      <td>2.0</td>\n      <td>1</td>\n      <td>0</td>\n      <td>0</td>\n      <td>0</td>\n      <td>0</td>\n      <td>...</td>\n      <td>0</td>\n      <td>0</td>\n      <td>0</td>\n      <td>0</td>\n      <td>0</td>\n      <td>0</td>\n      <td>0</td>\n      <td>0</td>\n      <td>0</td>\n      <td>141.430003</td>\n    </tr>\n  </tbody>\n</table>\n<p>5 rows × 215 columns</p>\n</div>"
          },
          "metadata": {}
        }
      ],
      "execution_count": null,
      "metadata": {
        "trusted": true,
        "noteable": {},
        "id": "85121f51",
        "outputId": "40db6d4f-86c5-4563-81ba-69c1df29f37e"
      },
      "id": "85121f51"
    },
    {
      "cell_type": "markdown",
      "source": [
        "Price"
      ],
      "metadata": {
        "id": "4740bcc8"
      },
      "id": "4740bcc8"
    },
    {
      "cell_type": "code",
      "source": [
        "price,price_lambda = stats.boxcox(y_train)"
      ],
      "outputs": [],
      "execution_count": null,
      "metadata": {
        "trusted": true,
        "id": "19aac122"
      },
      "id": "19aac122"
    },
    {
      "cell_type": "code",
      "source": [
        "print('The lambda for boxcox transform of price is {0}'.format(price_lambda))\n",
        "price_lambda=0.03888231697484755"
      ],
      "outputs": [
        {
          "output_type": "stream",
          "name": "stdout",
          "text": [
            "The lambda for boxcox transform of price is 0.03888231697484755\n"
          ]
        }
      ],
      "execution_count": null,
      "metadata": {
        "trusted": true,
        "noteable": {},
        "id": "921e2d32",
        "outputId": "5c657f04-6a57-4b37-e76f-115082d90a35"
      },
      "id": "921e2d32"
    },
    {
      "cell_type": "code",
      "source": [
        "sns.distplot(price)"
      ],
      "outputs": [
        {
          "output_type": "execute_result",
          "execution_count": null,
          "data": {
            "text/plain": "<matplotlib.axes._subplots.AxesSubplot at 0x7f10192bd990>"
          },
          "metadata": {}
        },
        {
          "output_type": "display_data",
          "data": {
            "image/png": "[encoded data removed]"
          },
          "metadata": {}
        }
      ],
      "execution_count": null,
      "metadata": {
        "trusted": true,
        "noteable": {},
        "id": "416c332c",
        "outputId": "5dda5e92-cd35-483c-92a8-1ce15fe4b970"
      },
      "id": "416c332c"
    },
    {
      "cell_type": "code",
      "source": [
        "test_price = stats.boxcox(y_test,price_lambda)"
      ],
      "outputs": [],
      "execution_count": null,
      "metadata": {
        "trusted": true,
        "id": "6756b543"
      },
      "id": "6756b543"
    },
    {
      "cell_type": "code",
      "source": [
        "y_train_trans = price\n",
        "y_test_trans = test_price"
      ],
      "outputs": [],
      "execution_count": null,
      "metadata": {
        "trusted": true,
        "id": "7a51f18e"
      },
      "id": "7a51f18e"
    },
    {
      "cell_type": "markdown",
      "source": [
        "# Model Creation"
      ],
      "metadata": {
        "id": "e970662a"
      },
      "id": "e970662a"
    },
    {
      "cell_type": "code",
      "source": [
        "from sklearn.model_selection import RandomizedSearchCV, GridSearchCV\n",
        "from sklearn.linear_model import LinearRegression\n",
        "from sklearn.tree import DecisionTreeRegressor\n",
        "from sklearn.ensemble import RandomForestRegressor\n",
        "from sklearn.metrics import r2_score, mean_squared_error\n",
        "import pickle"
      ],
      "outputs": [],
      "execution_count": null,
      "metadata": {
        "trusted": true,
        "id": "114eb7df"
      },
      "id": "114eb7df"
    },
    {
      "cell_type": "code",
      "source": [
        "X_train.drop(['mileage'], axis=1, inplace=True)\n",
        "X_test.drop(['mileage'], axis=1, inplace=True)"
      ],
      "outputs": [],
      "execution_count": null,
      "metadata": {
        "trusted": true,
        "id": "2288b337"
      },
      "id": "2288b337"
    },
    {
      "cell_type": "markdown",
      "source": [
        "### Linear Regression"
      ],
      "metadata": {
        "id": "14bc5270"
      },
      "id": "14bc5270"
    },
    {
      "cell_type": "code",
      "source": [
        "reg = LinearRegression()\n",
        "reg.fit(X_train, y_train_trans)"
      ],
      "outputs": [
        {
          "output_type": "execute_result",
          "execution_count": null,
          "data": {
            "text/plain": "LinearRegression()"
          },
          "metadata": {}
        }
      ],
      "execution_count": null,
      "metadata": {
        "trusted": true,
        "noteable": {},
        "id": "e288ec2c",
        "outputId": "a1cc1dde-2e56-49dd-efea-b763ae4d55f5"
      },
      "id": "e288ec2c"
    },
    {
      "cell_type": "code",
      "source": [
        "y_train_pred = reg.predict(X_train)\n",
        "y_pred = reg.predict(X_test)"
      ],
      "outputs": [],
      "execution_count": null,
      "metadata": {
        "trusted": true,
        "id": "a0505818"
      },
      "id": "a0505818"
    },
    {
      "cell_type": "code",
      "source": [
        "train_r2 = r2_score(y_train_trans, y_train_pred)\n",
        "print('The train R2 value is {0}'.format(train_r2))\n",
        "\n",
        "test_r2 = r2_score(y_test_trans, y_pred)\n",
        "print('The test R2 value is {0}'.format(test_r2))"
      ],
      "outputs": [
        {
          "output_type": "stream",
          "name": "stdout",
          "text": [
            "The train R2 value is 0.9408532269378457\n",
            "The test R2 value is 0.9390978999736543\n"
          ]
        }
      ],
      "execution_count": null,
      "metadata": {
        "trusted": true,
        "noteable": {},
        "id": "f14f0b11",
        "outputId": "709b6f02-d088-4be8-bb40-41470ac8f57e"
      },
      "id": "f14f0b11"
    },
    {
      "cell_type": "code",
      "source": [
        "!rm -rf /kaggle/working/models\n",
        "!rm -rf /kaggle/working/data\n",
        "!mkdir models\n",
        "!mkdir data"
      ],
      "outputs": [],
      "execution_count": null,
      "metadata": {
        "trusted": true,
        "id": "4d5a94ed"
      },
      "id": "4d5a94ed"
    },
    {
      "cell_type": "code",
      "source": [
        "with open('/kaggle/working/data/linear_regression.pkl', 'wb') as f:\n",
        "    pickle.dump(reg,f)\n",
        "with open('/kaggle/working/data/X_train.pkl', 'wb') as f:\n",
        "    pickle.dump(X_train,f)\n",
        "with open('/kaggle/working/data/X_test.pkl', 'wb') as f:\n",
        "    pickle.dump(X_test,f)\n",
        "with open('/kaggle/working/data/y_train.pkl', 'wb') as f:\n",
        "    pickle.dump(y_train,f)\n",
        "with open('/kaggle/working/data/y_test.pkl', 'wb') as f:\n",
        "    pickle.dump(y_test,f)\n",
        "with open('/kaggle/working/data/y_train_trans.pkl', 'wb') as f:\n",
        "    pickle.dump(y_train_trans,f)\n",
        "with open('/kaggle/working/data/y_test_trans.pkl', 'wb') as f:\n",
        "    pickle.dump(y_test_trans,f)"
      ],
      "outputs": [],
      "execution_count": null,
      "metadata": {
        "trusted": true,
        "id": "4c409235"
      },
      "id": "4c409235"
    },
    {
      "cell_type": "markdown",
      "source": [
        "### Decision Tree"
      ],
      "metadata": {
        "id": "fd9f15c2"
      },
      "id": "fd9f15c2"
    },
    {
      "cell_type": "code",
      "source": [
        "reg = DecisionTreeRegressor(random_state=42)\n",
        "parameters = {\"max_depth\":np.array([1, 2, 5, 10, 50, 100]), \"min_samples_split\":np.array([1, 5, 10, 50, 100, 500])}\n",
        "clf = GridSearchCV(reg, param_grid = parameters, cv = 5, scoring = 'r2', n_jobs=-1, verbose=5)\n",
        "clf.fit(X_train, y_train_trans)\n",
        "print(clf.best_estimator_)\n",
        "best_reg = clf.best_estimator_\n",
        "best_reg.fit(X_train, y_train_trans)"
      ],
      "outputs": [
        {
          "output_type": "stream",
          "name": "stdout",
          "text": [
            "Fitting 5 folds for each of 36 candidates, totalling 180 fits\n"
          ]
        },
        {
          "output_type": "stream",
          "name": "stdout",
          "text": [
            "[Parallel(n_jobs=-1)]: Using backend LokyBackend with 4 concurrent workers.\n",
            "[Parallel(n_jobs=-1)]: Done  10 tasks      | elapsed:    3.3s\n",
            "[Parallel(n_jobs=-1)]: Done  64 tasks      | elapsed:    8.1s\n",
            "[Parallel(n_jobs=-1)]: Done 154 tasks      | elapsed:   34.7s\n",
            "[Parallel(n_jobs=-1)]: Done 180 out of 180 | elapsed:   44.2s finished\n"
          ]
        },
        {
          "output_type": "stream",
          "name": "stdout",
          "text": [
            "DecisionTreeRegressor(max_depth=100, min_samples_split=10, random_state=42)\n"
          ]
        },
        {
          "output_type": "execute_result",
          "execution_count": null,
          "data": {
            "text/plain": "DecisionTreeRegressor(max_depth=100, min_samples_split=10, random_state=42)"
          },
          "metadata": {}
        }
      ],
      "execution_count": null,
      "metadata": {
        "trusted": true,
        "noteable": {},
        "id": "c5923bf9",
        "outputId": "02dc38b7-a7cf-41ee-cdfb-56f663cf5aff"
      },
      "id": "c5923bf9"
    },
    {
      "cell_type": "code",
      "source": [
        "y_train_pred = best_reg.predict(X_train)\n",
        "y_pred = best_reg.predict(X_test)\n",
        "train_r2 = r2_score(y_train_trans, y_train_pred)\n",
        "print('The train R2 value is {0}'.format(train_r2))\n",
        "\n",
        "test_r2 = r2_score(y_test_trans, y_pred)\n",
        "print('The test R2 value is {0}'.format(test_r2))"
      ],
      "outputs": [
        {
          "output_type": "stream",
          "name": "stdout",
          "text": [
            "The train R2 value is 0.9874357695088226\n",
            "The test R2 value is 0.9494660622892424\n"
          ]
        }
      ],
      "execution_count": null,
      "metadata": {
        "trusted": true,
        "noteable": {},
        "id": "670d56d6",
        "outputId": "aaa67c16-833b-41ca-ad71-cf788eb050d2"
      },
      "id": "670d56d6"
    },
    {
      "cell_type": "code",
      "source": [
        "with open('/kaggle/working/data/decisiontree_regression.pkl', 'wb') as f:\n",
        "    pickle.dump(best_reg,f)"
      ],
      "outputs": [],
      "execution_count": null,
      "metadata": {
        "trusted": true,
        "id": "785b4a6f"
      },
      "id": "785b4a6f"
    },
    {
      "cell_type": "markdown",
      "source": [
        "### Random Forest"
      ],
      "metadata": {
        "id": "746823a3"
      },
      "id": "746823a3"
    },
    {
      "cell_type": "code",
      "source": [
        "reg = RandomForestRegressor(random_state=42)\n",
        "parameters = {\"max_depth\": [2, 3, 5, 8, 10, 15, 20, 25, 30, 40, 50,100],\n",
        "              \"n_estimators\": [10, 20, 30, 40, 50, 80, 100, 150, 200],\n",
        "                \"max_features\": ['auto', 'sqrt']\n",
        "             }\n",
        "rcv = RandomizedSearchCV(reg, param_distributions = parameters, cv = 3, scoring = 'r2', n_jobs=-1, verbose=10)\n",
        "rcv.fit(X_train, y_train_trans)\n",
        "print(rcv.best_estimator_)\n",
        "best_reg = rcv.best_estimator_\n",
        "best_reg.fit(X_train, y_train_trans)"
      ],
      "outputs": [
        {
          "output_type": "stream",
          "name": "stdout",
          "text": [
            "Fitting 3 folds for each of 10 candidates, totalling 30 fits\n"
          ]
        },
        {
          "output_type": "stream",
          "name": "stdout",
          "text": [
            "[Parallel(n_jobs=-1)]: Using backend LokyBackend with 4 concurrent workers.\n",
            "[Parallel(n_jobs=-1)]: Done   5 tasks      | elapsed:   28.9s\n",
            "[Parallel(n_jobs=-1)]: Done  10 tasks      | elapsed:   47.7s\n",
            "[Parallel(n_jobs=-1)]: Done  17 tasks      | elapsed:  1.2min\n",
            "[Parallel(n_jobs=-1)]: Done  27 out of  30 | elapsed:  2.8min remaining:   18.5s\n",
            "[Parallel(n_jobs=-1)]: Done  30 out of  30 | elapsed:  2.9min finished\n"
          ]
        },
        {
          "output_type": "stream",
          "name": "stdout",
          "text": [
            "RandomForestRegressor(max_depth=25, n_estimators=30, random_state=42)\n"
          ]
        },
        {
          "output_type": "execute_result",
          "execution_count": null,
          "data": {
            "text/plain": "RandomForestRegressor(max_depth=25, n_estimators=30, random_state=42)"
          },
          "metadata": {}
        }
      ],
      "execution_count": null,
      "metadata": {
        "trusted": true,
        "noteable": {},
        "id": "f500a36c",
        "outputId": "c04eb178-4c9c-4291-991b-8769e2851bb1"
      },
      "id": "f500a36c"
    },
    {
      "cell_type": "code",
      "source": [
        "y_train_pred = best_reg.predict(X_train)\n",
        "y_pred = best_reg.predict(X_test)\n",
        "train_r2 = r2_score(y_train_trans, y_train_pred)\n",
        "print('The train R2 value is {0}'.format(train_r2))\n",
        "\n",
        "test_r2 = r2_score(y_test_trans, y_pred)\n",
        "print('The test R2 value is {0}'.format(test_r2))"
      ],
      "outputs": [
        {
          "output_type": "stream",
          "name": "stdout",
          "text": [
            "The train R2 value is 0.9910791017082824\n",
            "The test R2 value is 0.9621711257399865\n"
          ]
        }
      ],
      "execution_count": null,
      "metadata": {
        "trusted": true,
        "noteable": {},
        "id": "3d0efba8",
        "outputId": "1b522d1b-c56b-4de9-f8a2-22bb5cc3440c"
      },
      "id": "3d0efba8"
    },
    {
      "cell_type": "code",
      "source": [
        "with open('/kaggle/working/data/randomforest_regression.pkl', 'wb') as f:\n",
        "    pickle.dump(best_reg,f)"
      ],
      "outputs": [],
      "execution_count": null,
      "metadata": {
        "trusted": true,
        "id": "bc4deed7"
      },
      "id": "bc4deed7"
    },
    {
      "cell_type": "markdown",
      "source": [
        "## XGBoost"
      ],
      "metadata": {
        "id": "63769177"
      },
      "id": "63769177"
    },
    {
      "cell_type": "code",
      "source": [
        "from xgboost import XGBRegressor"
      ],
      "outputs": [],
      "execution_count": null,
      "metadata": {
        "trusted": true,
        "id": "76382265"
      },
      "id": "76382265"
    },
    {
      "cell_type": "code",
      "source": [
        "xgb = XGBRegressor(n_jobs = -1)\n",
        "parameters = {\"max_depth\":np.array([1, 5, 10, 50, 150, 200, 250]), \"n_estimators\":np.array([3, 9, 11,15, 25, 50, 70, 150, 200, 250, 300])}\n",
        "reg = GridSearchCV(xgb, parameters, cv = 3, scoring='r2', n_jobs=-1, verbose = 10) \n",
        "reg.fit(X_train, y_train_trans)\n",
        "print(reg.best_estimator_)\n",
        "best_reg = reg.best_estimator_\n",
        "best_reg.fit(X_train, y_train_trans)"
      ],
      "outputs": [
        {
          "output_type": "stream",
          "name": "stdout",
          "text": [
            "Fitting 3 folds for each of 77 candidates, totalling 231 fits\n"
          ]
        },
        {
          "output_type": "stream",
          "name": "stdout",
          "text": [
            "[Parallel(n_jobs=-1)]: Using backend LokyBackend with 4 concurrent workers.\n",
            "[Parallel(n_jobs=-1)]: Done   5 tasks      | elapsed:    7.1s\n",
            "[Parallel(n_jobs=-1)]: Done  10 tasks      | elapsed:   10.6s\n",
            "[Parallel(n_jobs=-1)]: Done  17 tasks      | elapsed:   24.1s\n",
            "[Parallel(n_jobs=-1)]: Done  24 tasks      | elapsed:   55.3s\n",
            "[Parallel(n_jobs=-1)]: Done  33 tasks      | elapsed:  2.1min\n",
            "[Parallel(n_jobs=-1)]: Done  42 tasks      | elapsed:  2.5min\n",
            "[Parallel(n_jobs=-1)]: Done  53 tasks      | elapsed:  3.7min\n",
            "[Parallel(n_jobs=-1)]: Done  64 tasks      | elapsed:  8.6min\n",
            "[Parallel(n_jobs=-1)]: Done  77 tasks      | elapsed: 10.1min\n",
            "[Parallel(n_jobs=-1)]: Done  90 tasks      | elapsed: 15.1min\n",
            "[Parallel(n_jobs=-1)]: Done 105 tasks      | elapsed: 23.4min\n",
            "[Parallel(n_jobs=-1)]: Done 120 tasks      | elapsed: 37.5min\n",
            "[Parallel(n_jobs=-1)]: Done 137 tasks      | elapsed: 53.5min\n",
            "[Parallel(n_jobs=-1)]: Done 154 tasks      | elapsed: 71.7min\n",
            "[Parallel(n_jobs=-1)]: Done 173 tasks      | elapsed: 88.3min\n",
            "[Parallel(n_jobs=-1)]: Done 192 tasks      | elapsed: 114.2min\n",
            "[Parallel(n_jobs=-1)]: Done 213 tasks      | elapsed: 128.0min\n",
            "[Parallel(n_jobs=-1)]: Done 231 out of 231 | elapsed: 157.8min finished\n"
          ]
        },
        {
          "output_type": "stream",
          "name": "stdout",
          "text": [
            "XGBRegressor(base_score=0.5, booster='gbtree', colsample_bylevel=1,\n",
            "             colsample_bynode=1, colsample_bytree=1, gamma=0, gpu_id=-1,\n",
            "             importance_type='gain', interaction_constraints='',\n",
            "             learning_rate=0.300000012, max_delta_step=0, max_depth=10,\n",
            "             min_child_weight=1, missing=nan, monotone_constraints='()',\n",
            "             n_estimators=250, n_jobs=-1, num_parallel_tree=1, random_state=0,\n",
            "             reg_alpha=0, reg_lambda=1, scale_pos_weight=1, subsample=1,\n",
            "             tree_method='exact', validate_parameters=1, verbosity=None)\n"
          ]
        },
        {
          "output_type": "execute_result",
          "execution_count": null,
          "data": {
            "text/plain": "XGBRegressor(base_score=0.5, booster='gbtree', colsample_bylevel=1,\n             colsample_bynode=1, colsample_bytree=1, gamma=0, gpu_id=-1,\n             importance_type='gain', interaction_constraints='',\n             learning_rate=0.300000012, max_delta_step=0, max_depth=10,\n             min_child_weight=1, missing=nan, monotone_constraints='()',\n             n_estimators=250, n_jobs=-1, num_parallel_tree=1, random_state=0,\n             reg_alpha=0, reg_lambda=1, scale_pos_weight=1, subsample=1,\n             tree_method='exact', validate_parameters=1, verbosity=None)"
          },
          "metadata": {}
        }
      ],
      "execution_count": null,
      "metadata": {
        "trusted": true,
        "noteable": {},
        "id": "d836f0a9",
        "outputId": "3aa5a9a8-9059-4c79-f3fc-95fe2b5a0f11"
      },
      "id": "d836f0a9"
    },
    {
      "cell_type": "code",
      "source": [
        "y_train_pred = best_reg.predict(X_train)\n",
        "y_pred = best_reg.predict(X_test)\n",
        "train_r2 = r2_score(y_train_trans, y_train_pred)\n",
        "print('The train R2 value is {0}'.format(train_r2))\n",
        "\n",
        "test_r2 = r2_score(y_test_trans, y_pred)\n",
        "print('The test R2 value is {0}'.format(test_r2))"
      ],
      "outputs": [
        {
          "output_type": "stream",
          "name": "stdout",
          "text": [
            "The train R2 value is 0.9877117780554472\n",
            "The test R2 value is 0.9683623995863219\n"
          ]
        }
      ],
      "execution_count": null,
      "metadata": {
        "trusted": true,
        "noteable": {},
        "id": "7a2d2041",
        "outputId": "8f164113-9c66-4d9e-be52-cf42fc15ba24"
      },
      "id": "7a2d2041"
    },
    {
      "cell_type": "code",
      "source": [
        "with open('/kaggle/working/data/xgboost_regression.pkl', 'wb') as f:\n",
        "    pickle.dump(best_reg,f)"
      ],
      "outputs": [],
      "execution_count": null,
      "metadata": {
        "trusted": true,
        "id": "854ad676"
      },
      "id": "854ad676"
    },
    {
      "cell_type": "markdown",
      "source": [
        "# Results"
      ],
      "metadata": {
        "id": "8af49ae0"
      },
      "id": "8af49ae0"
    },
    {
      "cell_type": "code",
      "source": [
        "from prettytable import PrettyTable"
      ],
      "outputs": [],
      "execution_count": null,
      "metadata": {
        "trusted": true,
        "id": "6cc0c05a"
      },
      "id": "6cc0c05a"
    },
    {
      "cell_type": "code",
      "source": [
        "results = []\n",
        "\n",
        "# add the results in a list\n",
        "results.append(['Model','Train R2','Test R2'])\n",
        "results.append(['Linear Regression',0.94,0.939])\n",
        "results.append(['Decision Tree',0.987,0.949])\n",
        "results.append(['Random Forest',0.991,0.962])\n",
        "results.append(['XGBoost',0.987,0.968])"
      ],
      "outputs": [],
      "execution_count": null,
      "metadata": {
        "trusted": true,
        "id": "2be53e1e"
      },
      "id": "2be53e1e"
    },
    {
      "cell_type": "code",
      "source": [
        "table = PrettyTable()\n",
        "table.field_names = results[0]\n",
        "for i in range(len(results)):\n",
        "    if i!=0:\n",
        "        table.add_row(results[i])\n",
        "print(table)"
      ],
      "outputs": [
        {
          "output_type": "stream",
          "name": "stdout",
          "text": [
            "+-------------------+----------+---------+\n",
            "|       Model       | Train R2 | Test R2 |\n",
            "+-------------------+----------+---------+\n",
            "| Linear Regression |   0.94   |  0.939  |\n",
            "|   Decision Tree   |  0.987   |  0.949  |\n",
            "|   Random Forest   |  0.991   |  0.962  |\n",
            "|      XGBoost      |  0.987   |  0.968  |\n",
            "+-------------------+----------+---------+\n"
          ]
        }
      ],
      "execution_count": null,
      "metadata": {
        "trusted": true,
        "noteable": {},
        "id": "a25617f8",
        "outputId": "ad8427b4-57a3-461d-e757-51c5a4597217"
      },
      "id": "a25617f8"
    },
    {
      "cell_type": "markdown",
      "source": [
        "# Conclusion"
      ],
      "metadata": {
        "id": "cc65cf92"
      },
      "id": "cc65cf92"
    },
    {
      "cell_type": "markdown",
      "source": [
        "It is observed that XGBoost is giving the best R Square metric value on test data"
      ],
      "metadata": {
        "id": "34858707"
      },
      "id": "34858707"
    }
  ],
  "metadata": {
    "kernelspec": {
      "name": "python3",
      "display_name": "Python 3",
      "language": "python"
    },
    "language_info": {
      "name": "python",
      "version": "3.7.6",
      "mimetype": "text/x-python",
      "codemirror_mode": {
        "name": "ipython",
        "version": 3
      },
      "pygments_lexer": "ipython3",
      "nbconvert_exporter": "python",
      "file_extension": ".py"
    },
    "noteable": {
      "last_delta_id": "de439805-38d5-43af-8bec-8c3ab9a19123"
    },
    "selected_hardware_size": "small",
    "nteract": {
      "version": "noteable@2.9.0"
    },
    "colab": {
      "provenance": []
    }
  },
  "nbformat": 4,
  "nbformat_minor": 5
}